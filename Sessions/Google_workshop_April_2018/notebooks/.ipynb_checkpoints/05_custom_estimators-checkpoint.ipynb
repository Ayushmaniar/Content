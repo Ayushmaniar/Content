{
 "cells": [
  {
   "cell_type": "markdown",
   "metadata": {},
   "source": [
    "### Custom Estimators\n",
    "\n",
    "In this notebook we'll write an Custom Estimator (using a model function we specifiy). On the way, we'll use ```tf.layers``` to write our model. In the next notebook, we'll use ```tf.layers``` to write a Custom Estimator for a Convolutional Neural Network."
   ]
  },
  {
   "cell_type": "code",
   "execution_count": 4,
   "metadata": {},
   "outputs": [],
   "source": [
    "from __future__ import absolute_import\n",
    "from __future__ import division\n",
    "from __future__ import print_function\n",
    "\n",
    "import math\n",
    "import numpy as np\n",
    "\n",
    "import tensorflow as tf"
   ]
  },
  {
   "cell_type": "markdown",
   "metadata": {},
   "source": [
    "Import the dataset. Here, we'll need to convert the labels to a one-hot encoding, and we'll reshape the MNIST images to (784,)."
   ]
  },
  {
   "cell_type": "code",
   "execution_count": 5,
   "metadata": {},
   "outputs": [
    {
     "name": "stdout",
     "output_type": "stream",
     "text": [
      "60000 train samples\n",
      "10000 test samples\n"
     ]
    }
   ],
   "source": [
    "# We'll use Keras (included with TensorFlow) to import the data\n",
    "# I figured I'd do all the preprocessing and reshaping here, \n",
    "# rather than in the model.\n",
    "(x_train, y_train), (x_test, y_test) = tf.contrib.keras.datasets.mnist.load_data()\n",
    "\n",
    "x_train = x_train.astype('float32')\n",
    "x_test = x_test.astype('float32')\n",
    "\n",
    "y_train = y_train.astype('int32')\n",
    "y_test = y_test.astype('int32')\n",
    "\n",
    "# Normalize the color values to 0-1\n",
    "# (as imported, they're 0-255)\n",
    "x_train /= 255\n",
    "x_test /= 255\n",
    "\n",
    "# Flatten 28x28 images to (784,)\n",
    "x_train = x_train.reshape(x_train.shape[0], 784)\n",
    "x_test = x_test.reshape(x_test.shape[0], 784)\n",
    "\n",
    "# Convert to one-hot.\n",
    "y_train = tf.contrib.keras.utils.to_categorical(y_train, num_classes=10)\n",
    "y_test = tf.contrib.keras.utils.to_categorical(y_test, num_classes=10)\n",
    "\n",
    "print(x_train.shape[0], 'train samples')\n",
    "print(x_test.shape[0], 'test samples')"
   ]
  },
  {
   "cell_type": "markdown",
   "metadata": {},
   "source": [
    "When using Estimators, we do not manage the TensorFlow session directly. Instead, we skip straight to defining our hyperparameters."
   ]
  },
  {
   "cell_type": "code",
   "execution_count": 6,
   "metadata": {},
   "outputs": [],
   "source": [
    "# Number of neurons in each hidden layer\n",
    "HIDDEN1_SIZE = 500\n",
    "HIDDEN2_SIZE = 250"
   ]
  },
  {
   "cell_type": "markdown",
   "metadata": {},
   "source": [
    "To write a Custom Estimator we'll specify our own model function. Here, we'll use ```tf.layers``` to replicate the model from the third notebook."
   ]
  },
  {
   "cell_type": "code",
   "execution_count": 7,
   "metadata": {},
   "outputs": [],
   "source": [
    "def model_fn(features, labels, mode):\n",
    "    \n",
    "    # First we'll create 2 fully-connected layers, with ReLU activations.\n",
    "    # Notice we're retrieving the 'x' feature (we'll provide this in the input function\n",
    "    # in a moment).\n",
    "    fc1 = tf.layers.dense(features['x'], HIDDEN1_SIZE, activation=tf.nn.relu, name=\"fc1\")\n",
    "    fc2 = tf.layers.dense(fc1, HIDDEN2_SIZE, activation=tf.nn.relu, name=\"fc2\")\n",
    "    \n",
    "    # Add dropout operation; 0.9 probability that a neuron will be kept\n",
    "    dropout = tf.layers.dropout(\n",
    "        inputs=fc2, rate=0.1, training = mode == tf.estimator.ModeKeys.TRAIN, name=\"dropout\")\n",
    "\n",
    "    # Finally, we'll calculate logits. This will be\n",
    "    # the input to our Softmax function. Notice we \n",
    "    # don't apply an activation at this layer.\n",
    "    # If you've commented out the dropout layer,\n",
    "    # switch the input here to 'fc2'.\n",
    "    logits = tf.layers.dense(dropout, units=10, name=\"logits\")\n",
    "    \n",
    "    # Generate Predictions\n",
    "    classes = tf.argmax(logits, axis=1)\n",
    "    predictions = {\n",
    "        'classes': classes,\n",
    "        'probabilities': tf.nn.softmax(logits, name='softmax_tensor')\n",
    "    }\n",
    "    \n",
    "    if mode == tf.estimator.ModeKeys.PREDICT:\n",
    "        # Return an EstimatorSpec for prediction\n",
    "        return tf.estimator.EstimatorSpec(mode=mode, predictions=predictions)\n",
    "        \n",
    "    # Compute the loss, per usual.\n",
    "    loss = tf.losses.softmax_cross_entropy(\n",
    "        onehot_labels=labels, logits=logits)\n",
    "        \n",
    "    if mode == tf.estimator.ModeKeys.TRAIN:\n",
    "        \n",
    "        # Configure the Training Op\n",
    "        train_op = tf.contrib.layers.optimize_loss(\n",
    "            loss=loss,\n",
    "            global_step=tf.train.get_global_step(),\n",
    "            learning_rate=1e-3,\n",
    "            optimizer='Adam')\n",
    "\n",
    "        # Return an EstimatorSpec for training\n",
    "        return tf.estimator.EstimatorSpec(mode=mode, predictions=predictions,\n",
    "                                      loss=loss, train_op=train_op)    \n",
    "\n",
    "    assert mode == tf.estimator.ModeKeys.EVAL\n",
    "    \n",
    "    # Configure the accuracy metric for evaluation\n",
    "    metrics = {'accuracy': tf.metrics.accuracy(classes, tf.argmax(labels, axis=1))}\n",
    "    \n",
    "    return tf.estimator.EstimatorSpec(mode=mode, \n",
    "                                      predictions=predictions, \n",
    "                                      loss=loss,\n",
    "                                      eval_metric_ops=metrics)"
   ]
  },
  {
   "cell_type": "markdown",
   "metadata": {},
   "source": [
    "Input functions, as before."
   ]
  },
  {
   "cell_type": "code",
   "execution_count": 8,
   "metadata": {},
   "outputs": [],
   "source": [
    "train_input = tf.estimator.inputs.numpy_input_fn(\n",
    "    {'x': x_train},\n",
    "    y_train, \n",
    "    num_epochs=None, # repeat forever\n",
    "    shuffle=True # \n",
    ")\n",
    "\n",
    "test_input = tf.estimator.inputs.numpy_input_fn(\n",
    "    {'x': x_test},\n",
    "    y_test,\n",
    "    num_epochs=1, # loop through the dataset once\n",
    "    shuffle=False # don't shuffle the test data\n",
    ")"
   ]
  },
  {
   "cell_type": "code",
   "execution_count": 9,
   "metadata": {},
   "outputs": [
    {
     "name": "stdout",
     "output_type": "stream",
     "text": [
      "INFO:tensorflow:Using default config.\n",
      "WARNING:tensorflow:Using temporary folder as model directory: /var/folders/91/ym4gmlrd0tq37lhq_5x9b_n80000gn/T/tmpgqqvox89\n",
      "INFO:tensorflow:Using config: {'_model_dir': '/var/folders/91/ym4gmlrd0tq37lhq_5x9b_n80000gn/T/tmpgqqvox89', '_tf_random_seed': None, '_save_summary_steps': 100, '_save_checkpoints_steps': None, '_save_checkpoints_secs': 600, '_session_config': None, '_keep_checkpoint_max': 5, '_keep_checkpoint_every_n_hours': 10000, '_log_step_count_steps': 100, '_service': None, '_cluster_spec': <tensorflow.python.training.server_lib.ClusterSpec object at 0x1a2213d588>, '_task_type': 'worker', '_task_id': 0, '_global_id_in_cluster': 0, '_master': '', '_evaluation_master': '', '_is_chief': True, '_num_ps_replicas': 0, '_num_worker_replicas': 1}\n"
     ]
    }
   ],
   "source": [
    "# At this point, our Estimator will work just like a canned one.\n",
    "estimator = tf.estimator.Estimator(model_fn=model_fn)"
   ]
  },
  {
   "cell_type": "code",
   "execution_count": 10,
   "metadata": {
    "scrolled": true
   },
   "outputs": [
    {
     "name": "stdout",
     "output_type": "stream",
     "text": [
      "INFO:tensorflow:Calling model_fn.\n",
      "INFO:tensorflow:Done calling model_fn.\n",
      "INFO:tensorflow:Create CheckpointSaverHook.\n",
      "INFO:tensorflow:Graph was finalized.\n",
      "INFO:tensorflow:Running local_init_op.\n",
      "INFO:tensorflow:Done running local_init_op.\n",
      "INFO:tensorflow:Saving checkpoints for 1 into /var/folders/91/ym4gmlrd0tq37lhq_5x9b_n80000gn/T/tmpgqqvox89/model.ckpt.\n",
      "INFO:tensorflow:loss = 2.3919857, step = 1\n",
      "INFO:tensorflow:global_step/sec: 161.055\n",
      "INFO:tensorflow:loss = 0.267658, step = 101 (0.622 sec)\n",
      "INFO:tensorflow:global_step/sec: 166.419\n",
      "INFO:tensorflow:loss = 0.16873623, step = 201 (0.601 sec)\n",
      "INFO:tensorflow:global_step/sec: 131.946\n",
      "INFO:tensorflow:loss = 0.13817735, step = 301 (0.757 sec)\n",
      "INFO:tensorflow:global_step/sec: 155.981\n",
      "INFO:tensorflow:loss = 0.077138886, step = 401 (0.642 sec)\n",
      "INFO:tensorflow:global_step/sec: 184.412\n",
      "INFO:tensorflow:loss = 0.12876967, step = 501 (0.542 sec)\n",
      "INFO:tensorflow:global_step/sec: 178.556\n",
      "INFO:tensorflow:loss = 0.0688909, step = 601 (0.560 sec)\n",
      "INFO:tensorflow:global_step/sec: 186.255\n",
      "INFO:tensorflow:loss = 0.10193311, step = 701 (0.537 sec)\n",
      "INFO:tensorflow:global_step/sec: 178.258\n",
      "INFO:tensorflow:loss = 0.15907936, step = 801 (0.561 sec)\n",
      "INFO:tensorflow:global_step/sec: 186.537\n",
      "INFO:tensorflow:loss = 0.07720868, step = 901 (0.537 sec)\n",
      "INFO:tensorflow:global_step/sec: 177.458\n",
      "INFO:tensorflow:loss = 0.05895784, step = 1001 (0.564 sec)\n",
      "INFO:tensorflow:global_step/sec: 168.711\n",
      "INFO:tensorflow:loss = 0.035742935, step = 1101 (0.593 sec)\n",
      "INFO:tensorflow:global_step/sec: 169.196\n",
      "INFO:tensorflow:loss = 0.02351376, step = 1201 (0.591 sec)\n",
      "INFO:tensorflow:global_step/sec: 152.478\n",
      "INFO:tensorflow:loss = 0.04625409, step = 1301 (0.656 sec)\n",
      "INFO:tensorflow:global_step/sec: 164.437\n",
      "INFO:tensorflow:loss = 0.07390441, step = 1401 (0.608 sec)\n",
      "INFO:tensorflow:global_step/sec: 150.861\n",
      "INFO:tensorflow:loss = 0.06662235, step = 1501 (0.663 sec)\n",
      "INFO:tensorflow:global_step/sec: 141.666\n",
      "INFO:tensorflow:loss = 0.045698345, step = 1601 (0.706 sec)\n",
      "INFO:tensorflow:global_step/sec: 144.912\n",
      "INFO:tensorflow:loss = 0.054775815, step = 1701 (0.690 sec)\n",
      "INFO:tensorflow:global_step/sec: 160.073\n",
      "INFO:tensorflow:loss = 0.0053336397, step = 1801 (0.624 sec)\n",
      "INFO:tensorflow:global_step/sec: 154.312\n",
      "INFO:tensorflow:loss = 0.058433406, step = 1901 (0.648 sec)\n",
      "INFO:tensorflow:Saving checkpoints for 2000 into /var/folders/91/ym4gmlrd0tq37lhq_5x9b_n80000gn/T/tmpgqqvox89/model.ckpt.\n",
      "INFO:tensorflow:Loss for final step: 0.0590296.\n"
     ]
    },
    {
     "data": {
      "text/plain": [
       "<tensorflow.python.estimator.estimator.Estimator at 0x1a2213d278>"
      ]
     },
     "execution_count": 10,
     "metadata": {},
     "output_type": "execute_result"
    }
   ],
   "source": [
    "# Train the estimator using our input function.\n",
    "estimator.train(input_fn=train_input, steps=2000)"
   ]
  },
  {
   "cell_type": "code",
   "execution_count": null,
   "metadata": {},
   "outputs": [],
   "source": [
    "# Evaluate the estimator using our input function.\n",
    "# We should see our accuracy metric below\n",
    "evaluation = estimator.evaluate(input_fn=test_input)\n",
    "print(evaluation)"
   ]
  },
  {
   "cell_type": "code",
   "execution_count": null,
   "metadata": {},
   "outputs": [],
   "source": [
    "MAX_TO_PRINT = 5\n",
    "\n",
    "# This returns a generator object\n",
    "predictions = estimator.predict(input_fn=test_input)\n",
    "i = 0\n",
    "for p in predictions:\n",
    "    true_label = np.argmax(y_test[i])\n",
    "    predicted_label = p['classes']\n",
    "    print(\"Example %d. True: %d, Predicted: %s\" % (i, true_label, predicted_label))\n",
    "    i += 1\n",
    "    if i == MAX_TO_PRINT: break"
   ]
  }
 ],
 "metadata": {
  "kernelspec": {
   "display_name": "Python 3",
   "language": "python",
   "name": "python3"
  },
  "language_info": {
   "codemirror_mode": {
    "name": "ipython",
    "version": 3
   },
   "file_extension": ".py",
   "mimetype": "text/x-python",
   "name": "python",
   "nbconvert_exporter": "python",
   "pygments_lexer": "ipython3",
   "version": "3.6.3"
  }
 },
 "nbformat": 4,
 "nbformat_minor": 2
}
