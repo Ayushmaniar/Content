{
  "nbformat": 4,
  "nbformat_minor": 0,
  "metadata": {
    "colab": {
      "name": "DLSession1.ipynb",
      "version": "0.3.2",
      "views": {},
      "default_view": {},
      "provenance": [],
      "collapsed_sections": []
    },
    "kernelspec": {
      "display_name": "Python 3",
      "language": "python",
      "name": "python3"
    }
  },
  "cells": [
    {
      "metadata": {
        "id": "9u8b5TrA_ShM",
        "colab_type": "text",
        "slideshow": {
          "slide_type": "slide"
        }
      },
      "cell_type": "markdown",
      "source": [
        "# Deep Learning Session 1 - Math behind Deep Learning and Introduction to Keras\n",
        "\n"
      ]
    },
    {
      "metadata": {
        "id": "DxfDUJ0f77_X",
        "colab_type": "text",
        "slideshow": {
          "slide_type": "slide"
        }
      },
      "cell_type": "markdown",
      "source": [
        "### ML Techniques \n",
        "\n",
        "_A Broad division_\n",
        "* **classification:** predict class from observations \n",
        "\n",
        "* **clustering:** group observations into\n",
        "“meaningful” groups\n",
        "\n",
        "* **regression (prediction):** predict value from observations"
      ]
    },
    {
      "metadata": {
        "id": "vzGVAcXltfFO",
        "colab_type": "text",
        "slideshow": {
          "slide_type": "slide"
        }
      },
      "cell_type": "markdown",
      "source": [
        "### Some Terminology\n",
        "* **Features**  \n",
        "  – The number of features or distinct traits that can be used to describe  each item in a quantitative manner. \n",
        "* **Samples**  \n",
        "  – A sample is an item to process (e.g. classify). It can be a document, a picture, a sound, a video, a row in database or CSV file, or whatever you can describe with a fixed set of quantitative traits.\n",
        "* **Feature vector**: An n-dimensional vector of numerical features that represent some object.\n",
        "*  **Feature extraction**  \n",
        " – Preparation of feature vector  \n",
        " – Transform the data in the high-dimensional space to a space of fewer dimensions.  \n",
        "* **Training/Evolution set**\n",
        "  – Set of data to discover potentially predictive relationships.\n"
      ]
    },
    {
      "metadata": {
        "id": "1u171JngEaX2",
        "colab_type": "text",
        "slideshow": {
          "slide_type": "slide"
        }
      },
      "cell_type": "markdown",
      "source": [
        "# Introduction to Keras\n",
        "\n",
        "Keras is a **high-level** neural network API, written in Python. It was developed with a focus on enabling **fast experimentation**. \n",
        "\n",
        "Any program written with Keras has **5 steps**:\n",
        "- Define the model\n",
        "- Compile\n",
        "- Fit (train)\n",
        "- Evaluate \n",
        "- Predict\n",
        "\n",
        "Here, we will discuss the implementation of a simple classification task using Keras, with a **softmax**  (logistic) classifier.\n",
        "\n",
        "## Linear Classifier\n",
        "\n",
        "A linear classifier uses a score function f of the form $f(x_i,W,b)=Wx_i+b$, where the matrix **W** is called the **weight matrix** and **b** is called the **bias vector**.\n",
        "\n",
        "## Softmax Classifier\n",
        "\n",
        "We have a dataset of points $(x_i,y_i)$, where $x_i$ is the input and $y_i$ is the output class.\n",
        "Consider a linear classifier for which **class scores** *f* can be found as $f(x_i;W) = Wx_i$. For this multi-class classification problem, let us denote the score for the **class j** as $s_j = f(x_i;W)_j$, in short as $f_j$.\n",
        "\n",
        "Let $z = Wx$. Then the scores for class j will be computed as:\n",
        "\\begin{equation}\n",
        "s_j(z) = \\frac{e^{z_j}}{\\Sigma{_k}{e^{z_k}}}\n",
        "\\end{equation}\n",
        " This is known as the **softmax function**.\n",
        "\n",
        "\n",
        "\n",
        "If you’ve heard of the **binary Logistic Regression** classifier before, the Softmax classifier is its generalization to **multiple classes**. The Softmax classifier gives an intuitive output (normalized class probabilities) and also has a probabilistic interpretation that we will describe shortly. In the Softmax classifier, we interpret the scores as the unnormalized log probabilities for each class and have a **cross-entropy loss** that has the form:\n",
        "\n",
        "\\begin{equation}\n",
        "L_i = -log(\\frac{e^{f_{y_i}}}{\\Sigma{_j}{e^{f_j}}})\n",
        "\\end{equation}\n",
        "\n",
        "### Example\n",
        "\n",
        "Let us consider a dataset with 4 input features and 3 output classes. So, the shape of the **weight matrix** (W) is 3x4 and that of the **input vector** ($x_i$) is 4x1. Therefore, we get an output of shape 3x1, which is given by $Wx+b$. Also, for this particular $x_i$, the **output class** ($y_i$) is 2 ($3^{rd}$ class). \n",
        "\n",
        "   ![image](https://i.imgur.com/JU7OQV7.png)\n",
        "\n",
        "Now we have the **unnormalized** class scores. Now we will take the softmax function of these class scores. Finally, we can observe that the normalized class scores sum to 1. The loss function is given by $-log(s_2(z)) = -log(0.353) = 1.04$.\n",
        "\n",
        "   ![image](https://i.imgur.com/XYw86Hq.png)\n"
      ]
    },
    {
      "metadata": {
        "id": "bOD2ZDA8bDQd",
        "colab_type": "code",
        "colab": {
          "autoexec": {
            "startup": false,
            "wait_interval": 0
          }
        },
        "outputId": "fdd7422a-8ca9-4261-b237-5f6d4b1ab4c5"
      },
      "cell_type": "code",
      "source": [
        "import numpy as np\n",
        "import tensorflow as tf\n",
        "import keras\n",
        "from sklearn.datasets import make_blobs\n",
        "from keras.models import Sequential\n",
        "from keras.layers import Dense, Activation\n",
        "from keras.regularizers import L1L2\n",
        "import pandas as pd\n",
        "from sklearn.model_selection import train_test_split\n",
        "from keras.utils import np_utils \n",
        "import matplotlib.pyplot as plt\n",
        "import seaborn as sns\n",
        "%matplotlib inline"
      ],
      "execution_count": 0,
      "outputs": [
        {
          "output_type": "stream",
          "text": [
            "Using TensorFlow backend.\n"
          ],
          "name": "stderr"
        }
      ]
    },
    {
      "metadata": {
        "id": "e8Kpe3RdbDQi",
        "colab_type": "text"
      },
      "cell_type": "markdown",
      "source": [
        "Now that you have understood the concept behind softmax classifier, let's jump into the code.\n",
        "\n",
        "Let us create our dataset using **scikit-learn's** make_blobs function. The number of points in our dataset is 4000 and we have 4 classes as shown below. The dimension of the data (no.of features) is chosen to be 2, so that it is easy to plot and visualize. In reality, image classification tasks will have a very large number of dimensions."
      ]
    },
    {
      "metadata": {
        "id": "Q7Tm4V6AVsRe",
        "colab_type": "code",
        "slideshow": {
          "slide_type": "slide"
        },
        "colab": {
          "autoexec": {
            "startup": false,
            "wait_interval": 0
          },
          "base_uri": "https://localhost:8080/",
          "height": 265
        },
        "outputId": "85a3e66f-efc2-4725-adb6-5cb4a0fa1efd",
        "executionInfo": {
          "elapsed": 975,
          "status": "ok",
          "timestamp": 1531569210592,
          "user": {
            "displayName": "Atul Balaji",
            "photoUrl": "https://lh3.googleusercontent.com/a/default-user=s128",
            "userId": "114090638288848832178"
          },
          "user_tz": -330
        }
      },
      "cell_type": "code",
      "source": [
        "data = make_blobs(n_samples=4000, n_features=2, centers=4, cluster_std=2,random_state=101)\n",
        "plt.scatter(data[0][:,0],data[0][:,1],c=data[1],cmap='rainbow')\n",
        "plt.show()"
      ],
      "execution_count": 0,
      "outputs": [
        {
          "output_type": "display_data",
          "data": {
            "image/png": "[encoded data removed]",
            "text/plain": [
              "<matplotlib.figure.Figure at 0x7fc0118054a8>"
            ]
          },
          "metadata": {
            "tags": []
          }
        }
      ]
    },
    {
      "metadata": {
        "id": "Qs22Ice-8RZJ",
        "colab_type": "text",
        "slideshow": {
          "slide_type": "slide"
        }
      },
      "cell_type": "markdown",
      "source": [
        "We will use scikit-learn's **train_test_split** function to split our dataset into train and test, with a ratio of 4:1. After this, we will convert our labels (y) into **one-hot** vectors before passing it into our classifier model."
      ]
    },
    {
      "metadata": {
        "id": "Bd8XZWmIx2Mo",
        "colab_type": "code",
        "slideshow": {
          "slide_type": "slide"
        },
        "colab": {
          "autoexec": {
            "startup": false,
            "wait_interval": 0
          },
          "base_uri": "https://localhost:8080/",
          "height": 170
        },
        "outputId": "efda9754-4b6e-4b2a-9a4a-d09e68f1a53c",
        "executionInfo": {
          "elapsed": 697,
          "status": "ok",
          "timestamp": 1531569213518,
          "user": {
            "displayName": "Atul Balaji",
            "photoUrl": "https://lh3.googleusercontent.com/a/default-user=s128",
            "userId": "114090638288848832178"
          },
          "user_tz": -330
        }
      },
      "cell_type": "code",
      "source": [
        "X = data[0]\n",
        "y = data[1]\n",
        "X_train, X_test, y_train, y_test = train_test_split(X, y, test_size=0.2, random_state=42)\n",
        "Y_train = np_utils.to_categorical(y_train, 4) \n",
        "Y_test = np_utils.to_categorical(y_test, 4)\n",
        "print(\"y_train labels: \",y_train)\n",
        "print(\"Y_train one-hot labels: \\n\",Y_train)"
      ],
      "execution_count": 0,
      "outputs": [
        {
          "output_type": "stream",
          "text": [
            "y_train labels:  [1 3 3 ... 0 1 2]\n",
            "Y_train one-hot labels: \n",
            " [[0. 1. 0. 0.]\n",
            " [0. 0. 0. 1.]\n",
            " [0. 0. 0. 1.]\n",
            " ...\n",
            " [1. 0. 0. 0.]\n",
            " [0. 1. 0. 0.]\n",
            " [0. 0. 1. 0.]]\n"
          ],
          "name": "stdout"
        }
      ]
    },
    {
      "metadata": {
        "id": "YOE1P0-59dVj",
        "colab_type": "text",
        "slideshow": {
          "slide_type": "slide"
        }
      },
      "cell_type": "markdown",
      "source": [
        "This is where we will **define our model**. \n",
        "\n",
        "The **Sequential** model is a linear stack of layers to which layers can be added using the **add()** function. \n",
        "\n",
        "The **Dense** function here, takes 3 parameters - **no.of output classes, input dimension, type of actvation**. \n",
        "\n",
        "**Epoch**: One pass of the entire set of training examples.\n",
        "\n",
        "**Batch size**: Number of training examples used for one pass (iteration)."
      ]
    },
    {
      "metadata": {
        "id": "jClEX_MsyHMz",
        "colab_type": "code",
        "slideshow": {
          "slide_type": "slide"
        },
        "colab": {
          "autoexec": {
            "startup": false,
            "wait_interval": 0
          }
        }
      },
      "cell_type": "code",
      "source": [
        "# Define the model\n",
        "model = Sequential() \n",
        "model.add(Dense(4, input_dim=2, activation='softmax')) \n",
        "batch_size = 4\n",
        "nb_epoch = 10"
      ],
      "execution_count": 0,
      "outputs": []
    },
    {
      "metadata": {
        "id": "Lm4iJvqm_Gb_",
        "colab_type": "text",
        "slideshow": {
          "slide_type": "slide"
        }
      },
      "cell_type": "markdown",
      "source": [
        "The **compile** function configures the model for training with the appropriate *optimizer* and *loss function*. Here we have selected categorical cross-entropy loss since it is a multi-class classification problem.\n",
        "\n",
        "The **fit** function trains the model for the specified number of epochs and batch size. \n",
        "\n",
        "The **evaluate** computes the accuracy on the test set after training."
      ]
    },
    {
      "metadata": {
        "id": "lAGMEsMd2aMM",
        "colab_type": "code",
        "slideshow": {
          "slide_type": "slide"
        },
        "colab": {
          "autoexec": {
            "startup": false,
            "wait_interval": 0
          },
          "base_uri": "https://localhost:8080/",
          "height": 428
        },
        "outputId": "e2841550-04ab-4a85-e93c-32886ebd278e",
        "executionInfo": {
          "elapsed": 10881,
          "status": "ok",
          "timestamp": 1531569231464,
          "user": {
            "displayName": "Atul Balaji",
            "photoUrl": "https://lh3.googleusercontent.com/a/default-user=s128",
            "userId": "114090638288848832178"
          },
          "user_tz": -330
        }
      },
      "cell_type": "code",
      "source": [
        "model.compile(optimizer='sgd', loss='categorical_crossentropy', metrics=['accuracy']) \n",
        "history = model.fit(X_train, Y_train, batch_size=batch_size, epochs=nb_epoch,verbose=1, validation_data=(X_test, Y_test)) \n",
        "score = model.evaluate(X_test, Y_test, verbose=0) \n",
        "print('Test score:', score[0]) \n",
        "print('Test accuracy:', score[1])"
      ],
      "execution_count": 0,
      "outputs": [
        {
          "output_type": "stream",
          "text": [
            "Train on 3200 samples, validate on 800 samples\n",
            "Epoch 1/10\n",
            "3200/3200 [==============================] - 1s 327us/step - loss: 0.5000 - acc: 0.7863 - val_loss: 0.3510 - val_acc: 0.8650\n",
            "Epoch 2/10\n",
            "3200/3200 [==============================] - 1s 274us/step - loss: 0.3032 - acc: 0.9006 - val_loss: 0.2743 - val_acc: 0.9087\n",
            "Epoch 3/10\n",
            "3200/3200 [==============================] - 1s 324us/step - loss: 0.2474 - acc: 0.9234 - val_loss: 0.2436 - val_acc: 0.9187\n",
            "Epoch 4/10\n",
            "3200/3200 [==============================] - 1s 321us/step - loss: 0.2197 - acc: 0.9313 - val_loss: 0.2161 - val_acc: 0.9213\n",
            "Epoch 5/10\n",
            "3200/3200 [==============================] - 1s 323us/step - loss: 0.2030 - acc: 0.9353 - val_loss: 0.2020 - val_acc: 0.9175\n",
            "Epoch 6/10\n",
            "3200/3200 [==============================] - 1s 317us/step - loss: 0.1913 - acc: 0.9372 - val_loss: 0.1948 - val_acc: 0.9263\n",
            "Epoch 7/10\n",
            "3200/3200 [==============================] - 1s 330us/step - loss: 0.1841 - acc: 0.9412 - val_loss: 0.1889 - val_acc: 0.9225\n",
            "Epoch 8/10\n",
            "3200/3200 [==============================] - 1s 317us/step - loss: 0.1775 - acc: 0.9391 - val_loss: 0.1958 - val_acc: 0.9213\n",
            "Epoch 9/10\n",
            " 376/3200 [==>...........................] - ETA: 0s - loss: 0.2253 - acc: 0.91223200/3200 [==============================] - 1s 316us/step - loss: 0.1745 - acc: 0.9400 - val_loss: 0.1816 - val_acc: 0.9237\n",
            "Epoch 10/10\n",
            "3200/3200 [==============================] - 1s 317us/step - loss: 0.1704 - acc: 0.9381 - val_loss: 0.1815 - val_acc: 0.9225\n",
            "Test score: 0.18148446649312974\n",
            "Test accuracy: 0.9225\n"
          ],
          "name": "stdout"
        }
      ]
    },
    {
      "metadata": {
        "id": "yy_kF7er_c3-",
        "colab_type": "text",
        "slideshow": {
          "slide_type": "slide"
        }
      },
      "cell_type": "markdown",
      "source": [
        "Now, let us generate the predictions. \n",
        "\n",
        "The **predict** function returns a 4-element vector of softmax probabilities for each class. The correct prediction is obtained using numpy's **argmax()** function, which finds the index of the maximum element in the vector."
      ]
    },
    {
      "metadata": {
        "id": "OByvBngZ2pob",
        "colab_type": "code",
        "slideshow": {
          "slide_type": "slide"
        },
        "colab": {
          "autoexec": {
            "startup": false,
            "wait_interval": 0
          },
          "base_uri": "https://localhost:8080/",
          "height": 561
        },
        "outputId": "5103dc68-079c-40b1-94cd-192835ca88f3",
        "executionInfo": {
          "elapsed": 796,
          "status": "ok",
          "timestamp": 1531569236377,
          "user": {
            "displayName": "Atul Balaji",
            "photoUrl": "https://lh3.googleusercontent.com/a/default-user=s128",
            "userId": "114090638288848832178"
          },
          "user_tz": -330
        }
      },
      "cell_type": "code",
      "source": [
        "Y_pred = model.predict(X_test)\n",
        "print(\"Softmax predictions: \\n\",Y_pred)\n",
        "y_pred = np.argmax(Y_pred, axis=1)\n",
        "print(\"\\nClass with maximum probability: \\n\",y_pred)"
      ],
      "execution_count": 0,
      "outputs": [
        {
          "output_type": "stream",
          "text": [
            "Softmax predictions: \n",
            " [[1.3248611e-03 2.5521611e-09 9.9851722e-01 1.5793661e-04]\n",
            " [6.4598355e-03 9.7919554e-05 5.8634079e-04 9.9285591e-01]\n",
            " [8.5855442e-01 2.7467676e-02 4.7468939e-03 1.0923109e-01]\n",
            " ...\n",
            " [5.4721786e-03 9.9292070e-01 1.0090873e-09 1.6071154e-03]\n",
            " [1.2989193e-03 6.6605605e-09 9.8468834e-01 1.4012725e-02]\n",
            " [3.0959516e-03 9.9689341e-01 8.6714969e-11 1.0548322e-05]]\n",
            "\n",
            "Class with maximum probability: \n",
            " [2 3 0 3 2 2 2 2 3 0 2 3 0 2 3 0 2 2 1 1 1 2 1 2 2 2 1 2 2 1 2 1 0 1 3 3 1\n",
            " 0 1 3 1 0 1 1 0 0 3 0 1 1 0 3 2 0 2 2 1 1 1 0 3 0 3 1 0 1 3 2 1 0 1 0 3 3\n",
            " 2 1 1 1 0 0 2 3 2 3 0 3 2 3 3 1 3 3 0 0 3 1 3 2 1 0 0 2 2 2 3 0 0 3 1 3 1\n",
            " 2 0 0 1 0 1 3 1 3 2 3 0 0 2 2 0 0 2 2 2 2 3 1 0 1 3 3 0 1 2 3 2 3 0 3 2 2\n",
            " 2 0 0 1 3 0 1 3 1 1 1 2 3 0 1 3 0 3 2 0 0 3 2 2 3 1 1 1 2 1 0 3 0 1 0 2 2\n",
            " 2 3 3 3 2 2 1 3 1 3 2 1 3 0 3 3 3 3 1 2 0 3 2 2 0 2 2 0 2 3 2 3 2 0 3 2 3\n",
            " 0 1 3 3 1 0 3 1 3 1 2 0 3 0 0 2 3 1 1 2 3 0 1 0 1 2 1 1 2 3 3 3 2 0 0 3 1\n",
            " 2 1 1 0 2 1 0 2 2 3 2 3 3 2 0 2 0 2 1 3 3 2 3 1 3 0 2 2 3 3 2 3 1 2 2 0 0\n",
            " 3 2 2 0 1 2 1 2 1 0 2 0 1 1 2 2 0 2 2 3 1 2 0 0 2 2 0 0 3 0 2 3 1 2 2 2 0\n",
            " 3 3 3 2 1 3 3 2 2 1 2 1 1 0 0 0 1 1 3 2 2 0 2 1 1 3 2 3 3 3 1 0 3 3 0 2 0\n",
            " 3 1 3 2 1 2 3 2 0 0 1 3 3 3 3 2 0 1 0 1 2 0 1 2 1 0 0 2 3 2 2 1 2 0 3 1 3\n",
            " 2 3 1 2 2 0 2 0 1 2 1 3 0 0 1 3 2 1 2 3 1 2 2 1 3 0 0 1 1 3 1 2 1 1 2 1 3\n",
            " 0 3 1 3 1 0 2 2 0 1 3 3 2 3 2 2 3 2 1 2 0 1 2 2 3 2 1 1 0 0 3 2 1 1 2 2 2\n",
            " 0 0 1 2 3 0 0 0 0 2 2 0 0 0 1 2 0 3 1 2 1 0 3 2 2 3 2 2 0 2 2 3 3 1 1 3 3\n",
            " 3 1 3 2 3 0 3 0 3 0 2 1 3 1 1 0 3 3 1 1 0 3 2 2 3 1 3 3 3 1 3 3 0 3 2 2 0\n",
            " 1 2 3 0 2 1 0 3 0 2 1 0 1 0 2 3 0 1 3 0 1 3 1 2 3 0 3 3 1 2 1 1 1 3 2 0 0\n",
            " 1 3 0 0 2 0 3 2 0 2 1 0 3 0 3 2 3 3 2 1 0 0 2 2 2 3 0 3 2 0 2 0 2 1 3 1 2\n",
            " 0 3 0 1 1 2 1 2 1 0 2 3 2 0 2 0 2 3 3 1 3 2 3 3 1 1 2 3 0 2 3 0 0 1 3 0 3\n",
            " 2 2 1 2 1 0 1 2 3 1 1 1 1 0 3 3 0 2 1 0 1 2 1 3 3 1 1 3 1 0 2 2 3 2 1 1 1\n",
            " 1 0 2 2 3 1 1 1 2 3 1 3 2 3 2 1 0 3 0 0 3 0 3 0 1 0 0 3 0 0 0 2 1 2 2 0 1\n",
            " 1 3 1 0 1 2 2 0 0 3 1 3 1 3 2 1 0 3 2 1 1 1 0 1 2 2 3 2 0 2 3 3 0 1 3 2 3\n",
            " 2 1 2 2 2 0 0 2 0 1 3 1 0 1 3 3 0 3 0 0 1 2 1]\n"
          ],
          "name": "stdout"
        }
      ]
    },
    {
      "metadata": {
        "id": "WEHszb1c27tb",
        "colab_type": "code",
        "slideshow": {
          "slide_type": "slide"
        },
        "colab": {
          "autoexec": {
            "startup": false,
            "wait_interval": 0
          },
          "base_uri": "https://localhost:8080/",
          "height": 406
        },
        "outputId": "b82e8a11-076e-4d59-b9b9-bcb407fbcee2",
        "executionInfo": {
          "elapsed": 1188,
          "status": "ok",
          "timestamp": 1531569239414,
          "user": {
            "displayName": "Atul Balaji",
            "photoUrl": "https://lh3.googleusercontent.com/a/default-user=s128",
            "userId": "114090638288848832178"
          },
          "user_tz": -330
        }
      },
      "cell_type": "code",
      "source": [
        "f, (ax1, ax2) = plt.subplots(1, 2, sharey=True,figsize=(10,6))\n",
        "ax1.set_title('Predictions')\n",
        "ax1.scatter(X_test[:,0],X_test[:,1],c=y_pred,cmap='rainbow')\n",
        "ax2.set_title(\"Original\")\n",
        "ax2.scatter(X_test[:,0],X_test[:,1],c=y_test,cmap='rainbow')"
      ],
      "execution_count": 0,
      "outputs": [
        {
          "output_type": "execute_result",
          "data": {
            "text/plain": [
              "<matplotlib.collections.PathCollection at 0x7fbfff50f5f8>"
            ]
          },
          "metadata": {
            "tags": []
          },
          "execution_count": 8
        },
        {
          "output_type": "display_data",
          "data": {
            "image/png": "[encoded data removed]",
            "text/plain": [
              "<matplotlib.figure.Figure at 0x7fc011725390>"
            ]
          },
          "metadata": {
            "tags": []
          }
        }
      ]
    },
    {
      "metadata": {
        "id": "kxINFCC74hoD",
        "colab_type": "text",
        "slideshow": {
          "slide_type": "slide"
        }
      },
      "cell_type": "markdown",
      "source": [
        "### Visualizing the decision boundary "
      ]
    },
    {
      "metadata": {
        "id": "O8pC8Sfx_Twf",
        "colab_type": "text",
        "slideshow": {
          "slide_type": "slide"
        }
      },
      "cell_type": "markdown",
      "source": [
        "Let us create a grid of points 10000 in the 2D space between $x = \\pm20$ and $y=\\pm20$. "
      ]
    },
    {
      "metadata": {
        "id": "mLECBUto5QhC",
        "colab_type": "code",
        "slideshow": {
          "slide_type": "slide"
        },
        "colab": {
          "autoexec": {
            "startup": false,
            "wait_interval": 0
          },
          "base_uri": "https://localhost:8080/",
          "height": 34
        },
        "outputId": "fd29bb09-23ec-4f64-b207-2d07487d0c64",
        "executionInfo": {
          "elapsed": 702,
          "status": "ok",
          "timestamp": 1531569244241,
          "user": {
            "displayName": "Atul Balaji",
            "photoUrl": "https://lh3.googleusercontent.com/a/default-user=s128",
            "userId": "114090638288848832178"
          },
          "user_tz": -330
        }
      },
      "cell_type": "code",
      "source": [
        "x = np.linspace(-20, 20, 100)\n",
        "xx, yy = np.meshgrid(x, x)\n",
        "data = np.dstack((xx,yy))\n",
        "data = data.reshape(-1,2)\n",
        "data.shape"
      ],
      "execution_count": 0,
      "outputs": [
        {
          "output_type": "execute_result",
          "data": {
            "text/plain": [
              "(10000, 2)"
            ]
          },
          "metadata": {
            "tags": []
          },
          "execution_count": 9
        }
      ]
    },
    {
      "metadata": {
        "id": "_Bzv6vwB_8lW",
        "colab_type": "text",
        "slideshow": {
          "slide_type": "slide"
        }
      },
      "cell_type": "markdown",
      "source": [
        "Now, we will obtain the predictions from the model."
      ]
    },
    {
      "metadata": {
        "id": "XZrMVsC3wXZw",
        "colab_type": "code",
        "slideshow": {
          "slide_type": "slide"
        },
        "colab": {
          "autoexec": {
            "startup": false,
            "wait_interval": 0
          }
        }
      },
      "cell_type": "code",
      "source": [
        "y = model.predict(data)\n",
        "y_class = np.argmax(y, axis=1)"
      ],
      "execution_count": 0,
      "outputs": []
    },
    {
      "metadata": {
        "id": "8hvdVFxXxihQ",
        "colab_type": "code",
        "slideshow": {
          "slide_type": "slide"
        },
        "colab": {
          "autoexec": {
            "startup": false,
            "wait_interval": 0
          },
          "base_uri": "https://localhost:8080/",
          "height": 280
        },
        "outputId": "b307a62d-71a4-443a-9fd4-c0132758fde9",
        "executionInfo": {
          "elapsed": 1402,
          "status": "ok",
          "timestamp": 1531569249657,
          "user": {
            "displayName": "Atul Balaji",
            "photoUrl": "https://lh3.googleusercontent.com/a/default-user=s128",
            "userId": "114090638288848832178"
          },
          "user_tz": -330
        }
      },
      "cell_type": "code",
      "source": [
        "plt.scatter(data[:,0], data[:,1], c=y_class, cmap='rainbow')\n",
        "plt.title(\"Decision Boundary Predicted by Softmax Classifier\")\n",
        "plt.show()"
      ],
      "execution_count": 0,
      "outputs": [
        {
          "output_type": "display_data",
          "data": {
            "image/png": "[encoded data removed]",
            "text/plain": [
              "<matplotlib.figure.Figure at 0x7fc001f440b8>"
            ]
          },
          "metadata": {
            "tags": []
          }
        }
      ]
    },
    {
      "metadata": {
        "id": "Yu3hos7cbDRG",
        "colab_type": "text"
      },
      "cell_type": "markdown",
      "source": [
        "## Understanding Linear classifiers\n",
        "\n",
        "Now, let us make another dataset with make_blobs. But, this will have 2 clusters. "
      ]
    },
    {
      "metadata": {
        "id": "je5DDyXp_ftO",
        "colab_type": "code",
        "slideshow": {
          "slide_type": "slide"
        },
        "colab": {
          "autoexec": {
            "startup": false,
            "wait_interval": 0
          },
          "base_uri": "https://localhost:8080/",
          "height": 265
        },
        "outputId": "1974531d-53b5-4dc3-e3b9-16dca6c25bb3",
        "executionInfo": {
          "elapsed": 7530,
          "status": "ok",
          "timestamp": 1531552714322,
          "user": {
            "displayName": "Atul Balaji",
            "photoUrl": "https://lh3.googleusercontent.com/a/default-user=s128",
            "userId": "114090638288848832178"
          },
          "user_tz": -330
        }
      },
      "cell_type": "code",
      "source": [
        "data = make_blobs(n_samples=4000, n_features=2, centers=2, cluster_std=2.5,random_state=101)\n",
        "plt.scatter(data[0][:,0],data[0][:,1],c=data[1],cmap='rainbow')\n",
        "plt.show()"
      ],
      "execution_count": 0,
      "outputs": [
        {
          "output_type": "display_data",
          "data": {
            "image/png": "[encoded data removed]",
            "text/plain": [
              "<matplotlib.figure.Figure at 0x7f38cb3d7128>"
            ]
          },
          "metadata": {
            "tags": []
          }
        }
      ]
    },
    {
      "metadata": {
        "id": "JPrdDNh4GZnt",
        "colab_type": "text",
        "slideshow": {
          "slide_type": "slide"
        }
      },
      "cell_type": "markdown",
      "source": [
        "Convert to one-hot labels."
      ]
    },
    {
      "metadata": {
        "id": "Uol0VonIqdVl",
        "colab_type": "code",
        "slideshow": {
          "slide_type": "slide"
        },
        "colab": {
          "autoexec": {
            "startup": false,
            "wait_interval": 0
          },
          "base_uri": "https://localhost:8080/",
          "height": 68
        },
        "outputId": "a6f019f9-b330-456c-9ddb-4af888520fb1",
        "executionInfo": {
          "elapsed": 665,
          "status": "ok",
          "timestamp": 1531553113232,
          "user": {
            "displayName": "Atul Balaji",
            "photoUrl": "https://lh3.googleusercontent.com/a/default-user=s128",
            "userId": "114090638288848832178"
          },
          "user_tz": -330
        }
      },
      "cell_type": "code",
      "source": [
        "X = data[0]\n",
        "y = data[1]\n",
        "X_train, X_test, y_train, y_test = train_test_split(X, y, test_size=0.2, random_state=42)\n",
        "Y_train = np_utils.to_categorical(y_train, 2) \n",
        "Y_test = np_utils.to_categorical(y_test, 2)\n",
        "print(\"y_train labels: \",y_train.shape)\n",
        "print(\"Y_train one-hot labels: \\n\",Y_train.shape)"
      ],
      "execution_count": 0,
      "outputs": [
        {
          "output_type": "stream",
          "text": [
            "y_train labels:  (3200,)\n",
            "Y_train one-hot labels: \n",
            " (3200, 2)\n"
          ],
          "name": "stdout"
        }
      ]
    },
    {
      "metadata": {
        "id": "I__a7uQ8GnkP",
        "colab_type": "text",
        "slideshow": {
          "slide_type": "slide"
        }
      },
      "cell_type": "markdown",
      "source": [
        "Define the model and train it."
      ]
    },
    {
      "metadata": {
        "id": "ue4bgj2nqu-6",
        "colab_type": "code",
        "slideshow": {
          "slide_type": "slide"
        },
        "colab": {
          "autoexec": {
            "startup": false,
            "wait_interval": 0
          }
        }
      },
      "cell_type": "code",
      "source": [
        "model = Sequential() \n",
        "model.add(Dense(2, input_dim=2, name='wx_b'))\n",
        "model.add(Activation('softmax', name='softmax'))\n",
        "batch_size = 128\n",
        "nb_epoch = 100"
      ],
      "execution_count": 0,
      "outputs": []
    },
    {
      "metadata": {
        "id": "FJeqkHRBrGTO",
        "colab_type": "code",
        "slideshow": {
          "slide_type": "slide"
        },
        "colab": {
          "autoexec": {
            "startup": false,
            "wait_interval": 0
          },
          "base_uri": "https://localhost:8080/",
          "height": 3488
        },
        "outputId": "73999037-9829-45cf-b7a8-96af65087f91",
        "executionInfo": {
          "elapsed": 5058,
          "status": "ok",
          "timestamp": 1531553123366,
          "user": {
            "displayName": "Atul Balaji",
            "photoUrl": "https://lh3.googleusercontent.com/a/default-user=s128",
            "userId": "114090638288848832178"
          },
          "user_tz": -330
        }
      },
      "cell_type": "code",
      "source": [
        "model.compile(optimizer='sgd', loss='categorical_crossentropy', metrics=['accuracy']) \n",
        "history = model.fit(X_train, Y_train, batch_size=batch_size, epochs=nb_epoch,verbose=1, validation_data=(X_test, Y_test)) \n",
        "score = model.evaluate(X_test, Y_test, verbose=0) \n",
        "print('Test score:', score[0])\n",
        "print('Test accuracy:', score[1])"
      ],
      "execution_count": 0,
      "outputs": [
        {
          "output_type": "stream",
          "text": [
            "Train on 3200 samples, validate on 800 samples\n",
            "Epoch 1/100\n",
            "3200/3200 [==============================] - 0s 57us/step - loss: 0.6947 - acc: 0.8334 - val_loss: 0.6120 - val_acc: 0.8500\n",
            "Epoch 2/100\n",
            "3200/3200 [==============================] - 0s 12us/step - loss: 0.6354 - acc: 0.8397 - val_loss: 0.5565 - val_acc: 0.8550\n",
            "Epoch 3/100\n",
            "3200/3200 [==============================] - 0s 11us/step - loss: 0.5799 - acc: 0.8438 - val_loss: 0.5052 - val_acc: 0.8612\n",
            "Epoch 4/100\n",
            "3200/3200 [==============================] - 0s 11us/step - loss: 0.5285 - acc: 0.8509 - val_loss: 0.4581 - val_acc: 0.8700\n",
            "Epoch 5/100\n",
            "3200/3200 [==============================] - 0s 11us/step - loss: 0.4809 - acc: 0.8569 - val_loss: 0.4148 - val_acc: 0.8762\n",
            "Epoch 6/100\n",
            "3200/3200 [==============================] - 0s 11us/step - loss: 0.4367 - acc: 0.8663 - val_loss: 0.3750 - val_acc: 0.8838\n",
            "Epoch 7/100\n",
            "3200/3200 [==============================] - 0s 12us/step - loss: 0.3959 - acc: 0.8703 - val_loss: 0.3386 - val_acc: 0.8862\n",
            "Epoch 8/100\n",
            "3200/3200 [==============================] - 0s 11us/step - loss: 0.3583 - acc: 0.8734 - val_loss: 0.3053 - val_acc: 0.8975\n",
            "Epoch 9/100\n",
            "3200/3200 [==============================] - 0s 12us/step - loss: 0.3238 - acc: 0.8781 - val_loss: 0.2750 - val_acc: 0.8988\n",
            "Epoch 10/100\n",
            "3200/3200 [==============================] - 0s 12us/step - loss: 0.2923 - acc: 0.8828 - val_loss: 0.2477 - val_acc: 0.9012\n",
            "Epoch 11/100\n",
            "3200/3200 [==============================] - 0s 11us/step - loss: 0.2636 - acc: 0.8909 - val_loss: 0.2231 - val_acc: 0.9075\n",
            "Epoch 12/100\n",
            "3200/3200 [==============================] - 0s 11us/step - loss: 0.2380 - acc: 0.8991 - val_loss: 0.2012 - val_acc: 0.9150\n",
            "Epoch 13/100\n",
            "3200/3200 [==============================] - 0s 11us/step - loss: 0.2150 - acc: 0.9081 - val_loss: 0.1821 - val_acc: 0.9263\n",
            "Epoch 14/100\n",
            "3200/3200 [==============================] - 0s 12us/step - loss: 0.1951 - acc: 0.9169 - val_loss: 0.1657 - val_acc: 0.9313\n",
            "Epoch 15/100\n",
            "3200/3200 [==============================] - 0s 13us/step - loss: 0.1781 - acc: 0.9237 - val_loss: 0.1521 - val_acc: 0.9375\n",
            "Epoch 16/100\n",
            "3200/3200 [==============================] - 0s 11us/step - loss: 0.1640 - acc: 0.9284 - val_loss: 0.1413 - val_acc: 0.9425\n",
            "Epoch 17/100\n",
            "3200/3200 [==============================] - 0s 12us/step - loss: 0.1528 - acc: 0.9363 - val_loss: 0.1331 - val_acc: 0.9450\n",
            "Epoch 18/100\n",
            "3200/3200 [==============================] - 0s 11us/step - loss: 0.1442 - acc: 0.9469 - val_loss: 0.1271 - val_acc: 0.9537\n",
            "Epoch 19/100\n",
            "3200/3200 [==============================] - 0s 12us/step - loss: 0.1377 - acc: 0.9516 - val_loss: 0.1227 - val_acc: 0.9600\n",
            "Epoch 20/100\n",
            "3200/3200 [==============================] - 0s 11us/step - loss: 0.1328 - acc: 0.9556 - val_loss: 0.1193 - val_acc: 0.9600\n",
            "Epoch 21/100\n",
            "3200/3200 [==============================] - 0s 11us/step - loss: 0.1289 - acc: 0.9581 - val_loss: 0.1165 - val_acc: 0.9613\n",
            "Epoch 22/100\n",
            "3200/3200 [==============================] - 0s 11us/step - loss: 0.1255 - acc: 0.9625 - val_loss: 0.1140 - val_acc: 0.9650\n",
            "Epoch 23/100\n",
            "3200/3200 [==============================] - 0s 14us/step - loss: 0.1225 - acc: 0.9647 - val_loss: 0.1116 - val_acc: 0.9650\n",
            "Epoch 24/100\n",
            "3200/3200 [==============================] - 0s 12us/step - loss: 0.1197 - acc: 0.9669 - val_loss: 0.1094 - val_acc: 0.9675\n",
            "Epoch 25/100\n",
            "3200/3200 [==============================] - 0s 13us/step - loss: 0.1171 - acc: 0.9678 - val_loss: 0.1072 - val_acc: 0.9675\n",
            "Epoch 26/100\n",
            "3200/3200 [==============================] - 0s 11us/step - loss: 0.1147 - acc: 0.9700 - val_loss: 0.1052 - val_acc: 0.9700\n",
            "Epoch 27/100\n",
            "3200/3200 [==============================] - 0s 11us/step - loss: 0.1124 - acc: 0.9716 - val_loss: 0.1032 - val_acc: 0.9712\n",
            "Epoch 28/100\n",
            "3200/3200 [==============================] - 0s 11us/step - loss: 0.1102 - acc: 0.9725 - val_loss: 0.1013 - val_acc: 0.9712\n",
            "Epoch 29/100\n",
            "3200/3200 [==============================] - 0s 11us/step - loss: 0.1081 - acc: 0.9728 - val_loss: 0.0995 - val_acc: 0.9750\n",
            "Epoch 30/100\n",
            "3200/3200 [==============================] - 0s 12us/step - loss: 0.1061 - acc: 0.9731 - val_loss: 0.0978 - val_acc: 0.9762\n",
            "Epoch 31/100\n",
            "3200/3200 [==============================] - 0s 12us/step - loss: 0.1042 - acc: 0.9741 - val_loss: 0.0961 - val_acc: 0.9788\n",
            "Epoch 32/100\n",
            "3200/3200 [==============================] - 0s 11us/step - loss: 0.1024 - acc: 0.9744 - val_loss: 0.0945 - val_acc: 0.9788\n",
            "Epoch 33/100\n",
            "3200/3200 [==============================] - 0s 11us/step - loss: 0.1006 - acc: 0.9750 - val_loss: 0.0930 - val_acc: 0.9788\n",
            "Epoch 34/100\n",
            "3200/3200 [==============================] - 0s 11us/step - loss: 0.0990 - acc: 0.9753 - val_loss: 0.0916 - val_acc: 0.9800\n",
            "Epoch 35/100\n",
            "3200/3200 [==============================] - 0s 12us/step - loss: 0.0973 - acc: 0.9763 - val_loss: 0.0902 - val_acc: 0.9800\n",
            "Epoch 36/100\n",
            "3200/3200 [==============================] - 0s 12us/step - loss: 0.0959 - acc: 0.9766 - val_loss: 0.0889 - val_acc: 0.9800\n",
            "Epoch 37/100\n",
            "3200/3200 [==============================] - 0s 10us/step - loss: 0.0943 - acc: 0.9772 - val_loss: 0.0876 - val_acc: 0.9800\n",
            "Epoch 38/100\n",
            "3200/3200 [==============================] - 0s 11us/step - loss: 0.0929 - acc: 0.9775 - val_loss: 0.0863 - val_acc: 0.9800\n",
            "Epoch 39/100\n",
            "3200/3200 [==============================] - 0s 11us/step - loss: 0.0916 - acc: 0.9781 - val_loss: 0.0851 - val_acc: 0.9800\n",
            "Epoch 40/100\n",
            "3200/3200 [==============================] - 0s 12us/step - loss: 0.0903 - acc: 0.9781 - val_loss: 0.0839 - val_acc: 0.9800\n",
            "Epoch 41/100\n",
            "3200/3200 [==============================] - 0s 11us/step - loss: 0.0890 - acc: 0.9800 - val_loss: 0.0828 - val_acc: 0.9812\n",
            "Epoch 42/100\n",
            "3200/3200 [==============================] - 0s 12us/step - loss: 0.0878 - acc: 0.9800 - val_loss: 0.0817 - val_acc: 0.9812\n",
            "Epoch 43/100\n",
            "3200/3200 [==============================] - 0s 11us/step - loss: 0.0866 - acc: 0.9803 - val_loss: 0.0807 - val_acc: 0.9812\n",
            "Epoch 44/100\n",
            "3200/3200 [==============================] - 0s 11us/step - loss: 0.0855 - acc: 0.9806 - val_loss: 0.0797 - val_acc: 0.9825\n",
            "Epoch 45/100\n",
            "3200/3200 [==============================] - 0s 11us/step - loss: 0.0844 - acc: 0.9812 - val_loss: 0.0787 - val_acc: 0.9838\n",
            "Epoch 46/100\n",
            "3200/3200 [==============================] - 0s 11us/step - loss: 0.0833 - acc: 0.9816 - val_loss: 0.0778 - val_acc: 0.9838\n",
            "Epoch 47/100\n",
            "3200/3200 [==============================] - 0s 11us/step - loss: 0.0823 - acc: 0.9819 - val_loss: 0.0769 - val_acc: 0.9850\n",
            "Epoch 48/100\n",
            "3200/3200 [==============================] - 0s 11us/step - loss: 0.0813 - acc: 0.9819 - val_loss: 0.0760 - val_acc: 0.9850\n",
            "Epoch 49/100\n",
            "3200/3200 [==============================] - 0s 11us/step - loss: 0.0804 - acc: 0.9819 - val_loss: 0.0752 - val_acc: 0.9850\n",
            "Epoch 50/100\n",
            "3200/3200 [==============================] - 0s 11us/step - loss: 0.0794 - acc: 0.9819 - val_loss: 0.0743 - val_acc: 0.9850\n",
            "Epoch 51/100\n",
            "3200/3200 [==============================] - 0s 11us/step - loss: 0.0786 - acc: 0.9828 - val_loss: 0.0735 - val_acc: 0.9850\n",
            "Epoch 52/100\n",
            " 128/3200 [>.............................] - ETA: 0s - loss: 0.0480 - acc: 1.00003200/3200 [==============================] - 0s 11us/step - loss: 0.0777 - acc: 0.9834 - val_loss: 0.0728 - val_acc: 0.9850\n",
            "Epoch 53/100\n",
            "3200/3200 [==============================] - 0s 11us/step - loss: 0.0768 - acc: 0.9834 - val_loss: 0.0720 - val_acc: 0.9850\n",
            "Epoch 54/100\n",
            "3200/3200 [==============================] - 0s 11us/step - loss: 0.0760 - acc: 0.9834 - val_loss: 0.0713 - val_acc: 0.9850\n",
            "Epoch 55/100\n",
            "3200/3200 [==============================] - 0s 11us/step - loss: 0.0752 - acc: 0.9834 - val_loss: 0.0706 - val_acc: 0.9850\n",
            "Epoch 56/100\n",
            "3200/3200 [==============================] - 0s 11us/step - loss: 0.0744 - acc: 0.9841 - val_loss: 0.0699 - val_acc: 0.9862\n",
            "Epoch 57/100\n",
            "3200/3200 [==============================] - 0s 11us/step - loss: 0.0737 - acc: 0.9841 - val_loss: 0.0692 - val_acc: 0.9862\n",
            "Epoch 58/100\n",
            "3200/3200 [==============================] - 0s 11us/step - loss: 0.0730 - acc: 0.9841 - val_loss: 0.0686 - val_acc: 0.9862\n",
            "Epoch 59/100\n",
            "3200/3200 [==============================] - 0s 11us/step - loss: 0.0722 - acc: 0.9844 - val_loss: 0.0680 - val_acc: 0.9862\n",
            "Epoch 60/100\n",
            "3200/3200 [==============================] - 0s 11us/step - loss: 0.0716 - acc: 0.9844 - val_loss: 0.0674 - val_acc: 0.9875\n",
            "Epoch 61/100\n",
            "3200/3200 [==============================] - 0s 13us/step - loss: 0.0709 - acc: 0.9844 - val_loss: 0.0667 - val_acc: 0.9875\n",
            "Epoch 62/100\n",
            "3200/3200 [==============================] - 0s 13us/step - loss: 0.0702 - acc: 0.9844 - val_loss: 0.0661 - val_acc: 0.9875\n",
            "Epoch 63/100\n",
            "3200/3200 [==============================] - 0s 12us/step - loss: 0.0696 - acc: 0.9844 - val_loss: 0.0656 - val_acc: 0.9875\n",
            "Epoch 64/100\n",
            "3200/3200 [==============================] - 0s 15us/step - loss: 0.0690 - acc: 0.9844 - val_loss: 0.0650 - val_acc: 0.9875\n",
            "Epoch 65/100\n",
            "3200/3200 [==============================] - 0s 12us/step - loss: 0.0684 - acc: 0.9847 - val_loss: 0.0645 - val_acc: 0.9875\n",
            "Epoch 66/100\n",
            "3200/3200 [==============================] - 0s 13us/step - loss: 0.0678 - acc: 0.9847 - val_loss: 0.0639 - val_acc: 0.9875\n",
            "Epoch 67/100\n",
            "3200/3200 [==============================] - 0s 13us/step - loss: 0.0672 - acc: 0.9850 - val_loss: 0.0634 - val_acc: 0.9875\n",
            "Epoch 68/100\n",
            "3200/3200 [==============================] - 0s 13us/step - loss: 0.0666 - acc: 0.9853 - val_loss: 0.0629 - val_acc: 0.9875\n",
            "Epoch 69/100\n",
            "3200/3200 [==============================] - 0s 13us/step - loss: 0.0661 - acc: 0.9859 - val_loss: 0.0624 - val_acc: 0.9875\n",
            "Epoch 70/100\n",
            "3200/3200 [==============================] - 0s 13us/step - loss: 0.0655 - acc: 0.9866 - val_loss: 0.0619 - val_acc: 0.9875\n",
            "Epoch 71/100\n",
            "3200/3200 [==============================] - 0s 13us/step - loss: 0.0650 - acc: 0.9866 - val_loss: 0.0615 - val_acc: 0.9875\n",
            "Epoch 72/100\n",
            "3200/3200 [==============================] - 0s 14us/step - loss: 0.0645 - acc: 0.9866 - val_loss: 0.0610 - val_acc: 0.9875\n",
            "Epoch 73/100\n",
            "3200/3200 [==============================] - 0s 13us/step - loss: 0.0640 - acc: 0.9862 - val_loss: 0.0606 - val_acc: 0.9875\n",
            "Epoch 74/100\n",
            "3200/3200 [==============================] - 0s 13us/step - loss: 0.0635 - acc: 0.9862 - val_loss: 0.0601 - val_acc: 0.9875\n",
            "Epoch 75/100\n",
            "3200/3200 [==============================] - 0s 13us/step - loss: 0.0630 - acc: 0.9862 - val_loss: 0.0597 - val_acc: 0.9888\n",
            "Epoch 76/100\n",
            "3200/3200 [==============================] - 0s 13us/step - loss: 0.0626 - acc: 0.9866 - val_loss: 0.0593 - val_acc: 0.9888\n",
            "Epoch 77/100\n",
            "3200/3200 [==============================] - 0s 13us/step - loss: 0.0621 - acc: 0.9869 - val_loss: 0.0589 - val_acc: 0.9888\n",
            "Epoch 78/100\n"
          ],
          "name": "stdout"
        },
        {
          "output_type": "stream",
          "text": [
            " 128/3200 [>.............................] - ETA: 0s - loss: 0.0620 - acc: 0.98443200/3200 [==============================] - 0s 13us/step - loss: 0.0617 - acc: 0.9872 - val_loss: 0.0585 - val_acc: 0.9888\n",
            "Epoch 79/100\n",
            "3200/3200 [==============================] - 0s 15us/step - loss: 0.0612 - acc: 0.9872 - val_loss: 0.0581 - val_acc: 0.9888\n",
            "Epoch 80/100\n",
            "3200/3200 [==============================] - 0s 13us/step - loss: 0.0608 - acc: 0.9872 - val_loss: 0.0577 - val_acc: 0.9888\n",
            "Epoch 81/100\n",
            "3200/3200 [==============================] - 0s 13us/step - loss: 0.0604 - acc: 0.9872 - val_loss: 0.0573 - val_acc: 0.9900\n",
            "Epoch 82/100\n",
            "3200/3200 [==============================] - 0s 13us/step - loss: 0.0600 - acc: 0.9872 - val_loss: 0.0569 - val_acc: 0.9900\n",
            "Epoch 83/100\n",
            "3200/3200 [==============================] - 0s 13us/step - loss: 0.0596 - acc: 0.9872 - val_loss: 0.0566 - val_acc: 0.9900\n",
            "Epoch 84/100\n",
            "3200/3200 [==============================] - 0s 13us/step - loss: 0.0592 - acc: 0.9872 - val_loss: 0.0562 - val_acc: 0.9900\n",
            "Epoch 85/100\n",
            "3200/3200 [==============================] - 0s 13us/step - loss: 0.0588 - acc: 0.9872 - val_loss: 0.0559 - val_acc: 0.9900\n",
            "Epoch 86/100\n",
            "3200/3200 [==============================] - 0s 13us/step - loss: 0.0584 - acc: 0.9875 - val_loss: 0.0555 - val_acc: 0.9900\n",
            "Epoch 87/100\n",
            "3200/3200 [==============================] - 0s 14us/step - loss: 0.0580 - acc: 0.9875 - val_loss: 0.0552 - val_acc: 0.9900\n",
            "Epoch 88/100\n",
            "3200/3200 [==============================] - 0s 13us/step - loss: 0.0577 - acc: 0.9878 - val_loss: 0.0549 - val_acc: 0.9900\n",
            "Epoch 89/100\n",
            "3200/3200 [==============================] - 0s 13us/step - loss: 0.0573 - acc: 0.9878 - val_loss: 0.0545 - val_acc: 0.9900\n",
            "Epoch 90/100\n",
            "3200/3200 [==============================] - 0s 13us/step - loss: 0.0570 - acc: 0.9878 - val_loss: 0.0542 - val_acc: 0.9900\n",
            "Epoch 91/100\n",
            "3200/3200 [==============================] - 0s 13us/step - loss: 0.0566 - acc: 0.9881 - val_loss: 0.0539 - val_acc: 0.9900\n",
            "Epoch 92/100\n",
            "3200/3200 [==============================] - 0s 13us/step - loss: 0.0563 - acc: 0.9878 - val_loss: 0.0536 - val_acc: 0.9900\n",
            "Epoch 93/100\n",
            "3200/3200 [==============================] - 0s 13us/step - loss: 0.0559 - acc: 0.9881 - val_loss: 0.0533 - val_acc: 0.9900\n",
            "Epoch 94/100\n",
            "3200/3200 [==============================] - 0s 12us/step - loss: 0.0556 - acc: 0.9881 - val_loss: 0.0530 - val_acc: 0.9900\n",
            "Epoch 95/100\n",
            "3200/3200 [==============================] - 0s 13us/step - loss: 0.0553 - acc: 0.9881 - val_loss: 0.0527 - val_acc: 0.9900\n",
            "Epoch 96/100\n",
            "3200/3200 [==============================] - 0s 13us/step - loss: 0.0550 - acc: 0.9884 - val_loss: 0.0524 - val_acc: 0.9900\n",
            "Epoch 97/100\n",
            "3200/3200 [==============================] - 0s 13us/step - loss: 0.0547 - acc: 0.9884 - val_loss: 0.0522 - val_acc: 0.9900\n",
            "Epoch 98/100\n",
            "3200/3200 [==============================] - 0s 12us/step - loss: 0.0544 - acc: 0.9884 - val_loss: 0.0519 - val_acc: 0.9900\n",
            "Epoch 99/100\n",
            "3200/3200 [==============================] - 0s 12us/step - loss: 0.0541 - acc: 0.9884 - val_loss: 0.0516 - val_acc: 0.9900\n",
            "Epoch 100/100\n",
            "3200/3200 [==============================] - 0s 14us/step - loss: 0.0538 - acc: 0.9884 - val_loss: 0.0514 - val_acc: 0.9900\n",
            "Test score: 0.05136142261326313\n",
            "Test accuracy: 0.99\n"
          ],
          "name": "stdout"
        }
      ]
    },
    {
      "metadata": {
        "id": "Bc1uVQCQ1U_Y",
        "colab_type": "text",
        "slideshow": {
          "slide_type": "slide"
        }
      },
      "cell_type": "markdown",
      "source": [
        "# Why should this model work? Why is this equation `Wx+b` is chosen? What's the meaning of this Operation?"
      ]
    },
    {
      "metadata": {
        "id": "KRZuE0aufteI",
        "colab_type": "text",
        "slideshow": {
          "slide_type": "slide"
        }
      },
      "cell_type": "markdown",
      "source": [
        "# Linear Algebra"
      ]
    },
    {
      "metadata": {
        "id": "rKvJTRJ5-Lbw",
        "colab_type": "text",
        "slideshow": {
          "slide_type": "slide"
        }
      },
      "cell_type": "markdown",
      "source": [
        "### Linear Algebra Intuitions\n",
        "\n",
        "Lets assume a matrix $\\boldsymbol{A}$ of size $N*N$, a column vector $\\boldsymbol{x}$ of size $N*1$.\n",
        "\n",
        "\n",
        "\\begin{equation}\n",
        "y = Ax\n",
        "\\tag{1}\n",
        "\\end{equation}\n",
        "\n",
        "\n",
        "Let's assume $A$ is a $3*3$ Matrix with its entries as follows,\n",
        "\n",
        "\\begin{equation}\n",
        "A = \n",
        "\\begin{bmatrix} \n",
        "a_1 & a_2 & a_3 \\\\ \n",
        "b_1 & b_2 & b_3 \\\\ \n",
        "c_1 & c_2 & c_3  \n",
        "\\end{bmatrix}\n",
        "\\tag{2}\n",
        "\\end{equation}\n",
        "\n",
        "and $x$ to be a column vector ($3*1$)\n",
        "\\begin{equation}\n",
        "x = \n",
        "\\begin{bmatrix} \n",
        "x_1  \\\\ \n",
        "x_2  \\\\ \n",
        "x_3   \n",
        "\\end{bmatrix}\n",
        "\\tag{3}\n",
        "\\end{equation}"
      ]
    },
    {
      "metadata": {
        "id": "gG8ODD2w-ziC",
        "colab_type": "text",
        "slideshow": {
          "slide_type": "slide"
        }
      },
      "cell_type": "markdown",
      "source": [
        "Now lets multiply them and see the resulting output vector,\n",
        "\n",
        "\\begin{equation}\n",
        "y = Ax = \n",
        "\\begin{bmatrix} \n",
        "a_1 & a_2 & a_3 \\\\ \n",
        "b_1 & b_2 & b_3 \\\\ \n",
        "c_1 & c_2 & c_3  \n",
        "\\end{bmatrix}\n",
        "\\begin{bmatrix}\n",
        "x_1 \\\\\n",
        "x_2 \\\\\n",
        "x_3\n",
        "\\end{bmatrix} =\n",
        "\\begin{bmatrix}\n",
        "a_1x_1 + a_2x_2 + a_3x_3 \\\\\n",
        "b_1x_1 + b_2x_2 + b_3x_3 \\\\\n",
        "c_1x_1 + c_2x_2 + c_3x_3\n",
        "\\end{bmatrix} = \n",
        "\\begin{bmatrix}\n",
        "  x_1\n",
        "  \\begin{pmatrix}\n",
        "  a_1 \\\\\n",
        "  b_1 \\\\\n",
        "  c_1\n",
        "  \\end{pmatrix} +\n",
        "  x_2\n",
        "  \\begin{pmatrix}\n",
        "  a_2 \\\\\n",
        "  b_2 \\\\\n",
        "  c_2\n",
        "  \\end{pmatrix} + \n",
        "  x_3\n",
        "  \\begin{pmatrix}\n",
        "  a_3 \\\\\n",
        "  b_3 \\\\\n",
        "  c_3\n",
        "  \\end{pmatrix}\n",
        "\\end{bmatrix}\n",
        "\\tag{4}\n",
        "\\end{equation} \n",
        "\n",
        "So multiplying a matrix with a column vector returns a vector which is a linear combination of its column vectors (as shown above).\n",
        "\n",
        "* $C(A) = $ It denotes the column space of the matrix $A$. \n",
        "* Column space is the span of all the column vectors of Matrix $A$. "
      ]
    },
    {
      "metadata": {
        "id": "cM4itoSU-6AK",
        "colab_type": "text",
        "slideshow": {
          "slide_type": "slide"
        }
      },
      "cell_type": "markdown",
      "source": [
        "For example,\n",
        "\n",
        "Lets take,\n",
        "\n",
        "\\begin{equation}\n",
        "\\boldsymbol{A} = \n",
        "\\begin{bmatrix}\n",
        "1 & 2 & 3 \\\\\n",
        "2 & 3 & 2 \\\\\n",
        "3 & 1 & 1\n",
        "\\end{bmatrix}\n",
        "\\end{equation}\n",
        "\n",
        "\\begin{equation}\n",
        "y = Ax = \n",
        "\\begin{bmatrix} \n",
        "1 & 2 & 3 \\\\ \n",
        "2 & 3 & 2 \\\\ \n",
        "3 & 1 & 1  \n",
        "\\end{bmatrix}\n",
        "\\begin{bmatrix}\n",
        "x_1 \\\\\n",
        "x_2 \\\\\n",
        "x_3\n",
        "\\end{bmatrix} =\n",
        "\\begin{bmatrix}\n",
        "1x_1 + 2x_2 + 3x_3 \\\\\n",
        "2x_1 + 3x_2 + 2x_3 \\\\\n",
        "3x_1 + 1x_2 + x_3\n",
        "\\end{bmatrix} =\n",
        "\\begin{bmatrix}\n",
        "  x_1\n",
        "  \\begin{pmatrix}\n",
        "  1 \\\\\n",
        "  2 \\\\\n",
        "  3\n",
        "  \\end{pmatrix} +\n",
        "  x_2\n",
        "  \\begin{pmatrix}\n",
        "  2 \\\\\n",
        "  3 \\\\\n",
        "  1\n",
        "  \\end{pmatrix} + \n",
        "  x_3\n",
        "  \\begin{pmatrix}\n",
        "  3 \\\\\n",
        "  2 \\\\\n",
        "  1\n",
        "  \\end{pmatrix}\n",
        "\\end{bmatrix}\n",
        "\\tag{5}\n",
        "\\end{equation}"
      ]
    },
    {
      "metadata": {
        "id": "iRd-9AMO_Cpl",
        "colab_type": "text",
        "slideshow": {
          "slide_type": "slide"
        }
      },
      "cell_type": "markdown",
      "source": [
        "\n",
        "\\begin{equation}\n",
        "\\boldsymbol{A} = \n",
        "\\begin{bmatrix}\n",
        "1 & 2 & 1 \\\\\n",
        "1 & 2 & 2 \\\\\n",
        "1 & 2 & 3\n",
        "\\end{bmatrix}\n",
        "\\end{equation}\n",
        "\n",
        "\n",
        "\\begin{equation}\n",
        "y = Ax = \n",
        "\\begin{bmatrix} \n",
        "1 & 2 & 1 \\\\\n",
        "1 & 2 & 2 \\\\\n",
        "1 & 2 & 3\n",
        "\\end{bmatrix}\n",
        "\\begin{bmatrix}\n",
        "x_1 \\\\\n",
        "x_2 \\\\\n",
        "x_3\n",
        "\\end{bmatrix} =\n",
        "\\begin{bmatrix}\n",
        "1x_1 + 2x_2 + 1x_3 \\\\\n",
        "1x_1 + 2x_2 + 2x_3 \\\\\n",
        "1x_1 + 2x_2 + 3x_3\n",
        "\\end{bmatrix} =\n",
        "\\begin{bmatrix}\n",
        "  (x_1 + 2x_2)\n",
        "  \\begin{pmatrix}\n",
        "  1 \\\\\n",
        "  1 \\\\\n",
        "  1\n",
        "  \\end{pmatrix} +\n",
        "  x_3\n",
        "  \\begin{pmatrix}\n",
        "  1 \\\\\n",
        "  2 \\\\\n",
        "  3\n",
        "  \\end{pmatrix}\n",
        "\\end{bmatrix}\n",
        "\\tag{6}\n",
        "\\end{equation}\n",
        "\n",
        "### What does this mean?\n",
        "\n",
        "This matrix multiplication $\\boldsymbol{Ax}$ cannot represent the entire 3-D space as the previous matrix $(5)$, rather what can it represent ??\n",
        "\n",
        "Since its a linear combination of two 3-D vectors, it actually represents a plane in 3-D space passing through origin if the complete equation is $\\boldsymbol{Ax} = 0$\n",
        "\n",
        "Note the normal to the plane these guys represent in this case is,\n",
        "\n",
        "\\begin{equation}\n",
        "N = \n",
        "\\begin{pmatrix}\n",
        "1 \\\\\n",
        "1 \\\\\n",
        "1\n",
        "\\end{pmatrix}\n",
        "\\times\n",
        "\\begin{pmatrix}\n",
        "1 \\\\\n",
        "2 \\\\\n",
        "3\n",
        "\\end{pmatrix}\n",
        "\\end{equation}"
      ]
    },
    {
      "metadata": {
        "id": "B2Al5aS6_aZ5",
        "colab_type": "text",
        "slideshow": {
          "slide_type": "slide"
        }
      },
      "cell_type": "markdown",
      "source": [
        "## Why did we do all that?\n",
        "\n",
        "You guys know that equations can be represented in $Matrix\\ form$.\n",
        "\n",
        "Lets take an example of 3 simultaneous equations,\n",
        "\n",
        "\\begin{equation} 3x + 5y + z = 1\\\\ 7x – 2y + 4z = 5\\\\ -6x + 3y + 2z = 10 \\end{equation}\n",
        "\n",
        "Whats its matrix representation ?\n",
        "\n",
        "\\begin{equation}\n",
        "\\begin{bmatrix}\n",
        "3 & 5 & 1 \\\\\n",
        "7 & -2 & 4 \\\\\n",
        "-6 & 3 & 2\n",
        "\\end{bmatrix}\n",
        "\\begin{bmatrix}\n",
        "x \\\\\n",
        "y \\\\\n",
        "z\n",
        "\\end{bmatrix} = \n",
        "\\begin{bmatrix}\n",
        "1 \\\\\n",
        "5 \\\\\n",
        "10\n",
        "\\end{bmatrix} = \n",
        "\\begin{bmatrix}\n",
        "  x\n",
        "  \\begin{pmatrix}\n",
        "  3 \\\\\n",
        "  7 \\\\\n",
        "  -6\n",
        "  \\end{pmatrix} +\n",
        "  y\n",
        "  \\begin{pmatrix}\n",
        "  5 \\\\\n",
        "  -2 \\\\\n",
        "  3\n",
        "  \\end{pmatrix} + \n",
        "  z\n",
        "  \\begin{pmatrix}\n",
        "  1 \\\\\n",
        "  4 \\\\\n",
        "  2\n",
        "  \\end{pmatrix}\n",
        "\\end{bmatrix}\n",
        "\\tag{7}\n",
        "\\end{equation}"
      ]
    },
    {
      "metadata": {
        "id": "FmP7SHS6tMNV",
        "colab_type": "text",
        "slideshow": {
          "slide_type": "slide"
        }
      },
      "cell_type": "markdown",
      "source": [
        "## Linear Transformations"
      ]
    },
    {
      "metadata": {
        "id": "KuHhdHIUywwI",
        "colab_type": "code",
        "slideshow": {
          "slide_type": "slide"
        },
        "colab": {
          "autoexec": {
            "startup": false,
            "wait_interval": 0
          }
        }
      },
      "cell_type": "code",
      "source": [
        "def transform(A, x, y, bias = ([0,0])):\n",
        "  '''\n",
        "  Parameters\n",
        "  ----------\n",
        "  A : Matrix that transforms the space\n",
        "  x: x_coordinates\n",
        "  y: y_coordinates\n",
        "  bias: Bias vector to be added\n",
        "  \n",
        "  Returns\n",
        "  -------\n",
        "  transformed: The transformed space, ([x_trans, y_trans])\n",
        "  max_value: The maximum value of the distorted + input space\n",
        "  '''\n",
        "  input_matrix = np.vstack((x, y))\n",
        "  transformed = (A.dot(input_matrix).T + bias).T\n",
        "  max_value = np.hstack((input_matrix, transformed)).max()\n",
        "  return transformed, max_value"
      ],
      "execution_count": 0,
      "outputs": []
    },
    {
      "metadata": {
        "id": "Jh4tpR7s1XPe",
        "colab_type": "text",
        "slideshow": {
          "slide_type": "slide"
        }
      },
      "cell_type": "markdown",
      "source": [
        "We will show the transformations that matrix multiplication does using an ellipse or a circle. Remember the parametric coordinates of an ellipse and circle?\n",
        "\n",
        "**Parametric Equations of an Ellipse**\n",
        "\n",
        "\\begin{equation}\n",
        "x = acos(\\theta)\\\\\n",
        "y = bsin(\\theta)\\\\\n",
        "\\theta\\  \\epsilon\\ [0,2\\pi]\n",
        "\\end{equation}\n",
        "\n",
        "\\\\\n",
        "\n",
        "We will use this to plot an ellipse and apply transformations to these coordinates and see the transforms and try to gain intuitions."
      ]
    },
    {
      "metadata": {
        "id": "3hkasRKY45z2",
        "colab_type": "code",
        "slideshow": {
          "slide_type": "slide"
        },
        "colab": {
          "autoexec": {
            "startup": false,
            "wait_interval": 0
          },
          "base_uri": "https://localhost:8080/",
          "height": 265
        },
        "outputId": "4174ce88-2ce3-4d5e-f590-232a0b25b468",
        "executionInfo": {
          "elapsed": 2446,
          "status": "ok",
          "timestamp": 1531553919335,
          "user": {
            "displayName": "Atul Balaji",
            "photoUrl": "https://lh3.googleusercontent.com/a/default-user=s128",
            "userId": "114090638288848832178"
          },
          "user_tz": -330
        }
      },
      "cell_type": "code",
      "source": [
        "t = np.linspace(0, 2*np.pi, 100)\n",
        "\n",
        "x_c = 2*np.cos(t)\n",
        "y_c = np.sin(t)\n",
        "x_matrix = np.vstack((x_c, y_c))\n",
        "max_value = x_matrix.max()\n",
        "\n",
        "plt.plot(x_c, y_c, 'o', label = 'sample points')\n",
        "plt.legend(loc = 'best')\n",
        "plt.xlim(-1.1*max_value, 1.1*max_value)\n",
        "plt.ylim(-1.1*max_value, 1.1*max_value)\n",
        "plt.show()"
      ],
      "execution_count": 0,
      "outputs": [
        {
          "output_type": "display_data",
          "data": {
            "image/png": "[encoded data removed]",
            "text/plain": [
              "<matplotlib.figure.Figure at 0x7f38b8c22518>"
            ]
          },
          "metadata": {
            "tags": []
          }
        }
      ]
    },
    {
      "metadata": {
        "id": "q1t5lNMg5EI6",
        "colab_type": "text",
        "slideshow": {
          "slide_type": "slide"
        }
      },
      "cell_type": "markdown",
      "source": [
        "Lets define a $2-D\\ Matrix\\ A$ \n",
        "\n",
        "\\begin{equation}\n",
        "A = \n",
        "\\begin{bmatrix}\n",
        "cos\\theta & -sin\\theta \\\\\n",
        "sin\\theta & cos\\theta\n",
        "\\end{bmatrix}\n",
        "\\end{equation}\n",
        "\n",
        "Remember what this matrix does?\n",
        "\n",
        "Its a Rotating Matrix, which rotates the space without scaling it. We will see the meanings of these terms shortly. \n",
        "\n",
        "\\begin{equation}\n",
        "Ax = \n",
        "\\begin{bmatrix}\n",
        "cos\\theta & -sin\\theta \\\\\n",
        "sin\\theta & cos\\theta\n",
        "\\end{bmatrix}\n",
        "\\begin{bmatrix}\n",
        "x \\\\\n",
        "y\n",
        "\\end{bmatrix} = \n",
        "\\begin{bmatrix}\n",
        "xcos\\theta - ysin\\theta \\\\\n",
        "xsin\\theta + ycos\\theta\n",
        "\\end{bmatrix} = \n",
        "\\begin{bmatrix}\n",
        "x^{'} \\\\\n",
        "y^{'}\n",
        "\\end{bmatrix}\n",
        "\\end{equation}\n",
        "\n",
        "Whats the **determinant** of this Rotation Matrix?\n",
        "\\begin{equation}\n",
        "|A| = \n",
        "\\begin{vmatrix}\n",
        "cos\\theta & -sin\\theta \\\\\n",
        "sin\\theta & cos\\theta\n",
        "\\end{vmatrix} =\n",
        "cos^{2}\\theta + sin^{2}\\theta = 1 \n",
        "\\end{equation}\n",
        "\n",
        "*Determinants* are related to the volume change during matrix transformation.\n",
        "  * $|A| = 1$ => Volume of any closed surface in the space is conserved. The distortion caused by matrix in the space is preserving volume. No closed surface expands or contracts in this transform. \n",
        "\n",
        "  * $|A| > 1$ => Volume of any closed surface in space increases. \n",
        "  \n",
        "  * $|A| = 0$ => Closed surface volume reduces to 0.\n",
        "![rotaion_description](http://jcsites.juniata.edu/faculty/rhodes/graphics/images/rotate1.gif)\n",
        "\n",
        "This image describes the why this matrix is called **Rotation matrix** in 2D.\n",
        "\n",
        "If the input column vector $x$ is taken to represent coordinates of a point in 2D space, then after \n",
        "doing the transformation ((i.e) multiplying with matrix $A$),\n",
        "\n",
        "We get the rotated point represented as $[x^{'}, y^{'}]$ in this image. \n",
        "\n",
        "Now we have analysed this matrix transformation for one point. What will happen to a set of points in 2-D space?\n"
      ]
    },
    {
      "metadata": {
        "id": "05icfs4Y5Nnp",
        "colab_type": "code",
        "slideshow": {
          "slide_type": "slide"
        },
        "colab": {
          "autoexec": {
            "startup": false,
            "wait_interval": 0
          },
          "base_uri": "https://localhost:8080/",
          "height": 265
        },
        "outputId": "915231a7-7102-4016-fc4e-c58a63d4416c",
        "executionInfo": {
          "elapsed": 664,
          "status": "ok",
          "timestamp": 1531553985315,
          "user": {
            "displayName": "Atul Balaji",
            "photoUrl": "https://lh3.googleusercontent.com/a/default-user=s128",
            "userId": "114090638288848832178"
          },
          "user_tz": -330
        }
      },
      "cell_type": "code",
      "source": [
        "theta = np.pi/4\n",
        "A = np.array([[np.cos(theta), -np.sin(theta)],\n",
        "              [np.sin(theta), np.cos(theta)]])\n",
        "\n",
        "y_matrix, max_value = transform(A, x_c, y_c)\n",
        "\n",
        "plt.plot(y_matrix[0], y_matrix[1], 'o', label = 'transformed points (Ax)')\n",
        "plt.plot(x_c, y_c,'o', label = 'initial points (x)')\n",
        "plt.legend(loc = 'best')\n",
        "plt.xlim(-1.1*max_value, 1.1*max_value)\n",
        "plt.ylim(-1.1*max_value, 1.1*max_value)\n",
        "plt.axvline(linewidth=0.5, color = 'k')\n",
        "plt.axhline(linewidth=0.5, color = 'k')\n",
        "plt.show()"
      ],
      "execution_count": 0,
      "outputs": [
        {
          "output_type": "display_data",
          "data": {
            "image/png": "[encoded data removed]",
            "text/plain": [
              "<matplotlib.figure.Figure at 0x7f38b8bdffd0>"
            ]
          },
          "metadata": {
            "tags": []
          }
        }
      ]
    },
    {
      "metadata": {
        "id": "fjjTo38F5Vet",
        "colab_type": "text",
        "slideshow": {
          "slide_type": "slide"
        }
      },
      "cell_type": "markdown",
      "source": [
        "Observations:\n",
        "\n",
        "* Entire Ellipse (Represented in blue) is rotated with respect to the initial ellipse (green one) by the angle $\\theta$ we specified in the code ($\\frac{\\pi}{4}$).\n",
        "\n",
        "Inferences:\n",
        "\n",
        "* Matrix rotate the space. (If Rotation is only desired, keep the determinant 1)"
      ]
    },
    {
      "metadata": {
        "id": "SyLFw-3p5dXm",
        "colab_type": "code",
        "slideshow": {
          "slide_type": "slide"
        },
        "colab": {
          "autoexec": {
            "startup": false,
            "wait_interval": 0
          }
        }
      },
      "cell_type": "code",
      "source": [
        "t = np.linspace(0, 2*np.pi, 100)\n",
        "\n",
        "x_c = np.cos(t)\n",
        "y_c = np.sin(t)\n",
        "x_matrix = np.vstack((x_c, y_c))\n",
        "max_value = x_matrix.max()"
      ],
      "execution_count": 0,
      "outputs": []
    },
    {
      "metadata": {
        "id": "m-uJRQkt6KaR",
        "colab_type": "code",
        "slideshow": {
          "slide_type": "slide"
        },
        "colab": {
          "autoexec": {
            "startup": false,
            "wait_interval": 0
          },
          "base_uri": "https://localhost:8080/",
          "height": 265
        },
        "outputId": "d6536321-3c16-436a-8d3a-43ca10e4c374",
        "executionInfo": {
          "elapsed": 744,
          "status": "ok",
          "timestamp": 1531554096205,
          "user": {
            "displayName": "Atul Balaji",
            "photoUrl": "https://lh3.googleusercontent.com/a/default-user=s128",
            "userId": "114090638288848832178"
          },
          "user_tz": -330
        }
      },
      "cell_type": "code",
      "source": [
        "plt.plot(x_c, y_c, 'o', label = 'sample points')\n",
        "plt.legend(loc = 'best')\n",
        "plt.xlim(-1.1*max_value, 1.1*max_value)\n",
        "plt.ylim(-1.1*max_value, 1.1*max_value)\n",
        "plt.axvline(linewidth=0.5, color = 'k')\n",
        "plt.axhline(linewidth=0.5, color = 'k')\n",
        "plt.show()"
      ],
      "execution_count": 0,
      "outputs": [
        {
          "output_type": "display_data",
          "data": {
            "image/png": "[encoded data removed]",
            "text/plain": [
              "<matplotlib.figure.Figure at 0x7f38be50f7b8>"
            ]
          },
          "metadata": {
            "tags": []
          }
        }
      ]
    },
    {
      "metadata": {
        "id": "6boU4EYj6NdX",
        "colab_type": "text",
        "slideshow": {
          "slide_type": "slide"
        }
      },
      "cell_type": "markdown",
      "source": [
        "Now, lets take this matrix and study its transform abilities.\n",
        "\n",
        "\\begin{equation}\n",
        "A = \n",
        "\\begin{bmatrix}\n",
        "2 & 0 \\\\\n",
        "0 & 1\n",
        "\\end{bmatrix}\n",
        "\\end{equation}\n",
        "\n",
        "Whats the determinant of this matrix?\n",
        "\n",
        "\\\\\n",
        "\n",
        "\\begin{equation}\n",
        "|A| = \n",
        "\\begin{vmatrix}\n",
        "2 & 0 \\\\\n",
        "0 & 1\n",
        "\\end{vmatrix} = \n",
        "2\n",
        "\\end{equation}\n",
        "\n",
        "\\\\\n",
        "\\begin{equation}\n",
        "Ax = \n",
        "\\begin{bmatrix}\n",
        "2 & 0 \\\\\n",
        "0 & 1\n",
        "\\end{bmatrix}\n",
        "\\begin{bmatrix}\n",
        "x \\\\\n",
        "y\n",
        "\\end{bmatrix} = \n",
        "\\begin{bmatrix}\n",
        "2x \\\\\n",
        "y\n",
        "\\end{bmatrix}\n",
        "\\end{equation}\n",
        "\n",
        "\n",
        "What does this mean?\n",
        "\n",
        "\\begin{equation}\n",
        "\\begin{bmatrix}\n",
        "x \\\\\n",
        "y\n",
        "\\end{bmatrix} \\longrightarrow\n",
        "\\begin{bmatrix}\n",
        "2x \\\\\n",
        "y\n",
        "\\end{bmatrix}\n",
        "\\end{equation}\n",
        "\n",
        "This streches the space along x direction, preserving y direction."
      ]
    },
    {
      "metadata": {
        "id": "qQk932og7CDi",
        "colab_type": "text",
        "slideshow": {
          "slide_type": "slide"
        }
      },
      "cell_type": "markdown",
      "source": [
        "## Eigen Decomposition\n",
        "\n",
        "An ** *Eigenvector* ** of a square matrix $\\boldsymbol{A}$ is  a non-zero vector $\\boldsymbol{v}$ such that transformation by $\\boldsymbol{A}$ (multiplication by $\\boldsymbol{A}$) only scales the vector $\\boldsymbol{v}$ by a factor $\\boldsymbol{\\lambda}$ which is its ** *EigenValue* **.\n",
        "\n",
        "\\begin{equation}\n",
        "\\boldsymbol{A}v = \\lambda v\n",
        "\\end{equation}\n",
        "\n",
        "So, if we find **eigenvectors** of matrix $A$, we can say that those directions are the directions that will be only **scaled** by the transformation by this matrix (Scaled by its eigenvalue). All the other directions other than eigenvector directions, will be **both** scaled and rotated, to maintain **continuity of the transformation**.\n",
        "\n",
        "If $\\boldsymbol{v}$ is an eigenvector of $\\boldsymbol{A}$, and has an eigenvalue $\\lambda$, whats the eigenvalue of $c\\boldsymbol{v}$, c is a constant?\n",
        "\n",
        "Its also $\\lambda$ right? So we use unit normalized eigenvectors.\n",
        "\n",
        "Suppose matrix $\\boldsymbol{A}$ has $n$ independent eigenvectors, { $v^{(1)}, v^{(2)}, v^{(3)}, ....., v^{(n)}$ } with its corresponding eigenvalues, { $\\lambda_{1}, \\lambda_{2}, ......, \\lambda_{n}$ }.\n",
        "\n",
        "Then, we can concatenate all the eigenvectors into a single matrix called $\\boldsymbol{V}$, which can be represented as\n",
        "\n",
        "\\begin{equation}\n",
        "\\boldsymbol{V} = \n",
        "\\begin{bmatrix}\n",
        " \\vdots & \\vdots & \\vdots & \\vdots \\\\\n",
        " v^{(1)} & v^{(2)} & \\cdots & v^{(n)}\\\\\n",
        " \\vdots & \\vdots & \\vdots & \\vdots\n",
        "\\end{bmatrix}_{n\\times n}\n",
        "\\end{equation}\n",
        "\n",
        "We can define a diagonal matrix, where each diagonal entry is $\\lambda_{i}$ corresponsing to $v^{(i)}$.\n",
        "\n",
        "\\begin{equation}\n",
        "diag(\\lambda) = \n",
        "\\begin{pmatrix}\n",
        "    \\lambda_{1}\\\\\n",
        "    &\\lambda_{2}\\\\\n",
        "    && \\lambda_{3}\\\\\n",
        "    &&& \\cdots\\\\\n",
        "    &&&& \\lambda_{n}\n",
        "\\end{pmatrix}_{n\\times n}\n",
        "\\end{equation}\n",
        "\n",
        "\n",
        "Then matrix $\\boldsymbol{A}$ can be reconstructed from these matrices $\\boldsymbol{V}$ and $\\boldsymbol{diag(\\lambda)}$ using $\\boldsymbol{Eigendecomposition}$ of $\\boldsymbol{A}$, which is given by,\n",
        "\n",
        "\\begin{equation}\n",
        "\\boldsymbol{A} = \\boldsymbol{V}diag\\boldsymbol{(\\lambda)}\\boldsymbol{V}^{-1}\n",
        "\\end{equation}\n",
        "\n",
        "Whats the use of this?\n",
        "\n",
        "* We can *construct* matrix with specific **eigenvectors** and **eigenvalues** that allows us to stretch the space in desired directions.\n",
        "* We can design specific matrices that can distort the space in such a way that data becomes easily separable so that our classifier can separate the data easily. ** Now you get the point of why we did  all this ! **\n",
        "\n",
        "We want to create matrix that can distort the space in such a way that we want our data to get sepatated.\n",
        "\n",
        "* ** Neural Nets distort the input data in high dimentional space using these matrix multiplications, (Apply activations in middle), until the data becomes linearly separable.**\n",
        "* ** These distortions can be analysed by eigen decomposition and singular value decomposition of weight matrices of the layers of Deep neural nets.** "
      ]
    },
    {
      "metadata": {
        "id": "lsU8-7o37Rzl",
        "colab_type": "code",
        "slideshow": {
          "slide_type": "slide"
        },
        "colab": {
          "autoexec": {
            "startup": false,
            "wait_interval": 0
          },
          "base_uri": "https://localhost:8080/",
          "height": 265
        },
        "outputId": "b40cb717-4b7b-44e6-8bb5-026c0247f0d0",
        "executionInfo": {
          "elapsed": 811,
          "status": "ok",
          "timestamp": 1531554215050,
          "user": {
            "displayName": "Atul Balaji",
            "photoUrl": "https://lh3.googleusercontent.com/a/default-user=s128",
            "userId": "114090638288848832178"
          },
          "user_tz": -330
        }
      },
      "cell_type": "code",
      "source": [
        "A = np.array([[2,0],[0,1]])\n",
        "y_matrix, max_value = transform(A, x_c, y_c)\n",
        "plt.plot(y_matrix[0], y_matrix[1], 'o', label = 'transformed points (Ax)')\n",
        "plt.plot(x_c, y_c,'o', label = 'initial points (x)')\n",
        "plt.legend(loc = 'best')\n",
        "plt.xlim(-1.1*max_value, 1.1*max_value)\n",
        "plt.ylim(-1.1*max_value, 1.1*max_value)\n",
        "plt.axvline(linewidth=0.5, color = 'k')\n",
        "plt.axhline(linewidth=0.5, color = 'k')\n",
        "plt.show()"
      ],
      "execution_count": 0,
      "outputs": [
        {
          "output_type": "display_data",
          "data": {
            "image/png": "[encoded data removed]",
            "text/plain": [
              "<matplotlib.figure.Figure at 0x7f38b8b88c88>"
            ]
          },
          "metadata": {
            "tags": []
          }
        }
      ]
    },
    {
      "metadata": {
        "id": "izYLEl7s7qPD",
        "colab_type": "code",
        "slideshow": {
          "slide_type": "slide"
        },
        "colab": {
          "autoexec": {
            "startup": false,
            "wait_interval": 0
          }
        }
      },
      "cell_type": "code",
      "source": [
        "def eigen_decomposition(A, x, y, scale_by_eigen = False, bias = np.array([0,0])):\n",
        "  y_matrix, max_value = transform(A, x, y, bias)\n",
        "  W, V = np.linalg.eig(A)\n",
        "  SCALE = 10\n",
        "  # print (V.shape, W.shape)\n",
        "  if scale_by_eigen:\n",
        "    V[:,range(len(W))]*= W   # Multiplying the EigenVector with Eigenvalue\n",
        "  no_of_points =  len(V[:,0])\n",
        "  plt.quiver(np.zeros(no_of_points),np.zeros(no_of_points)  , V[0], V[1],color = ['r', 'b'], scale = SCALE, label = 'Eigen Vectors')\n",
        "  plt.plot(y_matrix[0], y_matrix[1], 'o', label = 'transformed points (Ax)')\n",
        "  plt.plot(x, y,'o', label = 'initialnp.array(bias) points (x)')\n",
        "  plt.xlim(-1.1*max_value, 1.1*max_value)\n",
        "  plt.ylim(-1.1*max_value, 1.1*max_value)\n",
        "  plt.axvline(linewidth=0.5, color = 'k')\n",
        "  plt.axhline(linewidth=0.5, color = 'k')\n",
        "  plt.quiver([0], [0], bias[0], bias[1], scale = 21, label = 'Bias Vector')\n",
        "  plt.legend(loc = 'best')\n",
        "  return W, V, y_matrix"
      ],
      "execution_count": 0,
      "outputs": []
    },
    {
      "metadata": {
        "id": "vicAWZHX762v",
        "colab_type": "code",
        "slideshow": {
          "slide_type": "slide"
        },
        "colab": {
          "autoexec": {
            "startup": false,
            "wait_interval": 0
          },
          "base_uri": "https://localhost:8080/",
          "height": 265
        },
        "outputId": "374e5801-b342-4f39-dbef-05f1e8d79959",
        "executionInfo": {
          "elapsed": 1768,
          "status": "ok",
          "timestamp": 1531305777570,
          "user": {
            "displayName": "Atul Balaji",
            "photoUrl": "https://lh3.googleusercontent.com/a/default-user=s128",
            "userId": "114090638288848832178"
          },
          "user_tz": -330
        }
      },
      "cell_type": "code",
      "source": [
        "w_1, v_1, y_matrix_1 = eigen_decomposition(A, x_c, y_c)"
      ],
      "execution_count": 0,
      "outputs": [
        {
          "output_type": "display_data",
          "data": {
            "image/png": "[encoded data removed]",
            "text/plain": [
              "<matplotlib.figure.Figure at 0x7f7b3db60710>"
            ]
          },
          "metadata": {
            "tags": []
          }
        }
      ]
    },
    {
      "metadata": {
        "id": "AWrFaoBJ79Ju",
        "colab_type": "code",
        "slideshow": {
          "slide_type": "slide"
        },
        "colab": {
          "autoexec": {
            "startup": false,
            "wait_interval": 0
          },
          "base_uri": "https://localhost:8080/",
          "height": 265
        },
        "outputId": "4ce6c0ec-822f-4cd3-9868-33363f227146",
        "executionInfo": {
          "elapsed": 1156,
          "status": "ok",
          "timestamp": 1531305865927,
          "user": {
            "displayName": "Atul Balaji",
            "photoUrl": "https://lh3.googleusercontent.com/a/default-user=s128",
            "userId": "114090638288848832178"
          },
          "user_tz": -330
        }
      },
      "cell_type": "code",
      "source": [
        "A = np.array([[6,2],[3,2]])\n",
        "w_2, v_2, y_matrix_2 = eigen_decomposition(A, x_c, y_c)"
      ],
      "execution_count": 0,
      "outputs": [
        {
          "output_type": "display_data",
          "data": {
            "image/png": "[encoded data removed]",
            "text/plain": [
              "<matplotlib.figure.Figure at 0x7f7b3dd523c8>"
            ]
          },
          "metadata": {
            "tags": []
          }
        }
      ]
    },
    {
      "metadata": {
        "id": "7nE4_HTp8S3Y",
        "colab_type": "text",
        "slideshow": {
          "slide_type": "slide"
        }
      },
      "cell_type": "markdown",
      "source": [
        "**Obseravtions**:\n",
        "\n",
        "* The vectors near to eigenvectors do not rotate that much. They get scaled by the eigenvalue (if its an eigenvector, else a small rotation is present).\n",
        "* Vectors that are far away from either of the eigenvectors are severly rotated and scaled. (Maintain the continuity of the figure)\n",
        "* Volume has increased greater than the initial circle, which indicates that the determinant of the matrix is greater than 1."
      ]
    },
    {
      "metadata": {
        "id": "tRwhLglS8UV8",
        "colab_type": "code",
        "slideshow": {
          "slide_type": "slide"
        },
        "colab": {
          "autoexec": {
            "startup": false,
            "wait_interval": 0
          },
          "base_uri": "https://localhost:8080/",
          "height": 265
        },
        "outputId": "ae2c0c20-d694-4b48-89df-d10dce0e1894",
        "executionInfo": {
          "elapsed": 1941,
          "status": "ok",
          "timestamp": 1531305895098,
          "user": {
            "displayName": "Atul Balaji",
            "photoUrl": "https://lh3.googleusercontent.com/a/default-user=s128",
            "userId": "114090638288848832178"
          },
          "user_tz": -330
        }
      },
      "cell_type": "code",
      "source": [
        "bias = [0,4]\n",
        "w_2b, v_2b, y_matrix_2b = eigen_decomposition(A, x_c, y_c, bias = bias)"
      ],
      "execution_count": 0,
      "outputs": [
        {
          "output_type": "display_data",
          "data": {
            "image/png": "[encoded data removed]",
            "text/plain": [
              "<matplotlib.figure.Figure at 0x7f7b3df8b240>"
            ]
          },
          "metadata": {
            "tags": []
          }
        }
      ]
    },
    {
      "metadata": {
        "id": "CeMSropr8Zy5",
        "colab_type": "text",
        "slideshow": {
          "slide_type": "slide"
        }
      },
      "cell_type": "markdown",
      "source": [
        "Observations:\n",
        "\n",
        "* Other than other observations (listed in the previous plot), we can see the bias has just shifted the distorted figure along that direction (bias vector's direction).\n",
        "\n",
        "So we get the answer of why bias is needed?\n",
        "\n",
        "This is because, if bias is not added we are restricted with origin as center. Its similar to\n",
        "\n",
        "\\begin{equation}\n",
        "y = mx + b\n",
        "\\end{equation}\n",
        "\n",
        "where b acts as a bias. If $b = 0$, we will be restricted to use only lines which pass through origin. \n",
        "\n",
        "\\begin{equation}\n",
        "y = mx\n",
        "\\end{equation}\n",
        "\n",
        "So addition of bias gives **extra freedom** to move anywhere in the space ($translation$), multiplying with the weight matrix enables the model to $distort$, $scale$, $rotate$ the space (with center at $origin$) the space.\n",
        "\n",
        "So Neural Net basicaly $moves$ (bias), $distorts$ data points by $scaling$ and $rotating$ them (weights) in hyperdimentional space, **with an aim to find a transformation to make the data linearly separable at the end**. "
      ]
    },
    {
      "metadata": {
        "id": "iKJMJ-6p_bIO",
        "colab_type": "code",
        "slideshow": {
          "slide_type": "slide"
        },
        "colab": {
          "autoexec": {
            "startup": false,
            "wait_interval": 0
          }
        }
      },
      "cell_type": "code",
      "source": [
        "# What if determinant is 0?\n",
        "A = np.array([[3,2],\n",
        "              [3,2]])"
      ],
      "execution_count": 0,
      "outputs": []
    },
    {
      "metadata": {
        "id": "dJBiRqtx_fgP",
        "colab_type": "code",
        "slideshow": {
          "slide_type": "slide"
        },
        "colab": {
          "autoexec": {
            "startup": false,
            "wait_interval": 0
          },
          "base_uri": "https://localhost:8080/",
          "height": 265
        },
        "outputId": "2fac90e1-599e-40a7-b950-2d72c374fafe",
        "executionInfo": {
          "elapsed": 760,
          "status": "ok",
          "timestamp": 1531306711338,
          "user": {
            "displayName": "Atul Balaji",
            "photoUrl": "https://lh3.googleusercontent.com/a/default-user=s128",
            "userId": "114090638288848832178"
          },
          "user_tz": -330
        }
      },
      "cell_type": "code",
      "source": [
        "w_3, v_3, y_matrix_2 = eigen_decomposition(A, x_c, y_c)"
      ],
      "execution_count": 0,
      "outputs": [
        {
          "output_type": "display_data",
          "data": {
            "image/png": "[encoded data removed]",
            "text/plain": [
              "<matplotlib.figure.Figure at 0x7f7b3d9cada0>"
            ]
          },
          "metadata": {
            "tags": []
          }
        }
      ]
    },
    {
      "metadata": {
        "id": "MKG-z7xS_hXB",
        "colab_type": "text",
        "slideshow": {
          "slide_type": "slide"
        }
      },
      "cell_type": "markdown",
      "source": [
        "Observation:\n",
        "  * Determinant of the transformation matrix is 0. \n",
        "  * The space is completely contracted along one-dimension, causing it to lose all of its volume."
      ]
    },
    {
      "metadata": {
        "id": "rljKQkw4_q1B",
        "colab_type": "code",
        "slideshow": {
          "slide_type": "slide"
        },
        "colab": {
          "autoexec": {
            "startup": false,
            "wait_interval": 0
          }
        }
      },
      "cell_type": "code",
      "source": [
        "# What if determinant is < 0?\n",
        "A_plus = np.array([[6,2],\n",
        "                   [3,2]])\n",
        "\n",
        "A_minus = np.array([[-6,-2],\n",
        "                   [3,2]])\n",
        "\n",
        "x = np.linspace(-1,1,10)\n",
        "y = x**2"
      ],
      "execution_count": 0,
      "outputs": []
    },
    {
      "metadata": {
        "id": "qafhMLKr_tc7",
        "colab_type": "code",
        "slideshow": {
          "slide_type": "slide"
        },
        "colab": {
          "autoexec": {
            "startup": false,
            "wait_interval": 0
          },
          "base_uri": "https://localhost:8080/",
          "height": 513
        },
        "outputId": "b61a8c96-0faf-41d0-9df4-7bda2d83b4f8",
        "executionInfo": {
          "elapsed": 1120,
          "status": "ok",
          "timestamp": 1531306777339,
          "user": {
            "displayName": "Atul Balaji",
            "photoUrl": "https://lh3.googleusercontent.com/a/default-user=s128",
            "userId": "114090638288848832178"
          },
          "user_tz": -330
        }
      },
      "cell_type": "code",
      "source": [
        "w_3, v_3, y_matrix_3 = eigen_decomposition(A_plus, x, y)\n",
        "plt.show()\n",
        "w_4, v_4, y_matrix_4 = eigen_decomposition(A_minus, x, y)"
      ],
      "execution_count": 0,
      "outputs": [
        {
          "output_type": "display_data",
          "data": {
            "image/png": "[encoded data removed]",
            "text/plain": [
              "<matplotlib.figure.Figure at 0x7f7b3d64f358>"
            ]
          },
          "metadata": {
            "tags": []
          }
        },
        {
          "output_type": "display_data",
          "data": {
            "image/png": "[encoded data removed]",
            "text/plain": [
              "<matplotlib.figure.Figure at 0x7f7b3dbf0f98>"
            ]
          },
          "metadata": {
            "tags": []
          }
        }
      ]
    },
    {
      "metadata": {
        "id": "9stoE8cy_xYc",
        "colab_type": "text",
        "slideshow": {
          "slide_type": "slide"
        }
      },
      "cell_type": "markdown",
      "source": [
        "When Determinant is less than zero we get a reflection about y axis but the deformation is same (except the reflection)."
      ]
    },
    {
      "metadata": {
        "id": "-YMtdk79ftfy",
        "colab_type": "text",
        "slideshow": {
          "slide_type": "slide"
        }
      },
      "cell_type": "markdown",
      "source": [
        "Now that we have an Idea about `Linear Algebra` now analyse,\n",
        "\n",
        "# What has happened to our data as it `propogates forward` through this classifier"
      ]
    },
    {
      "metadata": {
        "id": "-siZUAEzGyQQ",
        "colab_type": "text",
        "slideshow": {
          "slide_type": "slide"
        }
      },
      "cell_type": "markdown",
      "source": [
        "Retrieve the weights and biases from the learned model."
      ]
    },
    {
      "metadata": {
        "id": "6q77i6hMrfy2",
        "colab_type": "code",
        "slideshow": {
          "slide_type": "slide"
        },
        "colab": {
          "autoexec": {
            "startup": false,
            "wait_interval": 0
          }
        }
      },
      "cell_type": "code",
      "source": [
        "w_dense = (model.layers[0].get_weights()[0])\n",
        "b_dense =  (model.layers[0].get_weights()[1])"
      ],
      "execution_count": 0,
      "outputs": []
    },
    {
      "metadata": {
        "id": "bwNVWpCEr_Ss",
        "colab_type": "text",
        "slideshow": {
          "slide_type": "slide"
        }
      },
      "cell_type": "markdown",
      "source": [
        "Let us visualize the weights and bias terms which have been learned."
      ]
    },
    {
      "metadata": {
        "id": "-M4EG5brstwy",
        "colab_type": "code",
        "slideshow": {
          "slide_type": "slide"
        },
        "colab": {
          "autoexec": {
            "startup": false,
            "wait_interval": 0
          },
          "base_uri": "https://localhost:8080/",
          "height": 299
        },
        "outputId": "b3bdc68e-d306-4469-92e0-1c361f474dc3",
        "executionInfo": {
          "elapsed": 783,
          "status": "ok",
          "timestamp": 1531553134280,
          "user": {
            "displayName": "Atul Balaji",
            "photoUrl": "https://lh3.googleusercontent.com/a/default-user=s128",
            "userId": "114090638288848832178"
          },
          "user_tz": -330
        }
      },
      "cell_type": "code",
      "source": [
        "sns.heatmap(w_dense, linewidth=0.5)\n",
        "plt.show()\n",
        "print (w_dense)"
      ],
      "execution_count": 0,
      "outputs": [
        {
          "output_type": "display_data",
          "data": {
            "image/png": "[encoded data removed]",
            "text/plain": [
              "<matplotlib.figure.Figure at 0x7f38bc430f28>"
            ]
          },
          "metadata": {
            "tags": []
          }
        },
        {
          "output_type": "stream",
          "text": [
            "[[ 0.18243906 -0.32536864]\n",
            " [ 0.80486184  0.29774043]]\n"
          ],
          "name": "stdout"
        }
      ]
    },
    {
      "metadata": {
        "id": "L8ODx1jKsyGd",
        "colab_type": "code",
        "slideshow": {
          "slide_type": "slide"
        },
        "colab": {
          "autoexec": {
            "startup": false,
            "wait_interval": 0
          },
          "base_uri": "https://localhost:8080/",
          "height": 282
        },
        "outputId": "df223a69-ca29-4c8b-b0c5-23f3eddc4f97",
        "executionInfo": {
          "elapsed": 682,
          "status": "ok",
          "timestamp": 1531553135276,
          "user": {
            "displayName": "Atul Balaji",
            "photoUrl": "https://lh3.googleusercontent.com/a/default-user=s128",
            "userId": "114090638288848832178"
          },
          "user_tz": -330
        }
      },
      "cell_type": "code",
      "source": [
        "sns.heatmap(b_dense.reshape((2,1)))\n",
        "plt.show()\n",
        "print (b_dense)"
      ],
      "execution_count": 0,
      "outputs": [
        {
          "output_type": "display_data",
          "data": {
            "image/png": "[encoded data removed]",
            "text/plain": [
              "<matplotlib.figure.Figure at 0x7f38b920d470>"
            ]
          },
          "metadata": {
            "tags": []
          }
        },
        {
          "output_type": "stream",
          "text": [
            "[ 1.4485976 -1.4485976]\n"
          ],
          "name": "stdout"
        }
      ]
    },
    {
      "metadata": {
        "id": "1MZ1-6qNs7JF",
        "colab_type": "code",
        "slideshow": {
          "slide_type": "slide"
        },
        "colab": {
          "autoexec": {
            "startup": false,
            "wait_interval": 0
          },
          "base_uri": "https://localhost:8080/",
          "height": 280
        },
        "outputId": "a3968e83-344b-4623-fb8e-b69bdba40225",
        "executionInfo": {
          "elapsed": 1008,
          "status": "ok",
          "timestamp": 1531553137509,
          "user": {
            "displayName": "Atul Balaji",
            "photoUrl": "https://lh3.googleusercontent.com/a/default-user=s128",
            "userId": "114090638288848832178"
          },
          "user_tz": -330
        }
      },
      "cell_type": "code",
      "source": [
        "plt.scatter(X_test[:,0], X_test[:,1], c = Y_test[:,1], cmap='rainbow')\n",
        "plt.title('Scatter plot of test data')\n",
        "plt.show()"
      ],
      "execution_count": 0,
      "outputs": [
        {
          "output_type": "display_data",
          "data": {
            "image/png": "[encoded data removed]",
            "text/plain": [
              "<matplotlib.figure.Figure at 0x7f38b918dc88>"
            ]
          },
          "metadata": {
            "tags": []
          }
        }
      ]
    },
    {
      "metadata": {
        "id": "WEomq0ZNHCIh",
        "colab_type": "text",
        "slideshow": {
          "slide_type": "slide"
        }
      },
      "cell_type": "markdown",
      "source": [
        "Take dot product of W and *X _test*."
      ]
    },
    {
      "metadata": {
        "id": "c6fIAdEmu6Ao",
        "colab_type": "code",
        "slideshow": {
          "slide_type": "slide"
        },
        "colab": {
          "autoexec": {
            "startup": false,
            "wait_interval": 0
          },
          "base_uri": "https://localhost:8080/",
          "height": 265
        },
        "outputId": "ab10c2d4-186a-4cab-eca0-94b7558e57e8",
        "executionInfo": {
          "elapsed": 739,
          "status": "ok",
          "timestamp": 1531553429064,
          "user": {
            "displayName": "Atul Balaji",
            "photoUrl": "https://lh3.googleusercontent.com/a/default-user=s128",
            "userId": "114090638288848832178"
          },
          "user_tz": -330
        }
      },
      "cell_type": "code",
      "source": [
        "wx = X_test.dot(w_dense)\n",
        "wx_b = wx + b_dense\n",
        "plt.scatter(wx_b[:,0], wx_b[:,1], c=Y_test[:,1], cmap='rainbow')\n",
        "plt.scatter(wx[:,0], wx[:,1], c=Y_test[:,1], cmap='viridis')\n",
        "plt.quiver([0], [0], b_dense[0], b_dense[1], scale = 21, label = 'Bias Vector',color='w')\n",
        "plt.legend(loc='best')\n",
        "plt.xlim([-20, 20])\n",
        "plt.show()"
      ],
      "execution_count": 0,
      "outputs": [
        {
          "output_type": "display_data",
          "data": {
            "image/png": "[encoded data removed]",
            "text/plain": [
              "<matplotlib.figure.Figure at 0x7f38b8d399b0>"
            ]
          },
          "metadata": {
            "tags": []
          }
        }
      ]
    },
    {
      "metadata": {
        "id": "1j9_de2rHdaN",
        "colab_type": "text",
        "slideshow": {
          "slide_type": "slide"
        }
      },
      "cell_type": "markdown",
      "source": [
        "### Visualizing the predictions"
      ]
    },
    {
      "metadata": {
        "id": "4ibgZ3kGyhrt",
        "colab_type": "code",
        "slideshow": {
          "slide_type": "slide"
        },
        "colab": {
          "autoexec": {
            "startup": false,
            "wait_interval": 0
          },
          "base_uri": "https://localhost:8080/",
          "height": 282
        },
        "outputId": "5bf64c79-9b7d-43b2-d6a1-cce98be2a6b4",
        "executionInfo": {
          "elapsed": 720,
          "status": "ok",
          "timestamp": 1531553452319,
          "user": {
            "displayName": "Atul Balaji",
            "photoUrl": "https://lh3.googleusercontent.com/a/default-user=s128",
            "userId": "114090638288848832178"
          },
          "user_tz": -330
        }
      },
      "cell_type": "code",
      "source": [
        "y = model.predict(X_test)\n",
        "plt.scatter(y[:,0], y[:,1], c=Y_test[:,1], cmap='rainbow')"
      ],
      "execution_count": 0,
      "outputs": [
        {
          "output_type": "execute_result",
          "data": {
            "text/plain": [
              "<matplotlib.collections.PathCollection at 0x7f38b8c6b198>"
            ]
          },
          "metadata": {
            "tags": []
          },
          "execution_count": 22
        },
        {
          "output_type": "display_data",
          "data": {
            "image/png": "[encoded data removed]",
            "text/plain": [
              "<matplotlib.figure.Figure at 0x7f38b8d6def0>"
            ]
          },
          "metadata": {
            "tags": []
          }
        }
      ]
    },
    {
      "metadata": {
        "id": "1QChfMleftgX",
        "colab_type": "text",
        "slideshow": {
          "slide_type": "slide"
        }
      },
      "cell_type": "markdown",
      "source": [
        "# Whats Regression?"
      ]
    },
    {
      "metadata": {
        "id": "wK8lFybhzCvi",
        "colab_type": "text",
        "slideshow": {
          "slide_type": "slide"
        }
      },
      "cell_type": "markdown",
      "source": [
        "## Regression using Neural Nets"
      ]
    },
    {
      "metadata": {
        "id": "ZE6troBEzCcb",
        "colab_type": "code",
        "slideshow": {
          "slide_type": "slide"
        },
        "colab": {
          "autoexec": {
            "startup": false,
            "wait_interval": 0
          }
        }
      },
      "cell_type": "code",
      "source": [
        "def create_dataset(f, x=None, std=0.1):\n",
        "  if x is None:\n",
        "    x = np.linspace(-20, 20, 1000)\n",
        "  \n",
        "  noise = np.random.randn(len(x))*std\n",
        "  y = f(x)+noise\n",
        "  return (x,y)\n",
        "\n",
        "def regress_fn(x):\n",
        "  return 1/(1 + np.exp(x))"
      ],
      "execution_count": 0,
      "outputs": []
    },
    {
      "metadata": {
        "id": "WN4wV5lJASEY",
        "colab_type": "code",
        "slideshow": {
          "slide_type": "slide"
        },
        "colab": {
          "autoexec": {
            "startup": false,
            "wait_interval": 0
          }
        }
      },
      "cell_type": "code",
      "source": [
        "x,y = create_dataset(regress_fn)"
      ],
      "execution_count": 0,
      "outputs": []
    },
    {
      "metadata": {
        "id": "LbJaXOqY0z9H",
        "colab_type": "code",
        "slideshow": {
          "slide_type": "slide"
        },
        "colab": {
          "autoexec": {
            "startup": false,
            "wait_interval": 0
          },
          "base_uri": "https://localhost:8080/",
          "height": 268
        },
        "outputId": "835c32ec-5d6a-47eb-9c78-9ed85e454fdb",
        "executionInfo": {
          "elapsed": 855,
          "status": "ok",
          "timestamp": 1531321967688,
          "user": {
            "displayName": "Lokesh Kumar",
            "photoUrl": "https://lh3.googleusercontent.com/a/default-user=s128",
            "userId": "110016579289534772371"
          },
          "user_tz": -330
        }
      },
      "cell_type": "code",
      "source": [
        "plt.scatter(x,y)\n",
        "plt.show()"
      ],
      "execution_count": 0,
      "outputs": [
        {
          "output_type": "display_data",
          "data": {
            "image/png": "[encoded data removed]",
            "text/plain": [
              "<matplotlib.figure.Figure at 0x7f9effd62710>"
            ]
          },
          "metadata": {
            "tags": []
          }
        }
      ]
    },
    {
      "metadata": {
        "id": "yGSYG1-Y1Hnf",
        "colab_type": "code",
        "slideshow": {
          "slide_type": "slide"
        },
        "colab": {
          "autoexec": {
            "startup": false,
            "wait_interval": 0
          }
        }
      },
      "cell_type": "code",
      "source": [
        "X_train, X_test, y_train, y_test = train_test_split(x, y, test_size=0.2, random_state=42)"
      ],
      "execution_count": 0,
      "outputs": []
    },
    {
      "metadata": {
        "id": "ZsdCIzq41RHL",
        "colab_type": "code",
        "slideshow": {
          "slide_type": "slide"
        },
        "colab": {
          "autoexec": {
            "startup": false,
            "wait_interval": 0
          },
          "base_uri": "https://localhost:8080/",
          "height": 265
        },
        "outputId": "d23b0ec2-c510-473c-befc-5e692882a742",
        "executionInfo": {
          "elapsed": 838,
          "status": "ok",
          "timestamp": 1531321973599,
          "user": {
            "displayName": "Lokesh Kumar",
            "photoUrl": "https://lh3.googleusercontent.com/a/default-user=s128",
            "userId": "110016579289534772371"
          },
          "user_tz": -330
        }
      },
      "cell_type": "code",
      "source": [
        "plt.scatter(X_train, y_train, label='train')\n",
        "plt.scatter(X_test, y_test, label='test')\n",
        "plt.legend(loc='best')\n",
        "plt.show()"
      ],
      "execution_count": 0,
      "outputs": [
        {
          "output_type": "display_data",
          "data": {
            "image/png": "[encoded data removed]",
            "text/plain": [
              "<matplotlib.figure.Figure at 0x7f9effc8e390>"
            ]
          },
          "metadata": {
            "tags": []
          }
        }
      ]
    },
    {
      "metadata": {
        "id": "wa-Vshli1brR",
        "colab_type": "code",
        "slideshow": {
          "slide_type": "slide"
        },
        "colab": {
          "autoexec": {
            "startup": false,
            "wait_interval": 0
          }
        }
      },
      "cell_type": "code",
      "source": [
        "model = Sequential() \n",
        "model.add(Dense(10, input_dim=1, activation='sigmoid')) \n",
        "model.add(Dense(1))\n",
        "batch_size = 100\n",
        "nb_epoch = 100"
      ],
      "execution_count": 0,
      "outputs": []
    },
    {
      "metadata": {
        "id": "xg8hTrW81vS9",
        "colab_type": "code",
        "slideshow": {
          "slide_type": "slide"
        },
        "colab": {
          "autoexec": {
            "startup": false,
            "wait_interval": 0
          },
          "base_uri": "https://localhost:8080/",
          "height": 3451
        },
        "outputId": "ebf3485c-d1b8-47dd-c4d8-48deca8bad11",
        "executionInfo": {
          "elapsed": 3663,
          "status": "ok",
          "timestamp": 1531322031363,
          "user": {
            "displayName": "Lokesh Kumar",
            "photoUrl": "https://lh3.googleusercontent.com/a/default-user=s128",
            "userId": "110016579289534772371"
          },
          "user_tz": -330
        }
      },
      "cell_type": "code",
      "source": [
        "model.compile(optimizer='sgd', loss='mean_squared_error') \n",
        "history = model.fit(X_train, y_train, batch_size=batch_size, epochs=nb_epoch,verbose=1, validation_data=(X_test, y_test)) \n",
        "score = model.evaluate(X_test, y_test, verbose=0) \n",
        "print('Test score:', score)"
      ],
      "execution_count": 0,
      "outputs": [
        {
          "output_type": "stream",
          "text": [
            "Train on 800 samples, validate on 200 samples\n",
            "Epoch 1/100\n",
            "800/800 [==============================] - 1s 682us/step - loss: 0.2589 - val_loss: 0.1697\n",
            "Epoch 2/100\n",
            "800/800 [==============================] - 0s 28us/step - loss: 0.1032 - val_loss: 0.0700\n",
            "Epoch 3/100\n",
            "800/800 [==============================] - 0s 23us/step - loss: 0.0445 - val_loss: 0.0390\n",
            "Epoch 4/100\n",
            "800/800 [==============================] - 0s 20us/step - loss: 0.0288 - val_loss: 0.0297\n",
            "Epoch 5/100\n",
            "800/800 [==============================] - 0s 22us/step - loss: 0.0243 - val_loss: 0.0259\n",
            "Epoch 6/100\n",
            "800/800 [==============================] - 0s 20us/step - loss: 0.0225 - val_loss: 0.0239\n",
            "Epoch 7/100\n",
            "800/800 [==============================] - 0s 23us/step - loss: 0.0215 - val_loss: 0.0227\n",
            "Epoch 8/100\n",
            "800/800 [==============================] - 0s 20us/step - loss: 0.0208 - val_loss: 0.0217\n",
            "Epoch 9/100\n",
            "800/800 [==============================] - 0s 24us/step - loss: 0.0201 - val_loss: 0.0210\n",
            "Epoch 10/100\n",
            "800/800 [==============================] - 0s 25us/step - loss: 0.0195 - val_loss: 0.0204\n",
            "Epoch 11/100\n",
            "800/800 [==============================] - 0s 21us/step - loss: 0.0190 - val_loss: 0.0199\n",
            "Epoch 12/100\n",
            "800/800 [==============================] - 0s 21us/step - loss: 0.0185 - val_loss: 0.0194\n",
            "Epoch 13/100\n",
            "800/800 [==============================] - 0s 22us/step - loss: 0.0181 - val_loss: 0.0190\n",
            "Epoch 14/100\n",
            "800/800 [==============================] - 0s 22us/step - loss: 0.0177 - val_loss: 0.0186\n",
            "Epoch 15/100\n",
            "800/800 [==============================] - 0s 20us/step - loss: 0.0173 - val_loss: 0.0182\n",
            "Epoch 16/100\n",
            "800/800 [==============================] - 0s 27us/step - loss: 0.0169 - val_loss: 0.0179\n",
            "Epoch 17/100\n",
            "800/800 [==============================] - 0s 27us/step - loss: 0.0166 - val_loss: 0.0176\n",
            "Epoch 18/100\n",
            "800/800 [==============================] - 0s 23us/step - loss: 0.0163 - val_loss: 0.0173\n",
            "Epoch 19/100\n",
            "800/800 [==============================] - 0s 22us/step - loss: 0.0160 - val_loss: 0.0170\n",
            "Epoch 20/100\n",
            "800/800 [==============================] - 0s 21us/step - loss: 0.0158 - val_loss: 0.0168\n",
            "Epoch 21/100\n",
            "800/800 [==============================] - 0s 21us/step - loss: 0.0155 - val_loss: 0.0165\n",
            "Epoch 22/100\n",
            "800/800 [==============================] - 0s 22us/step - loss: 0.0153 - val_loss: 0.0163\n",
            "Epoch 23/100\n",
            "800/800 [==============================] - 0s 21us/step - loss: 0.0151 - val_loss: 0.0161\n",
            "Epoch 24/100\n",
            "800/800 [==============================] - 0s 20us/step - loss: 0.0149 - val_loss: 0.0159\n",
            "Epoch 25/100\n",
            "800/800 [==============================] - 0s 23us/step - loss: 0.0147 - val_loss: 0.0157\n",
            "Epoch 26/100\n",
            "800/800 [==============================] - 0s 17us/step - loss: 0.0145 - val_loss: 0.0156\n",
            "Epoch 27/100\n",
            "800/800 [==============================] - 0s 26us/step - loss: 0.0144 - val_loss: 0.0154\n",
            "Epoch 28/100\n",
            "800/800 [==============================] - 0s 29us/step - loss: 0.0142 - val_loss: 0.0153\n",
            "Epoch 29/100\n",
            "800/800 [==============================] - 0s 33us/step - loss: 0.0141 - val_loss: 0.0152\n",
            "Epoch 30/100\n",
            "800/800 [==============================] - 0s 21us/step - loss: 0.0140 - val_loss: 0.0150\n",
            "Epoch 31/100\n",
            "800/800 [==============================] - 0s 22us/step - loss: 0.0138 - val_loss: 0.0149\n",
            "Epoch 32/100\n",
            "800/800 [==============================] - 0s 22us/step - loss: 0.0137 - val_loss: 0.0148\n",
            "Epoch 33/100\n",
            "800/800 [==============================] - 0s 23us/step - loss: 0.0137 - val_loss: 0.0147\n",
            "Epoch 34/100\n",
            "800/800 [==============================] - 0s 29us/step - loss: 0.0135 - val_loss: 0.0146\n",
            "Epoch 35/100\n",
            "800/800 [==============================] - 0s 24us/step - loss: 0.0134 - val_loss: 0.0145\n",
            "Epoch 36/100\n",
            "800/800 [==============================] - 0s 21us/step - loss: 0.0134 - val_loss: 0.0144\n",
            "Epoch 37/100\n",
            "800/800 [==============================] - 0s 24us/step - loss: 0.0133 - val_loss: 0.0143\n",
            "Epoch 38/100\n",
            "800/800 [==============================] - 0s 24us/step - loss: 0.0132 - val_loss: 0.0143\n",
            "Epoch 39/100\n",
            "800/800 [==============================] - 0s 20us/step - loss: 0.0131 - val_loss: 0.0142\n",
            "Epoch 40/100\n",
            "800/800 [==============================] - 0s 31us/step - loss: 0.0130 - val_loss: 0.0141\n",
            "Epoch 41/100\n",
            "800/800 [==============================] - 0s 34us/step - loss: 0.0130 - val_loss: 0.0141\n",
            "Epoch 42/100\n",
            "800/800 [==============================] - 0s 19us/step - loss: 0.0129 - val_loss: 0.0140\n",
            "Epoch 43/100\n",
            "800/800 [==============================] - 0s 22us/step - loss: 0.0129 - val_loss: 0.0140\n",
            "Epoch 44/100\n",
            "800/800 [==============================] - 0s 22us/step - loss: 0.0128 - val_loss: 0.0139\n",
            "Epoch 45/100\n",
            "800/800 [==============================] - 0s 22us/step - loss: 0.0127 - val_loss: 0.0139\n",
            "Epoch 46/100\n",
            "800/800 [==============================] - 0s 26us/step - loss: 0.0127 - val_loss: 0.0138\n",
            "Epoch 47/100\n",
            "800/800 [==============================] - 0s 32us/step - loss: 0.0126 - val_loss: 0.0138\n",
            "Epoch 48/100\n",
            "800/800 [==============================] - 0s 26us/step - loss: 0.0126 - val_loss: 0.0137\n",
            "Epoch 49/100\n",
            "800/800 [==============================] - 0s 26us/step - loss: 0.0126 - val_loss: 0.0137\n",
            "Epoch 50/100\n",
            "800/800 [==============================] - 0s 21us/step - loss: 0.0125 - val_loss: 0.0136\n",
            "Epoch 51/100\n",
            "800/800 [==============================] - 0s 21us/step - loss: 0.0125 - val_loss: 0.0136\n",
            "Epoch 52/100\n",
            "800/800 [==============================] - 0s 25us/step - loss: 0.0125 - val_loss: 0.0136\n",
            "Epoch 53/100\n",
            "800/800 [==============================] - 0s 27us/step - loss: 0.0124 - val_loss: 0.0135\n",
            "Epoch 54/100\n",
            "800/800 [==============================] - 0s 22us/step - loss: 0.0124 - val_loss: 0.0135\n",
            "Epoch 55/100\n",
            "800/800 [==============================] - 0s 28us/step - loss: 0.0124 - val_loss: 0.0134\n",
            "Epoch 56/100\n",
            "800/800 [==============================] - 0s 24us/step - loss: 0.0123 - val_loss: 0.0134\n",
            "Epoch 57/100\n",
            "800/800 [==============================] - 0s 22us/step - loss: 0.0123 - val_loss: 0.0134\n",
            "Epoch 58/100\n",
            "800/800 [==============================] - 0s 25us/step - loss: 0.0123 - val_loss: 0.0134\n",
            "Epoch 59/100\n",
            "800/800 [==============================] - 0s 19us/step - loss: 0.0122 - val_loss: 0.0133\n",
            "Epoch 60/100\n",
            "800/800 [==============================] - 0s 19us/step - loss: 0.0122 - val_loss: 0.0133\n",
            "Epoch 61/100\n",
            "800/800 [==============================] - 0s 18us/step - loss: 0.0122 - val_loss: 0.0133\n",
            "Epoch 62/100\n",
            "800/800 [==============================] - 0s 22us/step - loss: 0.0122 - val_loss: 0.0132\n",
            "Epoch 63/100\n",
            "800/800 [==============================] - 0s 19us/step - loss: 0.0121 - val_loss: 0.0132\n",
            "Epoch 64/100\n",
            "800/800 [==============================] - 0s 20us/step - loss: 0.0121 - val_loss: 0.0132\n",
            "Epoch 65/100\n",
            "800/800 [==============================] - 0s 24us/step - loss: 0.0121 - val_loss: 0.0132\n",
            "Epoch 66/100\n",
            "800/800 [==============================] - 0s 27us/step - loss: 0.0121 - val_loss: 0.0131\n",
            "Epoch 67/100\n",
            "800/800 [==============================] - 0s 24us/step - loss: 0.0120 - val_loss: 0.0131\n",
            "Epoch 68/100\n",
            "800/800 [==============================] - 0s 24us/step - loss: 0.0120 - val_loss: 0.0131\n",
            "Epoch 69/100\n",
            "800/800 [==============================] - 0s 27us/step - loss: 0.0120 - val_loss: 0.0131\n",
            "Epoch 70/100\n",
            "800/800 [==============================] - 0s 22us/step - loss: 0.0120 - val_loss: 0.0131\n",
            "Epoch 71/100\n",
            "800/800 [==============================] - 0s 21us/step - loss: 0.0120 - val_loss: 0.0130\n",
            "Epoch 72/100\n",
            "800/800 [==============================] - 0s 23us/step - loss: 0.0120 - val_loss: 0.0130\n",
            "Epoch 73/100\n",
            "800/800 [==============================] - 0s 22us/step - loss: 0.0120 - val_loss: 0.0130\n",
            "Epoch 74/100\n",
            "800/800 [==============================] - 0s 24us/step - loss: 0.0119 - val_loss: 0.0130\n",
            "Epoch 75/100\n",
            "800/800 [==============================] - 0s 23us/step - loss: 0.0119 - val_loss: 0.0130\n",
            "Epoch 76/100\n",
            "800/800 [==============================] - 0s 24us/step - loss: 0.0119 - val_loss: 0.0130\n",
            "Epoch 77/100\n",
            "800/800 [==============================] - 0s 21us/step - loss: 0.0119 - val_loss: 0.0130\n",
            "Epoch 78/100\n",
            "800/800 [==============================] - 0s 23us/step - loss: 0.0119 - val_loss: 0.0129\n",
            "Epoch 79/100\n",
            "800/800 [==============================] - 0s 25us/step - loss: 0.0119 - val_loss: 0.0129\n",
            "Epoch 80/100\n",
            "800/800 [==============================] - 0s 19us/step - loss: 0.0119 - val_loss: 0.0129\n",
            "Epoch 81/100\n",
            "800/800 [==============================] - 0s 22us/step - loss: 0.0119 - val_loss: 0.0129\n",
            "Epoch 82/100\n",
            "800/800 [==============================] - 0s 19us/step - loss: 0.0118 - val_loss: 0.0129\n",
            "Epoch 83/100\n",
            "800/800 [==============================] - 0s 21us/step - loss: 0.0118 - val_loss: 0.0129\n",
            "Epoch 84/100\n"
          ],
          "name": "stdout"
        },
        {
          "output_type": "stream",
          "text": [
            "100/800 [==>...........................] - ETA: 0s - loss: 0.0131800/800 [==============================] - 0s 24us/step - loss: 0.0118 - val_loss: 0.0129\n",
            "Epoch 85/100\n",
            "800/800 [==============================] - 0s 21us/step - loss: 0.0118 - val_loss: 0.0129\n",
            "Epoch 86/100\n",
            "800/800 [==============================] - 0s 16us/step - loss: 0.0118 - val_loss: 0.0128\n",
            "Epoch 87/100\n",
            "800/800 [==============================] - 0s 23us/step - loss: 0.0118 - val_loss: 0.0129\n",
            "Epoch 88/100\n",
            "800/800 [==============================] - 0s 21us/step - loss: 0.0118 - val_loss: 0.0128\n",
            "Epoch 89/100\n",
            "800/800 [==============================] - 0s 21us/step - loss: 0.0118 - val_loss: 0.0128\n",
            "Epoch 90/100\n",
            "800/800 [==============================] - 0s 23us/step - loss: 0.0118 - val_loss: 0.0128\n",
            "Epoch 91/100\n",
            "800/800 [==============================] - 0s 26us/step - loss: 0.0118 - val_loss: 0.0128\n",
            "Epoch 92/100\n",
            "800/800 [==============================] - 0s 24us/step - loss: 0.0117 - val_loss: 0.0128\n",
            "Epoch 93/100\n",
            "800/800 [==============================] - 0s 30us/step - loss: 0.0117 - val_loss: 0.0128\n",
            "Epoch 94/100\n",
            "800/800 [==============================] - 0s 26us/step - loss: 0.0117 - val_loss: 0.0128\n",
            "Epoch 95/100\n",
            "800/800 [==============================] - 0s 33us/step - loss: 0.0117 - val_loss: 0.0127\n",
            "Epoch 96/100\n",
            "800/800 [==============================] - 0s 29us/step - loss: 0.0117 - val_loss: 0.0128\n",
            "Epoch 97/100\n",
            "800/800 [==============================] - 0s 25us/step - loss: 0.0117 - val_loss: 0.0127\n",
            "Epoch 98/100\n",
            "800/800 [==============================] - 0s 30us/step - loss: 0.0117 - val_loss: 0.0127\n",
            "Epoch 99/100\n",
            "800/800 [==============================] - 0s 30us/step - loss: 0.0117 - val_loss: 0.0127\n",
            "Epoch 100/100\n",
            "800/800 [==============================] - 0s 30us/step - loss: 0.0117 - val_loss: 0.0127\n",
            "Test score: 0.012684668451547622\n"
          ],
          "name": "stdout"
        }
      ]
    },
    {
      "metadata": {
        "id": "I4m_v7z018VF",
        "colab_type": "code",
        "slideshow": {
          "slide_type": "slide"
        },
        "colab": {
          "autoexec": {
            "startup": false,
            "wait_interval": 0
          },
          "base_uri": "https://localhost:8080/",
          "height": 268
        },
        "outputId": "37171af2-fa5c-494a-e4bb-1f814c5c17c5",
        "executionInfo": {
          "elapsed": 1193,
          "status": "ok",
          "timestamp": 1531322032703,
          "user": {
            "displayName": "Lokesh Kumar",
            "photoUrl": "https://lh3.googleusercontent.com/a/default-user=s128",
            "userId": "110016579289534772371"
          },
          "user_tz": -330
        }
      },
      "cell_type": "code",
      "source": [
        "x = np.linspace(-20,20,1000)\n",
        "y = model.predict(x)\n",
        "plt.scatter(X_train, y_train, label='Dataset')\n",
        "plt.scatter(x, y, label='Predicted Function')\n",
        "plt.legend(loc='best')\n",
        "plt.show()"
      ],
      "execution_count": 0,
      "outputs": [
        {
          "output_type": "display_data",
          "data": {
            "image/png": "[encoded data removed]",
            "text/plain": [
              "<matplotlib.figure.Figure at 0x7f9eff9e9438>"
            ]
          },
          "metadata": {
            "tags": []
          }
        }
      ]
    },
    {
      "metadata": {
        "id": "OzWJlBp7ftg9",
        "colab_type": "text",
        "slideshow": {
          "slide_type": "slide"
        }
      },
      "cell_type": "markdown",
      "source": [
        "# Whats the loss function we used for training our softmax classifier? Why did we use that?"
      ]
    },
    {
      "metadata": {
        "id": "jYS8Kk4oftg9",
        "colab_type": "text",
        "slideshow": {
          "slide_type": "slide"
        }
      },
      "cell_type": "markdown",
      "source": [
        "To answer that we need the help of **Probability and Information Theory**, lets dive in."
      ]
    },
    {
      "metadata": {
        "id": "brjndHS6CDz6",
        "colab_type": "text",
        "slideshow": {
          "slide_type": "slide"
        }
      },
      "cell_type": "markdown",
      "source": [
        "# Probability and Information Theory\n",
        "\n",
        "- Probablity is a mathematical Statement to represent `Uncertain Statements`.\n",
        "\n",
        "- While probability theory allows us to make uncertain statements and reason the presence of uncertainty, `Information Theory` allows us to quantify the amount of uncertainty present in a probability distribution."
      ]
    },
    {
      "metadata": {
        "id": "gzZ9IM-BDYXb",
        "colab_type": "text",
        "slideshow": {
          "slide_type": "slide"
        }
      },
      "cell_type": "markdown",
      "source": [
        "## Why do we need this topic?\n",
        "\n",
        "To answer these questions....\n",
        "\n",
        "- Why cross entropy?\n",
        "  - Why minimizing that trains my network?\n",
        "- Uses of One-Hot Encoding\n",
        "and many more..."
      ]
    },
    {
      "metadata": {
        "id": "3Dwj1P9KDyTq",
        "colab_type": "text",
        "slideshow": {
          "slide_type": "slide"
        }
      },
      "cell_type": "markdown",
      "source": [
        "## This is the output probability vector expected. (The labels in classification problem)\n",
        "![one-hot](https://www.tensorflow.org/images/feature_columns/categorical_column_with_identity.jpg)\n",
        "\n",
        "## This is the network predicts (output softmax). \n",
        "![nn-prob](https://raw.githubusercontent.com/rohan-varma/rohan-blog/gh-pages/images/neuralnet.png)\n",
        "\n",
        "### Clearly these 2 are 2 probability distributions and we need to minimize the information content/ `distance` between these 2 distribution."
      ]
    },
    {
      "metadata": {
        "id": "JJQalgeMDPE9",
        "colab_type": "text",
        "slideshow": {
          "slide_type": "slide"
        }
      },
      "cell_type": "markdown",
      "source": [
        "## Random Variables\n",
        "\n",
        "\n",
        "\n",
        "*   **Random Variable** is a variable that can take different values /states with likelihood of taking each state represented by a probability distribution.\n",
        "*   For example, lets say $x$ is a random variable which can take values $x_1$, $x_2$. Then the states/values of the random variable $x$ is $x_1$, $x_2$ and likelihood of $x$ taking one of this state is described by a probability distribution.\n",
        "\n",
        "* Example, lets random variable $x$ represent the outcome of tossing a coin. \n",
        "\n",
        "![Probability Distribution of coins tossing](https://www.sumproduct.com/fileadmin/filemount/Thought_Files/N-Z/Image-01-No.-of-Heads-from-1-Coin-Toss.gif)\n",
        "\n"
      ]
    },
    {
      "metadata": {
        "id": "tSNTGKZU409_",
        "colab_type": "text",
        "slideshow": {
          "slide_type": "slide"
        }
      },
      "cell_type": "markdown",
      "source": [
        "## Probability Distribution\n",
        "\n",
        "A **probability distribution** is a description of how likely a random variable or set of random variables is to take of its possible states.\n",
        "\n",
        "\n",
        "\n",
        "![pmf](https://encrypted-tbn0.gstatic.com/images?q=tbn:ANd9GcRzduXzRL_TjNY9mGF7SSDMj5J1p-io6Ck5_5vWNC6hR_zs2hLY)\n"
      ]
    },
    {
      "metadata": {
        "id": "ln934gUcfthH",
        "colab_type": "text"
      },
      "cell_type": "markdown",
      "source": [
        "## Expectation of a Random Variable\n",
        "\n",
        "![discrete_expectation](http://www.onekobo.com/Articles/Statistics/statsImgs/image204c.gif)\n",
        "\n",
        "![contin_expectation](http://output.to/sideway/images/knowledge/mathematics/calculus/014/integral_d_04o.png)\n"
      ]
    },
    {
      "metadata": {
        "id": "5xBlj7MxfthI",
        "colab_type": "text",
        "slideshow": {
          "slide_type": "slide"
        }
      },
      "cell_type": "markdown",
      "source": [
        "## Find the expectation of random variable following these distribution\n",
        "\n",
        "Lets say $X$ follows this distribution. Then find $E[X]$ and $E[X^2]$.\n",
        "\n",
        "![uniform_distribution](https://upload.wikimedia.org/wikipedia/commons/thumb/9/96/Uniform_Distribution_PDF_SVG.svg/1200px-Uniform_Distribution_PDF_SVG.svg.png)\n",
        "\n"
      ]
    },
    {
      "metadata": {
        "id": "SX8V8ER4fthJ",
        "colab_type": "text",
        "slideshow": {
          "slide_type": "slide"
        }
      },
      "cell_type": "markdown",
      "source": [
        "\\begin{equation}\n",
        "E[X] = \\int_{-\\infty}^{\\infty}xP(x)dx = \\int_{a}^{b}\\ x\\ \\frac{1}{b-a}\\ dx\n",
        "\\end{equation}\n",
        "\n",
        "\\begin{equation}\n",
        "E[X] = \\frac{1}{b-a} \\int_{a}^{b}\\ x\\ dx = \\frac{a+b}{2}\n",
        "\\end{equation}\n",
        "\n",
        "\\begin{equation}\n",
        "E[X^2] = \\int_{-\\infty}^{\\infty}x^2P(x)dx = \\int_{a}^{b}\\ x^2\\ \\frac{1}{b-a}\\ dx\n",
        "\\end{equation}\n",
        "\n",
        "\\begin{equation}\n",
        "E[X^2] = \\frac{1}{b-a}\\ \\int_{a}^{b}\\ x^2\\ dx = \\frac{a^2 + ab + b^2}{3}\n",
        "\\end{equation}"
      ]
    },
    {
      "metadata": {
        "id": "YjjYsTZnfthP",
        "colab_type": "text",
        "slideshow": {
          "slide_type": "slide"
        }
      },
      "cell_type": "markdown",
      "source": [
        "## Find the expectation of random variable following these distribution\n",
        "\n",
        "Lets say $X$ follows this distribution. Then find $E[X]$.\n",
        "\n",
        "\n",
        "![exponential_distribution](https://www.phy.ornl.gov/csep/gif_figures/mcf6.gif)\n"
      ]
    },
    {
      "metadata": {
        "id": "BrSYtfZDfthV",
        "colab_type": "text",
        "slideshow": {
          "slide_type": "slide"
        }
      },
      "cell_type": "markdown",
      "source": [
        "![expected_value_exp_dist](https://www.statlect.com/images/exponential-distribution__64.png)"
      ]
    },
    {
      "metadata": {
        "id": "djTtJS3mfthV",
        "colab_type": "text",
        "slideshow": {
          "slide_type": "slide"
        }
      },
      "cell_type": "markdown",
      "source": [
        "\n",
        "## Information Theory\n",
        "\n",
        "This is the branch of applied mathematics that revolves around quantifying how much information  is present in the signal.\n",
        "\n",
        "**Basic Idea**\n",
        "\n",
        "- Likely events should have low information content, and in the extreme case the events that are guaranteed to happen should have no information whatsoever.\n",
        "\n",
        "- Events that are more unlikely should have higher information content.\n",
        "\n",
        "- Independent events should have additive information."
      ]
    },
    {
      "metadata": {
        "id": "9m8NkkAXsiyr",
        "colab_type": "text",
        "slideshow": {
          "slide_type": "slide"
        }
      },
      "cell_type": "markdown",
      "source": [
        "## Can you think of a function of probability of an event that satisfies all the above constraints ?"
      ]
    },
    {
      "metadata": {
        "id": "46CF4c3AyPX2",
        "colab_type": "text",
        "slideshow": {
          "slide_type": "slide"
        }
      },
      "cell_type": "markdown",
      "source": [
        "Let $I(x)$ denote the information carried by event **x** and probability of $x$ happening is $p(x)$.\n",
        "\n",
        "$p(X = x) \\uparrow \\implies I(X = x) \\downarrow $\n",
        "\n",
        "If x, y are 2 Independent events, the let \n",
        "\n",
        "\\begin{equation}\n",
        "P(X = x,Y = y) = P(X = x)P(Y = y)\n",
        "\\end{equation}\n",
        "\n",
        "Similarly, information you get by observing $X = x, Y = y$ is\n",
        "\n",
        "\\begin{equation}\n",
        "I(X = x, Y = y) = I(X = x) + I(Y = y)\n",
        "\\end{equation}"
      ]
    },
    {
      "metadata": {
        "id": "v8OyB5CA0DRU",
        "colab_type": "text",
        "slideshow": {
          "slide_type": "slide"
        }
      },
      "cell_type": "markdown",
      "source": [
        "This function satisfies all constraints, we define the **self-information** of an event $X=x$ to be\n",
        "\n",
        "\\begin{equation}\n",
        "I(x) = H(P) = -logP(x)\n",
        "\\end{equation}\n",
        "\n",
        "$log$ is natural logarithm with base $e$.\n",
        "\n",
        "- Units of **nats**\n",
        "  - One nat is the amount of information gained by observing an event of probability $\\frac{1}{e}$\n",
        " \n",
        "- Other Units include **bits**or **shannons** (where the log is replaced with base-2)"
      ]
    },
    {
      "metadata": {
        "id": "DIAiW1Zb0u9K",
        "colab_type": "text",
        "slideshow": {
          "slide_type": "slide"
        }
      },
      "cell_type": "markdown",
      "source": [
        "Self information deals only with single outcome. \n",
        "\n",
        "- To quantify the amount of uncertainty in an entire *probability distribution* we use **Shannon Entropy** which is defined as,\n",
        "\n",
        "\\begin{equation}\n",
        "H(x) = E_{x \\epsilon P}[I(x)] = - E_{x \\epsilon P}[logP(x)]\n",
        "\\end{equation}\n",
        "\n",
        "\\begin{equation}\n",
        "H(x) = -\\sum_{x = -\\infty}^{x = \\infty}P(x)\\ logP(x)\n",
        "\\end{equation}\n",
        "\n",
        "\\begin{equation}\n",
        "H(x) = -\\int_{-\\infty}^{+\\infty}P(x)\\ log[P(x)]\\ dx\n",
        "\\end{equation}\n",
        "\n",
        "Shannon entropy describes the expected amount of information that can be drawn from that distribution."
      ]
    },
    {
      "metadata": {
        "id": "mhf2Rls5ad1O",
        "colab_type": "text",
        "slideshow": {
          "slide_type": "slide"
        }
      },
      "cell_type": "markdown",
      "source": [
        "![shannon_entropy](https://upload.wikimedia.org/wikipedia/commons/thumb/d/da/Mplwp_shannon_entropy.svg/2000px-Mplwp_shannon_entropy.svg.png)"
      ]
    },
    {
      "metadata": {
        "id": "YUhA2Cdy16Sv",
        "colab_type": "text",
        "slideshow": {
          "slide_type": "slide"
        }
      },
      "cell_type": "markdown",
      "source": [
        "Whats the Shannon Entropy of these distributions?\n",
        "\n",
        "1)\n",
        "\n",
        "![dirac_distribution](http://www.matrixlab-examples.com/image-files/impulse-function-003.gif)\n",
        "\n"
      ]
    },
    {
      "metadata": {
        "id": "bspaM--afthc",
        "colab_type": "text",
        "slideshow": {
          "slide_type": "slide"
        }
      },
      "cell_type": "markdown",
      "source": [
        "1) This is a certain distribution, therefore there is no randomness involved in any form whatsoever.  So entropy is $0$.\n",
        "\n",
        "\\begin{equation}\n",
        "H(x) = -\\sum_{x = -\\infty}^{x = \\infty}P(x)\\ logP(x)\n",
        "\\end{equation}\n",
        " \n",
        " \\begin{equation}\n",
        "H(x) = -1\\ log\\ 1 = 0\n",
        "\\end{equation}\n"
      ]
    },
    {
      "metadata": {
        "id": "9yMMrIjvfthd",
        "colab_type": "text",
        "slideshow": {
          "slide_type": "slide"
        }
      },
      "cell_type": "markdown",
      "source": [
        "2) \n",
        "\n",
        "\n",
        "![Uniform Distribution](http://www.a-levelmathstutor.com/images/statistics/graph-discrete-uniform-dist.jpg)\n",
        "\n"
      ]
    },
    {
      "metadata": {
        "id": "lQYycy1cfthd",
        "colab_type": "text",
        "slideshow": {
          "slide_type": "slide"
        }
      },
      "cell_type": "markdown",
      "source": [
        "2) This is uniform distribution, wherein you dont know anything about the system (all are random). This contains distribution contains the least possible information and hence must have high entropy.\n",
        "\n",
        "\\begin{equation}\n",
        "H(x) = -\\sum_{x = -\\infty}^{x = \\infty}P(x)\\ logP(x)\n",
        "\\end{equation}\n",
        "\n",
        "\\begin{equation}\n",
        "H(x) = -\\sum_{x = 1}^{x = 6} \\frac{1}{6}\\ log\\frac{1}{6} = log_e\\ 6 = 1.792 \n",
        "\\end{equation}\n"
      ]
    },
    {
      "metadata": {
        "id": "zH4zGBOpfthe",
        "colab_type": "text",
        "slideshow": {
          "slide_type": "slide"
        }
      },
      "cell_type": "markdown",
      "source": [
        "3)\n",
        "\n",
        "\n",
        "![gaussian Distribution](http://formulaforge.com/FVimages/BellCurve/BellCurve.jpg)"
      ]
    },
    {
      "metadata": {
        "id": "yTQU94M6OK0l",
        "colab_type": "text",
        "slideshow": {
          "slide_type": "slide"
        }
      },
      "cell_type": "markdown",
      "source": [
        "\n",
        "\n",
        "3) This is gaussian distribution. Whats the means and standard deviation? Its a continuous distribution, so we must use the continuous random variable formula.\n",
        "\n",
        "\\begin{equation}\n",
        "H(x) = -\\int_{-\\infty}^{+\\infty}P(x)\\ log[P(x)]\\ dx\n",
        "\\end{equation}\n",
        "\n",
        "\\begin{equation}\n",
        "H(x) = -\\int_{-\\infty}^{+\\infty}\\ \\frac{1}{\\sqrt{2\\pi}}e^{-\\frac{x^2}{2}}\\ \\ log[\\frac{1}{\\sqrt{2\\pi}}e^{-\\frac{x^2}{2}}]\\ dx\n",
        "\\end{equation}\n",
        "\n",
        "\\begin{equation}\n",
        "H(x) = -\\int_{-\\infty}^{+\\infty} P(x)log(\\frac{1}{\\sqrt{2\\pi}})dx + \\int_{-\\infty}^{+\\infty}P(x)\\frac{x^2}{2}dx\n",
        "\\end{equation}\n",
        "\n",
        "\\begin{equation}\n",
        "H(x) = -log(\\frac{1}{\\sqrt{2\\pi}}) + \\frac{1}{2}E[X^2]\n",
        "\\end{equation}\n",
        "\n",
        "Using this identity, \n",
        "\n",
        "\\begin{equation}\n",
        "E(X^2)=\\text{Var}(X)+[E(X)]^2\n",
        "\\end{equation}\n",
        "\n",
        "\\begin{equation}\n",
        "E(X^2) = 1^2 + 0\n",
        "\\end{equation}\n",
        "\n",
        "\\begin{equation}\n",
        "H(x) = \\frac{1}{2}log(2\\pi) + \\frac{1}{2} = 1.4189\n",
        "\\end{equation}\n"
      ]
    },
    {
      "metadata": {
        "id": "JCfb9JRu3MAC",
        "colab_type": "text",
        "slideshow": {
          "slide_type": "slide"
        }
      },
      "cell_type": "markdown",
      "source": [
        "If you have two separate probability distributions $P(X)$ and $Q(X)$ over the same random variable $x$, we can measure how different these 2 distributions are by using **$Kullback-Leibler\\ (KL)\\ Divergence$** or $Relative-Entropy$ which is defined as,\n",
        "\n",
        "\\begin{equation}\n",
        "D_{KL}(P||Q) = E_{x \\epsilon\\ P}[log \\frac{P(x)}{Q(x)}] = E[logP(x) - logQ(x)]\n",
        "\\end{equation}"
      ]
    },
    {
      "metadata": {
        "id": "a56T_Mt_8bIi",
        "colab_type": "text",
        "slideshow": {
          "slide_type": "slide"
        }
      },
      "cell_type": "markdown",
      "source": [
        "![kl-image](https://wikimedia.org/api/rest_v1/media/math/render/svg/edb367bbf4e752286ef6d712159ce43fea17a2bd)\n",
        "\n",
        "\n",
        "![continuous-kl](https://wikimedia.org/api/rest_v1/media/math/render/svg/526682a951093613fe4c721db57b68ec991bdf07)"
      ]
    },
    {
      "metadata": {
        "id": "KWElnFJ04i57",
        "colab_type": "text",
        "slideshow": {
          "slide_type": "slide"
        }
      },
      "cell_type": "markdown",
      "source": [
        "**Properties of KL-Divergence**:\n",
        "\n",
        "- Notion of distance between 2 Probability distributions \n",
        "\n",
        "- In context of $ML$, $D_{KL}(P||Q)$ is often called the information gain achieved if $Q$ is used instead of $P$.\n",
        "\n",
        "- In $Bayesian\\ Inference$ KL divergence can be a measure of the information one gains be refining ones belief (prior) distribution $Q$ to the posterior distribution $P$. In other words, amount of information lost when you choose to approximate $P$ using $Q$.\n",
        "\n",
        "- Generally,\n",
        "  - $P$ represents `true` data distribution. The probability distribution which generated this data, the theoritical one.\n",
        "  - $Q$ represents the `model` probability distribution, which is used to `fit` / `model` the probability distribution of the data. (Approximation of $P$)"
      ]
    },
    {
      "metadata": {
        "id": "YyKBfPMUAQWf",
        "colab_type": "text",
        "slideshow": {
          "slide_type": "slide"
        }
      },
      "cell_type": "markdown",
      "source": [
        "## Example:\n",
        "$\n",
        "\\Omega = \\{A,B\\}, P(A) = 0.2, P(B) = 0.8, Q(A) = Q(B) = 0.5\n",
        "$\n",
        "\n",
        "**Calculate the following**\n",
        "\n",
        "\n",
        "$\n",
        "1)\\ KL(P,Q) = P(A)\\log \\frac{P(A)}{Q(A)} + P(B) \\log \\frac{P(B)}{Q(B)}\n",
        "$\n",
        "\n",
        "$\n",
        "2) KL(Q,P) = Q(A)\\log \\frac{Q(A)}{P(A)} + Q(B) \\log \\frac{Q(B)}{P(B)}\n",
        "$"
      ]
    },
    {
      "metadata": {
        "id": "VzgN50TCBC-I",
        "colab_type": "text",
        "slideshow": {
          "slide_type": "slide"
        }
      },
      "cell_type": "markdown",
      "source": [
        "## Answers\n",
        "$\n",
        "KL(P,Q) = P(A)\\log \\frac{P(A)}{Q(A)} + P(B) \\log \\frac{P(B)}{Q(B)} \\approx 0.19\n",
        "$\n",
        "\n",
        "$\n",
        "KL(Q,P) = Q(A)\\log \\frac{Q(A)}{P(A)} + Q(B) \\log \\frac{Q(B)}{P(B)} \\approx 0.22\n",
        "$\n",
        "\n",
        "\n",
        "Note:\n",
        "$\n",
        "KL(P,Q) \\neq KL(Q,P)\n",
        "$"
      ]
    },
    {
      "metadata": {
        "id": "sZiT1LIP9vU7",
        "colab_type": "text",
        "slideshow": {
          "slide_type": "slide"
        }
      },
      "cell_type": "markdown",
      "source": [
        "## If KL Divergence becomes 0, this means $P$ and $Q$ are almost same everywhere."
      ]
    },
    {
      "metadata": {
        "id": "Lh7GqEWH-B7E",
        "colab_type": "text",
        "slideshow": {
          "slide_type": "slide"
        }
      },
      "cell_type": "markdown",
      "source": [
        "Another Quantity called **Cross-Entropy** related to KL Divergence is defined as \n",
        "\n",
        "\\begin{equation}\n",
        "H(P,Q) = H(P) + D_{KL}(P||Q) = -E_{x\\ \\epsilon\\ P}\\ logQ(x)\n",
        "\\end{equation}\n",
        "\n",
        "\\begin{equation}\n",
        "H(P,Q) =  - E_{x\\ \\epsilon\\ P}[logP(x)] + E_{x\\ \\epsilon\\ P}[logP(x) - logQ(x)]\n",
        "\\end{equation}\n",
        "\n",
        "In discrete case, \n",
        "\n",
        "\n",
        "![cross_entropy](https://wikimedia.org/api/rest_v1/media/math/render/svg/0cb6da032ab424eefdca0884cd4113fe578f4293)\n",
        "\n",
        "- Here $Q(X)$ is our attempt to model the distribution which created the data ($P(X)$)."
      ]
    },
    {
      "metadata": {
        "id": "Nq36o9cifthn",
        "colab_type": "text",
        "slideshow": {
          "slide_type": "slide"
        }
      },
      "cell_type": "markdown",
      "source": [
        "![example_cross_entropy](https://theneuralperspective.files.wordpress.com/2016/10/screen-shot-2016-11-06-at-8-13-41-pm.png?w=620)"
      ]
    },
    {
      "metadata": {
        "id": "yk8qbn-Eftho",
        "colab_type": "text",
        "slideshow": {
          "slide_type": "slide"
        }
      },
      "cell_type": "markdown",
      "source": [
        "![another_exmaple](https://codelabs.developers.google.com/codelabs/cloud-tensorflow-mnist/img/1d8fc59e6a674f1c.png)"
      ]
    },
    {
      "metadata": {
        "id": "4p0CDo97_F_5",
        "colab_type": "text",
        "slideshow": {
          "slide_type": "slide"
        }
      },
      "cell_type": "markdown",
      "source": [
        "### What we do when we train a neural network?\n",
        "\n",
        "We change the weights, biases and other parameters if any. So we are trying to change $Q(X)$ such that it models with $P(X)$ the true distribution which created the dataset we are using to train.\n",
        "\n",
        "So $P(X)$ is something which is **unmoving and fixed**. By changing weights and biases we can change only the model's representation which is $Q(X)$ in a belief to get closer to $P(X)$ which is the true distribution.\n"
      ]
    },
    {
      "metadata": {
        "id": "zJIBY9Rp_wWe",
        "colab_type": "text",
        "slideshow": {
          "slide_type": "slide"
        }
      },
      "cell_type": "markdown",
      "source": [
        "So, minimizing cross-entropy with respect to Q (modelled by weight and biases) is equivalent to **minimizing KL DIvergence**."
      ]
    },
    {
      "metadata": {
        "id": "5SCLqPfV3CvH",
        "colab_type": "text"
      },
      "cell_type": "markdown",
      "source": [
        "# Iris flower species classification"
      ]
    },
    {
      "metadata": {
        "id": "i_nZIqB2bDUB",
        "colab_type": "text"
      },
      "cell_type": "markdown",
      "source": [
        "Download the dataset from here: https://www.kaggle.com/uciml/iris and extract it.\n",
        "\n",
        "This dataset is used to classify flowers of species iris into 3 classes - setosa, virginica, versicolor.\n"
      ]
    },
    {
      "metadata": {
        "id": "VN7W8nkzd-Fj",
        "colab_type": "code",
        "colab": {
          "autoexec": {
            "startup": false,
            "wait_interval": 0
          },
          "resources": {
            "http://localhost:8080/nbextensions/google.colab/files.js": {
              "data": "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",
              "ok": true,
              "headers": [
                [
                  "content-type",
                  "application/javascript"
                ]
              ],
              "status": 200,
              "status_text": ""
            }
          },
          "base_uri": "https://localhost:8080/",
          "height": 89
        },
        "outputId": "af3f7490-18b4-41e4-f646-f26369b3ede7",
        "executionInfo": {
          "status": "ok",
          "timestamp": 1531734147924,
          "user_tz": -330,
          "elapsed": 14033,
          "user": {
            "displayName": "Atul Balaji",
            "photoUrl": "https://lh3.googleusercontent.com/a/default-user=s128",
            "userId": "110550967951765090478"
          }
        }
      },
      "cell_type": "code",
      "source": [
        "#Uploading the required images\n",
        "from google.colab import files\n",
        "\n",
        "uploaded = files.upload()\n",
        "\n",
        "for fn in uploaded.keys():\n",
        "  print('User uploaded file \"{name}\" with length {length} bytes'.format(\n",
        "      name=fn, length=len(uploaded[fn])))"
      ],
      "execution_count": 1,
      "outputs": [
        {
          "output_type": "display_data",
          "data": {
            "text/html": [
              "\n",
              "     <input type=\"file\" id=\"files-1f36026d-54aa-41f0-a324-6db4e7d73d19\" name=\"files[]\" multiple disabled />\n",
              "     <output id=\"result-1f36026d-54aa-41f0-a324-6db4e7d73d19\">\n",
              "      Upload widget is only available when the cell has been executed in the\n",
              "      current browser session. Please rerun this cell to enable.\n",
              "      </output>\n",
              "      <script src=\"/nbextensions/google.colab/files.js\"></script> "
            ],
            "text/plain": [
              "<IPython.core.display.HTML object>"
            ]
          },
          "metadata": {
            "tags": []
          }
        },
        {
          "output_type": "stream",
          "text": [
            "Saving Iris.csv to Iris.csv\n",
            "User uploaded file \"Iris.csv\" with length 5107 bytes\n"
          ],
          "name": "stdout"
        }
      ]
    },
    {
      "metadata": {
        "id": "AUAOVGvsbDUC",
        "colab_type": "code",
        "colab": {
          "autoexec": {
            "startup": false,
            "wait_interval": 0
          },
          "base_uri": "https://localhost:8080/",
          "height": 403
        },
        "outputId": "6789c6e8-f488-4b49-c3ae-e24ecd9d9af0",
        "executionInfo": {
          "status": "ok",
          "timestamp": 1531734201077,
          "user_tz": -330,
          "elapsed": 1137,
          "user": {
            "displayName": "Atul Balaji",
            "photoUrl": "https://lh3.googleusercontent.com/a/default-user=s128",
            "userId": "110550967951765090478"
          }
        }
      },
      "cell_type": "code",
      "source": [
        "import pandas as pd\n",
        "import matplotlib.pyplot as plt\n",
        "iris = pd.read_csv(\"Iris.csv\")\n",
        "iris.drop('Id',axis=1,inplace=True)\n",
        "fig = iris[iris.Species=='Iris-setosa'].plot(kind='scatter',x='SepalLengthCm',y='SepalWidthCm',color='orange', label='Setosa')\n",
        "iris[iris.Species=='Iris-versicolor'].plot(kind='scatter',x='SepalLengthCm',y='SepalWidthCm',color='blue', label='versicolor',ax=fig)\n",
        "iris[iris.Species=='Iris-virginica'].plot(kind='scatter',x='SepalLengthCm',y='SepalWidthCm',color='green', label='virginica', ax=fig)\n",
        "fig.set_xlabel(\"Sepal Length\")\n",
        "fig.set_ylabel(\"Sepal Width\")\n",
        "fig.set_title(\"Sepal Length VS Width\")\n",
        "fig=plt.gcf()\n",
        "fig.set_size_inches(10,6)\n",
        "plt.show()"
      ],
      "execution_count": 5,
      "outputs": [
        {
          "output_type": "display_data",
          "data": {
            "image/png": "[encoded data removed]",
            "text/plain": [
              "<matplotlib.figure.Figure at 0x7f31dfcdeba8>"
            ]
          },
          "metadata": {
            "tags": []
          }
        }
      ]
    },
    {
      "metadata": {
        "id": "fzFws6_3eFj6",
        "colab_type": "code",
        "colab": {
          "autoexec": {
            "startup": false,
            "wait_interval": 0
          }
        }
      },
      "cell_type": "code",
      "source": [
        "dataset = iris.values\n",
        "X = dataset[:,0:4].astype(float)\n",
        "Y = dataset[:,4]"
      ],
      "execution_count": 0,
      "outputs": []
    },
    {
      "metadata": {
        "id": "KSwmNes0eWWa",
        "colab_type": "code",
        "colab": {
          "autoexec": {
            "startup": false,
            "wait_interval": 0
          }
        }
      },
      "cell_type": "code",
      "source": [
        ""
      ],
      "execution_count": 0,
      "outputs": []
    }
  ]
}