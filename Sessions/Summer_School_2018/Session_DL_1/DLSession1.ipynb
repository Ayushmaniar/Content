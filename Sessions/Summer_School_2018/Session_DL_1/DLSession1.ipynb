{
  "nbformat": 4,
  "nbformat_minor": 0,
  "metadata": {
    "colab": {
      "name": "DLSession1.ipynb",
      "version": "0.3.2",
      "views": {},
      "default_view": {},
      "provenance": [],
      "collapsed_sections": []
    },
    "kernelspec": {
      "name": "python3",
      "display_name": "Python 3"
    }
  },
  "cells": [
    {
      "metadata": {
        "id": "9u8b5TrA_ShM",
        "colab_type": "text"
      },
      "cell_type": "markdown",
      "source": [
        "# Deep Learning Session 1 - Math behind Deep Learning and Introduction to Keras"
      ]
    },
    {
      "metadata": {
        "id": "Bc1uVQCQ1U_Y",
        "colab_type": "text"
      },
      "cell_type": "markdown",
      "source": [
        "# Linear Algebra"
      ]
    },
    {
      "metadata": {
        "id": "vzGVAcXltfFO",
        "colab_type": "text"
      },
      "cell_type": "markdown",
      "source": [
        "### Some Terminology\n",
        "* **Features**  \n",
        "  – The number of features or distinct traits that can be used to describe  each item in a quantitative manner. \n",
        "* **Samples**  \n",
        "  – A sample is an item to process (e.g. classify). It can be a document, a picture, a sound, a video, a row in database or CSV file, or whatever you can describe with a fixed set of quantitative traits.\n",
        "* **Feature vector**: An n-dimensional vector of numerical features that represent some object.\n",
        "*  **Feature extraction**  \n",
        " – Preparation of feature vector  \n",
        " – Transform the data in the high-dimensional space to a space of fewer dimensions.  \n",
        "* **Training/Evolution set**\n",
        "  – Set of data to discover potentially predictive relationships.\n"
      ]
    },
    {
      "metadata": {
        "id": "DxfDUJ0f77_X",
        "colab_type": "text"
      },
      "cell_type": "markdown",
      "source": [
        "### ML Techniques \n",
        "\n",
        "_A Broad division_\n",
        "* **classification:** predict class from observations \n",
        "\n",
        "* **clustering:** group observations into\n",
        "“meaningful” groups\n",
        "\n",
        "* **regression (prediction):** predict value from observations"
      ]
    },
    {
      "metadata": {
        "id": "rKvJTRJ5-Lbw",
        "colab_type": "text"
      },
      "cell_type": "markdown",
      "source": [
        "### Linear Algebra Intuitions\n",
        "\n",
        "Lets assume a matrix $\\boldsymbol{A}$ of size $N*N$, a column vector $\\boldsymbol{x}$ of size $N*1$.\n",
        "\n",
        "\n",
        "\\begin{equation}\n",
        "y = Ax\n",
        "\\tag{1}\n",
        "\\end{equation}\n",
        "\n",
        "\n",
        "Let's assume $A$ is a $3*3$ Matrix with its entries as follows,\n",
        "\n",
        "\\begin{equation}\n",
        "A = \n",
        "\\begin{bmatrix} \n",
        "a_1 & a_2 & a_3 \\\\ \n",
        "b_1 & b_2 & b_3 \\\\ \n",
        "c_1 & c_2 & c_3  \n",
        "\\end{bmatrix}\n",
        "\\tag{2}\n",
        "\\end{equation}\n",
        "\n",
        "and $x$ to be a column vector ($3*1$)\n",
        "\\begin{equation}\n",
        "x = \n",
        "\\begin{bmatrix} \n",
        "x_1  \\\\ \n",
        "x_2  \\\\ \n",
        "x_3   \n",
        "\\end{bmatrix}\n",
        "\\tag{3}\n",
        "\\end{equation}"
      ]
    },
    {
      "metadata": {
        "id": "gG8ODD2w-ziC",
        "colab_type": "text"
      },
      "cell_type": "markdown",
      "source": [
        "Now lets multiply them and see the resulting output vector,\n",
        "\n",
        "\\begin{equation}\n",
        "y = Ax = \n",
        "\\begin{bmatrix} \n",
        "a_1 & a_2 & a_3 \\\\ \n",
        "b_1 & b_2 & b_3 \\\\ \n",
        "c_1 & c_2 & c_3  \n",
        "\\end{bmatrix}\n",
        "\\begin{bmatrix}\n",
        "x_1 \\\\\n",
        "x_2 \\\\\n",
        "x_3\n",
        "\\end{bmatrix} =\n",
        "\\begin{bmatrix}\n",
        "a_1x_1 + a_2x_2 + a_3x_3 \\\\\n",
        "b_1x_1 + b_2x_2 + b_3x_3 \\\\\n",
        "c_1x_1 + c_2x_2 + c_3x_3\n",
        "\\end{bmatrix} = \n",
        "\\begin{bmatrix}\n",
        "  x_1\n",
        "  \\begin{pmatrix}\n",
        "  a_1 \\\\\n",
        "  b_1 \\\\\n",
        "  c_1\n",
        "  \\end{pmatrix} +\n",
        "  x_2\n",
        "  \\begin{pmatrix}\n",
        "  a_2 \\\\\n",
        "  b_2 \\\\\n",
        "  c_2\n",
        "  \\end{pmatrix} + \n",
        "  x_3\n",
        "  \\begin{pmatrix}\n",
        "  a_3 \\\\\n",
        "  b_3 \\\\\n",
        "  c_3\n",
        "  \\end{pmatrix}\n",
        "\\end{bmatrix}\n",
        "\\tag{4}\n",
        "\\end{equation} \n",
        "\n",
        "So multiplying a matrix with a column vector returns a vector which is a linear combination of its column vectors (as shown above).\n",
        "\n",
        "* $C(A) = $ It denotes the column space of the matrix $A$. \n",
        "* Column space is the span of all the column vectors of Matrix $A$. "
      ]
    },
    {
      "metadata": {
        "id": "cM4itoSU-6AK",
        "colab_type": "text"
      },
      "cell_type": "markdown",
      "source": [
        "For example,\n",
        "\n",
        "Lets take,\n",
        "\n",
        "\\begin{equation}\n",
        "\\boldsymbol{A} = \n",
        "\\begin{bmatrix}\n",
        "1 & 2 & 3 \\\\\n",
        "2 & 3 & 2 \\\\\n",
        "3 & 1 & 1\n",
        "\\end{bmatrix}\n",
        "\\end{equation}\n",
        "\n",
        "\\begin{equation}\n",
        "y = Ax = \n",
        "\\begin{bmatrix} \n",
        "1 & 2 & 3 \\\\ \n",
        "2 & 3 & 2 \\\\ \n",
        "3 & 1 & 1  \n",
        "\\end{bmatrix}\n",
        "\\begin{bmatrix}\n",
        "x_1 \\\\\n",
        "x_2 \\\\\n",
        "x_3\n",
        "\\end{bmatrix} =\n",
        "\\begin{bmatrix}\n",
        "1x_1 + 2x_2 + 3x_3 \\\\\n",
        "2x_1 + 3x_2 + 2x_3 \\\\\n",
        "3x_1 + 1x_2 + x_3\n",
        "\\end{bmatrix} =\n",
        "\\begin{bmatrix}\n",
        "  x_1\n",
        "  \\begin{pmatrix}\n",
        "  1 \\\\\n",
        "  2 \\\\\n",
        "  3\n",
        "  \\end{pmatrix} +\n",
        "  x_2\n",
        "  \\begin{pmatrix}\n",
        "  2 \\\\\n",
        "  3 \\\\\n",
        "  1\n",
        "  \\end{pmatrix} + \n",
        "  x_3\n",
        "  \\begin{pmatrix}\n",
        "  3 \\\\\n",
        "  2 \\\\\n",
        "  1\n",
        "  \\end{pmatrix}\n",
        "\\end{bmatrix}\n",
        "\\tag{5}\n",
        "\\end{equation}"
      ]
    },
    {
      "metadata": {
        "id": "iRd-9AMO_Cpl",
        "colab_type": "text"
      },
      "cell_type": "markdown",
      "source": [
        "\n",
        "\\begin{equation}\n",
        "\\boldsymbol{A} = \n",
        "\\begin{bmatrix}\n",
        "1 & 2 & 1 \\\\\n",
        "1 & 2 & 2 \\\\\n",
        "1 & 2 & 3\n",
        "\\end{bmatrix}\n",
        "\\end{equation}\n",
        "\n",
        "\n",
        "\\begin{equation}\n",
        "y = Ax = \n",
        "\\begin{bmatrix} \n",
        "1 & 2 & 1 \\\\\n",
        "1 & 2 & 2 \\\\\n",
        "1 & 2 & 3\n",
        "\\end{bmatrix}\n",
        "\\begin{bmatrix}\n",
        "x_1 \\\\\n",
        "x_2 \\\\\n",
        "x_3\n",
        "\\end{bmatrix} =\n",
        "\\begin{bmatrix}\n",
        "1x_1 + 2x_2 + 1x_3 \\\\\n",
        "1x_1 + 2x_2 + 2x_3 \\\\\n",
        "1x_1 + 2x_2 + 3x_3\n",
        "\\end{bmatrix} =\n",
        "\\begin{bmatrix}\n",
        "  (x_1 + 2x_2)\n",
        "  \\begin{pmatrix}\n",
        "  1 \\\\\n",
        "  1 \\\\\n",
        "  1\n",
        "  \\end{pmatrix} +\n",
        "  x_3\n",
        "  \\begin{pmatrix}\n",
        "  1 \\\\\n",
        "  2 \\\\\n",
        "  3\n",
        "  \\end{pmatrix}\n",
        "\\end{bmatrix}\n",
        "\\tag{6}\n",
        "\\end{equation}\n",
        "\n",
        "### What does this mean?\n",
        "\n",
        "This matrix multiplication $\\boldsymbol{Ax}$ cannot represent the entire 3-D space as the previous matrix $(5)$, rather what can it represent ??\n",
        "\n",
        "Since its a linear combination of two 3-D vectors, it actually represents a plane in 3-D space passing through origin if the complete equation is $\\boldsymbol{Ax} = 0$\n",
        "\n",
        "Note the normal to the plane these guys represent in this case is,\n",
        "\n",
        "\\begin{equation}\n",
        "N = \n",
        "\\begin{pmatrix}\n",
        "1 \\\\\n",
        "1 \\\\\n",
        "1\n",
        "\\end{pmatrix}\n",
        "\\times\n",
        "\\begin{pmatrix}\n",
        "1 \\\\\n",
        "2 \\\\\n",
        "3\n",
        "\\end{pmatrix}\n",
        "\\end{equation}"
      ]
    },
    {
      "metadata": {
        "id": "B2Al5aS6_aZ5",
        "colab_type": "text"
      },
      "cell_type": "markdown",
      "source": [
        "## Why did we do all that?\n",
        "\n",
        "You guys know that equations can be represented in $Matrix\\ form$.\n",
        "\n",
        "Lets take an example of 3 simultaneous equations,\n",
        "\n",
        "\\begin{equation} 3x + 5y + z = 1\\\\ 7x – 2y + 4z = 5\\\\ -6x + 3y + 2z = 10 \\end{equation}\n",
        "\n",
        "Whats its matrix representation ?\n",
        "\n",
        "\\begin{equation}\n",
        "\\begin{bmatrix}\n",
        "3 & 5 & 1 \\\\\n",
        "7 & -2 & 4 \\\\\n",
        "-6 & 3 & 2\n",
        "\\end{bmatrix}\n",
        "\\begin{bmatrix}\n",
        "x \\\\\n",
        "y \\\\\n",
        "z\n",
        "\\end{bmatrix} = \n",
        "\\begin{bmatrix}\n",
        "1 \\\\\n",
        "5 \\\\\n",
        "10\n",
        "\\end{bmatrix} = \n",
        "\\begin{bmatrix}\n",
        "  x\n",
        "  \\begin{pmatrix}\n",
        "  3 \\\\\n",
        "  7 \\\\\n",
        "  -6\n",
        "  \\end{pmatrix} +\n",
        "  y\n",
        "  \\begin{pmatrix}\n",
        "  5 \\\\\n",
        "  -2 \\\\\n",
        "  3\n",
        "  \\end{pmatrix} + \n",
        "  z\n",
        "  \\begin{pmatrix}\n",
        "  1 \\\\\n",
        "  4 \\\\\n",
        "  2\n",
        "  \\end{pmatrix}\n",
        "\\end{bmatrix}\n",
        "\\tag{7}\n",
        "\\end{equation}"
      ]
    },
    {
      "metadata": {
        "id": "1u171JngEaX2",
        "colab_type": "text"
      },
      "cell_type": "markdown",
      "source": [
        "Now, let us make another dataset with 2 clusters, 2 features and 400 samples."
      ]
    },
    {
      "metadata": {
        "id": "ynWs30QFoPxO",
        "colab_type": "text"
      },
      "cell_type": "markdown",
      "source": [
        "## Linear Classifier\n",
        "\n",
        "A linear classifier uses a score function f of the form $f(x_i,W,b)=Wx_i+b$, where the matrix **W** is called the **weight matrix** and **b** is called the **bias vector**."
      ]
    },
    {
      "metadata": {
        "id": "8ojgQx2F_Luo",
        "colab_type": "code",
        "colab": {
          "autoexec": {
            "startup": false,
            "wait_interval": 0
          }
        }
      },
      "cell_type": "code",
      "source": [
        "import numpy as np\n",
        "import tensorflow as tf\n",
        "import keras\n",
        "from sklearn.datasets import make_blobs\n",
        "from keras.models import Sequential\n",
        "from keras.layers import Dense, Activation\n",
        "from keras.regularizers import L1L2\n",
        "import pandas as pd\n",
        "from sklearn.model_selection import train_test_split\n",
        "from keras.utils import np_utils \n",
        "import matplotlib.pyplot as plt\n",
        "import seaborn as sns\n",
        "%matplotlib inline"
      ],
      "execution_count": 0,
      "outputs": []
    },
    {
      "metadata": {
        "id": "je5DDyXp_ftO",
        "colab_type": "code",
        "colab": {
          "autoexec": {
            "startup": false,
            "wait_interval": 0
          },
          "base_uri": "https://localhost:8080/",
          "height": 265
        },
        "outputId": "246cc4bc-9dfe-4266-b29b-91389629f8e3",
        "executionInfo": {
          "status": "ok",
          "timestamp": 1531727367021,
          "user_tz": -330,
          "elapsed": 953,
          "user": {
            "displayName": "Atul Balaji",
            "photoUrl": "https://lh3.googleusercontent.com/a/default-user=s128",
            "userId": "114090638288848832178"
          }
        }
      },
      "cell_type": "code",
      "source": [
        "data = make_blobs(n_samples=4000, n_features=2, centers=2, cluster_std=2.5,random_state=101)\n",
        "plt.scatter(data[0][:,0],data[0][:,1],c=data[1],cmap='rainbow')\n",
        "plt.show()"
      ],
      "execution_count": 28,
      "outputs": [
        {
          "output_type": "display_data",
          "data": {
            "image/png": "[encoded data removed]",
            "text/plain": [
              "<matplotlib.figure.Figure at 0x7f8091514080>"
            ]
          },
          "metadata": {
            "tags": []
          }
        }
      ]
    },
    {
      "metadata": {
        "id": "JPrdDNh4GZnt",
        "colab_type": "text"
      },
      "cell_type": "markdown",
      "source": [
        "Convert to one-hot labels."
      ]
    },
    {
      "metadata": {
        "id": "Uol0VonIqdVl",
        "colab_type": "code",
        "colab": {
          "autoexec": {
            "startup": false,
            "wait_interval": 0
          },
          "base_uri": "https://localhost:8080/",
          "height": 68
        },
        "outputId": "d7edfced-56e2-4a16-b94b-04e9e7015d1a",
        "executionInfo": {
          "status": "ok",
          "timestamp": 1531727368228,
          "user_tz": -330,
          "elapsed": 807,
          "user": {
            "displayName": "Atul Balaji",
            "photoUrl": "https://lh3.googleusercontent.com/a/default-user=s128",
            "userId": "114090638288848832178"
          }
        }
      },
      "cell_type": "code",
      "source": [
        "X = data[0]\n",
        "y = data[1]\n",
        "X_train, X_test, y_train, y_test = train_test_split(X, y, test_size=0.2, random_state=42)\n",
        "Y_train = np_utils.to_categorical(y_train, 2) \n",
        "Y_test = np_utils.to_categorical(y_test, 2)\n",
        "print(\"y_train labels: \",y_train.shape)\n",
        "print(\"Y_train one-hot labels: \\n\",Y_train.shape)"
      ],
      "execution_count": 29,
      "outputs": [
        {
          "output_type": "stream",
          "text": [
            "y_train labels:  (3200,)\n",
            "Y_train one-hot labels: \n",
            " (3200, 2)\n"
          ],
          "name": "stdout"
        }
      ]
    },
    {
      "metadata": {
        "id": "I__a7uQ8GnkP",
        "colab_type": "text"
      },
      "cell_type": "markdown",
      "source": [
        "Define the model and train it."
      ]
    },
    {
      "metadata": {
        "id": "ue4bgj2nqu-6",
        "colab_type": "code",
        "colab": {
          "autoexec": {
            "startup": false,
            "wait_interval": 0
          }
        }
      },
      "cell_type": "code",
      "source": [
        "model = Sequential() \n",
        "model.add(Dense(2, input_dim=2, name='wx_b'))\n",
        "model.add(Activation('softmax', name='softmax'))\n",
        "batch_size = 128\n",
        "nb_epoch = 100"
      ],
      "execution_count": 0,
      "outputs": []
    },
    {
      "metadata": {
        "id": "FJeqkHRBrGTO",
        "colab_type": "code",
        "colab": {
          "autoexec": {
            "startup": false,
            "wait_interval": 0
          },
          "base_uri": "https://localhost:8080/",
          "height": 3488
        },
        "outputId": "b7333913-699b-46e7-b23f-05365589e319",
        "executionInfo": {
          "status": "ok",
          "timestamp": 1531727374046,
          "user_tz": -330,
          "elapsed": 4640,
          "user": {
            "displayName": "Atul Balaji",
            "photoUrl": "https://lh3.googleusercontent.com/a/default-user=s128",
            "userId": "114090638288848832178"
          }
        }
      },
      "cell_type": "code",
      "source": [
        "model.compile(optimizer='sgd', loss='categorical_crossentropy', metrics=['accuracy']) \n",
        "history = model.fit(X_train, Y_train, batch_size=batch_size, epochs=nb_epoch,verbose=1, validation_data=(X_test, Y_test)) \n",
        "score = model.evaluate(X_test, Y_test, verbose=0) \n",
        "print('Test score:', score[0])\n",
        "print('Test accuracy:', score[1])"
      ],
      "execution_count": 31,
      "outputs": [
        {
          "output_type": "stream",
          "text": [
            "Train on 3200 samples, validate on 800 samples\n",
            "Epoch 1/100\n",
            "3200/3200 [==============================] - 0s 44us/step - loss: 1.6929 - acc: 0.5241 - val_loss: 0.5655 - val_acc: 0.7250\n",
            "Epoch 2/100\n",
            "3200/3200 [==============================] - 0s 11us/step - loss: 0.4604 - acc: 0.7706 - val_loss: 0.3820 - val_acc: 0.8025\n",
            "Epoch 3/100\n",
            "3200/3200 [==============================] - 0s 11us/step - loss: 0.3396 - acc: 0.8228 - val_loss: 0.2952 - val_acc: 0.8500\n",
            "Epoch 4/100\n",
            "3200/3200 [==============================] - 0s 11us/step - loss: 0.2790 - acc: 0.8606 - val_loss: 0.2484 - val_acc: 0.8850\n",
            "Epoch 5/100\n",
            "3200/3200 [==============================] - 0s 11us/step - loss: 0.2451 - acc: 0.8875 - val_loss: 0.2209 - val_acc: 0.9100\n",
            "Epoch 6/100\n",
            "3200/3200 [==============================] - 0s 11us/step - loss: 0.2241 - acc: 0.9056 - val_loss: 0.2032 - val_acc: 0.9225\n",
            "Epoch 7/100\n",
            "3200/3200 [==============================] - 0s 11us/step - loss: 0.2099 - acc: 0.9163 - val_loss: 0.1906 - val_acc: 0.9325\n",
            "Epoch 8/100\n",
            "3200/3200 [==============================] - 0s 11us/step - loss: 0.1990 - acc: 0.9263 - val_loss: 0.1809 - val_acc: 0.9387\n",
            "Epoch 9/100\n",
            "3200/3200 [==============================] - 0s 11us/step - loss: 0.1902 - acc: 0.9316 - val_loss: 0.1728 - val_acc: 0.9400\n",
            "Epoch 10/100\n",
            "3200/3200 [==============================] - 0s 10us/step - loss: 0.1826 - acc: 0.9341 - val_loss: 0.1659 - val_acc: 0.9413\n",
            "Epoch 11/100\n",
            "3200/3200 [==============================] - 0s 11us/step - loss: 0.1758 - acc: 0.9372 - val_loss: 0.1597 - val_acc: 0.9450\n",
            "Epoch 12/100\n",
            "3200/3200 [==============================] - 0s 11us/step - loss: 0.1696 - acc: 0.9431 - val_loss: 0.1542 - val_acc: 0.9475\n",
            "Epoch 13/100\n",
            "3200/3200 [==============================] - 0s 11us/step - loss: 0.1640 - acc: 0.9469 - val_loss: 0.1491 - val_acc: 0.9513\n",
            "Epoch 14/100\n",
            "3200/3200 [==============================] - 0s 11us/step - loss: 0.1588 - acc: 0.9481 - val_loss: 0.1444 - val_acc: 0.9563\n",
            "Epoch 15/100\n",
            "3200/3200 [==============================] - 0s 11us/step - loss: 0.1539 - acc: 0.9503 - val_loss: 0.1401 - val_acc: 0.9575\n",
            "Epoch 16/100\n",
            "3200/3200 [==============================] - 0s 11us/step - loss: 0.1494 - acc: 0.9531 - val_loss: 0.1361 - val_acc: 0.9587\n",
            "Epoch 17/100\n",
            "3200/3200 [==============================] - 0s 11us/step - loss: 0.1452 - acc: 0.9531 - val_loss: 0.1323 - val_acc: 0.9587\n",
            "Epoch 18/100\n",
            "3200/3200 [==============================] - 0s 11us/step - loss: 0.1412 - acc: 0.9556 - val_loss: 0.1288 - val_acc: 0.9587\n",
            "Epoch 19/100\n",
            "3200/3200 [==============================] - 0s 11us/step - loss: 0.1375 - acc: 0.9569 - val_loss: 0.1256 - val_acc: 0.9600\n",
            "Epoch 20/100\n",
            "3200/3200 [==============================] - 0s 11us/step - loss: 0.1340 - acc: 0.9594 - val_loss: 0.1225 - val_acc: 0.9625\n",
            "Epoch 21/100\n",
            "3200/3200 [==============================] - 0s 10us/step - loss: 0.1306 - acc: 0.9625 - val_loss: 0.1196 - val_acc: 0.9650\n",
            "Epoch 22/100\n",
            "3200/3200 [==============================] - 0s 11us/step - loss: 0.1275 - acc: 0.9637 - val_loss: 0.1168 - val_acc: 0.9650\n",
            "Epoch 23/100\n",
            "3200/3200 [==============================] - 0s 11us/step - loss: 0.1246 - acc: 0.9647 - val_loss: 0.1142 - val_acc: 0.9675\n",
            "Epoch 24/100\n",
            "3200/3200 [==============================] - 0s 11us/step - loss: 0.1218 - acc: 0.9669 - val_loss: 0.1117 - val_acc: 0.9675\n",
            "Epoch 25/100\n",
            "3200/3200 [==============================] - 0s 11us/step - loss: 0.1191 - acc: 0.9681 - val_loss: 0.1094 - val_acc: 0.9688\n",
            "Epoch 26/100\n",
            "3200/3200 [==============================] - 0s 11us/step - loss: 0.1166 - acc: 0.9703 - val_loss: 0.1072 - val_acc: 0.9688\n"
          ],
          "name": "stdout"
        },
        {
          "output_type": "stream",
          "text": [
            "Epoch 27/100\n",
            "3200/3200 [==============================] - 0s 11us/step - loss: 0.1142 - acc: 0.9719 - val_loss: 0.1051 - val_acc: 0.9712\n",
            "Epoch 28/100\n",
            "3200/3200 [==============================] - 0s 11us/step - loss: 0.1119 - acc: 0.9722 - val_loss: 0.1031 - val_acc: 0.9725\n",
            "Epoch 29/100\n",
            "3200/3200 [==============================] - 0s 11us/step - loss: 0.1098 - acc: 0.9725 - val_loss: 0.1012 - val_acc: 0.9738\n",
            "Epoch 30/100\n",
            "3200/3200 [==============================] - 0s 11us/step - loss: 0.1077 - acc: 0.9728 - val_loss: 0.0994 - val_acc: 0.9762\n",
            "Epoch 31/100\n",
            "3200/3200 [==============================] - 0s 11us/step - loss: 0.1057 - acc: 0.9734 - val_loss: 0.0977 - val_acc: 0.9788\n",
            "Epoch 32/100\n",
            "3200/3200 [==============================] - 0s 12us/step - loss: 0.1039 - acc: 0.9747 - val_loss: 0.0960 - val_acc: 0.9788\n",
            "Epoch 33/100\n",
            "3200/3200 [==============================] - 0s 11us/step - loss: 0.1021 - acc: 0.9750 - val_loss: 0.0944 - val_acc: 0.9788\n",
            "Epoch 34/100\n",
            "3200/3200 [==============================] - 0s 11us/step - loss: 0.1003 - acc: 0.9753 - val_loss: 0.0929 - val_acc: 0.9788\n",
            "Epoch 35/100\n",
            "3200/3200 [==============================] - 0s 12us/step - loss: 0.0987 - acc: 0.9759 - val_loss: 0.0914 - val_acc: 0.9800\n",
            "Epoch 36/100\n",
            "3200/3200 [==============================] - 0s 11us/step - loss: 0.0971 - acc: 0.9763 - val_loss: 0.0900 - val_acc: 0.9800\n",
            "Epoch 37/100\n",
            "3200/3200 [==============================] - 0s 11us/step - loss: 0.0956 - acc: 0.9769 - val_loss: 0.0887 - val_acc: 0.9800\n",
            "Epoch 38/100\n",
            "3200/3200 [==============================] - 0s 11us/step - loss: 0.0941 - acc: 0.9775 - val_loss: 0.0874 - val_acc: 0.9800\n",
            "Epoch 39/100\n",
            "3200/3200 [==============================] - 0s 11us/step - loss: 0.0927 - acc: 0.9778 - val_loss: 0.0861 - val_acc: 0.9800\n",
            "Epoch 40/100\n",
            "3200/3200 [==============================] - 0s 11us/step - loss: 0.0914 - acc: 0.9778 - val_loss: 0.0849 - val_acc: 0.9800\n",
            "Epoch 41/100\n",
            "3200/3200 [==============================] - 0s 12us/step - loss: 0.0901 - acc: 0.9781 - val_loss: 0.0838 - val_acc: 0.9812\n",
            "Epoch 42/100\n",
            "3200/3200 [==============================] - 0s 11us/step - loss: 0.0888 - acc: 0.9791 - val_loss: 0.0827 - val_acc: 0.9812\n",
            "Epoch 43/100\n",
            "3200/3200 [==============================] - 0s 11us/step - loss: 0.0876 - acc: 0.9806 - val_loss: 0.0816 - val_acc: 0.9812\n",
            "Epoch 44/100\n",
            "3200/3200 [==============================] - 0s 11us/step - loss: 0.0864 - acc: 0.9806 - val_loss: 0.0806 - val_acc: 0.9825\n",
            "Epoch 45/100\n",
            "3200/3200 [==============================] - 0s 11us/step - loss: 0.0853 - acc: 0.9806 - val_loss: 0.0796 - val_acc: 0.9825\n",
            "Epoch 46/100\n",
            "3200/3200 [==============================] - 0s 11us/step - loss: 0.0842 - acc: 0.9809 - val_loss: 0.0786 - val_acc: 0.9838\n",
            "Epoch 47/100\n",
            "3200/3200 [==============================] - 0s 11us/step - loss: 0.0832 - acc: 0.9812 - val_loss: 0.0777 - val_acc: 0.9850\n",
            "Epoch 48/100\n",
            "3200/3200 [==============================] - 0s 11us/step - loss: 0.0822 - acc: 0.9816 - val_loss: 0.0768 - val_acc: 0.9850\n",
            "Epoch 49/100\n",
            "3200/3200 [==============================] - 0s 11us/step - loss: 0.0812 - acc: 0.9819 - val_loss: 0.0759 - val_acc: 0.9850\n",
            "Epoch 50/100\n",
            "3200/3200 [==============================] - 0s 13us/step - loss: 0.0802 - acc: 0.9822 - val_loss: 0.0751 - val_acc: 0.9850\n",
            "Epoch 51/100\n",
            "3200/3200 [==============================] - 0s 12us/step - loss: 0.0793 - acc: 0.9825 - val_loss: 0.0742 - val_acc: 0.9850\n",
            "Epoch 52/100\n",
            "3200/3200 [==============================] - 0s 11us/step - loss: 0.0784 - acc: 0.9831 - val_loss: 0.0734 - val_acc: 0.9850\n",
            "Epoch 53/100\n",
            " 128/3200 [>.............................] - ETA: 0s - loss: 0.0961 - acc: 0.9844"
          ],
          "name": "stdout"
        },
        {
          "output_type": "stream",
          "text": [
            "3200/3200 [==============================] - 0s 11us/step - loss: 0.0775 - acc: 0.9834 - val_loss: 0.0726 - val_acc: 0.9850\n",
            "Epoch 54/100\n",
            "3200/3200 [==============================] - 0s 12us/step - loss: 0.0767 - acc: 0.9834 - val_loss: 0.0719 - val_acc: 0.9850\n",
            "Epoch 55/100\n",
            "3200/3200 [==============================] - 0s 13us/step - loss: 0.0759 - acc: 0.9834 - val_loss: 0.0712 - val_acc: 0.9850\n",
            "Epoch 56/100\n",
            "3200/3200 [==============================] - 0s 11us/step - loss: 0.0751 - acc: 0.9838 - val_loss: 0.0705 - val_acc: 0.9850\n",
            "Epoch 57/100\n",
            "3200/3200 [==============================] - 0s 12us/step - loss: 0.0743 - acc: 0.9841 - val_loss: 0.0698 - val_acc: 0.9862\n",
            "Epoch 58/100\n",
            "3200/3200 [==============================] - 0s 11us/step - loss: 0.0736 - acc: 0.9841 - val_loss: 0.0691 - val_acc: 0.9862\n",
            "Epoch 59/100\n",
            "3200/3200 [==============================] - 0s 12us/step - loss: 0.0729 - acc: 0.9844 - val_loss: 0.0685 - val_acc: 0.9862\n",
            "Epoch 60/100\n",
            "3200/3200 [==============================] - 0s 13us/step - loss: 0.0721 - acc: 0.9844 - val_loss: 0.0679 - val_acc: 0.9862\n",
            "Epoch 61/100\n",
            "3200/3200 [==============================] - 0s 11us/step - loss: 0.0714 - acc: 0.9844 - val_loss: 0.0672 - val_acc: 0.9875\n",
            "Epoch 62/100\n",
            "3200/3200 [==============================] - 0s 12us/step - loss: 0.0708 - acc: 0.9844 - val_loss: 0.0667 - val_acc: 0.9875\n",
            "Epoch 63/100\n",
            "3200/3200 [==============================] - 0s 12us/step - loss: 0.0701 - acc: 0.9847 - val_loss: 0.0660 - val_acc: 0.9875\n",
            "Epoch 64/100\n",
            "3200/3200 [==============================] - 0s 12us/step - loss: 0.0695 - acc: 0.9844 - val_loss: 0.0655 - val_acc: 0.9875\n",
            "Epoch 65/100\n",
            "3200/3200 [==============================] - 0s 11us/step - loss: 0.0689 - acc: 0.9844 - val_loss: 0.0649 - val_acc: 0.9875\n",
            "Epoch 66/100\n",
            "3200/3200 [==============================] - 0s 12us/step - loss: 0.0683 - acc: 0.9847 - val_loss: 0.0644 - val_acc: 0.9875\n",
            "Epoch 67/100\n",
            "3200/3200 [==============================] - 0s 11us/step - loss: 0.0677 - acc: 0.9853 - val_loss: 0.0639 - val_acc: 0.9875\n",
            "Epoch 68/100\n",
            "3200/3200 [==============================] - 0s 11us/step - loss: 0.0671 - acc: 0.9856 - val_loss: 0.0633 - val_acc: 0.9875\n",
            "Epoch 69/100\n",
            "3200/3200 [==============================] - 0s 12us/step - loss: 0.0665 - acc: 0.9859 - val_loss: 0.0628 - val_acc: 0.9875\n",
            "Epoch 70/100\n",
            "3200/3200 [==============================] - 0s 11us/step - loss: 0.0660 - acc: 0.9856 - val_loss: 0.0624 - val_acc: 0.9875\n",
            "Epoch 71/100\n",
            "3200/3200 [==============================] - 0s 11us/step - loss: 0.0655 - acc: 0.9862 - val_loss: 0.0619 - val_acc: 0.9875\n",
            "Epoch 72/100\n",
            "3200/3200 [==============================] - 0s 11us/step - loss: 0.0649 - acc: 0.9862 - val_loss: 0.0614 - val_acc: 0.9875\n",
            "Epoch 73/100\n",
            "3200/3200 [==============================] - 0s 11us/step - loss: 0.0644 - acc: 0.9862 - val_loss: 0.0609 - val_acc: 0.9875\n",
            "Epoch 74/100\n",
            "3200/3200 [==============================] - 0s 11us/step - loss: 0.0639 - acc: 0.9866 - val_loss: 0.0605 - val_acc: 0.9875\n",
            "Epoch 75/100\n",
            "3200/3200 [==============================] - 0s 11us/step - loss: 0.0634 - acc: 0.9866 - val_loss: 0.0601 - val_acc: 0.9888\n",
            "Epoch 76/100\n",
            "3200/3200 [==============================] - 0s 13us/step - loss: 0.0630 - acc: 0.9866 - val_loss: 0.0596 - val_acc: 0.9888\n",
            "Epoch 77/100\n",
            "3200/3200 [==============================] - 0s 12us/step - loss: 0.0625 - acc: 0.9866 - val_loss: 0.0592 - val_acc: 0.9888\n",
            "Epoch 78/100\n",
            " 128/3200 [>.............................] - ETA: 0s - loss: 0.0691 - acc: 0.9766"
          ],
          "name": "stdout"
        },
        {
          "output_type": "stream",
          "text": [
            "\b\b\b\b\b\b\b\b\b\b\b\b\b\b\b\b\b\b\b\b\b\b\b\b\b\b\b\b\b\b\b\b\b\b\b\b\b\b\b\b\b\b\b\b\b\b\b\b\b\b\b\b\b\b\b\b\b\b\b\b\b\b\b\b\b\b\b\b\b\b\b\b\b\b\b\b\b\b\b\b\b\r3200/3200 [==============================] - 0s 12us/step - loss: 0.0620 - acc: 0.9869 - val_loss: 0.0588 - val_acc: 0.9888\n",
            "Epoch 79/100\n",
            "3200/3200 [==============================] - 0s 13us/step - loss: 0.0616 - acc: 0.9872 - val_loss: 0.0584 - val_acc: 0.9888\n",
            "Epoch 80/100\n",
            "3200/3200 [==============================] - 0s 11us/step - loss: 0.0612 - acc: 0.9872 - val_loss: 0.0580 - val_acc: 0.9888\n",
            "Epoch 81/100\n",
            "3200/3200 [==============================] - 0s 12us/step - loss: 0.0607 - acc: 0.9872 - val_loss: 0.0576 - val_acc: 0.9888\n",
            "Epoch 82/100\n",
            "3200/3200 [==============================] - 0s 11us/step - loss: 0.0603 - acc: 0.9872 - val_loss: 0.0573 - val_acc: 0.9900\n",
            "Epoch 83/100\n",
            "3200/3200 [==============================] - 0s 12us/step - loss: 0.0599 - acc: 0.9872 - val_loss: 0.0569 - val_acc: 0.9900\n",
            "Epoch 84/100\n",
            "3200/3200 [==============================] - 0s 12us/step - loss: 0.0595 - acc: 0.9872 - val_loss: 0.0565 - val_acc: 0.9900\n",
            "Epoch 85/100\n",
            "3200/3200 [==============================] - 0s 11us/step - loss: 0.0591 - acc: 0.9872 - val_loss: 0.0562 - val_acc: 0.9900\n",
            "Epoch 86/100\n",
            "3200/3200 [==============================] - 0s 12us/step - loss: 0.0587 - acc: 0.9872 - val_loss: 0.0558 - val_acc: 0.9900\n",
            "Epoch 87/100\n",
            "3200/3200 [==============================] - 0s 11us/step - loss: 0.0584 - acc: 0.9872 - val_loss: 0.0555 - val_acc: 0.9900\n",
            "Epoch 88/100\n",
            "3200/3200 [==============================] - 0s 12us/step - loss: 0.0580 - acc: 0.9878 - val_loss: 0.0552 - val_acc: 0.9900\n",
            "Epoch 89/100\n",
            "3200/3200 [==============================] - 0s 11us/step - loss: 0.0576 - acc: 0.9878 - val_loss: 0.0548 - val_acc: 0.9900\n",
            "Epoch 90/100\n",
            "3200/3200 [==============================] - 0s 12us/step - loss: 0.0572 - acc: 0.9878 - val_loss: 0.0545 - val_acc: 0.9900\n",
            "Epoch 91/100\n",
            "3200/3200 [==============================] - 0s 11us/step - loss: 0.0569 - acc: 0.9878 - val_loss: 0.0542 - val_acc: 0.9900\n",
            "Epoch 92/100\n",
            "3200/3200 [==============================] - 0s 11us/step - loss: 0.0566 - acc: 0.9878 - val_loss: 0.0539 - val_acc: 0.9900\n",
            "Epoch 93/100\n",
            "3200/3200 [==============================] - 0s 12us/step - loss: 0.0562 - acc: 0.9881 - val_loss: 0.0536 - val_acc: 0.9900\n",
            "Epoch 94/100\n",
            "3200/3200 [==============================] - 0s 12us/step - loss: 0.0559 - acc: 0.9881 - val_loss: 0.0533 - val_acc: 0.9900\n",
            "Epoch 95/100\n",
            "3200/3200 [==============================] - 0s 11us/step - loss: 0.0556 - acc: 0.9884 - val_loss: 0.0530 - val_acc: 0.9900\n",
            "Epoch 96/100\n",
            "3200/3200 [==============================] - 0s 12us/step - loss: 0.0552 - acc: 0.9884 - val_loss: 0.0527 - val_acc: 0.9900\n",
            "Epoch 97/100\n",
            "3200/3200 [==============================] - 0s 11us/step - loss: 0.0549 - acc: 0.9884 - val_loss: 0.0524 - val_acc: 0.9900\n",
            "Epoch 98/100\n",
            "3200/3200 [==============================] - 0s 12us/step - loss: 0.0546 - acc: 0.9884 - val_loss: 0.0521 - val_acc: 0.9900\n",
            "Epoch 99/100\n",
            "3200/3200 [==============================] - 0s 11us/step - loss: 0.0543 - acc: 0.9884 - val_loss: 0.0518 - val_acc: 0.9900\n",
            "Epoch 100/100\n",
            "3200/3200 [==============================] - 0s 11us/step - loss: 0.0540 - acc: 0.9884 - val_loss: 0.0516 - val_acc: 0.9900\n",
            "Test score: 0.05157193094491959\n",
            "Test accuracy: 0.99\n"
          ],
          "name": "stdout"
        }
      ]
    },
    {
      "metadata": {
        "id": "-siZUAEzGyQQ",
        "colab_type": "text"
      },
      "cell_type": "markdown",
      "source": [
        "Retrieve the weights and biases from the learned model."
      ]
    },
    {
      "metadata": {
        "id": "6q77i6hMrfy2",
        "colab_type": "code",
        "colab": {
          "autoexec": {
            "startup": false,
            "wait_interval": 0
          }
        }
      },
      "cell_type": "code",
      "source": [
        "w_dense = (model.layers[0].get_weights()[0])\n",
        "b_dense =  (model.layers[0].get_weights()[1])"
      ],
      "execution_count": 0,
      "outputs": []
    },
    {
      "metadata": {
        "id": "bwNVWpCEr_Ss",
        "colab_type": "text"
      },
      "cell_type": "markdown",
      "source": [
        "Let us visualize the weights and bias terms which have been learned."
      ]
    },
    {
      "metadata": {
        "id": "-M4EG5brstwy",
        "colab_type": "code",
        "colab": {
          "autoexec": {
            "startup": false,
            "wait_interval": 0
          },
          "base_uri": "https://localhost:8080/",
          "height": 299
        },
        "outputId": "1117f6d1-7454-46d2-bcf5-f20341fe45cd",
        "executionInfo": {
          "status": "ok",
          "timestamp": 1531727376008,
          "user_tz": -330,
          "elapsed": 813,
          "user": {
            "displayName": "Atul Balaji",
            "photoUrl": "https://lh3.googleusercontent.com/a/default-user=s128",
            "userId": "114090638288848832178"
          }
        }
      },
      "cell_type": "code",
      "source": [
        "sns.heatmap(w_dense, linewidth=0.5)\n",
        "plt.show()\n",
        "print (w_dense)"
      ],
      "execution_count": 33,
      "outputs": [
        {
          "output_type": "display_data",
          "data": {
            "image/png": "[encoded data removed]",
            "text/plain": [
              "<matplotlib.figure.Figure at 0x7f8091050a90>"
            ]
          },
          "metadata": {
            "tags": []
          }
        },
        {
          "output_type": "stream",
          "text": [
            "[[-0.08547892 -0.5921944 ]\n",
            " [ 0.19911766 -0.30780092]]\n"
          ],
          "name": "stdout"
        }
      ]
    },
    {
      "metadata": {
        "id": "L8ODx1jKsyGd",
        "colab_type": "code",
        "colab": {
          "autoexec": {
            "startup": false,
            "wait_interval": 0
          },
          "base_uri": "https://localhost:8080/",
          "height": 282
        },
        "outputId": "f5cdff04-0376-4bfb-8bea-5f11171ef339",
        "executionInfo": {
          "status": "ok",
          "timestamp": 1531727377006,
          "user_tz": -330,
          "elapsed": 687,
          "user": {
            "displayName": "Atul Balaji",
            "photoUrl": "https://lh3.googleusercontent.com/a/default-user=s128",
            "userId": "114090638288848832178"
          }
        }
      },
      "cell_type": "code",
      "source": [
        "sns.heatmap(b_dense.reshape((2,1)))\n",
        "plt.show()\n",
        "print (b_dense)"
      ],
      "execution_count": 34,
      "outputs": [
        {
          "output_type": "display_data",
          "data": {
            "image/png": "[encoded data removed]",
            "text/plain": [
              "<matplotlib.figure.Figure at 0x7f809482acc0>"
            ]
          },
          "metadata": {
            "tags": []
          }
        },
        {
          "output_type": "stream",
          "text": [
            "[ 1.443572 -1.443572]\n"
          ],
          "name": "stdout"
        }
      ]
    },
    {
      "metadata": {
        "id": "1MZ1-6qNs7JF",
        "colab_type": "code",
        "colab": {
          "autoexec": {
            "startup": false,
            "wait_interval": 0
          },
          "base_uri": "https://localhost:8080/",
          "height": 280
        },
        "outputId": "0853a87d-cec8-4b7f-810c-933fa5b5687f",
        "executionInfo": {
          "status": "ok",
          "timestamp": 1531727378302,
          "user_tz": -330,
          "elapsed": 1077,
          "user": {
            "displayName": "Atul Balaji",
            "photoUrl": "https://lh3.googleusercontent.com/a/default-user=s128",
            "userId": "114090638288848832178"
          }
        }
      },
      "cell_type": "code",
      "source": [
        "plt.scatter(X_test[:,0], X_test[:,1], c = Y_test[:,1], cmap='rainbow')\n",
        "plt.title('Scatter plot of test data')\n",
        "plt.show()"
      ],
      "execution_count": 35,
      "outputs": [
        {
          "output_type": "display_data",
          "data": {
            "image/png": "[encoded data removed]",
            "text/plain": [
              "<matplotlib.figure.Figure at 0x7f8091405e10>"
            ]
          },
          "metadata": {
            "tags": []
          }
        }
      ]
    },
    {
      "metadata": {
        "id": "WEomq0ZNHCIh",
        "colab_type": "text"
      },
      "cell_type": "markdown",
      "source": [
        "Take dot product of W and *X _test*."
      ]
    },
    {
      "metadata": {
        "id": "c6fIAdEmu6Ao",
        "colab_type": "code",
        "colab": {
          "autoexec": {
            "startup": false,
            "wait_interval": 0
          },
          "base_uri": "https://localhost:8080/",
          "height": 265
        },
        "outputId": "4905fb5f-164b-46d6-bf8a-8be6a1fd56f9",
        "executionInfo": {
          "status": "ok",
          "timestamp": 1531727381274,
          "user_tz": -330,
          "elapsed": 2733,
          "user": {
            "displayName": "Atul Balaji",
            "photoUrl": "https://lh3.googleusercontent.com/a/default-user=s128",
            "userId": "114090638288848832178"
          }
        }
      },
      "cell_type": "code",
      "source": [
        "wx = X_test.dot(w_dense)\n",
        "wx_b = wx + b_dense\n",
        "plt.scatter(wx_b[:,0], wx_b[:,1], c=Y_test[:,1], cmap='rainbow')\n",
        "plt.scatter(wx[:,0], wx[:,1], c=Y_test[:,1], cmap='viridis')\n",
        "plt.quiver([0], [0], b_dense[0], b_dense[1], scale = 21, label = 'Bias Vector',color='w')\n",
        "plt.legend(loc='best')\n",
        "plt.xlim([-20, 20])\n",
        "plt.show()"
      ],
      "execution_count": 36,
      "outputs": [
        {
          "output_type": "display_data",
          "data": {
            "image/png": "[encoded data removed]",
            "text/plain": [
              "<matplotlib.figure.Figure at 0x7f8091581550>"
            ]
          },
          "metadata": {
            "tags": []
          }
        }
      ]
    },
    {
      "metadata": {
        "id": "1j9_de2rHdaN",
        "colab_type": "text"
      },
      "cell_type": "markdown",
      "source": [
        "### Visualizing the predictions"
      ]
    },
    {
      "metadata": {
        "id": "4ibgZ3kGyhrt",
        "colab_type": "code",
        "colab": {
          "autoexec": {
            "startup": false,
            "wait_interval": 0
          },
          "base_uri": "https://localhost:8080/",
          "height": 282
        },
        "outputId": "4007abdd-94b0-4c7c-9646-ffe3ad775558",
        "executionInfo": {
          "status": "ok",
          "timestamp": 1531727382349,
          "user_tz": -330,
          "elapsed": 742,
          "user": {
            "displayName": "Atul Balaji",
            "photoUrl": "https://lh3.googleusercontent.com/a/default-user=s128",
            "userId": "114090638288848832178"
          }
        }
      },
      "cell_type": "code",
      "source": [
        "y = model.predict(X_test)\n",
        "plt.scatter(y[:,0], y[:,1], c=Y_test[:,1], cmap='rainbow')"
      ],
      "execution_count": 37,
      "outputs": [
        {
          "output_type": "execute_result",
          "data": {
            "text/plain": [
              "<matplotlib.collections.PathCollection at 0x7f809158b400>"
            ]
          },
          "metadata": {
            "tags": []
          },
          "execution_count": 37
        },
        {
          "output_type": "display_data",
          "data": {
            "image/png": "[encoded data removed]",
            "text/plain": [
              "<matplotlib.figure.Figure at 0x7f8091496be0>"
            ]
          },
          "metadata": {
            "tags": []
          }
        }
      ]
    },
    {
      "metadata": {
        "id": "FmP7SHS6tMNV",
        "colab_type": "text"
      },
      "cell_type": "markdown",
      "source": [
        "## Linear Transformations"
      ]
    },
    {
      "metadata": {
        "id": "KuHhdHIUywwI",
        "colab_type": "code",
        "colab": {
          "autoexec": {
            "startup": false,
            "wait_interval": 0
          }
        }
      },
      "cell_type": "code",
      "source": [
        "def transform(A, x, y, bias = ([0,0])):\n",
        "  '''\n",
        "  Parameters\n",
        "  ----------\n",
        "  A : Matrix that transforms the space\n",
        "  x: x_coordinates\n",
        "  y: y_coordinates\n",
        "  bias: Bias vector to be added\n",
        "  \n",
        "  Returns\n",
        "  -------\n",
        "  transformed: The transformed space, ([x_trans, y_trans])\n",
        "  max_value: The maximum value of the distorted + input space\n",
        "  '''\n",
        "  input_matrix = np.vstack((x, y))\n",
        "  transformed = (A.dot(input_matrix).T + bias).T\n",
        "  max_value = np.hstack((input_matrix, transformed)).max()\n",
        "  return transformed, max_value"
      ],
      "execution_count": 0,
      "outputs": []
    },
    {
      "metadata": {
        "id": "Jh4tpR7s1XPe",
        "colab_type": "text"
      },
      "cell_type": "markdown",
      "source": [
        "We will show the transformations that matrix multiplication does using an ellipse or a circle. Remember the parametric coordinates of an ellipse and circle?\n",
        "\n",
        "**Parametric Equations of an Ellipse**\n",
        "\n",
        "\\begin{equation}\n",
        "x = acos(\\theta)\\\\\n",
        "y = bsin(\\theta)\\\\\n",
        "\\theta\\  \\epsilon\\ [0,2\\pi]\n",
        "\\end{equation}\n",
        "\n",
        "\\\\\n",
        "\n",
        "We will use this to plot an ellipse and apply transformations to these coordinates and see the transforms and try to gain intuitions."
      ]
    },
    {
      "metadata": {
        "id": "3hkasRKY45z2",
        "colab_type": "code",
        "colab": {
          "autoexec": {
            "startup": false,
            "wait_interval": 0
          },
          "base_uri": "https://localhost:8080/",
          "height": 265
        },
        "outputId": "724a6a53-47f3-4f4d-96f4-b58188e6f722",
        "executionInfo": {
          "status": "ok",
          "timestamp": 1531727384615,
          "user_tz": -330,
          "elapsed": 952,
          "user": {
            "displayName": "Atul Balaji",
            "photoUrl": "https://lh3.googleusercontent.com/a/default-user=s128",
            "userId": "114090638288848832178"
          }
        }
      },
      "cell_type": "code",
      "source": [
        "t = np.linspace(0, 2*np.pi, 100)\n",
        "\n",
        "x_c = 2*np.cos(t)\n",
        "y_c = np.sin(t)\n",
        "x_matrix = np.vstack((x_c, y_c))\n",
        "max_value = x_matrix.max()\n",
        "\n",
        "plt.plot(x_c, y_c, 'o', label = 'sample points')\n",
        "plt.legend(loc = 'best')\n",
        "plt.xlim(-1.1*max_value, 1.1*max_value)\n",
        "plt.ylim(-1.1*max_value, 1.1*max_value)\n",
        "plt.show()"
      ],
      "execution_count": 39,
      "outputs": [
        {
          "output_type": "display_data",
          "data": {
            "image/png": "[encoded data removed]",
            "text/plain": [
              "<matplotlib.figure.Figure at 0x7f809158b860>"
            ]
          },
          "metadata": {
            "tags": []
          }
        }
      ]
    },
    {
      "metadata": {
        "id": "q1t5lNMg5EI6",
        "colab_type": "text"
      },
      "cell_type": "markdown",
      "source": [
        "Lets define a $2-D\\ Matrix\\ A$ \n",
        "\n",
        "\\begin{equation}\n",
        "A = \n",
        "\\begin{bmatrix}\n",
        "cos\\theta & -sin\\theta \\\\\n",
        "sin\\theta & cos\\theta\n",
        "\\end{bmatrix}\n",
        "\\end{equation}\n",
        "\n",
        "Remember what this matrix does?\n",
        "\n",
        "Its a Rotating Matrix, which rotates the space without scaling it. We will see the meanings of these terms shortly. \n",
        "\n",
        "\\begin{equation}\n",
        "Ax = \n",
        "\\begin{bmatrix}\n",
        "cos\\theta & -sin\\theta \\\\\n",
        "sin\\theta & cos\\theta\n",
        "\\end{bmatrix}\n",
        "\\begin{bmatrix}\n",
        "x \\\\\n",
        "y\n",
        "\\end{bmatrix} = \n",
        "\\begin{bmatrix}\n",
        "xcos\\theta - ysin\\theta \\\\\n",
        "xsin\\theta + ycos\\theta\n",
        "\\end{bmatrix} = \n",
        "\\begin{bmatrix}\n",
        "x^{'} \\\\\n",
        "y^{'}\n",
        "\\end{bmatrix}\n",
        "\\end{equation}\n",
        "\n",
        "Whats the **determinant** of this Rotation Matrix?\n",
        "\\begin{equation}\n",
        "|A| = \n",
        "\\begin{vmatrix}\n",
        "cos\\theta & -sin\\theta \\\\\n",
        "sin\\theta & cos\\theta\n",
        "\\end{vmatrix} =\n",
        "cos^{2}\\theta + sin^{2}\\theta = 1 \n",
        "\\end{equation}\n",
        "\n",
        "*Determinants* are related to the volume change during matrix transformation.\n",
        "  * $|A| = 1$ => Volume of any closed surface in the space is conserved. The distortion caused by matrix in the space is preserving volume. No closed surface expands or contracts in this transform. \n",
        "\n",
        "  * $|A| > 1$ => Volume of any closed surface in space increases. \n",
        "  \n",
        "  * $|A| = 0$ => Closed surface volume reduces to 0.\n",
        "![rotaion_description](http://jcsites.juniata.edu/faculty/rhodes/graphics/images/rotate1.gif)\n",
        "\n",
        "This image describes the why this matrix is called **Rotation matrix** in 2D.\n",
        "\n",
        "If the input column vector $x$ is taken to represent coordinates of a point in 2D space, then after \n",
        "doing the transformation ((i.e) multiplying with matrix $A$),\n",
        "\n",
        "We get the rotated point represented as $[x^{'}, y^{'}]$ in this image. \n",
        "\n",
        "Now we have analysed this matrix transformation for one point. What will happen to a set of points in 2-D space?\n"
      ]
    },
    {
      "metadata": {
        "id": "05icfs4Y5Nnp",
        "colab_type": "code",
        "colab": {
          "autoexec": {
            "startup": false,
            "wait_interval": 0
          },
          "base_uri": "https://localhost:8080/",
          "height": 265
        },
        "outputId": "d8eb8b51-f7be-48ae-8783-0e989b896e24",
        "executionInfo": {
          "status": "ok",
          "timestamp": 1531727385942,
          "user_tz": -330,
          "elapsed": 1190,
          "user": {
            "displayName": "Atul Balaji",
            "photoUrl": "https://lh3.googleusercontent.com/a/default-user=s128",
            "userId": "114090638288848832178"
          }
        }
      },
      "cell_type": "code",
      "source": [
        "theta = np.pi/4\n",
        "A = np.array([[np.cos(theta), -np.sin(theta)],\n",
        "              [np.sin(theta), np.cos(theta)]])\n",
        "\n",
        "y_matrix, max_value = transform(A, x_c, y_c)\n",
        "\n",
        "plt.plot(y_matrix[0], y_matrix[1], 'o', label = 'transformed points (Ax)')\n",
        "plt.plot(x_c, y_c,'o', label = 'initial points (x)')\n",
        "plt.legend(loc = 'best')\n",
        "plt.xlim(-1.1*max_value, 1.1*max_value)\n",
        "plt.ylim(-1.1*max_value, 1.1*max_value)\n",
        "plt.axvline(linewidth=0.5, color = 'k')\n",
        "plt.axhline(linewidth=0.5, color = 'k')\n",
        "plt.show()"
      ],
      "execution_count": 40,
      "outputs": [
        {
          "output_type": "display_data",
          "data": {
            "image/png": "[encoded data removed]",
            "text/plain": [
              "<matplotlib.figure.Figure at 0x7f80914d2748>"
            ]
          },
          "metadata": {
            "tags": []
          }
        }
      ]
    },
    {
      "metadata": {
        "id": "fjjTo38F5Vet",
        "colab_type": "text"
      },
      "cell_type": "markdown",
      "source": [
        "Observations:\n",
        "\n",
        "* Entire Ellipse (Represented in blue) is rotated with respect to the initial ellipse (green one) by the angle $\\theta$ we specified in the code ($\\frac{\\pi}{4}$).\n",
        "\n",
        "Inferences:\n",
        "\n",
        "* Matrix rotate the space. (If Rotation is only desired, keep the determinant 1)"
      ]
    },
    {
      "metadata": {
        "id": "SyLFw-3p5dXm",
        "colab_type": "code",
        "colab": {
          "autoexec": {
            "startup": false,
            "wait_interval": 0
          }
        }
      },
      "cell_type": "code",
      "source": [
        "t = np.linspace(0, 2*np.pi, 100)\n",
        "\n",
        "x_c = np.cos(t)\n",
        "y_c = np.sin(t)\n",
        "x_matrix = np.vstack((x_c, y_c))\n",
        "max_value = x_matrix.max()"
      ],
      "execution_count": 0,
      "outputs": []
    },
    {
      "metadata": {
        "id": "m-uJRQkt6KaR",
        "colab_type": "code",
        "colab": {
          "autoexec": {
            "startup": false,
            "wait_interval": 0
          },
          "base_uri": "https://localhost:8080/",
          "height": 265
        },
        "outputId": "2e9cede9-9a17-453c-eed6-23e4b427667b",
        "executionInfo": {
          "status": "ok",
          "timestamp": 1531727388601,
          "user_tz": -330,
          "elapsed": 965,
          "user": {
            "displayName": "Atul Balaji",
            "photoUrl": "https://lh3.googleusercontent.com/a/default-user=s128",
            "userId": "114090638288848832178"
          }
        }
      },
      "cell_type": "code",
      "source": [
        "plt.plot(x_c, y_c, 'o', label = 'sample points')\n",
        "plt.legend(loc = 'best')\n",
        "plt.xlim(-1.1*max_value, 1.1*max_value)\n",
        "plt.ylim(-1.1*max_value, 1.1*max_value)\n",
        "plt.axvline(linewidth=0.5, color = 'k')\n",
        "plt.axhline(linewidth=0.5, color = 'k')\n",
        "plt.show()"
      ],
      "execution_count": 42,
      "outputs": [
        {
          "output_type": "display_data",
          "data": {
            "image/png": "[encoded data removed]",
            "text/plain": [
              "<matplotlib.figure.Figure at 0x7f8091168208>"
            ]
          },
          "metadata": {
            "tags": []
          }
        }
      ]
    },
    {
      "metadata": {
        "id": "6boU4EYj6NdX",
        "colab_type": "text"
      },
      "cell_type": "markdown",
      "source": [
        "Now, lets take this matrix and study its transform abilities.\n",
        "\n",
        "\\begin{equation}\n",
        "A = \n",
        "\\begin{bmatrix}\n",
        "2 & 0 \\\\\n",
        "0 & 1\n",
        "\\end{bmatrix}\n",
        "\\end{equation}\n",
        "\n",
        "Whats the determinant of this matrix?\n",
        "\n",
        "\\\\\n",
        "\n",
        "\\begin{equation}\n",
        "|A| = \n",
        "\\begin{vmatrix}\n",
        "2 & 0 \\\\\n",
        "0 & 1\n",
        "\\end{vmatrix} = \n",
        "2\n",
        "\\end{equation}\n",
        "\n",
        "\\\\\n",
        "\\begin{equation}\n",
        "Ax = \n",
        "\\begin{bmatrix}\n",
        "2 & 0 \\\\\n",
        "0 & 1\n",
        "\\end{bmatrix}\n",
        "\\begin{bmatrix}\n",
        "x \\\\\n",
        "y\n",
        "\\end{bmatrix} = \n",
        "\\begin{bmatrix}\n",
        "2x \\\\\n",
        "y\n",
        "\\end{bmatrix}\n",
        "\\end{equation}\n",
        "\n",
        "\n",
        "What does this mean?\n",
        "\n",
        "\\begin{equation}\n",
        "\\begin{bmatrix}\n",
        "x \\\\\n",
        "y\n",
        "\\end{bmatrix} \\longrightarrow\n",
        "\\begin{bmatrix}\n",
        "2x \\\\\n",
        "y\n",
        "\\end{bmatrix}\n",
        "\\end{equation}\n",
        "\n",
        "This streches the space along x direction, preserving y direction."
      ]
    },
    {
      "metadata": {
        "id": "qQk932og7CDi",
        "colab_type": "text"
      },
      "cell_type": "markdown",
      "source": [
        "## Eigen Decomposition\n",
        "\n",
        "An ** *Eigenvector* ** of a square matrix $\\boldsymbol{A}$ is  a non-zero vector $\\boldsymbol{v}$ such that transformation by $\\boldsymbol{A}$ (multiplication by $\\boldsymbol{A}$) only scales the vector $\\boldsymbol{v}$ by a factor $\\boldsymbol{\\lambda}$ which is its ** *EigenValue* **.\n",
        "\n",
        "\\begin{equation}\n",
        "\\boldsymbol{A}v = \\lambda v\n",
        "\\end{equation}\n",
        "\n",
        "So, if we find **eigenvectors** of matrix $A$, we can say that those directions are the directions that will be only **scaled** by the transformation by this matrix (Scaled by its eigenvalue). All the other directions other than eigenvector directions, will be **both** scaled and rotated, to maintain **continuity of the transformation**.\n",
        "\n",
        "If $\\boldsymbol{v}$ is an eigenvector of $\\boldsymbol{A}$, and has an eigenvalue $\\lambda$, whats the eigenvalue of $c\\boldsymbol{v}$, c is a constant?\n",
        "\n",
        "Its also $\\lambda$ right? So we use unit normalized eigenvectors.\n",
        "\n",
        "Suppose matrix $\\boldsymbol{A}$ has $n$ independent eigenvectors, { $v^{(1)}, v^{(2)}, v^{(3)}, ....., v^{(n)}$ } with its corresponding eigenvalues, { $\\lambda_{1}, \\lambda_{2}, ......, \\lambda_{n}$ }.\n",
        "\n",
        "Then, we can concatenate all the eigenvectors into a single matrix called $\\boldsymbol{V}$, which can be represented as\n",
        "\n",
        "\\begin{equation}\n",
        "\\boldsymbol{V} = \n",
        "\\begin{bmatrix}\n",
        " \\vdots & \\vdots & \\vdots & \\vdots \\\\\n",
        " v^{(1)} & v^{(2)} & \\cdots & v^{(n)}\\\\\n",
        " \\vdots & \\vdots & \\vdots & \\vdots\n",
        "\\end{bmatrix}_{n\\times n}\n",
        "\\end{equation}\n",
        "\n",
        "We can define a diagonal matrix, where each diagonal entry is $\\lambda_{i}$ corresponsing to $v^{(i)}$.\n",
        "\n",
        "\\begin{equation}\n",
        "diag(\\lambda) = \n",
        "\\begin{pmatrix}\n",
        "    \\lambda_{1}\\\\\n",
        "    &\\lambda_{2}\\\\\n",
        "    && \\lambda_{3}\\\\\n",
        "    &&& \\cdots\\\\\n",
        "    &&&& \\lambda_{n}\n",
        "\\end{pmatrix}_{n\\times n}\n",
        "\\end{equation}\n",
        "\n",
        "\n",
        "Then matrix $\\boldsymbol{A}$ can be reconstructed from these matrices $\\boldsymbol{V}$ and $\\boldsymbol{diag(\\lambda)}$ using $\\boldsymbol{Eigendecomposition}$ of $\\boldsymbol{A}$, which is given by,\n",
        "\n",
        "\\begin{equation}\n",
        "\\boldsymbol{A} = \\boldsymbol{V}diag\\boldsymbol{(\\lambda)}\\boldsymbol{V}^{-1}\n",
        "\\end{equation}\n",
        "\n",
        "Whats the use of this?\n",
        "\n",
        "* We can *construct* matrix with specific **eigenvectors** and **eigenvalues** that allows us to stretch the space in desired directions.\n",
        "* We can design specific matrices that can distort the space in such a way that data becomes easily separable so that our classifier can separate the data easily. ** Now you get the point of why we did  all this ! **\n",
        "\n",
        "We want to create matrix that can distort the space in such a way that we want our data to get sepatated.\n",
        "\n",
        "* ** Neural Nets distort the input data in high dimentional space using these matrix multiplications, (Apply activations in middle), until the data becomes linearly separable.**\n",
        "* ** These distortions can be analysed by eigen decomposition and singular value decomposition of weight matrices of the layers of Deep neural nets.** "
      ]
    },
    {
      "metadata": {
        "id": "lsU8-7o37Rzl",
        "colab_type": "code",
        "colab": {
          "autoexec": {
            "startup": false,
            "wait_interval": 0
          },
          "base_uri": "https://localhost:8080/",
          "height": 265
        },
        "outputId": "2eb92ff0-bcc2-47fe-8e41-3e709f079287",
        "executionInfo": {
          "status": "ok",
          "timestamp": 1531727389630,
          "user_tz": -330,
          "elapsed": 867,
          "user": {
            "displayName": "Atul Balaji",
            "photoUrl": "https://lh3.googleusercontent.com/a/default-user=s128",
            "userId": "114090638288848832178"
          }
        }
      },
      "cell_type": "code",
      "source": [
        "A = np.array([[2,0],[0,1]])\n",
        "y_matrix, max_value = transform(A, x_c, y_c)\n",
        "plt.plot(y_matrix[0], y_matrix[1], 'o', label = 'transformed points (Ax)')\n",
        "plt.plot(x_c, y_c,'o', label = 'initial points (x)')\n",
        "plt.legend(loc = 'best')\n",
        "plt.xlim(-1.1*max_value, 1.1*max_value)\n",
        "plt.ylim(-1.1*max_value, 1.1*max_value)\n",
        "plt.axvline(linewidth=0.5, color = 'k')\n",
        "plt.axhline(linewidth=0.5, color = 'k')\n",
        "plt.show()"
      ],
      "execution_count": 43,
      "outputs": [
        {
          "output_type": "display_data",
          "data": {
            "image/png": "[encoded data removed]",
            "text/plain": [
              "<matplotlib.figure.Figure at 0x7f809116d630>"
            ]
          },
          "metadata": {
            "tags": []
          }
        }
      ]
    },
    {
      "metadata": {
        "id": "izYLEl7s7qPD",
        "colab_type": "code",
        "colab": {
          "autoexec": {
            "startup": false,
            "wait_interval": 0
          }
        }
      },
      "cell_type": "code",
      "source": [
        "def eigen_decomposition(A, x, y, scale_by_eigen = False, bias = np.array([0,0])):\n",
        "  y_matrix, max_value = transform(A, x, y, bias)\n",
        "  W, V = np.linalg.eig(A)\n",
        "  SCALE = 10\n",
        "  # print (V.shape, W.shape)\n",
        "  if scale_by_eigen:\n",
        "    V[:,range(len(W))]*= W   # Multiplying the EigenVector with Eigenvalue\n",
        "  no_of_points =  len(V[:,0])\n",
        "  plt.quiver(np.zeros(no_of_points),np.zeros(no_of_points)  , V[0], V[1],color = ['r', 'b'], scale = SCALE, label = 'Eigen Vectors')\n",
        "  plt.plot(y_matrix[0], y_matrix[1], 'o', label = 'transformed points (Ax)')\n",
        "  plt.plot(x, y,'o', label = 'initialnp.array(bias) points (x)')\n",
        "  plt.xlim(-1.1*max_value, 1.1*max_value)\n",
        "  plt.ylim(-1.1*max_value, 1.1*max_value)\n",
        "  plt.axvline(linewidth=0.5, color = 'k')\n",
        "  plt.axhline(linewidth=0.5, color = 'k')\n",
        "  plt.quiver([0], [0], bias[0], bias[1], scale = 21, label = 'Bias Vector')\n",
        "  plt.legend(loc = 'best')\n",
        "  return W, V, y_matrix"
      ],
      "execution_count": 0,
      "outputs": []
    },
    {
      "metadata": {
        "id": "vicAWZHX762v",
        "colab_type": "code",
        "colab": {
          "autoexec": {
            "startup": false,
            "wait_interval": 0
          },
          "base_uri": "https://localhost:8080/",
          "height": 265
        },
        "outputId": "3644dc7e-f910-48e6-9c5b-4efa074e9f40",
        "executionInfo": {
          "status": "ok",
          "timestamp": 1531727395572,
          "user_tz": -330,
          "elapsed": 4203,
          "user": {
            "displayName": "Atul Balaji",
            "photoUrl": "https://lh3.googleusercontent.com/a/default-user=s128",
            "userId": "114090638288848832178"
          }
        }
      },
      "cell_type": "code",
      "source": [
        "w_1, v_1, y_matrix_1 = eigen_decomposition(A, x_c, y_c)"
      ],
      "execution_count": 45,
      "outputs": [
        {
          "output_type": "display_data",
          "data": {
            "image/png": "[encoded data removed]",
            "text/plain": [
              "<matplotlib.figure.Figure at 0x7f8090dac588>"
            ]
          },
          "metadata": {
            "tags": []
          }
        }
      ]
    },
    {
      "metadata": {
        "id": "AWrFaoBJ79Ju",
        "colab_type": "code",
        "colab": {
          "autoexec": {
            "startup": false,
            "wait_interval": 0
          },
          "base_uri": "https://localhost:8080/",
          "height": 265
        },
        "outputId": "b2c5bc4a-2b1c-40ad-9bef-9ed25386d7b7",
        "executionInfo": {
          "status": "ok",
          "timestamp": 1531727396812,
          "user_tz": -330,
          "elapsed": 1112,
          "user": {
            "displayName": "Atul Balaji",
            "photoUrl": "https://lh3.googleusercontent.com/a/default-user=s128",
            "userId": "114090638288848832178"
          }
        }
      },
      "cell_type": "code",
      "source": [
        "A = np.array([[6,2],[3,2]])\n",
        "w_2, v_2, y_matrix_2 = eigen_decomposition(A, x_c, y_c)"
      ],
      "execution_count": 46,
      "outputs": [
        {
          "output_type": "display_data",
          "data": {
            "image/png": "[encoded data removed]",
            "text/plain": [
              "<matplotlib.figure.Figure at 0x7f80911687f0>"
            ]
          },
          "metadata": {
            "tags": []
          }
        }
      ]
    },
    {
      "metadata": {
        "id": "7nE4_HTp8S3Y",
        "colab_type": "text"
      },
      "cell_type": "markdown",
      "source": [
        "**Obseravtions**:\n",
        "\n",
        "* The vectors near to eigenvectors do not rotate that much. They get scaled by the eigenvalue (if its an eigenvector, else a small rotation is present).\n",
        "* Vectors that are far away from either of the eigenvectors are severly rotated and scaled. (Maintain the continuity of the figure)\n",
        "* Volume has increased greater than the initial circle, which indicates that the determinant of the matrix is greater than 1."
      ]
    },
    {
      "metadata": {
        "id": "tRwhLglS8UV8",
        "colab_type": "code",
        "colab": {
          "autoexec": {
            "startup": false,
            "wait_interval": 0
          },
          "base_uri": "https://localhost:8080/",
          "height": 265
        },
        "outputId": "974639b5-1fe6-47f3-a6df-4f0e38f47ba7",
        "executionInfo": {
          "status": "ok",
          "timestamp": 1531727397786,
          "user_tz": -330,
          "elapsed": 783,
          "user": {
            "displayName": "Atul Balaji",
            "photoUrl": "https://lh3.googleusercontent.com/a/default-user=s128",
            "userId": "114090638288848832178"
          }
        }
      },
      "cell_type": "code",
      "source": [
        "bias = [0,4]\n",
        "w_2b, v_2b, y_matrix_2b = eigen_decomposition(A, x_c, y_c, bias = bias)"
      ],
      "execution_count": 47,
      "outputs": [
        {
          "output_type": "display_data",
          "data": {
            "image/png": "[encoded data removed]",
            "text/plain": [
              "<matplotlib.figure.Figure at 0x7f8090dacdd8>"
            ]
          },
          "metadata": {
            "tags": []
          }
        }
      ]
    },
    {
      "metadata": {
        "id": "CeMSropr8Zy5",
        "colab_type": "text"
      },
      "cell_type": "markdown",
      "source": [
        "Observations:\n",
        "\n",
        "* Other than other observations (listed in the previous plot), we can see the bias has just shifted the distorted figure along that direction (bias vector's direction).\n",
        "\n",
        "So we get the answer of why bias is needed?\n",
        "\n",
        "This is because, if bias is not added we are restricted with origin as center. Its similar to\n",
        "\n",
        "\\begin{equation}\n",
        "y = mx + b\n",
        "\\end{equation}\n",
        "\n",
        "where b acts as a bias. If $b = 0$, we will be restricted to use only lines which pass through origin. \n",
        "\n",
        "\\begin{equation}\n",
        "y = mx\n",
        "\\end{equation}\n",
        "\n",
        "So addition of bias gives **extra freedom** to move anywhere in the space ($translation$), multiplying with the weight matrix enables the model to $distort$, $scale$, $rotate$ the space (with center at $origin$) the space.\n",
        "\n",
        "So Neural Net basicaly $moves$ (bias), $distorts$ data points by $scaling$ and $rotating$ them (weights) in hyperdimentional space, **with an aim to find a transformation to make the data linearly separable at the end**. "
      ]
    },
    {
      "metadata": {
        "id": "iKJMJ-6p_bIO",
        "colab_type": "code",
        "colab": {
          "autoexec": {
            "startup": false,
            "wait_interval": 0
          }
        }
      },
      "cell_type": "code",
      "source": [
        "# What if determinant is 0?\n",
        "A = np.array([[3,2],\n",
        "              [3,2]])"
      ],
      "execution_count": 0,
      "outputs": []
    },
    {
      "metadata": {
        "id": "dJBiRqtx_fgP",
        "colab_type": "code",
        "colab": {
          "autoexec": {
            "startup": false,
            "wait_interval": 0
          },
          "base_uri": "https://localhost:8080/",
          "height": 265
        },
        "outputId": "29c7d9ec-0f66-4b71-d12f-6c1f9cf608b4",
        "executionInfo": {
          "status": "ok",
          "timestamp": 1531727406553,
          "user_tz": -330,
          "elapsed": 751,
          "user": {
            "displayName": "Atul Balaji",
            "photoUrl": "https://lh3.googleusercontent.com/a/default-user=s128",
            "userId": "114090638288848832178"
          }
        }
      },
      "cell_type": "code",
      "source": [
        "w_3, v_3, y_matrix_2 = eigen_decomposition(A, x_c, y_c)"
      ],
      "execution_count": 49,
      "outputs": [
        {
          "output_type": "display_data",
          "data": {
            "image/png": "[encoded data removed]",
            "text/plain": [
              "<matplotlib.figure.Figure at 0x7f8090c20860>"
            ]
          },
          "metadata": {
            "tags": []
          }
        }
      ]
    },
    {
      "metadata": {
        "id": "MKG-z7xS_hXB",
        "colab_type": "text"
      },
      "cell_type": "markdown",
      "source": [
        "Observation:\n",
        "  * Determinant of the transformation matrix is 0. \n",
        "  * The space is completely contracted along one-dimension, causing it to lose all of its volume."
      ]
    },
    {
      "metadata": {
        "id": "rljKQkw4_q1B",
        "colab_type": "code",
        "colab": {
          "autoexec": {
            "startup": false,
            "wait_interval": 0
          }
        }
      },
      "cell_type": "code",
      "source": [
        "# What if determinant is < 0?\n",
        "A_plus = np.array([[6,2],\n",
        "                   [3,2]])\n",
        "\n",
        "A_minus = np.array([[-6,-2],\n",
        "                   [3,2]])\n",
        "\n",
        "x = np.linspace(-1,1,10)\n",
        "y = x**2"
      ],
      "execution_count": 0,
      "outputs": []
    },
    {
      "metadata": {
        "id": "qafhMLKr_tc7",
        "colab_type": "code",
        "colab": {
          "autoexec": {
            "startup": false,
            "wait_interval": 0
          },
          "base_uri": "https://localhost:8080/",
          "height": 513
        },
        "outputId": "c6594aa1-f350-4cf4-d1da-ebcef802070c",
        "executionInfo": {
          "status": "ok",
          "timestamp": 1531727408628,
          "user_tz": -330,
          "elapsed": 814,
          "user": {
            "displayName": "Atul Balaji",
            "photoUrl": "https://lh3.googleusercontent.com/a/default-user=s128",
            "userId": "114090638288848832178"
          }
        }
      },
      "cell_type": "code",
      "source": [
        "w_3, v_3, y_matrix_3 = eigen_decomposition(A_plus, x, y)\n",
        "plt.show()\n",
        "w_4, v_4, y_matrix_4 = eigen_decomposition(A_minus, x, y)"
      ],
      "execution_count": 51,
      "outputs": [
        {
          "output_type": "display_data",
          "data": {
            "image/png": "[encoded data removed]",
            "text/plain": [
              "<matplotlib.figure.Figure at 0x7f809116d8d0>"
            ]
          },
          "metadata": {
            "tags": []
          }
        },
        {
          "output_type": "display_data",
          "data": {
            "image/png": "[encoded data removed]",
            "text/plain": [
              "<matplotlib.figure.Figure at 0x7f8090acff60>"
            ]
          },
          "metadata": {
            "tags": []
          }
        }
      ]
    },
    {
      "metadata": {
        "id": "9stoE8cy_xYc",
        "colab_type": "text"
      },
      "cell_type": "markdown",
      "source": [
        "When Determinant is less than zero we get a reflection about y axis but the deformation is same (except the reflection)."
      ]
    },
    {
      "metadata": {
        "id": "wK8lFybhzCvi",
        "colab_type": "text"
      },
      "cell_type": "markdown",
      "source": [
        "## Regression using Neural Nets"
      ]
    },
    {
      "metadata": {
        "id": "ZE6troBEzCcb",
        "colab_type": "code",
        "colab": {
          "autoexec": {
            "startup": false,
            "wait_interval": 0
          }
        }
      },
      "cell_type": "code",
      "source": [
        "def create_dataset(f, x=None, std=0.1):\n",
        "  if x is None:\n",
        "    x = np.linspace(-20, 20, 1000)\n",
        "  \n",
        "  noise = np.random.randn(len(x))*std\n",
        "  y = f(x)+noise\n",
        "  return (x,y)\n",
        "\n",
        "def regress_fn(x):\n",
        "  return 1/(1 + np.exp(x))"
      ],
      "execution_count": 0,
      "outputs": []
    },
    {
      "metadata": {
        "id": "WN4wV5lJASEY",
        "colab_type": "code",
        "colab": {
          "autoexec": {
            "startup": false,
            "wait_interval": 0
          }
        }
      },
      "cell_type": "code",
      "source": [
        "x,y = create_dataset(regress_fn)"
      ],
      "execution_count": 0,
      "outputs": []
    },
    {
      "metadata": {
        "id": "LbJaXOqY0z9H",
        "colab_type": "code",
        "colab": {
          "autoexec": {
            "startup": false,
            "wait_interval": 0
          },
          "base_uri": "https://localhost:8080/",
          "height": 265
        },
        "outputId": "d96db602-057d-4442-800e-b2a6dea9a6fd",
        "executionInfo": {
          "status": "ok",
          "timestamp": 1531727411747,
          "user_tz": -330,
          "elapsed": 985,
          "user": {
            "displayName": "Atul Balaji",
            "photoUrl": "https://lh3.googleusercontent.com/a/default-user=s128",
            "userId": "114090638288848832178"
          }
        }
      },
      "cell_type": "code",
      "source": [
        "plt.scatter(x,y)\n",
        "plt.show()"
      ],
      "execution_count": 54,
      "outputs": [
        {
          "output_type": "display_data",
          "data": {
            "image/png": "[encoded data removed]",
            "text/plain": [
              "<matplotlib.figure.Figure at 0x7f8090af9710>"
            ]
          },
          "metadata": {
            "tags": []
          }
        }
      ]
    },
    {
      "metadata": {
        "id": "yGSYG1-Y1Hnf",
        "colab_type": "code",
        "colab": {
          "autoexec": {
            "startup": false,
            "wait_interval": 0
          }
        }
      },
      "cell_type": "code",
      "source": [
        "X_train, X_test, y_train, y_test = train_test_split(x, y, test_size=0.2, random_state=42)"
      ],
      "execution_count": 0,
      "outputs": []
    },
    {
      "metadata": {
        "id": "ZsdCIzq41RHL",
        "colab_type": "code",
        "colab": {
          "autoexec": {
            "startup": false,
            "wait_interval": 0
          },
          "base_uri": "https://localhost:8080/",
          "height": 265
        },
        "outputId": "d35d4814-522b-4e91-bd9d-dc6b31f38de4",
        "executionInfo": {
          "status": "ok",
          "timestamp": 1531727414386,
          "user_tz": -330,
          "elapsed": 829,
          "user": {
            "displayName": "Atul Balaji",
            "photoUrl": "https://lh3.googleusercontent.com/a/default-user=s128",
            "userId": "114090638288848832178"
          }
        }
      },
      "cell_type": "code",
      "source": [
        "plt.scatter(X_train, y_train, label='train')\n",
        "plt.scatter(X_test, y_test, label='test')\n",
        "plt.legend(loc='best')\n",
        "plt.show()"
      ],
      "execution_count": 56,
      "outputs": [
        {
          "output_type": "display_data",
          "data": {
            "image/png": "[encoded data removed]",
            "text/plain": [
              "<matplotlib.figure.Figure at 0x7f8093e45f60>"
            ]
          },
          "metadata": {
            "tags": []
          }
        }
      ]
    },
    {
      "metadata": {
        "id": "wa-Vshli1brR",
        "colab_type": "code",
        "colab": {
          "autoexec": {
            "startup": false,
            "wait_interval": 0
          }
        }
      },
      "cell_type": "code",
      "source": [
        "model = Sequential() \n",
        "model.add(Dense(10, input_dim=1, activation='sigmoid')) \n",
        "model.add(Dense(1))\n",
        "batch_size = 100\n",
        "nb_epoch = 100"
      ],
      "execution_count": 0,
      "outputs": []
    },
    {
      "metadata": {
        "id": "xg8hTrW81vS9",
        "colab_type": "code",
        "colab": {
          "autoexec": {
            "startup": false,
            "wait_interval": 0
          },
          "base_uri": "https://localhost:8080/",
          "height": 3451
        },
        "outputId": "7a852562-29f4-424f-c24a-1eb933f766bd",
        "executionInfo": {
          "status": "ok",
          "timestamp": 1531727419858,
          "user_tz": -330,
          "elapsed": 2427,
          "user": {
            "displayName": "Atul Balaji",
            "photoUrl": "https://lh3.googleusercontent.com/a/default-user=s128",
            "userId": "114090638288848832178"
          }
        }
      },
      "cell_type": "code",
      "source": [
        "model.compile(optimizer='sgd', loss='mean_squared_error') \n",
        "history = model.fit(X_train, y_train, batch_size=batch_size, epochs=nb_epoch,verbose=1, validation_data=(X_test, y_test)) \n",
        "score = model.evaluate(X_test, y_test, verbose=0) \n",
        "print('Test score:', score)"
      ],
      "execution_count": 58,
      "outputs": [
        {
          "output_type": "stream",
          "text": [
            "Train on 800 samples, validate on 200 samples\n",
            "Epoch 1/100\n",
            "800/800 [==============================] - 0s 148us/step - loss: 0.1521 - val_loss: 0.1147\n",
            "Epoch 2/100\n",
            "800/800 [==============================] - 0s 16us/step - loss: 0.0903 - val_loss: 0.0721\n",
            "Epoch 3/100\n",
            "800/800 [==============================] - 0s 12us/step - loss: 0.0591 - val_loss: 0.0498\n",
            "Epoch 4/100\n",
            "800/800 [==============================] - 0s 13us/step - loss: 0.0428 - val_loss: 0.0381\n",
            "Epoch 5/100\n",
            "800/800 [==============================] - 0s 13us/step - loss: 0.0340 - val_loss: 0.0317\n",
            "Epoch 6/100\n",
            "800/800 [==============================] - 0s 13us/step - loss: 0.0292 - val_loss: 0.0281\n",
            "Epoch 7/100\n",
            "800/800 [==============================] - 0s 13us/step - loss: 0.0264 - val_loss: 0.0260\n",
            "Epoch 8/100\n",
            "800/800 [==============================] - 0s 17us/step - loss: 0.0248 - val_loss: 0.0247\n",
            "Epoch 9/100\n",
            "800/800 [==============================] - 0s 13us/step - loss: 0.0237 - val_loss: 0.0238\n",
            "Epoch 10/100\n",
            "800/800 [==============================] - 0s 13us/step - loss: 0.0230 - val_loss: 0.0232\n",
            "Epoch 11/100\n",
            "800/800 [==============================] - 0s 16us/step - loss: 0.0224 - val_loss: 0.0226\n",
            "Epoch 12/100\n",
            "800/800 [==============================] - 0s 13us/step - loss: 0.0220 - val_loss: 0.0222\n",
            "Epoch 13/100\n",
            "800/800 [==============================] - 0s 15us/step - loss: 0.0216 - val_loss: 0.0219\n",
            "Epoch 14/100\n",
            "800/800 [==============================] - 0s 15us/step - loss: 0.0212 - val_loss: 0.0215\n",
            "Epoch 15/100\n",
            "800/800 [==============================] - 0s 19us/step - loss: 0.0209 - val_loss: 0.0212\n",
            "Epoch 16/100\n",
            "800/800 [==============================] - 0s 16us/step - loss: 0.0206 - val_loss: 0.0209\n",
            "Epoch 17/100\n",
            "800/800 [==============================] - 0s 15us/step - loss: 0.0203 - val_loss: 0.0206\n",
            "Epoch 18/100\n",
            "800/800 [==============================] - 0s 14us/step - loss: 0.0200 - val_loss: 0.0203\n",
            "Epoch 19/100\n",
            "800/800 [==============================] - 0s 16us/step - loss: 0.0197 - val_loss: 0.0201\n",
            "Epoch 20/100\n",
            "800/800 [==============================] - 0s 14us/step - loss: 0.0194 - val_loss: 0.0198\n",
            "Epoch 21/100\n",
            "800/800 [==============================] - 0s 15us/step - loss: 0.0192 - val_loss: 0.0196\n",
            "Epoch 22/100\n",
            "800/800 [==============================] - 0s 14us/step - loss: 0.0189 - val_loss: 0.0193\n",
            "Epoch 23/100\n",
            "800/800 [==============================] - 0s 16us/step - loss: 0.0187 - val_loss: 0.0191\n",
            "Epoch 24/100\n",
            "800/800 [==============================] - 0s 14us/step - loss: 0.0184 - val_loss: 0.0189\n",
            "Epoch 25/100\n",
            "800/800 [==============================] - 0s 14us/step - loss: 0.0182 - val_loss: 0.0187\n",
            "Epoch 26/100\n",
            "800/800 [==============================] - 0s 15us/step - loss: 0.0180 - val_loss: 0.0184\n",
            "Epoch 27/100\n",
            "800/800 [==============================] - 0s 16us/step - loss: 0.0178 - val_loss: 0.0182\n",
            "Epoch 28/100\n",
            "100/800 [==>...........................] - ETA: 0s - loss: 0.0164"
          ],
          "name": "stdout"
        },
        {
          "output_type": "stream",
          "text": [
            "\b\b\b\b\b\b\b\b\b\b\b\b\b\b\b\b\b\b\b\b\b\b\b\b\b\b\b\b\b\b\b\b\b\b\b\b\b\b\b\b\b\b\b\b\b\b\b\b\b\b\b\b\b\b\b\b\b\b\b\b\b\b\b\b\b\r800/800 [==============================] - 0s 14us/step - loss: 0.0175 - val_loss: 0.0180\n",
            "Epoch 29/100\n",
            "800/800 [==============================] - 0s 16us/step - loss: 0.0174 - val_loss: 0.0179\n",
            "Epoch 30/100\n",
            "800/800 [==============================] - 0s 14us/step - loss: 0.0172 - val_loss: 0.0177\n",
            "Epoch 31/100\n",
            "800/800 [==============================] - 0s 14us/step - loss: 0.0170 - val_loss: 0.0175\n",
            "Epoch 32/100\n",
            "800/800 [==============================] - 0s 16us/step - loss: 0.0168 - val_loss: 0.0173\n",
            "Epoch 33/100\n",
            "800/800 [==============================] - 0s 14us/step - loss: 0.0166 - val_loss: 0.0171\n",
            "Epoch 34/100\n",
            "800/800 [==============================] - 0s 20us/step - loss: 0.0164 - val_loss: 0.0170\n",
            "Epoch 35/100\n",
            "800/800 [==============================] - 0s 15us/step - loss: 0.0163 - val_loss: 0.0168\n",
            "Epoch 36/100\n",
            "800/800 [==============================] - 0s 16us/step - loss: 0.0161 - val_loss: 0.0167\n",
            "Epoch 37/100\n",
            "800/800 [==============================] - 0s 14us/step - loss: 0.0160 - val_loss: 0.0165\n",
            "Epoch 38/100\n",
            "800/800 [==============================] - 0s 14us/step - loss: 0.0158 - val_loss: 0.0164\n",
            "Epoch 39/100\n",
            "800/800 [==============================] - 0s 13us/step - loss: 0.0157 - val_loss: 0.0162\n",
            "Epoch 40/100\n",
            "800/800 [==============================] - 0s 14us/step - loss: 0.0155 - val_loss: 0.0161\n",
            "Epoch 41/100\n",
            "800/800 [==============================] - 0s 14us/step - loss: 0.0154 - val_loss: 0.0160\n",
            "Epoch 42/100\n",
            "800/800 [==============================] - 0s 17us/step - loss: 0.0152 - val_loss: 0.0158\n",
            "Epoch 43/100\n",
            "800/800 [==============================] - 0s 15us/step - loss: 0.0151 - val_loss: 0.0157\n",
            "Epoch 44/100\n",
            "800/800 [==============================] - 0s 15us/step - loss: 0.0150 - val_loss: 0.0156\n",
            "Epoch 45/100\n",
            "800/800 [==============================] - 0s 15us/step - loss: 0.0149 - val_loss: 0.0155\n",
            "Epoch 46/100\n",
            "800/800 [==============================] - 0s 15us/step - loss: 0.0148 - val_loss: 0.0154\n",
            "Epoch 47/100\n",
            "800/800 [==============================] - 0s 15us/step - loss: 0.0146 - val_loss: 0.0153\n",
            "Epoch 48/100\n",
            "800/800 [==============================] - 0s 15us/step - loss: 0.0145 - val_loss: 0.0152\n",
            "Epoch 49/100\n",
            "800/800 [==============================] - 0s 14us/step - loss: 0.0144 - val_loss: 0.0151\n",
            "Epoch 50/100\n",
            "800/800 [==============================] - 0s 15us/step - loss: 0.0143 - val_loss: 0.0150\n",
            "Epoch 51/100\n",
            "800/800 [==============================] - 0s 16us/step - loss: 0.0142 - val_loss: 0.0149\n",
            "Epoch 52/100\n",
            "800/800 [==============================] - 0s 15us/step - loss: 0.0141 - val_loss: 0.0148\n",
            "Epoch 53/100\n",
            "800/800 [==============================] - 0s 14us/step - loss: 0.0140 - val_loss: 0.0147\n",
            "Epoch 54/100\n",
            "800/800 [==============================] - 0s 13us/step - loss: 0.0139 - val_loss: 0.0146\n",
            "Epoch 55/100\n",
            "800/800 [==============================] - 0s 15us/step - loss: 0.0138 - val_loss: 0.0145\n",
            "Epoch 56/100\n",
            "100/800 [==>...........................] - ETA: 0s - loss: 0.0135"
          ],
          "name": "stdout"
        },
        {
          "output_type": "stream",
          "text": [
            "800/800 [==============================] - 0s 14us/step - loss: 0.0138 - val_loss: 0.0144\n",
            "Epoch 57/100\n",
            "800/800 [==============================] - 0s 14us/step - loss: 0.0137 - val_loss: 0.0143\n",
            "Epoch 58/100\n",
            "800/800 [==============================] - 0s 14us/step - loss: 0.0136 - val_loss: 0.0143\n",
            "Epoch 59/100\n",
            "800/800 [==============================] - 0s 14us/step - loss: 0.0135 - val_loss: 0.0142\n",
            "Epoch 60/100\n",
            "800/800 [==============================] - 0s 14us/step - loss: 0.0134 - val_loss: 0.0141\n",
            "Epoch 61/100\n",
            "800/800 [==============================] - 0s 15us/step - loss: 0.0133 - val_loss: 0.0140\n",
            "Epoch 62/100\n",
            "800/800 [==============================] - 0s 15us/step - loss: 0.0133 - val_loss: 0.0140\n",
            "Epoch 63/100\n",
            "800/800 [==============================] - 0s 17us/step - loss: 0.0132 - val_loss: 0.0139\n",
            "Epoch 64/100\n",
            "800/800 [==============================] - 0s 16us/step - loss: 0.0131 - val_loss: 0.0138\n",
            "Epoch 65/100\n",
            "800/800 [==============================] - 0s 16us/step - loss: 0.0131 - val_loss: 0.0138\n",
            "Epoch 66/100\n",
            "800/800 [==============================] - 0s 15us/step - loss: 0.0130 - val_loss: 0.0137\n",
            "Epoch 67/100\n",
            "800/800 [==============================] - 0s 15us/step - loss: 0.0129 - val_loss: 0.0136\n",
            "Epoch 68/100\n",
            "800/800 [==============================] - 0s 16us/step - loss: 0.0129 - val_loss: 0.0136\n",
            "Epoch 69/100\n",
            "800/800 [==============================] - 0s 16us/step - loss: 0.0128 - val_loss: 0.0135\n",
            "Epoch 70/100\n",
            "800/800 [==============================] - 0s 16us/step - loss: 0.0128 - val_loss: 0.0135\n",
            "Epoch 71/100\n",
            "800/800 [==============================] - 0s 18us/step - loss: 0.0127 - val_loss: 0.0134\n",
            "Epoch 72/100\n",
            "800/800 [==============================] - 0s 15us/step - loss: 0.0126 - val_loss: 0.0133\n",
            "Epoch 73/100\n",
            "800/800 [==============================] - 0s 16us/step - loss: 0.0126 - val_loss: 0.0133\n",
            "Epoch 74/100\n",
            "800/800 [==============================] - 0s 15us/step - loss: 0.0125 - val_loss: 0.0132\n",
            "Epoch 75/100\n",
            "800/800 [==============================] - 0s 16us/step - loss: 0.0125 - val_loss: 0.0132\n",
            "Epoch 76/100\n",
            "800/800 [==============================] - 0s 15us/step - loss: 0.0124 - val_loss: 0.0131\n",
            "Epoch 77/100\n",
            "800/800 [==============================] - 0s 13us/step - loss: 0.0124 - val_loss: 0.0131\n",
            "Epoch 78/100\n",
            "800/800 [==============================] - 0s 14us/step - loss: 0.0123 - val_loss: 0.0130\n",
            "Epoch 79/100\n",
            "800/800 [==============================] - 0s 13us/step - loss: 0.0123 - val_loss: 0.0130\n",
            "Epoch 80/100\n",
            "800/800 [==============================] - 0s 14us/step - loss: 0.0122 - val_loss: 0.0129\n",
            "Epoch 81/100\n",
            "800/800 [==============================] - 0s 14us/step - loss: 0.0122 - val_loss: 0.0129\n",
            "Epoch 82/100\n",
            "800/800 [==============================] - 0s 14us/step - loss: 0.0121 - val_loss: 0.0129\n",
            "Epoch 83/100\n",
            "800/800 [==============================] - 0s 14us/step - loss: 0.0121 - val_loss: 0.0128\n",
            "Epoch 84/100\n",
            "800/800 [==============================] - 0s 16us/step - loss: 0.0121 - val_loss: 0.0128\n"
          ],
          "name": "stdout"
        },
        {
          "output_type": "stream",
          "text": [
            "Epoch 85/100\n",
            "800/800 [==============================] - 0s 13us/step - loss: 0.0120 - val_loss: 0.0127\n",
            "Epoch 86/100\n",
            "800/800 [==============================] - 0s 14us/step - loss: 0.0120 - val_loss: 0.0127\n",
            "Epoch 87/100\n",
            "800/800 [==============================] - 0s 15us/step - loss: 0.0120 - val_loss: 0.0127\n",
            "Epoch 88/100\n",
            "800/800 [==============================] - 0s 18us/step - loss: 0.0119 - val_loss: 0.0126\n",
            "Epoch 89/100\n",
            "800/800 [==============================] - 0s 14us/step - loss: 0.0119 - val_loss: 0.0126\n",
            "Epoch 90/100\n",
            "800/800 [==============================] - 0s 13us/step - loss: 0.0118 - val_loss: 0.0126\n",
            "Epoch 91/100\n",
            "800/800 [==============================] - 0s 15us/step - loss: 0.0118 - val_loss: 0.0125\n",
            "Epoch 92/100\n",
            "800/800 [==============================] - 0s 14us/step - loss: 0.0118 - val_loss: 0.0125\n",
            "Epoch 93/100\n",
            "800/800 [==============================] - 0s 17us/step - loss: 0.0117 - val_loss: 0.0124\n",
            "Epoch 94/100\n",
            "800/800 [==============================] - 0s 15us/step - loss: 0.0117 - val_loss: 0.0124\n",
            "Epoch 95/100\n",
            "800/800 [==============================] - 0s 18us/step - loss: 0.0117 - val_loss: 0.0124\n",
            "Epoch 96/100\n",
            "800/800 [==============================] - 0s 14us/step - loss: 0.0116 - val_loss: 0.0124\n",
            "Epoch 97/100\n",
            "800/800 [==============================] - 0s 14us/step - loss: 0.0116 - val_loss: 0.0123\n",
            "Epoch 98/100\n",
            "800/800 [==============================] - 0s 15us/step - loss: 0.0116 - val_loss: 0.0123\n",
            "Epoch 99/100\n",
            "800/800 [==============================] - 0s 14us/step - loss: 0.0116 - val_loss: 0.0123\n",
            "Epoch 100/100\n",
            "800/800 [==============================] - 0s 14us/step - loss: 0.0115 - val_loss: 0.0122\n",
            "Test score: 0.012243799343705177\n"
          ],
          "name": "stdout"
        }
      ]
    },
    {
      "metadata": {
        "id": "I4m_v7z018VF",
        "colab_type": "code",
        "colab": {
          "autoexec": {
            "startup": false,
            "wait_interval": 0
          },
          "base_uri": "https://localhost:8080/",
          "height": 265
        },
        "outputId": "dbf79abb-ead2-41fb-a271-7cd2d1a694ae",
        "executionInfo": {
          "status": "ok",
          "timestamp": 1531727420843,
          "user_tz": -330,
          "elapsed": 852,
          "user": {
            "displayName": "Atul Balaji",
            "photoUrl": "https://lh3.googleusercontent.com/a/default-user=s128",
            "userId": "114090638288848832178"
          }
        }
      },
      "cell_type": "code",
      "source": [
        "x = np.linspace(-20,20,1000)\n",
        "y = model.predict(x)\n",
        "plt.scatter(X_train, y_train, label='Dataset')\n",
        "plt.scatter(x, y, label='Predicted Function')\n",
        "plt.legend(loc='best')\n",
        "plt.show()"
      ],
      "execution_count": 59,
      "outputs": [
        {
          "output_type": "display_data",
          "data": {
            "image/png": "[encoded data removed]",
            "text/plain": [
              "<matplotlib.figure.Figure at 0x7f8091014828>"
            ]
          },
          "metadata": {
            "tags": []
          }
        }
      ]
    },
    {
      "metadata": {
        "id": "brjndHS6CDz6",
        "colab_type": "text"
      },
      "cell_type": "markdown",
      "source": [
        "# Probability and Information Theory\n",
        "\n",
        "- Probablity is a mathematical Statement to represent `Uncertain Statements`.\n",
        "\n",
        "- While probability theory allows us to make uncertain statements and reason the presence of uncertainty, `Information Theory` allows us to quantify the amount of uncertainty present in a probability distribution."
      ]
    },
    {
      "metadata": {
        "id": "gzZ9IM-BDYXb",
        "colab_type": "text"
      },
      "cell_type": "markdown",
      "source": [
        "## Why do we need this topic?\n",
        "\n",
        "To answer these questions....\n",
        "\n",
        "- Why cross entropy?\n",
        "  - Why minimizing that trains my network?\n",
        "- Uses of One-Hot Encoding\n",
        "and many more..."
      ]
    },
    {
      "metadata": {
        "id": "3Dwj1P9KDyTq",
        "colab_type": "text"
      },
      "cell_type": "markdown",
      "source": [
        "## This is the output probability vector expected. (The labels in classification problem)\n",
        "![one-hot](https://www.tensorflow.org/images/feature_columns/categorical_column_with_identity.jpg)\n",
        "\n",
        "## This is the network predicts (output softmax). \n",
        "![nn-prob](https://raw.githubusercontent.com/rohan-varma/rohan-blog/gh-pages/images/neuralnet.png)\n",
        "\n",
        "### Clearly these 2 are 2 probability distributions and we need to minimize the information content/ `distance` between these 2 distribution."
      ]
    },
    {
      "metadata": {
        "id": "JJQalgeMDPE9",
        "colab_type": "text"
      },
      "cell_type": "markdown",
      "source": [
        "## Random Variables\n",
        "\n",
        "\n",
        "\n",
        "*   **Random Variable** is a variable that can take different values /states with likelihood of taking each state represented by a probability distribution.\n",
        "*   For example, lets say $x$ is a random variable which can take values $x_1$, $x_2$. Then the states/values of the random variable $x$ is $x_1$, $x_2$ and likelihood of $x$ taking one of this state is described by a probability distribution.\n",
        "\n",
        "* Example, lets random variable $x$ represent the outcome of tossing a coin. \n",
        "\n",
        "![Probability Distribution of coins tossing](https://www.sumproduct.com/fileadmin/filemount/Thought_Files/N-Z/Image-01-No.-of-Heads-from-1-Coin-Toss.gif)\n",
        "\n"
      ]
    },
    {
      "metadata": {
        "id": "tSNTGKZU409_",
        "colab_type": "text"
      },
      "cell_type": "markdown",
      "source": [
        "## Probability Distribution\n",
        "\n",
        "A **probability distribution** is a description of how likely a random variable or set of random variables is to take of its possible states.\n",
        "\n",
        "\n",
        "\n",
        "![pmf](https://encrypted-tbn0.gstatic.com/images?q=tbn:ANd9GcRzduXzRL_TjNY9mGF7SSDMj5J1p-io6Ck5_5vWNC6hR_zs2hLY)\n",
        "\n",
        "## Information Theory\n",
        "\n",
        "This is the branch of applied mathematics that revolves around quantifying how much information  is present in the signal.\n",
        "\n",
        "**Basic Idea**\n",
        "\n",
        "- Likely events should have low information content, and in the extreme case the events that are guaranteed to happen should have no information whatsoever.\n",
        "\n",
        "- Events that are more unlikely should have higher information content.\n",
        "\n",
        "- Independent events should have additive information."
      ]
    },
    {
      "metadata": {
        "id": "9m8NkkAXsiyr",
        "colab_type": "text"
      },
      "cell_type": "markdown",
      "source": [
        "## Can you think of a function of probability of an event that satisfies all the above constraints ?"
      ]
    },
    {
      "metadata": {
        "id": "46CF4c3AyPX2",
        "colab_type": "text"
      },
      "cell_type": "markdown",
      "source": [
        "Let $I(x)$ denote the information carried by event **x** and probability of $x$ happening is $p(x)$.\n",
        "\n",
        "$p(X = x) \\uparrow \\implies I(X = x) \\downarrow $\n",
        "\n",
        "If x, y are 2 Independent events, the let \n",
        "\n",
        "\\begin{equation}\n",
        "P(X = x,Y = y) = P(X = x)P(Y = y)\n",
        "\\end{equation}\n",
        "\n",
        "Similarly, information you get by observing $X = x, Y = y$ is\n",
        "\n",
        "\\begin{equation}\n",
        "I(X = x, Y = y) = I(X = x) + I(Y = y)\n",
        "\\end{equation}"
      ]
    },
    {
      "metadata": {
        "id": "v8OyB5CA0DRU",
        "colab_type": "text"
      },
      "cell_type": "markdown",
      "source": [
        "This function satisfies all constraints, we define the **self-information** of an event $X=x$ to be\n",
        "\n",
        "\\begin{equation}\n",
        "I(x) = -logP(x)\n",
        "\\end{equation}\n",
        "\n",
        "$log$ is natural logarithm with base $e$.\n",
        "\n",
        "- Units of **nats**\n",
        "  - One nat is the amount of information gained by observing an event of probability $\\frac{1}{e}$\n",
        " \n",
        "- Other Units include **bits**or **shannons** (where the log is replaced with base-2)"
      ]
    },
    {
      "metadata": {
        "id": "DIAiW1Zb0u9K",
        "colab_type": "text"
      },
      "cell_type": "markdown",
      "source": [
        "Self information deals only with single outcome. \n",
        "\n",
        "- To quantify the amount of uncertainty in an entire *probability distribution* we use **Shannon Entropy** which is defined as,\n",
        "\n",
        "\\begin{equation}\n",
        "H(x) = E_{x \\epsilon P}[I(x)] = - E_{x \\epsilon P}[logP(x)]\n",
        "\\end{equation}\n",
        "\n",
        "Shannon entropy describes the expected amount of information that can be drawn from that distribution."
      ]
    },
    {
      "metadata": {
        "id": "YUhA2Cdy16Sv",
        "colab_type": "text"
      },
      "cell_type": "markdown",
      "source": [
        "Whats the Shannon Entropy of these distributions?\n",
        "\n",
        "1)\n",
        "\n",
        "![dirac_distribution](http://www.matrixlab-examples.com/image-files/impulse-function-003.gif)\n",
        "\n",
        "2) \n",
        "\n",
        "\n",
        "![Uniform Distribution](http://www.a-levelmathstutor.com/images/statistics/graph-discrete-uniform-dist.jpg)\n",
        "\n",
        "3)\n",
        "\n",
        "\n",
        "![gaussian Distribution](http://formulaforge.com/FVimages/BellCurve/BellCurve.jpg)"
      ]
    },
    {
      "metadata": {
        "id": "JCfb9JRu3MAC",
        "colab_type": "text"
      },
      "cell_type": "markdown",
      "source": [
        "If you have two separate probability distributions $P(X)$ and $Q(X)$ over the same random variable $x$, we can measure how different these 2 distributions are by using **$Kullback-Leibler\\ (KL)\\ Divergence$** or $Relative-Entropy$ which is defined as,\n",
        "\n",
        "\\begin{equation}\n",
        "D_{KL}(P||Q) = E_{x \\epsilon\\ P}[log \\frac{P(x)}{Q(x)}] = E[logP(x) - logQ(x)]\n",
        "\\end{equation}"
      ]
    },
    {
      "metadata": {
        "id": "KWElnFJ04i57",
        "colab_type": "text"
      },
      "cell_type": "markdown",
      "source": [
        "**Properties of KL-Divergence**:\n",
        "\n",
        "- Notion of distance between 2 Probability distributions \n",
        "\n",
        "- In context of $ML$, $D_{KL}(P||Q)$ is often called the information gain achieved if $Q$ is used instead of $P$.\n",
        "\n",
        "- In $Bayesian\\ Inference$ KL divergence can be a measure of the information one gains be refining ones belief (prior) distribution $Q$ to the posterior distribution $P$. In other words, amount of information lost when you choose to approximate $P$ using $Q$.\n",
        "\n",
        "- Generally,\n",
        "  - $P$ represents `true` data distribution. The probability distribution which generated this data, the theoritical one.\n",
        "  - $Q$ represents the `model` probability distribution, which is used to `fit` / `model` the probability distribution of the data. (Approximation of $P$)"
      ]
    },
    {
      "metadata": {
        "id": "a56T_Mt_8bIi",
        "colab_type": "text"
      },
      "cell_type": "markdown",
      "source": [
        "![kl-image](https://wikimedia.org/api/rest_v1/media/math/render/svg/edb367bbf4e752286ef6d712159ce43fea17a2bd)\n",
        "\n",
        "\n",
        "![continuous-kl](https://wikimedia.org/api/rest_v1/media/math/render/svg/526682a951093613fe4c721db57b68ec991bdf07)"
      ]
    },
    {
      "metadata": {
        "id": "YyKBfPMUAQWf",
        "colab_type": "text"
      },
      "cell_type": "markdown",
      "source": [
        "## Example:\n",
        "$\n",
        "\\Omega = \\{A,B\\}, P(A) = 0.2, P(B) = 0.8, Q(A) = Q(B) = 0.5\n",
        "$\n",
        "\n",
        "**Calculate the following**\n",
        "\n",
        "\n",
        "$\n",
        "1)\\ KL(P,Q) = P(A)\\log \\frac{P(A)}{Q(A)} + P(B) \\log \\frac{P(B)}{Q(B)}\n",
        "$\n",
        "\n",
        "$\n",
        "2) KL(Q,P) = Q(A)\\log \\frac{Q(A)}{P(A)} + Q(B) \\log \\frac{Q(B)}{P(B)}\n",
        "$"
      ]
    },
    {
      "metadata": {
        "id": "VzgN50TCBC-I",
        "colab_type": "text"
      },
      "cell_type": "markdown",
      "source": [
        "## Answers\n",
        "$\n",
        "KL(P,Q) = P(A)\\log \\frac{P(A)}{Q(A)} + P(B) \\log \\frac{P(B)}{Q(B)} \\approx 0.19\n",
        "$\n",
        "\n",
        "$\n",
        "KL(Q,P) = Q(A)\\log \\frac{Q(A)}{P(A)} + Q(B) \\log \\frac{Q(B)}{P(B)} \\approx 0.22\n",
        "$\n",
        "\n",
        "\n",
        "Note:\n",
        "$\n",
        "KL(P,Q) \\neq KL(Q,P)\n",
        "$"
      ]
    },
    {
      "metadata": {
        "id": "sZiT1LIP9vU7",
        "colab_type": "text"
      },
      "cell_type": "markdown",
      "source": [
        "## If KL Divergence becomes 0, this means $P$ and $Q$ are almost same everywhere."
      ]
    },
    {
      "metadata": {
        "id": "Lh7GqEWH-B7E",
        "colab_type": "text"
      },
      "cell_type": "markdown",
      "source": [
        "Another Quantity called **Cross-Entropy** related to KL Divergence is defined as \n",
        "\n",
        "\\begin{equation}\n",
        "H(P,Q) = H(P) + D_{KL}(P||Q) = -E_{x\\ \\epsilon\\ P}\\ logQ(x)\n",
        "\\end{equation}\n",
        "\n",
        "\n",
        "In discrete case, \n",
        "\n",
        "\n",
        "![cross_entropy](https://wikimedia.org/api/rest_v1/media/math/render/svg/0cb6da032ab424eefdca0884cd4113fe578f4293)\n",
        "\n",
        "- Here $Q(X)$ is our attempt to model the distribution which created the data ($P(X)$)."
      ]
    },
    {
      "metadata": {
        "id": "4p0CDo97_F_5",
        "colab_type": "text"
      },
      "cell_type": "markdown",
      "source": [
        "### What we do when we train a neural network?\n",
        "\n",
        "We change the weights, biases and other parameters if any. So we are trying to change $Q(X)$ such that it models with $P(X)$ the true distribution which created the dataset we are using to train.\n",
        "\n",
        "So $P(X)$ is something which is **unmoving and fixed**. By changing weights and biases we can change only the model's representation which is $Q(X)$ in a belief to get closer to $P(X)$ which is the true distribution.\n"
      ]
    },
    {
      "metadata": {
        "id": "zJIBY9Rp_wWe",
        "colab_type": "text"
      },
      "cell_type": "markdown",
      "source": [
        "So, minimizing cross-entropy with respect to Q (modelled by weight and biases) is equivalent to **minimizing KL DIvergence**."
      ]
    },
    {
      "metadata": {
        "id": "KrsT0G79lZaP",
        "colab_type": "text"
      },
      "cell_type": "markdown",
      "source": [
        "# Introduction to Keras\n",
        "\n",
        "Keras is a **high-level** neural network API, written in Python. It was developed with a focus on enabling **fast experimentation**. \n",
        "\n",
        "Any program written with Keras has **5 steps**:\n",
        "- Define the model\n",
        "- Compile\n",
        "- Fit (train)\n",
        "- Evaluate \n",
        "- Predict\n",
        "\n",
        "Here, we will discuss the implementation of a simple classification task using Keras, with a **softmax**  (logistic) classifier."
      ]
    },
    {
      "metadata": {
        "id": "kTL4kH_a_OqO",
        "colab_type": "text"
      },
      "cell_type": "markdown",
      "source": [
        "## Softmax Classifier\n",
        "\n",
        "We have a dataset of points $(x_i,y_i)$, where $x_i$ is the input and $y_i$ is the output class.\n",
        "Consider a linear classifier for which **class scores** *f* can be found as $f(x_i;W) = Wx_i$. For this multi-class classification problem, let us denote the score for the **class j** as $s_j = f(x_i;W)_j$, in short as $f_j$.\n",
        "\n",
        "Let $z = Wx$. Then the scores for class j will be computed as:\n",
        "\\begin{equation}\n",
        "s_j(z) = \\frac{e^{z_j}}{\\Sigma{_k}{e^{z_k}}}\n",
        "\\end{equation}\n",
        " This is known as the **softmax function**.\n",
        "\n",
        "If you’ve heard of the **binary Logistic Regression** classifier before, the Softmax classifier is its generalization to **multiple classes**. The Softmax classifier gives an intuitive output (normalized class probabilities) and also has a probabilistic interpretation that we will describe shortly. In the Softmax classifier, we interpret the scores as the unnormalized log probabilities for each class and have a **cross-entropy loss** that has the form:\n",
        "\n",
        "\\begin{equation}\n",
        "L_i = -log(\\frac{e^{f_{y_i}}}{\\Sigma{_j}{e^{f_j}}})\n",
        "\\end{equation}\n",
        "\n",
        "### Example\n",
        "\n",
        "Let us consider a dataset with 4 input features and 3 output classes. So, the shape of the **weight matrix** (W) is 3x4 and that of the **input vector** ($x_i$) is 4x1. Therefore, we get an output of shape 3x1, which is given by $Wx+b$. Also, for this particular $x_i$, the **output class** ($y_i$) is 2 ($3^{rd}$ class). \n",
        "\n",
        "   ![image](https://i.imgur.com/JU7OQV7.png)\n",
        "\n",
        "Now we have the **unnormalized** class scores. Now we will take the softmax function of these class scores. Finally, we can observe that the normalized class scores sum to 1. The loss function is given by $-log(s_2(z)) = -log(0.353) = 1.04$.\n",
        "\n",
        "   ![image](https://i.imgur.com/XYw86Hq.png)\n"
      ]
    },
    {
      "metadata": {
        "id": "2Chs1gzZ6pYx",
        "colab_type": "text"
      },
      "cell_type": "markdown",
      "source": [
        "Now that you have understood the concept behind softmax classifier, let's jump into the code.\n",
        "\n",
        "Let us create our dataset using **scikit-learn's** make_blobs function. The number of points in our dataset is 4000 and we have 4 classes as shown below. The **dimension** of the data (no.of features) is chosen to be 2, so that it is easy to plot and visualize. In reality, image classification tasks will have a very large number of dimensions."
      ]
    },
    {
      "metadata": {
        "id": "Q7Tm4V6AVsRe",
        "colab_type": "code",
        "colab": {
          "autoexec": {
            "startup": false,
            "wait_interval": 0
          },
          "base_uri": "https://localhost:8080/",
          "height": 269
        },
        "outputId": "dee7948b-d694-43b9-ee68-fa19abedebd6",
        "executionInfo": {
          "status": "ok",
          "timestamp": 1531727422322,
          "user_tz": -330,
          "elapsed": 1136,
          "user": {
            "displayName": "Atul Balaji",
            "photoUrl": "https://lh3.googleusercontent.com/a/default-user=s128",
            "userId": "114090638288848832178"
          }
        }
      },
      "cell_type": "code",
      "source": [
        "data = make_blobs(n_samples=4000, n_features=2, centers=4, cluster_std=1.8,random_state=101)\n",
        "plt.scatter(data[0][:,0],data[0][:,1],c=data[1],cmap='rainbow')\n",
        "plt.show()"
      ],
      "execution_count": 60,
      "outputs": [
        {
          "output_type": "display_data",
          "data": {
            "image/png": "[encoded data removed]",
            "text/plain": [
              "<matplotlib.figure.Figure at 0x7f80914f3a58>"
            ]
          },
          "metadata": {
            "tags": []
          }
        }
      ]
    },
    {
      "metadata": {
        "id": "Qs22Ice-8RZJ",
        "colab_type": "text"
      },
      "cell_type": "markdown",
      "source": [
        "We will use scikit-learn's **train_test_split** function to split our dataset into train and test, with a ratio of 4:1. After this, we will convert our labels (y) into **one-hot** vectors before passing it into our classifier model."
      ]
    },
    {
      "metadata": {
        "id": "Bd8XZWmIx2Mo",
        "colab_type": "code",
        "colab": {
          "autoexec": {
            "startup": false,
            "wait_interval": 0
          },
          "base_uri": "https://localhost:8080/",
          "height": 170
        },
        "outputId": "84abf96a-960d-4535-b6b0-9b885fd2f778",
        "executionInfo": {
          "status": "ok",
          "timestamp": 1531727423238,
          "user_tz": -330,
          "elapsed": 748,
          "user": {
            "displayName": "Atul Balaji",
            "photoUrl": "https://lh3.googleusercontent.com/a/default-user=s128",
            "userId": "114090638288848832178"
          }
        }
      },
      "cell_type": "code",
      "source": [
        "X = data[0]\n",
        "y = data[1]\n",
        "X_train, X_test, y_train, y_test = train_test_split(X, y, test_size=0.2, random_state=42)\n",
        "Y_train = np_utils.to_categorical(y_train, 4) \n",
        "Y_test = np_utils.to_categorical(y_test, 4)\n",
        "print(\"y_train labels: \",y_train)\n",
        "print(\"Y_train one-hot labels: \\n\",Y_train)"
      ],
      "execution_count": 61,
      "outputs": [
        {
          "output_type": "stream",
          "text": [
            "y_train labels:  [1 3 3 ... 0 1 2]\n",
            "Y_train one-hot labels: \n",
            " [[0. 1. 0. 0.]\n",
            " [0. 0. 0. 1.]\n",
            " [0. 0. 0. 1.]\n",
            " ...\n",
            " [1. 0. 0. 0.]\n",
            " [0. 1. 0. 0.]\n",
            " [0. 0. 1. 0.]]\n"
          ],
          "name": "stdout"
        }
      ]
    },
    {
      "metadata": {
        "id": "YOE1P0-59dVj",
        "colab_type": "text"
      },
      "cell_type": "markdown",
      "source": [
        "This is where we will **define our model**. The **Dense** function here, takes 3 parameters - **no.of output classes, input dimension, type of actvation**. \n",
        "\n",
        "**Epoch**: One pass of the entire set of training examples.\n",
        "\n",
        "**Batch size**: Number of training examples used for one pass (iteration)."
      ]
    },
    {
      "metadata": {
        "id": "jClEX_MsyHMz",
        "colab_type": "code",
        "colab": {
          "autoexec": {
            "startup": false,
            "wait_interval": 0
          }
        }
      },
      "cell_type": "code",
      "source": [
        "# Define the model\n",
        "model = Sequential() \n",
        "model.add(Dense(4, input_dim=2, activation='softmax')) \n",
        "batch_size = 4\n",
        "nb_epoch = 10"
      ],
      "execution_count": 0,
      "outputs": []
    },
    {
      "metadata": {
        "id": "Lm4iJvqm_Gb_",
        "colab_type": "text"
      },
      "cell_type": "markdown",
      "source": [
        "The **compile** function configures the model for training with the appropriate *optimizer* and *loss function*. Here we have selected categorical cross-entropy loss since it is a multi-class classification problem.\n",
        "\n",
        "The **fit** function trains the model for the specified number of epochs and batch size. \n",
        "\n",
        "The **evaluate** computes the test accuracy."
      ]
    },
    {
      "metadata": {
        "id": "lAGMEsMd2aMM",
        "colab_type": "code",
        "colab": {
          "autoexec": {
            "startup": false,
            "wait_interval": 0
          },
          "base_uri": "https://localhost:8080/",
          "height": 428
        },
        "outputId": "9b3097a1-2f10-4343-be29-35f20b639089",
        "executionInfo": {
          "status": "ok",
          "timestamp": 1531727434609,
          "user_tz": -330,
          "elapsed": 10361,
          "user": {
            "displayName": "Atul Balaji",
            "photoUrl": "https://lh3.googleusercontent.com/a/default-user=s128",
            "userId": "114090638288848832178"
          }
        }
      },
      "cell_type": "code",
      "source": [
        "model.compile(optimizer='sgd', loss='categorical_crossentropy', metrics=['accuracy']) \n",
        "history = model.fit(X_train, Y_train, batch_size=batch_size, epochs=nb_epoch,verbose=1, validation_data=(X_test, Y_test)) \n",
        "score = model.evaluate(X_test, Y_test, verbose=0) \n",
        "print('Test score:', score[0]) \n",
        "print('Test accuracy:', score[1])"
      ],
      "execution_count": 63,
      "outputs": [
        {
          "output_type": "stream",
          "text": [
            "Train on 3200 samples, validate on 800 samples\n",
            "Epoch 1/10\n",
            "3200/3200 [==============================] - 1s 324us/step - loss: 0.4207 - acc: 0.8181 - val_loss: 0.3115 - val_acc: 0.8688\n",
            "Epoch 2/10\n",
            "3200/3200 [==============================] - 1s 290us/step - loss: 0.2662 - acc: 0.9166 - val_loss: 0.2333 - val_acc: 0.9300\n",
            "Epoch 3/10\n",
            "3200/3200 [==============================] - 1s 289us/step - loss: 0.2095 - acc: 0.9428 - val_loss: 0.1961 - val_acc: 0.9337\n",
            "Epoch 4/10\n",
            "3200/3200 [==============================] - 1s 292us/step - loss: 0.1816 - acc: 0.9484 - val_loss: 0.1749 - val_acc: 0.9363\n",
            "Epoch 5/10\n",
            "3200/3200 [==============================] - 1s 292us/step - loss: 0.1638 - acc: 0.9553 - val_loss: 0.1623 - val_acc: 0.9387\n",
            "Epoch 6/10\n",
            "3200/3200 [==============================] - 1s 298us/step - loss: 0.1522 - acc: 0.9553 - val_loss: 0.1537 - val_acc: 0.9500\n",
            "Epoch 7/10\n",
            "3200/3200 [==============================] - 1s 293us/step - loss: 0.1447 - acc: 0.9553 - val_loss: 0.1459 - val_acc: 0.9450\n",
            "Epoch 8/10\n",
            "3200/3200 [==============================] - 1s 287us/step - loss: 0.1385 - acc: 0.9569 - val_loss: 0.1429 - val_acc: 0.9463\n",
            "Epoch 9/10\n",
            "1616/3200 [==============>...............] - ETA: 0s - loss: 0.1369 - acc: 0.9554"
          ],
          "name": "stdout"
        },
        {
          "output_type": "stream",
          "text": [
            "3200/3200 [==============================] - 1s 290us/step - loss: 0.1337 - acc: 0.9575 - val_loss: 0.1395 - val_acc: 0.9450\n",
            "Epoch 10/10\n",
            "3200/3200 [==============================] - 1s 289us/step - loss: 0.1301 - acc: 0.9606 - val_loss: 0.1343 - val_acc: 0.9437\n",
            "Test score: 0.13426936954259872\n",
            "Test accuracy: 0.94375\n"
          ],
          "name": "stdout"
        }
      ]
    },
    {
      "metadata": {
        "id": "yy_kF7er_c3-",
        "colab_type": "text"
      },
      "cell_type": "markdown",
      "source": [
        "Now, let us **visualize** the predictions. Before doing that, we must convert the softmax vectors into scalar labels, using the **argmax** function, which finds the largest element of the vector."
      ]
    },
    {
      "metadata": {
        "id": "OByvBngZ2pob",
        "colab_type": "code",
        "colab": {
          "autoexec": {
            "startup": false,
            "wait_interval": 0
          },
          "base_uri": "https://localhost:8080/",
          "height": 561
        },
        "outputId": "daa58fb7-fd86-4640-8480-3c54fe2e1370",
        "executionInfo": {
          "status": "ok",
          "timestamp": 1531727435562,
          "user_tz": -330,
          "elapsed": 893,
          "user": {
            "displayName": "Atul Balaji",
            "photoUrl": "https://lh3.googleusercontent.com/a/default-user=s128",
            "userId": "114090638288848832178"
          }
        }
      },
      "cell_type": "code",
      "source": [
        "Y_pred = model.predict(X_test)\n",
        "print(\"Softmax predictions: \\n\",Y_pred)\n",
        "y_pred = np.argmax(Y_pred, axis=1)\n",
        "print(\"\\nClass with maximum predictions: \\n\",y_pred)"
      ],
      "execution_count": 64,
      "outputs": [
        {
          "output_type": "stream",
          "text": [
            "Softmax predictions: \n",
            " [[2.4527432e-03 3.3433034e-09 9.9741071e-01 1.3652828e-04]\n",
            " [4.7127376e-03 4.8727106e-05 2.6461019e-04 9.9497390e-01]\n",
            " [8.7771726e-01 2.2389058e-02 4.0497873e-03 9.5843859e-02]\n",
            " ...\n",
            " [2.9888428e-03 9.9542052e-01 2.8362104e-10 1.5905369e-03]\n",
            " [2.8725271e-03 9.1303338e-09 9.8524946e-01 1.1878019e-02]\n",
            " [1.5969475e-03 9.9838936e-01 3.3013016e-11 1.3680392e-05]]\n",
            "\n",
            "Class with maximum predictions: \n",
            " [2 3 0 3 2 2 2 2 3 0 2 3 0 0 3 0 3 2 1 1 1 2 1 2 2 2 1 2 2 1 2 1 0 1 3 3 1\n",
            " 0 1 3 1 0 1 1 0 0 3 0 1 1 0 3 2 0 3 2 1 1 1 0 3 0 3 1 0 1 3 3 1 0 1 0 3 3\n",
            " 2 1 1 1 0 0 2 3 2 3 0 3 2 3 3 1 3 3 0 0 3 1 3 2 1 0 0 2 2 2 3 0 0 3 1 3 1\n",
            " 2 0 0 1 0 1 3 1 3 2 3 0 0 2 2 0 0 2 2 2 2 3 1 0 1 3 3 0 1 2 3 2 3 0 3 2 2\n",
            " 2 0 0 1 3 0 1 3 1 1 1 2 3 0 1 3 0 3 2 0 0 3 2 2 3 1 1 1 2 1 0 3 0 1 0 2 2\n",
            " 0 3 3 3 2 2 1 3 1 3 2 1 3 0 3 3 3 2 1 0 0 3 2 2 0 2 2 0 2 3 2 3 2 0 3 2 3\n",
            " 0 1 3 3 1 0 3 1 3 1 2 0 3 0 0 0 3 1 1 2 3 0 1 0 1 2 1 1 2 3 3 3 2 0 0 3 1\n",
            " 2 1 1 0 2 1 0 2 2 3 2 3 3 2 0 2 0 2 1 3 3 2 3 1 3 0 2 2 3 3 2 3 1 2 2 0 0\n",
            " 3 2 2 0 1 2 1 2 1 0 2 0 1 1 2 2 0 2 2 3 1 2 0 0 2 2 0 0 3 0 2 3 1 2 2 2 0\n",
            " 3 3 3 2 1 3 3 2 2 1 2 1 1 0 0 0 1 1 3 2 2 0 2 1 1 3 2 3 3 3 1 0 3 3 0 2 0\n",
            " 3 1 3 2 1 2 3 2 0 0 1 3 3 3 3 2 0 1 0 1 2 0 1 2 1 0 0 2 3 2 2 1 2 0 3 1 3\n",
            " 2 3 1 2 2 0 2 0 1 2 1 3 0 0 1 3 2 1 2 3 1 2 2 1 3 0 0 1 1 3 1 2 1 1 2 1 3\n",
            " 0 3 1 3 1 0 2 2 0 1 3 3 2 3 2 2 3 2 1 2 0 1 2 2 3 2 1 1 0 0 3 0 1 1 2 2 3\n",
            " 0 0 1 2 3 0 0 0 0 2 2 0 0 0 1 2 0 3 1 2 1 0 3 2 0 3 3 2 0 2 2 3 3 1 1 3 3\n",
            " 3 1 3 0 3 0 3 0 3 0 2 1 3 1 1 0 3 3 1 1 0 3 0 2 3 1 3 3 3 1 3 3 0 3 2 2 0\n",
            " 1 2 3 0 2 1 0 3 0 2 1 0 1 0 2 3 0 1 3 0 1 3 1 2 3 0 3 3 1 2 1 1 1 3 2 0 0\n",
            " 1 3 0 0 2 0 3 2 0 2 1 0 3 0 3 2 3 3 2 1 0 0 2 2 2 3 0 3 2 0 2 0 2 1 3 1 2\n",
            " 0 3 0 1 1 2 1 2 1 0 2 3 2 0 2 0 2 3 3 1 3 2 3 3 1 1 0 3 0 2 3 0 0 1 3 0 3\n",
            " 2 2 1 2 1 0 1 2 3 1 1 1 1 0 3 3 0 2 1 0 1 2 1 3 3 1 1 3 1 0 2 2 3 2 1 1 1\n",
            " 1 0 2 0 3 1 1 1 2 3 1 3 2 3 2 1 0 3 0 0 3 0 3 0 1 0 0 3 0 0 0 2 1 2 0 0 1\n",
            " 1 3 1 0 1 2 2 0 0 3 1 3 1 3 2 1 0 3 2 1 1 1 0 1 2 2 3 2 0 2 3 3 0 1 3 2 3\n",
            " 2 1 2 2 2 0 0 2 0 1 3 1 0 1 3 3 0 3 0 0 1 2 1]\n"
          ],
          "name": "stdout"
        }
      ]
    },
    {
      "metadata": {
        "id": "WEHszb1c27tb",
        "colab_type": "code",
        "colab": {
          "autoexec": {
            "startup": false,
            "wait_interval": 0
          },
          "base_uri": "https://localhost:8080/",
          "height": 406
        },
        "outputId": "f7f4c02e-2555-45df-c5d7-624c630d3c95",
        "executionInfo": {
          "status": "ok",
          "timestamp": 1531727437908,
          "user_tz": -330,
          "elapsed": 2237,
          "user": {
            "displayName": "Atul Balaji",
            "photoUrl": "https://lh3.googleusercontent.com/a/default-user=s128",
            "userId": "114090638288848832178"
          }
        }
      },
      "cell_type": "code",
      "source": [
        "f, (ax1, ax2) = plt.subplots(1, 2, sharey=True,figsize=(10,6))\n",
        "ax1.set_title('Predictions')\n",
        "ax1.scatter(X_test[:,0],X_test[:,1],c=y_pred,cmap='rainbow')\n",
        "ax2.set_title(\"Original\")\n",
        "ax2.scatter(X_test[:,0],X_test[:,1],c=y_test,cmap='rainbow')"
      ],
      "execution_count": 65,
      "outputs": [
        {
          "output_type": "execute_result",
          "data": {
            "text/plain": [
              "<matplotlib.collections.PathCollection at 0x7f8090de86a0>"
            ]
          },
          "metadata": {
            "tags": []
          },
          "execution_count": 65
        },
        {
          "output_type": "display_data",
          "data": {
            "image/png": "[encoded data removed]",
            "text/plain": [
              "<matplotlib.figure.Figure at 0x7f8091514828>"
            ]
          },
          "metadata": {
            "tags": []
          }
        }
      ]
    },
    {
      "metadata": {
        "id": "kxINFCC74hoD",
        "colab_type": "text"
      },
      "cell_type": "markdown",
      "source": [
        "### Visualizing the decision boundary "
      ]
    },
    {
      "metadata": {
        "id": "O8pC8Sfx_Twf",
        "colab_type": "text"
      },
      "cell_type": "markdown",
      "source": [
        "Let us create a grid of points in the 2D space between -20 and 20. "
      ]
    },
    {
      "metadata": {
        "id": "mLECBUto5QhC",
        "colab_type": "code",
        "colab": {
          "autoexec": {
            "startup": false,
            "wait_interval": 0
          },
          "base_uri": "https://localhost:8080/",
          "height": 34
        },
        "outputId": "cbec2ca5-313c-442e-94b0-c8a7880d6154",
        "executionInfo": {
          "status": "ok",
          "timestamp": 1531727439701,
          "user_tz": -330,
          "elapsed": 1698,
          "user": {
            "displayName": "Atul Balaji",
            "photoUrl": "https://lh3.googleusercontent.com/a/default-user=s128",
            "userId": "114090638288848832178"
          }
        }
      },
      "cell_type": "code",
      "source": [
        "x = np.linspace(-20, 20, 100)\n",
        "xx, yy = np.meshgrid(x, x)\n",
        "data = np.dstack((xx,yy))\n",
        "data = data.reshape(-1,2)\n",
        "data.shape"
      ],
      "execution_count": 66,
      "outputs": [
        {
          "output_type": "execute_result",
          "data": {
            "text/plain": [
              "(10000, 2)"
            ]
          },
          "metadata": {
            "tags": []
          },
          "execution_count": 66
        }
      ]
    },
    {
      "metadata": {
        "id": "_Bzv6vwB_8lW",
        "colab_type": "text"
      },
      "cell_type": "markdown",
      "source": [
        ""
      ]
    },
    {
      "metadata": {
        "id": "XZrMVsC3wXZw",
        "colab_type": "code",
        "colab": {
          "autoexec": {
            "startup": false,
            "wait_interval": 0
          }
        }
      },
      "cell_type": "code",
      "source": [
        "y = model.predict(data)\n",
        "y_class = np.argmax(y, axis=1)"
      ],
      "execution_count": 0,
      "outputs": []
    },
    {
      "metadata": {
        "id": "8hvdVFxXxihQ",
        "colab_type": "code",
        "colab": {
          "autoexec": {
            "startup": false,
            "wait_interval": 0
          },
          "base_uri": "https://localhost:8080/",
          "height": 280
        },
        "outputId": "de4eb245-08c3-45ba-f6f6-0b58009a5e3e",
        "executionInfo": {
          "status": "ok",
          "timestamp": 1531727447912,
          "user_tz": -330,
          "elapsed": 5947,
          "user": {
            "displayName": "Atul Balaji",
            "photoUrl": "https://lh3.googleusercontent.com/a/default-user=s128",
            "userId": "114090638288848832178"
          }
        }
      },
      "cell_type": "code",
      "source": [
        "plt.scatter(data[:,0], data[:,1], c=y_class, cmap='rainbow')\n",
        "plt.title(\"Decision Boundary Predicted by Softmax Classifier\")\n",
        "plt.show()"
      ],
      "execution_count": 68,
      "outputs": [
        {
          "output_type": "display_data",
          "data": {
            "image/png": "[encoded data removed]",
            "text/plain": [
              "<matplotlib.figure.Figure at 0x7f80910142b0>"
            ]
          },
          "metadata": {
            "tags": []
          }
        }
      ]
    },
    {
      "metadata": {
        "id": "5SCLqPfV3CvH",
        "colab_type": "code",
        "colab": {
          "autoexec": {
            "startup": false,
            "wait_interval": 0
          }
        }
      },
      "cell_type": "code",
      "source": [
        ""
      ],
      "execution_count": 0,
      "outputs": []
    }
  ]
}