{
 "cells": [
  {
   "cell_type": "markdown",
   "metadata": {
    "colab_type": "text",
    "id": "mKsJwWGxg3cn",
    "slideshow": {
     "slide_type": "slide"
    }
   },
   "source": [
    "<center> ![alt text](http://i63.tinypic.com/352kyeb.jpg)<center>\n",
    "\n"
   ]
  },
  {
   "cell_type": "markdown",
   "metadata": {
    "colab_type": "text",
    "id": "VzBtnQ__8sIi"
   },
   "source": [
    " #  $   Tracking~Methods  $\n",
    " \n",
    "  # $ \\displaystyle Meanshift,~Camshift~and~Kalman~filters$\n",
    "  "
   ]
  },
  {
   "cell_type": "markdown",
   "metadata": {
    "colab_type": "text",
    "id": "0hQloyeM7J7w"
   },
   "source": [
    "### What is object tracking ?\n",
    "  Simply put,it is the process of locating a moving object (or multiple objects) over time using a camera.\n",
    "  \n",
    "  ### Why study object tracking ?\n",
    "   Object tracking is useful in a variety of applications,such as human-computer interaction, security and surveillance , medical imaging,augmented reality,etc."
   ]
  },
  {
   "cell_type": "markdown",
   "metadata": {
    "colab_type": "text",
    "id": "g8vS-rWFbu0I"
   },
   "source": [
    "##  Histogram backprojection : \n",
    "\n",
    "Histogram backprojection, in simple words ,  creates an image of the same size (but of a  single channel) as that of our input image, where each pixel corresponds to the probability of that pixel belonging to our object $ie.$ the output image will have our object of interest in more white compared to remaining part. It is used to find objects of interest in an image or other image segmentation applications.\n",
    "\n",
    "### How do  we  get  it? \n",
    "\n",
    "First , we create a histogram of an image containing our object of interest. A colour histogram is preferred over a grayscale one as it contains more information about the object .  We then \"back-project\" this histogram over our test image where we need to find the object, $ie$ ,we calculate the probability of every pixel belonging to the target object and show it. The resulting output on proper thresholding gives us the object of interest. To understand what we mean by  \"back-project\" consider a case when our image is \n"
   ]
  },
  {
   "cell_type": "markdown",
   "metadata": {
    "colab_type": "text",
    "id": "80m07SHFVY-F"
   },
   "source": [
    "### Implementation : "
   ]
  },
  {
   "cell_type": "code",
   "execution_count": 53,
   "metadata": {
    "colab": {
     "autoexec": {
      "startup": false,
      "wait_interval": 0
     },
     "base_uri": "https://localhost:8080/",
     "height": 98,
     "resources": {
      "http://localhost:8080/nbextensions/google.colab/files.js": {
       "data": "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",
       "headers": [
        [
         "content-type",
         "application/javascript"
        ]
       ],
       "ok": true,
       "status": 200,
       "status_text": "OK"
      }
     }
    },
    "colab_type": "code",
    "executionInfo": {
     "elapsed": 16345,
     "status": "ok",
     "timestamp": 1531120886213,
     "user": {
      "displayName": "Sumanth R Hegde",
      "photoUrl": "https://lh3.googleusercontent.com/a/default-user=s128",
      "userId": "117060964369598678026"
     },
     "user_tz": -330
    },
    "id": "UfORAxYrvP7U",
    "outputId": "1e89ebdf-6a90-4362-80ea-d85363ae37a4"
   },
   "outputs": [
    {
     "ename": "ModuleNotFoundError",
     "evalue": "No module named 'google.colab'",
     "output_type": "error",
     "traceback": [
      "\u001b[0;31m---------------------------------------------------------------------------\u001b[0m",
      "\u001b[0;31mModuleNotFoundError\u001b[0m                       Traceback (most recent call last)",
      "\u001b[0;32m<ipython-input-53-63ded7ceb330>\u001b[0m in \u001b[0;36m<module>\u001b[0;34m()\u001b[0m\n\u001b[1;32m      1\u001b[0m \u001b[0;31m#Upload the relevant files\u001b[0m\u001b[0;34m\u001b[0m\u001b[0;34m\u001b[0m\u001b[0m\n\u001b[0;32m----> 2\u001b[0;31m \u001b[0;32mfrom\u001b[0m \u001b[0mgoogle\u001b[0m\u001b[0;34m.\u001b[0m\u001b[0mcolab\u001b[0m \u001b[0;32mimport\u001b[0m \u001b[0mfiles\u001b[0m\u001b[0;34m\u001b[0m\u001b[0m\n\u001b[0m\u001b[1;32m      3\u001b[0m \u001b[0muploaded\u001b[0m \u001b[0;34m=\u001b[0m \u001b[0mfiles\u001b[0m\u001b[0;34m.\u001b[0m\u001b[0mupload\u001b[0m\u001b[0;34m(\u001b[0m\u001b[0;34m)\u001b[0m\u001b[0;34m\u001b[0m\u001b[0m\n\u001b[1;32m      4\u001b[0m \u001b[0;32mfor\u001b[0m \u001b[0mfn\u001b[0m \u001b[0;32min\u001b[0m \u001b[0muploaded\u001b[0m\u001b[0;34m.\u001b[0m\u001b[0mkeys\u001b[0m\u001b[0;34m(\u001b[0m\u001b[0;34m)\u001b[0m\u001b[0;34m:\u001b[0m\u001b[0;34m\u001b[0m\u001b[0m\n\u001b[1;32m      5\u001b[0m        \u001b[0mprint\u001b[0m\u001b[0;34m(\u001b[0m\u001b[0;34m'User uploaded file \"{name}\" with length {length} bytes'\u001b[0m\u001b[0;34m.\u001b[0m\u001b[0mformat\u001b[0m\u001b[0;34m(\u001b[0m\u001b[0mname\u001b[0m\u001b[0;34m=\u001b[0m\u001b[0mfn\u001b[0m\u001b[0;34m,\u001b[0m \u001b[0mlength\u001b[0m\u001b[0;34m=\u001b[0m\u001b[0mlen\u001b[0m\u001b[0;34m(\u001b[0m\u001b[0muploaded\u001b[0m\u001b[0;34m[\u001b[0m\u001b[0mfn\u001b[0m\u001b[0;34m]\u001b[0m\u001b[0;34m)\u001b[0m\u001b[0;34m)\u001b[0m\u001b[0;34m)\u001b[0m\u001b[0;34m\u001b[0m\u001b[0m\n",
      "\u001b[0;31mModuleNotFoundError\u001b[0m: No module named 'google.colab'"
     ]
    }
   ],
   "source": [
    "#Upload the relevant files \n",
    "from google.colab import files\n",
    "uploaded = files.upload()\n",
    "for fn in uploaded.keys():\n",
    "       print('User uploaded file \"{name}\" with length {length} bytes'.format(name=fn, length=len(uploaded[fn])))"
   ]
  },
  {
   "cell_type": "markdown",
   "metadata": {
    "colab_type": "text",
    "id": "oM6gRBROn6t-"
   },
   "source": [
    "First we need to calculate the **color histogram** of both the object we need to find (let it be $O$ ) and the image where\n",
    "we are going to search for the object(let it be $I$)"
   ]
  },
  {
   "cell_type": "code",
   "execution_count": 39,
   "metadata": {
    "colab": {
     "autoexec": {
      "startup": false,
      "wait_interval": 0
     },
     "base_uri": "https://localhost:8080/",
     "height": 139
    },
    "colab_type": "code",
    "executionInfo": {
     "elapsed": 940,
     "status": "ok",
     "timestamp": 1531120892841,
     "user": {
      "displayName": "Sumanth R Hegde",
      "photoUrl": "https://lh3.googleusercontent.com/a/default-user=s128",
      "userId": "117060964369598678026"
     },
     "user_tz": -330
    },
    "id": "zDNh2tizVXcZ",
    "outputId": "4bdd42cf-1a77-4aa9-b27c-7ef34a835534"
   },
   "outputs": [
    {
     "ename": "error",
     "evalue": "OpenCV(3.4.1) /io/opencv/modules/imgproc/src/color.cpp:11214: error: (-215) (scn == 3 || scn == 4) && (depth == 0 || depth == 5) in function cvtColor\n",
     "output_type": "error",
     "traceback": [
      "\u001b[0;31m---------------------------------------------------------------------------\u001b[0m",
      "\u001b[0;31merror\u001b[0m                                     Traceback (most recent call last)",
      "\u001b[0;32m<ipython-input-39-e250b429d6bb>\u001b[0m in \u001b[0;36m<module>\u001b[0;34m()\u001b[0m\n\u001b[1;32m      6\u001b[0m \u001b[0;31m#roi is the region of object we need to find\u001b[0m\u001b[0;34m\u001b[0m\u001b[0;34m\u001b[0m\u001b[0m\n\u001b[1;32m      7\u001b[0m \u001b[0mroi\u001b[0m \u001b[0;34m=\u001b[0m \u001b[0mcv2\u001b[0m\u001b[0;34m.\u001b[0m\u001b[0mimread\u001b[0m\u001b[0;34m(\u001b[0m\u001b[0;34m'patch.jpg'\u001b[0m\u001b[0;34m)\u001b[0m\u001b[0;34m\u001b[0m\u001b[0m\n\u001b[0;32m----> 8\u001b[0;31m \u001b[0mhsv\u001b[0m \u001b[0;34m=\u001b[0m \u001b[0mcv2\u001b[0m\u001b[0;34m.\u001b[0m\u001b[0mcvtColor\u001b[0m\u001b[0;34m(\u001b[0m\u001b[0mroi\u001b[0m\u001b[0;34m,\u001b[0m\u001b[0mcv2\u001b[0m\u001b[0;34m.\u001b[0m\u001b[0mCOLOR_BGR2HSV\u001b[0m\u001b[0;34m)\u001b[0m\u001b[0;34m\u001b[0m\u001b[0m\n\u001b[0m\u001b[1;32m      9\u001b[0m \u001b[0;31m#target is the image we search in\u001b[0m\u001b[0;34m\u001b[0m\u001b[0;34m\u001b[0m\u001b[0m\n\u001b[1;32m     10\u001b[0m \u001b[0mtarget\u001b[0m \u001b[0;34m=\u001b[0m \u001b[0mcv2\u001b[0m\u001b[0;34m.\u001b[0m\u001b[0mimread\u001b[0m\u001b[0;34m(\u001b[0m\u001b[0;34m'messi5.jpg'\u001b[0m\u001b[0;34m)\u001b[0m\u001b[0;34m\u001b[0m\u001b[0m\n",
      "\u001b[0;31merror\u001b[0m: OpenCV(3.4.1) /io/opencv/modules/imgproc/src/color.cpp:11214: error: (-215) (scn == 3 || scn == 4) && (depth == 0 || depth == 5) in function cvtColor\n"
     ]
    }
   ],
   "source": [
    "\n",
    "import cv2\n",
    "import numpy as np\n",
    "from matplotlib import pyplot as plt\n",
    "\n",
    "#roi is the region of object we need to find\n",
    "roi = cv2.imread('patch.jpg') \n",
    "hsv = cv2.cvtColor(roi,cv2.COLOR_BGR2HSV)\n",
    "#target is the image we search in\n",
    "target = cv2.imread('messi5.jpg')\n",
    "hsvt = cv2.cvtColor(target,cv2.COLOR_BGR2HSV)\n",
    "# Find the histograms using calcHist. Can be done with np.histogram2d also\n",
    "roihist = cv2.calcHist([hsv],[0, 1], None, [180, 256], [0, 180, 0, 256] )\n",
    "cv2.normalize(roihist,roihist,0,255,cv2.NORM_MINMAX)\n"
   ]
  },
  {
   "cell_type": "markdown",
   "metadata": {
    "colab_type": "text",
    "id": "h7vOd5bRckJX"
   },
   "source": [
    "We then find the **ratio histogram** $R$  defined for each bin $j$ as \n",
    " \n",
    "$ R_{j} = min( \\frac{O_{j}}{I_{j}}, ~1 )$\n",
    "\n",
    "This is done by the built in function $ cv2.calcBackProject() $ "
   ]
  },
  {
   "cell_type": "code",
   "execution_count": null,
   "metadata": {
    "colab": {
     "autoexec": {
      "startup": false,
      "wait_interval": 0
     },
     "base_uri": "https://localhost:8080/",
     "height": 0
    },
    "colab_type": "code",
    "executionInfo": {
     "elapsed": 1172,
     "status": "ok",
     "timestamp": 1531120904235,
     "user": {
      "displayName": "Sumanth R Hegde",
      "photoUrl": "https://lh3.googleusercontent.com/a/default-user=s128",
      "userId": "117060964369598678026"
     },
     "user_tz": -330
    },
    "id": "Djq4X_UXvrAs",
    "outputId": "ed31b871-b3c7-4bc9-8922-0ddf0a188813"
   },
   "outputs": [],
   "source": [
    "\n",
    "R=cv2.calcBackProject([hsvt],[0,1],roihist,[0,180,0,256],1)"
   ]
  },
  {
   "cell_type": "markdown",
   "metadata": {
    "colab_type": "text",
    "id": "HK3eLuwFdTDe"
   },
   "source": [
    "This backprojected image is then convolved with a mask, which for an object of compact shape and unknown orientation can be a circle of same area as that of the object."
   ]
  },
  {
   "cell_type": "code",
   "execution_count": null,
   "metadata": {
    "colab": {
     "autoexec": {
      "startup": false,
      "wait_interval": 0
     },
     "base_uri": "https://localhost:8080/",
     "height": 139
    },
    "colab_type": "code",
    "executionInfo": {
     "elapsed": 1087,
     "status": "ok",
     "timestamp": 1531120914169,
     "user": {
      "displayName": "Sumanth R Hegde",
      "photoUrl": "https://lh3.googleusercontent.com/a/default-user=s128",
      "userId": "117060964369598678026"
     },
     "user_tz": -330
    },
    "id": "vY_sp04xwwE8",
    "outputId": "9fb83444-b438-41cb-8588-72796f4b14c7"
   },
   "outputs": [],
   "source": [
    "# convolution with a circular disc, B = D * B, where D is the disc kernel\n",
    "disc = cv2.getStructuringElement(cv2.MORPH_ELLIPSE,(5,5))\n",
    "cv2.filter2D(R,-1,disc,R)\n",
    "R = np.uint8(R)\n",
    "cv2.normalize(R,R,0,255,cv2.NORM_MINMAX)"
   ]
  },
  {
   "cell_type": "markdown",
   "metadata": {
    "colab_type": "text",
    "id": "wpYtYy2kdnAE"
   },
   "source": [
    "Now the location of maximum intensity gives us the location of object. If we are expecting a region in the image, thresholding for a suitable value gives a nice result."
   ]
  },
  {
   "cell_type": "code",
   "execution_count": null,
   "metadata": {
    "colab": {
     "autoexec": {
      "startup": false,
      "wait_interval": 0
     },
     "base_uri": "https://localhost:8080/",
     "height": 17
    },
    "colab_type": "code",
    "id": "HFU8ufu4w3R_",
    "outputId": "fe6f924b-8a6e-466c-fbbe-8e4a6b169b9f"
   },
   "outputs": [],
   "source": [
    "\n",
    "ret,R = cv2.threshold(R,50,255,0)\n",
    "res=cv2.merge((R,R,R))\n",
    "res=cv2.bitwise_and(res,target)\n",
    "cv2.imshow('result',res)\n",
    "cv2.waitKey(0) & 0xFF\n",
    "cv2.destroyAllWindows()"
   ]
  },
  {
   "cell_type": "markdown",
   "metadata": {
    "colab_type": "text",
    "id": "ytOyjT2P88Td"
   },
   "source": [
    "##   Meanshift\n",
    "\n",
    "Simply put, meanshift is an analysis technique  for locating the maxima of a density function, a so-called mode-seeking algorithm. \n",
    "In the context of visual tracking , the meanshift algorithm , based on the color histogram of the object in the previous image, is used  to find the peak of a probability density function  near the object's old position. We will give a brief overview of the underlying mathematics behind the procedure , and then develop a basic intuition of how it is useful for us , in visual tracking.\n",
    "\n"
   ]
  },
  {
   "cell_type": "markdown",
   "metadata": {
    "colab_type": "text",
    "id": "PKMI2IBIBC_m"
   },
   "source": [
    "###  Underlying  mathematics \n",
    "\n",
    "Meanshift is a procedure to locate the maxima of a density function . First , we start with an initial estimate $\\displaystyle x$ . Let a kernel function $\\displaystyle K(x_{i}-x)$   be given. This function determines the weight of nearby points $ x_i$ for re-estimation of the mean. (In the case of visual tracking , \"nearby\" points constitutes all points falling within the target window ).   Typically a Gaussian kernel on the distance to the current estimate is used, $\\displaystyle ie.~ K(x_{i}-x)=e^{-c||x_{i}-x||^{2}}$. The weighted mean of the density in the window determined by $\\displaystyle K$  is\n",
    "\n",
    "$ \\displaystyle m(x)= \\frac {\\sum _{x_{i}\\in N(x)} K(x_i-x)x_i} {\\sum _{x_{i}\\in N(x)}K(x_i-x)} $ \n",
    "where ${\\displaystyle N(x)}$   is the neighbourhood of $ {\\displaystyle x} $ ,and in our \n",
    "\n",
    "case the set of  points within the target window . \n",
    "\n",
    "The difference $ \\displaystyle m(x) -x $ is called the * mean shift * . The algorithm now sets $ x \\leftarrow m(x) $ and continues till $ m(x) $ converges .\n"
   ]
  },
  {
   "cell_type": "markdown",
   "metadata": {
    "colab_type": "text",
    "id": "gsadKG-YECAK"
   },
   "source": [
    "### Intuition  \n",
    "\n",
    "Consider you have a set of points. (It can be a pixel distribution like\n",
    "histogram backprojection). You are given a small window ( may be a circle) and you have to move that window to the area of maximum pixel density (or maximum number of points). It is illustrated in the simple image given below:  \n",
    "                  ![alt text](https://docs.opencv.org/3.4.0/meanshift_basics.jpg) \n",
    "\n",
    "The initial window is shown in blue circle with the name $ “C1”$. Its original center is marked in blue rectangle, named\n",
    "“C1_o”. But if you find the centroid of the points inside that window, you will get the point “C1_r” (marked in small\n",
    "blue circle) which is the real centroid of window. Surely they don’t match. So move your window such that circle\n",
    "of the new window matches with previous centroid. Again find the new centroid. Most probably, it won’t match. So\n",
    "move it again, and continue the iterations such that center of window and its centroid falls on the same location (or\n",
    "with a small desired error). So finally what you obtain is a window with maximum pixel distribution. It is marked\n",
    "with green circle, named $“C2”$. As you can see in image, it has maximum number of points.\n",
    "\n",
    "Essentially, the working of the function can be summarized as follows : \n",
    "\n",
    "1.We pass the initial location of our target object and the histogram backprojected image to the \n",
    "meanshift function\n",
    "\n",
    "2.As the object moves ,the histogram backprojected image also changes.\n",
    "\n",
    "3.The meanshift function moves the window to the new location with  maximum probability density .\n"
   ]
  },
  {
   "cell_type": "markdown",
   "metadata": {
    "colab_type": "text",
    "id": "dGn9l-ZMGVaY"
   },
   "source": [
    "###  OpenCV Implementation \n",
    "\n",
    "To use meanshift in OpenCV, first we need to setup the target and find its histogram so that we can backproject the target\n",
    "on each frame for calculation of meanshift. We also need to provide initial location of window. For histogram, only\n",
    "hue is considered here. Also, to avoid false values due to low light, low light values are discarded using $ cv2.inRange()$ function. "
   ]
  },
  {
   "cell_type": "markdown",
   "metadata": {},
   "source": [
    "Let us first download the video which we are going to use for the camshift Code.\n",
    "\n",
    "Note : Please go to the terminal and type this to download the all round Youtube Downloader Software.\n",
    "\n",
    "sudo apt-get install youtube-dl"
   ]
  },
  {
   "cell_type": "code",
   "execution_count": 3,
   "metadata": {},
   "outputs": [
    {
     "name": "stdout",
     "output_type": "stream",
     "text": [
      "[youtube] c99kI_2wHuo: Downloading webpage\n",
      "[youtube] c99kI_2wHuo: Downloading video info webpage\n",
      "[youtube] c99kI_2wHuo: Extracting video information\n",
      "[youtube] c99kI_2wHuo: Downloading MPD manifest\n",
      "[youtube] c99kI_2wHuo: Downloading MPD manifest\n",
      "[download] file slow.flv in open cv-c99kI_2wHuo.mp4 has already been downloaded and merged\n"
     ]
    }
   ],
   "source": [
    "! youtube-dl 'https://www.youtube.com/watch?v=c99kI_2wHuo'"
   ]
  },
  {
   "cell_type": "code",
   "execution_count": 19,
   "metadata": {},
   "outputs": [],
   "source": [
    "import numpy as np\n",
    "import cv2\n",
    "cap = cv2.VideoCapture('file slow.flv in open cv-c99kI_2wHuo.mp4')\n",
    "# take first frame of the video\n",
    "ret,frame = cap.read()\n",
    "cv2.imshow('frame',frame)\n",
    "cv2.waitKey(0) & 0xFF\n",
    "# setup initial location of window\n",
    "r,h,c,w = 127,50,193,75# simply hardcoded the values\n",
    "track_window = (c,r,w,h)\n",
    "# set up the ROI for tracking\n",
    "roi = frame[r:r+h, c:c+w]\n",
    "cv2.imshow('roi',roi)\n",
    "hsv_roi = cv2.cvtColor(frame, cv2.COLOR_BGR2HSV)\n",
    "mask = cv2.inRange(roi, np.array((135.,135.,135.)), np.array((360.,255.,255.)))\n",
    "#mask = cv2.inRange(hsv_roi, np.array((0., 60.,32.)), np.array((180.,255.,255.)))\n",
    "#roi_hist = cv2.calcHist([hsv_roi],[0],mask,[180],[0,180])\n",
    "roi_hist = cv2.calcHist([roi],[0],mask,[180],[0,180])\n",
    "\n",
    "cv2.normalize(roi_hist,roi_hist,0,255,cv2.NORM_MINMAX)\n",
    "# Setup the termination criteria, either 10 iteration or move by atleast 1 pt\n",
    "term_crit = ( cv2.TERM_CRITERIA_EPS | cv2.TERM_CRITERIA_COUNT, 10, 1 )\n",
    "while(1):\n",
    "  ret ,frame = cap.read()\n",
    "  if ret == True:\n",
    "    hsv = cv2.cvtColor(frame, cv2.COLOR_BGR2HSV)\n",
    "    dst = cv2.calcBackProject([hsv],[0],roi_hist,[0,180],1)\n",
    "    #cv2.imshow('dst',dst)\n",
    "    #cv2.waitKey(0)\n",
    "    # apply meanshift to get the new location\n",
    "    ret, track_window = cv2.meanShift(dst, track_window, term_crit)\n",
    "    # Draw it on image\n",
    "    x,y,w,h = track_window\n",
    "    img2 = cv2.rectangle(frame, (x,y), (x+w,y+h), 255,2)\n",
    "    cv2.imshow('frame',img2)\n",
    "    k = cv2.waitKey(0) & 0xff\n",
    "    if k == 27:\n",
    "      break\n",
    "    else:\n",
    "      cv2.imwrite(chr(k)+\".jpg\",img2)\n",
    "  else:\n",
    "    break\n",
    "cv2.destroyAllWindows()\n",
    "cap.release()"
   ]
  },
  {
   "cell_type": "markdown",
   "metadata": {
    "colab_type": "text",
    "id": "vcSmUHBdIoA8"
   },
   "source": [
    "###  Limitation  \n",
    "\n",
    "The size of the target window does not change. Thus , when the target object is approaching closer to the camera, the algorithm is unable to track the object  effectively . The target window needs to adapt to the change in size and rotation of the object .  \n"
   ]
  },
  {
   "cell_type": "markdown",
   "metadata": {
    "colab_type": "text",
    "id": "KvextY8wLSU8"
   },
   "source": [
    "\n",
    "## CAMshift \n",
    "\n",
    "Continuously Adaptive Meansift , or CAMshift is an improvement over the mean shift algorithm for better visual tracking. In essence , it performs almost exactly what meanshift does,but returns a resized and rotated target window .\n",
    "\n",
    "\n",
    "\n",
    "###  What does it do??  \n",
    "It applies meanshift first. Once meanshift converges, it updates the size of the window as, $ s=2\\sqrt\\frac{M_{00}}{256}$ ( Here , $M_{oo}$ refers to the probability of finding the object in the window) It also calculates the orientation of best fitting ellipse to it.(This is to obtain the angle at which the target window must be inclined) Again it applies the meanshift with new scaled search window and previous window location. The process is continued until required accuracy is met\n",
    "\n",
    " ![alt text](https://docs.opencv.org/3.4.1/camshift_face.gif)\n",
    "\n"
   ]
  },
  {
   "cell_type": "markdown",
   "metadata": {
    "colab_type": "text",
    "id": "X3uoe-988eTF"
   },
   "source": [
    "###  Implementation : \n"
   ]
  },
  {
   "cell_type": "code",
   "execution_count": 34,
   "metadata": {
    "colab": {
     "autoexec": {
      "startup": false,
      "wait_interval": 0
     },
     "base_uri": "https://localhost:8080/",
     "height": 243
    },
    "colab_type": "code",
    "executionInfo": {
     "elapsed": 3050,
     "status": "error",
     "timestamp": 1529932748752,
     "user": {
      "displayName": "Aditya Sundar",
      "photoUrl": "https://lh3.googleusercontent.com/a/default-user=s128",
      "userId": "105414967761026620050"
     },
     "user_tz": -330
    },
    "id": "YbmXraWy74ee",
    "outputId": "ad55f0b0-f57f-43ac-a7d0-00411455aaf2"
   },
   "outputs": [],
   "source": [
    "import numpy as np\n",
    "import cv2 as cv\n",
    "cap = cv.VideoCapture('file slow.flv in open cv-c99kI_2wHuo.mp4')\n",
    "# take first frame of the video\n",
    "ret,frame = cap.read()\n",
    "# setup initial location of window\n",
    "r,h,c,w = 127,50,193,55  # simply hardcoded the values\n",
    "track_window = (c,r,w,h)\n",
    "# set up the ROI for tracking\n",
    "roi = frame[r:r+h, c:c+w]\n",
    "cv2.imshow('roi',roi)\n",
    "hsv_roi =  cv.cvtColor(roi, cv.COLOR_BGR2HSV)\n",
    "mask = cv.inRange(roi, np.array((155., 155.,155.)), np.array((360.,255.,255.)))\n",
    "roi_hist = cv.calcHist([hsv_roi],[0],mask,[180],[0,180])\n",
    "cv.normalize(roi_hist,roi_hist,0,255,cv.NORM_MINMAX)\n",
    "# Setup the termination criteria, either 10 iteration or move by atleast 1 pt\n",
    "term_crit = ( cv.TERM_CRITERIA_EPS | cv.TERM_CRITERIA_COUNT, 10, 1)\n",
    "while(1):\n",
    "    ret ,frame = cap.read()\n",
    "    if ret == True:\n",
    "        hsv = cv.cvtColor(frame, cv.COLOR_BGR2HSV)\n",
    "        dst = cv.calcBackProject([hsv],[0],roi_hist,[0,180],1)\n",
    "        # apply meanshift to get the new location\n",
    "        rect, track_window = cv.CamShift(dst, track_window, term_crit)\n",
    "        # Draw it on image\n",
    "        cv.imshow('dst',dst)\n",
    "        cv.waitKey(0)\n",
    "        pts = cv.boxPoints(rect)\n",
    "        pts = np.int0(pts)\n",
    "        img2 = cv.polylines(frame,[pts],True, 255,2)\n",
    "        cv.imshow('img2',img2)\n",
    "        k = cv.waitKey(0) & 0xff\n",
    "        if k == 27:\n",
    "            break\n",
    "        else:\n",
    "            cv.imwrite(chr(k)+\".jpg\",img2)\n",
    "    else:\n",
    "        break\n",
    "cv.destroyAllWindows()\n",
    "cap.release()"
   ]
  },
  {
   "cell_type": "markdown",
   "metadata": {
    "colab_type": "text",
    "id": "7ftOP0VVOQbb",
    "slideshow": {
     "slide_type": "slide"
    }
   },
   "source": [
    "\n",
    "#     Kalman Filters  \n"
   ]
  },
  {
   "cell_type": "markdown",
   "metadata": {
    "slideshow": {
     "slide_type": "subslide"
    }
   },
   "source": [
    "Kalman filtering, is an algorithm that uses a series of measurements observed over time, containing **statistical noise** and other inaccuracies, and **produces estimates** of unknown variables that tend to be more accurate than those based on a single measurement alone.\n",
    "\n",
    "In general ,Kalman filters find applications in guidance and navigation,computer vision systems and in sginal processing.   Kalman filters can prove to be very useful in two interesting cases :\n",
    "* The variables of interest can only be measured indirectly \n",
    "\n",
    "* Measurements available from various sensors are prone to noise."
   ]
  },
  {
   "cell_type": "markdown",
   "metadata": {
    "colab_type": "text",
    "id": "zIm5sLNHSnfA",
    "slideshow": {
     "slide_type": "slide"
    }
   },
   "source": [
    "### One Dimensional Kalman FIlter"
   ]
  },
  {
   "cell_type": "markdown",
   "metadata": {
    "slideshow": {
     "slide_type": "fragment"
    }
   },
   "source": [
    "#### Here are the required imports for implementing a one dimensional Kalman Filter"
   ]
  },
  {
   "cell_type": "code",
   "execution_count": 1,
   "metadata": {
    "colab": {
     "autoexec": {
      "startup": false,
      "wait_interval": 0
     }
    },
    "colab_type": "code",
    "id": "9aSV8mn0S_qf",
    "slideshow": {
     "slide_type": "fragment"
    }
   },
   "outputs": [],
   "source": [
    "from matplotlib import pyplot as plt\n",
    "import numpy as np"
   ]
  },
  {
   "cell_type": "markdown",
   "metadata": {
    "colab_type": "text",
    "id": "WnHkgXjbSnjE",
    "slideshow": {
     "slide_type": "slide"
    }
   },
   "source": [
    "Let us write a code for the one-dimensional Kalman filters first.\n",
    "Consider the case in which we measure the temperature from an erraneous thermometer.\n",
    "\n",
    "The following are the measurements taken from an erraneous thermometer at different times , also we assume that we know that the actual temperature is 45 degrees. "
   ]
  },
  {
   "cell_type": "code",
   "execution_count": 33,
   "metadata": {
    "colab": {
     "autoexec": {
      "startup": false,
      "wait_interval": 0
     }
    },
    "colab_type": "code",
    "id": "9DfMo41NS8dF",
    "slideshow": {
     "slide_type": "slide"
    }
   },
   "outputs": [],
   "source": [
    "measurement = [45,48,49,41,42,60,46,47,42,46,47,41,40,43,45,46,43,45,46,41,39,45,48,42,43,44,45,46,47,42,40,41,41,61,45,45,43,42,42,40]\n",
    "actual = 45"
   ]
  },
  {
   "cell_type": "markdown",
   "metadata": {
    "colab_type": "text",
    "id": "I494-4kmUpCY",
    "slideshow": {
     "slide_type": "fragment"
    }
   },
   "source": [
    "Let us plot these measurements using matplotlib"
   ]
  },
  {
   "cell_type": "code",
   "execution_count": 36,
   "metadata": {
    "colab": {
     "autoexec": {
      "startup": false,
      "wait_interval": 0
     },
     "base_uri": "https://localhost:8080/",
     "height": 470
    },
    "colab_type": "code",
    "executionInfo": {
     "elapsed": 984,
     "status": "ok",
     "timestamp": 1530945163856,
     "user": {
      "displayName": "Ayush Parasbhai Maniar ee17b041",
      "photoUrl": "https://lh3.googleusercontent.com/a/default-user=s128",
      "userId": "111481310394302099600"
     },
     "user_tz": -330
    },
    "id": "dtx7sX3HUtxE",
    "outputId": "ecc04a60-27d2-4c71-f458-f8c4b4a2ecd1",
    "scrolled": false,
    "slideshow": {
     "slide_type": "subslide"
    }
   },
   "outputs": [
    {
     "name": "stderr",
     "output_type": "stream",
     "text": [
      "/home/unnikrishnan/anaconda3/lib/python3.6/site-packages/ipykernel_launcher.py:5: MatplotlibDeprecationWarning: pyplot.hold is deprecated.\n",
      "    Future behavior will be consistent with the long-time default:\n",
      "    plot commands add elements without first clearing the\n",
      "    Axes and/or Figure.\n",
      "  \"\"\"\n",
      "/home/unnikrishnan/anaconda3/lib/python3.6/site-packages/matplotlib/__init__.py:805: MatplotlibDeprecationWarning: axes.hold is deprecated. Please remove it from your matplotlibrc and/or style files.\n",
      "  mplDeprecation)\n",
      "/home/unnikrishnan/anaconda3/lib/python3.6/site-packages/matplotlib/rcsetup.py:155: MatplotlibDeprecationWarning: axes.hold is deprecated, will be removed in 3.0\n",
      "  mplDeprecation)\n"
     ]
    },
    {
     "data": {
      "image/png": "[encoded data removed]",
      "text/plain": [
       "<matplotlib.figure.Figure at 0x7f5ff41f9a20>"
      ]
     },
     "metadata": {},
     "output_type": "display_data"
    }
   ],
   "source": [
    "plt.title('Noisy Measurements and actual measurements')\n",
    "plt.ylabel('Temperature in degree celsius')\n",
    "plt.xlabel('Time')\n",
    "plt.plot(measurement,label = 'Measurements from the thermometer')\n",
    "plt.hold(True)\n",
    "plt.axhline(y=actual, color='r', linestyle='-',label = 'Actual Temperature')\n",
    "plt.axis([0,len(measurement)-1,0,90])\n",
    "plt.legend()\n",
    "plt.show()"
   ]
  },
  {
   "cell_type": "markdown",
   "metadata": {
    "colab_type": "text",
    "id": "UXvVhXNvUzKe",
    "slideshow": {
     "slide_type": "slide"
    }
   },
   "source": [
    "Now let's run the code for the Kalman Filtering process."
   ]
  },
  {
   "cell_type": "code",
   "execution_count": 4,
   "metadata": {
    "colab": {
     "autoexec": {
      "startup": false,
      "wait_interval": 0
     },
     "base_uri": "https://localhost:8080/",
     "height": 712
    },
    "colab_type": "code",
    "executionInfo": {
     "elapsed": 976,
     "status": "ok",
     "timestamp": 1530945633944,
     "user": {
      "displayName": "Ayush Parasbhai Maniar ee17b041",
      "photoUrl": "https://lh3.googleusercontent.com/a/default-user=s128",
      "userId": "111481310394302099600"
     },
     "user_tz": -330
    },
    "id": "NpGEgBM7VHFb",
    "outputId": "e7ebe0d4-4009-4805-ba18-fb7651102bee",
    "slideshow": {
     "slide_type": "subslide"
    }
   },
   "outputs": [],
   "source": [
    "initial_estimate = 60 # actually this can be anything \n",
    "initial_error_estimate = 2\n",
    "error_in_measurement = 4\n",
    "current_estimate = initial_estimate\n",
    "current_error_estimate = initial_error_estimate\n",
    "kalman_output_list = []\n",
    "kalman_output_list.append(initial_estimate)\n",
    "for i in range(len(measurement)):\n",
    "    \n",
    "    \n",
    "  ####################################\n",
    "  # Step 1 , calculate the Kalman Gain.\n",
    "  \n",
    "    kalman_gain = (current_error_estimate)/(current_error_estimate + error_in_measurement)\n",
    "  ####################################\n",
    "  # Step 2 , calculate the estimate at time 't' from the measurement and estimate at time 't-1'\n",
    "    kalman_output = (current_estimate + (kalman_gain)*(measurement[i] - current_estimate))\n",
    "\n",
    "    kalman_output_list.append(kalman_output)\n",
    "    \n",
    "    \n",
    "  ####################################\n",
    "  # Step 3 , calculate the error estimate at time 't'\n",
    "    new_error_estimate = (1-kalman_gain)*(current_error_estimate)\n",
    "    \n",
    "    \n",
    "  ##############################################\n",
    "  # make the previous variables the current variables for the next iteration\n",
    "    current_estimate = kalman_output\n",
    "    current_error_estimate = new_error_estimate\n",
    "  ##############################################\n",
    "  "
   ]
  },
  {
   "cell_type": "markdown",
   "metadata": {
    "colab_type": "text",
    "id": "8BYajuxNVLUW",
    "slideshow": {
     "slide_type": "slide"
    }
   },
   "source": [
    "Now we have the Kalman Filters output with us.\n",
    "\n",
    "Lets finally plot them and check our results."
   ]
  },
  {
   "cell_type": "code",
   "execution_count": 5,
   "metadata": {
    "colab": {
     "autoexec": {
      "startup": false,
      "wait_interval": 0
     },
     "base_uri": "https://localhost:8080/",
     "height": 490
    },
    "colab_type": "code",
    "executionInfo": {
     "elapsed": 1261,
     "status": "ok",
     "timestamp": 1530945327806,
     "user": {
      "displayName": "Ayush Parasbhai Maniar ee17b041",
      "photoUrl": "https://lh3.googleusercontent.com/a/default-user=s128",
      "userId": "111481310394302099600"
     },
     "user_tz": -330
    },
    "id": "vUOTcLjWVXWV",
    "outputId": "67907888-9351-4c4a-8c00-7204e5fda850",
    "slideshow": {
     "slide_type": "subslide"
    }
   },
   "outputs": [
    {
     "name": "stderr",
     "output_type": "stream",
     "text": [
      "/home/unnikrishnan/anaconda3/lib/python3.6/site-packages/ipykernel_launcher.py:6: MatplotlibDeprecationWarning: pyplot.hold is deprecated.\n",
      "    Future behavior will be consistent with the long-time default:\n",
      "    plot commands add elements without first clearing the\n",
      "    Axes and/or Figure.\n",
      "  \n",
      "/home/unnikrishnan/anaconda3/lib/python3.6/site-packages/matplotlib/__init__.py:805: MatplotlibDeprecationWarning: axes.hold is deprecated. Please remove it from your matplotlibrc and/or style files.\n",
      "  mplDeprecation)\n",
      "/home/unnikrishnan/anaconda3/lib/python3.6/site-packages/matplotlib/rcsetup.py:155: MatplotlibDeprecationWarning: axes.hold is deprecated, will be removed in 3.0\n",
      "  mplDeprecation)\n"
     ]
    },
    {
     "data": {
      "image/png": "[encoded data removed]",
      "text/plain": [
       "<matplotlib.figure.Figure at 0x7f600e0c8c50>"
      ]
     },
     "metadata": {},
     "output_type": "display_data"
    }
   ],
   "source": [
    "plt.title('One Dimensional Kalman Filter Output')\n",
    "plt.xlabel('Time')\n",
    "plt.ylabel('Temperature in degrees')\n",
    "plt.plot(measurement,label = 'Measuerements from the thermometer')\n",
    "plt.axhline(y=actual, color='r', linestyle='-',label = 'Actual Temparature')\n",
    "plt.hold(True)\n",
    "plt.plot(kalman_output_list,'-g',label = 'kalman output')\n",
    "plt.axis([0,len(measurement)-1,0,110])\n",
    "plt.legend()\n",
    "plt.show()"
   ]
  },
  {
   "cell_type": "markdown",
   "metadata": {
    "slideshow": {
     "slide_type": "slide"
    }
   },
   "source": [
    "Now that we are done with the one dimensional Kalman Filters , lets move on to the multi-dimensional case"
   ]
  },
  {
   "cell_type": "markdown",
   "metadata": {
    "colab_type": "text",
    "id": "Qzw5T2IIPuNA",
    "slideshow": {
     "slide_type": "fragment"
    }
   },
   "source": [
    "![alt text](https://www.hdm-stuttgart.de/~maucher/Python/ComputerVision/html/_images/balltracking.png)"
   ]
  },
  {
   "cell_type": "markdown",
   "metadata": {
    "colab_type": "text",
    "id": "iOO7uvVnOKsS",
    "slideshow": {
     "slide_type": "fragment"
    }
   },
   "source": [
    "The following code demonstrates tracking of a ball,rolling across the scene with the help of Kalman Filter algorithm used for object tracking"
   ]
  },
  {
   "cell_type": "markdown",
   "metadata": {
    "colab_type": "text",
    "id": "puagwHQrPuy3",
    "slideshow": {
     "slide_type": "slide"
    }
   },
   "source": [
    "### Here are the required imports"
   ]
  },
  {
   "cell_type": "code",
   "execution_count": 6,
   "metadata": {
    "colab": {
     "autoexec": {
      "startup": false,
      "wait_interval": 0
     }
    },
    "colab_type": "code",
    "id": "CRtxYweKP5H8",
    "slideshow": {
     "slide_type": "fragment"
    }
   },
   "outputs": [],
   "source": [
    "import matplotlib.pyplot as plt\n",
    "import cv2\n",
    "import numpy as np"
   ]
  },
  {
   "cell_type": "markdown",
   "metadata": {
    "colab_type": "text",
    "id": "gn-pylIPCQp6",
    "slideshow": {
     "slide_type": "slide"
    }
   },
   "source": [
    "### Note : Please download the video from this link since we will be using it for our code , also ensure that it is in the same directory as this notebook\n",
    "The video, which contains the tracking scenario is singleball.mov. This file is imported using opencv’s VideoCapture class.\n",
    "You can use this link for downloading the video !!!!!\n",
    "\n",
    "https://www.hdm-stuttgart.de/~maucher/Python/ComputerVision/html/files/singleball.mov"
   ]
  },
  {
   "cell_type": "code",
   "execution_count": 7,
   "metadata": {
    "colab": {
     "autoexec": {
      "startup": false,
      "wait_interval": 0
     },
     "base_uri": "https://localhost:8080/",
     "height": 208
    },
    "colab_type": "code",
    "executionInfo": {
     "elapsed": 3002,
     "status": "ok",
     "timestamp": 1530956281495,
     "user": {
      "displayName": "Ayush Parasbhai Maniar ee17b041",
      "photoUrl": "https://lh3.googleusercontent.com/a/default-user=s128",
      "userId": "111481310394302099600"
     },
     "user_tz": -330
    },
    "id": "yBZbVKVQpn-S",
    "outputId": "6e3df1f0-1383-454d-cac0-468edb64b681",
    "scrolled": true,
    "slideshow": {
     "slide_type": "subslide"
    }
   },
   "outputs": [
    {
     "name": "stdout",
     "output_type": "stream",
     "text": [
      "--2018-07-10 12:35:45--  https://www.hdm-stuttgart.de/~maucher/Python/ComputerVision/html/files/singleball.mov\n",
      "Resolving www.hdm-stuttgart.de (www.hdm-stuttgart.de)... 141.62.1.59, 141.62.1.53, 64:ff9b::8d3e:135, ...\n",
      "Connecting to www.hdm-stuttgart.de (www.hdm-stuttgart.de)|141.62.1.59|:443... connected.\n",
      "HTTP request sent, awaiting response... 200 OK\n",
      "Length: 5191 (5.1K) [video/quicktime]\n",
      "Saving to: ‘singleball.mov.1’\n",
      "\n",
      "singleball.mov.1    100%[===================>]   5.07K  --.-KB/s    in 0s      \n",
      "\n",
      "2018-07-10 12:35:46 (73.1 MB/s) - ‘singleball.mov.1’ saved [5191/5191]\n",
      "\n"
     ]
    }
   ],
   "source": [
    "! wget https://www.hdm-stuttgart.de/~maucher/Python/ComputerVision/html/files/singleball.mov"
   ]
  },
  {
   "cell_type": "markdown",
   "metadata": {
    "colab_type": "text",
    "id": "FXbRoErXQRwU",
    "slideshow": {
     "slide_type": "slide"
    }
   },
   "source": [
    " Let us see the video first \n"
   ]
  },
  {
   "cell_type": "code",
   "execution_count": 8,
   "metadata": {
    "colab": {
     "autoexec": {
      "startup": false,
      "wait_interval": 0
     }
    },
    "colab_type": "code",
    "id": "1i5pJvsnQa4A",
    "scrolled": true,
    "slideshow": {
     "slide_type": "fragment"
    }
   },
   "outputs": [
    {
     "name": "stdout",
     "output_type": "stream",
     "text": [
      " Number of Frames in the video:  45.0\n"
     ]
    }
   ],
   "source": [
    "import cv2\n",
    "import matplotlib.pyplot as plt \n",
    "file = \"singleball.mov\"\n",
    "cap = cv2.VideoCapture(file)\n",
    "ret = True\n",
    "while(ret):\n",
    "    ret,frame = cap.read()\n",
    "    if(ret == True):\n",
    "        cv2.imshow(\"Original Video\",frame)\n",
    "        cv2.waitKey(100)    ## The next frame will be ahown after 100 milliseconds\n",
    "    else:\n",
    "        break\n",
    "cv2.destroyAllWindows()\n",
    "numframes=cap.get(7)\n",
    "print (\" Number of Frames in the video: \",numframes) ## It should print 45"
   ]
  },
  {
   "cell_type": "markdown",
   "metadata": {
    "colab_type": "text",
    "id": "INv7b04FUok0",
    "slideshow": {
     "slide_type": "slide"
    }
   },
   "source": [
    "### A matplotlib figure is initialized. Within the following loop for each frame the location of the detected object will be plotted into this figure:"
   ]
  },
  {
   "cell_type": "code",
   "execution_count": 9,
   "metadata": {
    "colab": {
     "autoexec": {
      "startup": false,
      "wait_interval": 0
     },
     "base_uri": "https://localhost:8080/",
     "height": 201
    },
    "colab_type": "code",
    "executionInfo": {
     "elapsed": 1838,
     "status": "error",
     "timestamp": 1530379311127,
     "user": {
      "displayName": "Ayush Parasbhai Maniar ee17b041",
      "photoUrl": "https://lh3.googleusercontent.com/a/default-user=s128",
      "userId": "111481310394302099600"
     },
     "user_tz": -330
    },
    "id": "rJmN2sVtUtFT",
    "outputId": "2e763d54-dcb2-4165-88ce-4b06708e9572",
    "slideshow": {
     "slide_type": "subslide"
    }
   },
   "outputs": [
    {
     "name": "stderr",
     "output_type": "stream",
     "text": [
      "/home/unnikrishnan/anaconda3/lib/python3.6/site-packages/ipykernel_launcher.py:2: MatplotlibDeprecationWarning: pyplot.hold is deprecated.\n",
      "    Future behavior will be consistent with the long-time default:\n",
      "    plot commands add elements without first clearing the\n",
      "    Axes and/or Figure.\n",
      "  \n",
      "/home/unnikrishnan/anaconda3/lib/python3.6/site-packages/matplotlib/__init__.py:805: MatplotlibDeprecationWarning: axes.hold is deprecated. Please remove it from your matplotlibrc and/or style files.\n",
      "  mplDeprecation)\n",
      "/home/unnikrishnan/anaconda3/lib/python3.6/site-packages/matplotlib/rcsetup.py:155: MatplotlibDeprecationWarning: axes.hold is deprecated, will be removed in 3.0\n",
      "  mplDeprecation)\n"
     ]
    },
    {
     "data": {
      "text/plain": [
       "[0, 480.0, 360.0, 0]"
      ]
     },
     "execution_count": 9,
     "metadata": {},
     "output_type": "execute_result"
    },
    {
     "data": {
      "image/png": "[encoded data removed]",
      "text/plain": [
       "<matplotlib.figure.Figure at 0x7f60072d94a8>"
      ]
     },
     "metadata": {},
     "output_type": "display_data"
    }
   ],
   "source": [
    "plt.figure()\n",
    "plt.hold(True)\n",
    "plt.axis([0,cap.get(3),cap.get(4),0])"
   ]
  },
  {
   "cell_type": "code",
   "execution_count": 10,
   "metadata": {
    "colab": {
     "autoexec": {
      "startup": false,
      "wait_interval": 0
     },
     "base_uri": "https://localhost:8080/",
     "height": 236
    },
    "colab_type": "code",
    "executionInfo": {
     "elapsed": 1163,
     "status": "error",
     "timestamp": 1530379313860,
     "user": {
      "displayName": "Ayush Parasbhai Maniar ee17b041",
      "photoUrl": "https://lh3.googleusercontent.com/a/default-user=s128",
      "userId": "111481310394302099600"
     },
     "user_tz": -330
    },
    "id": "Cju8RYuIUwTc",
    "outputId": "eedd2bde-03a4-45db-896f-7adbbd4313c8",
    "scrolled": false,
    "slideshow": {
     "slide_type": "slide"
    }
   },
   "outputs": [
    {
     "name": "stdout",
     "output_type": "stream",
     "text": [
      "[[ -1.          -1.        ]\n",
      " [ -1.          -1.        ]\n",
      " [ -1.          -1.        ]\n",
      " [ -1.          -1.        ]\n",
      " [ -1.          -1.        ]\n",
      " [ -1.          -1.        ]\n",
      " [ -1.          -1.        ]\n",
      " [ -1.          -1.        ]\n",
      " [ -1.          -1.        ]\n",
      " [ -1.          -1.        ]\n",
      " [ -1.          -1.        ]\n",
      " [ -1.          -1.        ]\n",
      " [ 13.375      273.0625    ]\n",
      " [ 33.15625    267.125     ]\n",
      " [ 60.04347826 264.47826087]\n",
      " [ 84.48571429 263.22857143]\n",
      " [108.59375    259.3125    ]\n",
      " [128.03030303 255.3030303 ]\n",
      " [157.3125     255.9375    ]\n",
      " [169.75       254.91666667]\n",
      " [192.20588235 255.11764706]\n",
      " [210.19354839 250.96774194]\n",
      " [229.55       246.25      ]\n",
      " [253.45833333 245.58333333]\n",
      " [266.87096774 247.87096774]\n",
      " [283.         246.9375    ]\n",
      " [ -1.          -1.        ]\n",
      " [ -1.          -1.        ]\n",
      " [ -1.          -1.        ]\n",
      " [ -1.          -1.        ]\n",
      " [ -1.          -1.        ]\n",
      " [ -1.          -1.        ]\n",
      " [ -1.          -1.        ]\n",
      " [400.17948718 246.66666667]\n",
      " [409.9        245.4       ]\n",
      " [421.89655172 243.65517241]\n",
      " [425.86792453 243.18867925]\n",
      " [436.95081967 244.45901639]\n",
      " [447.8        246.43333333]\n",
      " [460.43333333 249.26666667]\n",
      " [464.46153846 246.61538462]\n",
      " [474.0625     251.375     ]\n",
      " [ -1.          -1.        ]\n",
      " [ -1.          -1.        ]\n",
      " [ -1.          -1.        ]]\n"
     ]
    },
    {
     "data": {
      "image/png": "[encoded data removed]",
      "text/plain": [
       "<matplotlib.figure.Figure at 0x7f6005c715f8>"
      ]
     },
     "metadata": {},
     "output_type": "display_data"
    }
   ],
   "source": [
    "count = 0   # for counting the number of frames\n",
    "cap = cv2.VideoCapture(file)\n",
    "bgs = cv2.createBackgroundSubtractorMOG2()\n",
    "# Let us make an array for storing the values of (x,y) co-ordinates of the ball\n",
    "# If the ball is not visible in the frame then keep that row as [-1.0,-1.0]\n",
    "# Thus lets initialize the array with rows of [-1.0 , -1.0]\n",
    "measuredTrack=np.zeros((int(numframes),2))-1\n",
    "while count<(numframes):\n",
    "    count+=1\n",
    "    ret,img2 = cap.read()\n",
    "    cv2.imshow(\"Video\",img2)\n",
    "    cv2.namedWindow(\"Video\",cv2.WINDOW_NORMAL)\n",
    "    foremat=bgs.apply(img2,learningRate = 0.01)\n",
    "    cv2.waitKey(20)\n",
    "    ret,thresh = cv2.threshold(foremat,220,255,0)\n",
    "    im2 , contours, hierarchy = cv2.findContours(thresh,cv2.RETR_TREE,cv2.CHAIN_APPROX_SIMPLE)\n",
    "    #print(len(contours))  ## This prints the number of contours (foreground objects detected)\n",
    "    if len(contours) > 0:\n",
    "        for i in range(len(contours)):\n",
    "            area = cv2.contourArea(contours[i])  ## Calculates the Area of contours\n",
    "            if area > 100: ## We check this because the area of the ball is bigger than 100 and we want to plot that only\n",
    "                m= np.mean(contours[i],axis=0) ### mean is taken for finding the centre of the contour (ball in this case)\n",
    "                measuredTrack[count-1,:]=m[0] \n",
    "                plt.plot(m[0,0],m[0,1],'xr')\n",
    "    cv2.imshow('Foreground',foremat)\n",
    "    cv2.namedWindow(\"Foreground\",cv2.WINDOW_NORMAL)\n",
    "    cv2.waitKey(80)\n",
    "cap.release()\n",
    "cv2.destroyAllWindows()\n",
    "print(measuredTrack)\n",
    "### save the trajectory of the ball in a numpy file , so that it can be used\n",
    "### later to be passed as an input to the Kalman Filter process.\n",
    "np.save(\"ballTrajectory\", measuredTrack)   \n",
    "plt.axis((0,480,360,0))\n",
    "plt.show()"
   ]
  },
  {
   "cell_type": "markdown",
   "metadata": {
    "colab_type": "text",
    "id": "oACRBj5SU3O-",
    "slideshow": {
     "slide_type": "slide"
    }
   },
   "source": [
    " The following loop iterates over all frames of the video sequence.\n",
    " \n",
    " Each frame is plotted to the opencv figure video. Then the apply()-method of the background subtractor instance is called, this method returns a foreground mask for the current frame.\n",
    " \n",
    " By applying a threshold to the foreground mask it is converted into a binary image, containing 1 at all pixels which belong to the foreground and 0 at all pixels belonging to background. An area of connected foreground pixels is a foreground object.\n",
    "\n",
    " The contours of foreground objects can be determined by applying opencv’s findContours() function. In general there can exist more than one foreground objects and corresponding contours in a frame. "
   ]
  },
  {
   "cell_type": "markdown",
   "metadata": {
    "colab_type": "text",
    "id": "UmN4-_h0WDcO",
    "slideshow": {
     "slide_type": "subslide"
    }
   },
   "source": [
    "## Explaination of the above code :\n",
    "1)      The centroid of the contour is assumed to be the location of the foreground object.\n",
    "\n",
    " 2)      This location is tracked for each frame. The location is plotted into the matplotlib figure.\n",
    " \n",
    "3)      Moreover, for each frame the location of the tracked object is stored in the numpy array measuredTrack. \n",
    "\n",
    " 4)      Finally the numpy array measuredTrack is stored to a file. The contents of this file (i.e. the measured track) constitute the input for the Kalman Filter. The Kalman Filter is implemented in another python module (see Kalman Filter ) and provides a more accurate track of the moving object.:"
   ]
  },
  {
   "cell_type": "markdown",
   "metadata": {
    "colab_type": "text",
    "id": "tKvaMjPUWLiK",
    "slideshow": {
     "slide_type": "slide"
    }
   },
   "source": [
    "#### The track measured above shall be refined by Kalman filtering. \n",
    " Even though a Kalman Filter is implemented in opencv, we apply the Kalman Filter module pykalman due to its better documentation.\n",
    "\n",
    "So lets install pykalman first."
   ]
  },
  {
   "cell_type": "code",
   "execution_count": 11,
   "metadata": {
    "colab": {
     "autoexec": {
      "startup": false,
      "wait_interval": 0
     },
     "base_uri": "https://localhost:8080/",
     "height": 193
    },
    "colab_type": "code",
    "executionInfo": {
     "elapsed": 3973,
     "status": "ok",
     "timestamp": 1529047746810,
     "user": {
      "displayName": "Ayush Parasbhai Maniar ee17b041",
      "photoUrl": "https://lh3.googleusercontent.com/a/default-user=s128",
      "userId": "111481310394302099600"
     },
     "user_tz": -330
    },
    "id": "MPHkChruWEUU",
    "outputId": "b688d7b1-a61d-45e7-d3f6-061413b25b49",
    "slideshow": {
     "slide_type": "subslide"
    }
   },
   "outputs": [
    {
     "name": "stdout",
     "output_type": "stream",
     "text": [
      "Collecting pykalman\n",
      "\u001b[?25l  Downloading https://files.pythonhosted.org/packages/2f/62/a4adc4516bd5974aa5583090199dd4b78d1e87018d14e9279f72ccbf0b9b/pykalman-0.9.5.tar.gz (228kB)\n",
      "\u001b[K    100% |████████████████████████████████| 235kB 2.9MB/s ta 0:00:01\n",
      "\u001b[?25hBuilding wheels for collected packages: pykalman\n",
      "  Running setup.py bdist_wheel for pykalman ... \u001b[?25ldone\n",
      "\u001b[?25h  Stored in directory: /home/unnikrishnan/.cache/pip/wheels/d9/e8/6a/553d9832679cb74a8434fa597c3abdb07313e40054a0adf9ac\n",
      "Successfully built pykalman\n",
      "\u001b[31mflickr-download 0.2.19 has requirement python-dateutil==1.5, but you'll have python-dateutil 2.7.3 which is incompatible.\u001b[0m\n",
      "Installing collected packages: pykalman\n",
      "Successfully installed pykalman-0.9.5\n"
     ]
    }
   ],
   "source": [
    "! pip install pykalman"
   ]
  },
  {
   "cell_type": "markdown",
   "metadata": {
    "colab_type": "text",
    "id": "j1YEr_R1WU89",
    "slideshow": {
     "slide_type": "subslide"
    }
   },
   "source": [
    "###  Import the\"KalmanFilter\" library from this amazing module "
   ]
  },
  {
   "cell_type": "code",
   "execution_count": 12,
   "metadata": {
    "colab": {
     "autoexec": {
      "startup": false,
      "wait_interval": 0
     }
    },
    "colab_type": "code",
    "id": "sdnz_1Y8WPfl",
    "slideshow": {
     "slide_type": "fragment"
    }
   },
   "outputs": [],
   "source": [
    "from pykalman import KalmanFilter"
   ]
  },
  {
   "cell_type": "markdown",
   "metadata": {
    "colab_type": "text",
    "id": "nJAF4AKkWcwN",
    "slideshow": {
     "slide_type": "slide"
    }
   },
   "source": [
    "### Load the saved \"ballTrajectory.npy\" file "
   ]
  },
  {
   "cell_type": "code",
   "execution_count": 13,
   "metadata": {
    "colab": {
     "autoexec": {
      "startup": false,
      "wait_interval": 0
     }
    },
    "colab_type": "code",
    "id": "wpAOS5G7WYU9",
    "slideshow": {
     "slide_type": "subslide"
    }
   },
   "outputs": [],
   "source": [
    "Measured = np.load(\"ballTrajectory.npy\")"
   ]
  },
  {
   "cell_type": "code",
   "execution_count": 14,
   "metadata": {
    "colab": {
     "autoexec": {
      "startup": false,
      "wait_interval": 0
     },
     "base_uri": "https://localhost:8080/",
     "height": 34
    },
    "colab_type": "code",
    "executionInfo": {
     "elapsed": 1561,
     "status": "ok",
     "timestamp": 1529047821010,
     "user": {
      "displayName": "Ayush Parasbhai Maniar ee17b041",
      "photoUrl": "https://lh3.googleusercontent.com/a/default-user=s128",
      "userId": "111481310394302099600"
     },
     "user_tz": -330
    },
    "id": "KsomGYFcWfgo",
    "outputId": "bcb6e62d-9424-4e54-d07f-9447a5e081e9",
    "slideshow": {
     "slide_type": "subslide"
    }
   },
   "outputs": [
    {
     "data": {
      "text/plain": [
       "(45, 2)"
      ]
     },
     "execution_count": 14,
     "metadata": {},
     "output_type": "execute_result"
    }
   ],
   "source": [
    "Measured.shape  ## It should print (number of frames , 2)"
   ]
  },
  {
   "cell_type": "code",
   "execution_count": 15,
   "metadata": {
    "colab": {
     "autoexec": {
      "startup": false,
      "wait_interval": 0
     },
     "base_uri": "https://localhost:8080/",
     "height": 34
    },
    "colab_type": "code",
    "executionInfo": {
     "elapsed": 1136,
     "status": "ok",
     "timestamp": 1529047857043,
     "user": {
      "displayName": "Ayush Parasbhai Maniar ee17b041",
      "photoUrl": "https://lh3.googleusercontent.com/a/default-user=s128",
      "userId": "111481310394302099600"
     },
     "user_tz": -330
    },
    "id": "D-0OyCXjWiMy",
    "outputId": "6ea7edf1-2718-44d4-b01b-4cbf1a227f5c",
    "slideshow": {
     "slide_type": "subslide"
    }
   },
   "outputs": [
    {
     "data": {
      "text/plain": [
       "array([[ -1.        ,  -1.        ],\n",
       "       [ -1.        ,  -1.        ],\n",
       "       [ -1.        ,  -1.        ],\n",
       "       [ -1.        ,  -1.        ],\n",
       "       [ -1.        ,  -1.        ],\n",
       "       [ -1.        ,  -1.        ],\n",
       "       [ -1.        ,  -1.        ],\n",
       "       [ -1.        ,  -1.        ],\n",
       "       [ -1.        ,  -1.        ],\n",
       "       [ -1.        ,  -1.        ],\n",
       "       [ -1.        ,  -1.        ],\n",
       "       [ -1.        ,  -1.        ],\n",
       "       [ 13.375     , 273.0625    ],\n",
       "       [ 33.15625   , 267.125     ],\n",
       "       [ 60.04347826, 264.47826087],\n",
       "       [ 84.48571429, 263.22857143],\n",
       "       [108.59375   , 259.3125    ],\n",
       "       [128.03030303, 255.3030303 ],\n",
       "       [157.3125    , 255.9375    ],\n",
       "       [169.75      , 254.91666667],\n",
       "       [192.20588235, 255.11764706],\n",
       "       [210.19354839, 250.96774194],\n",
       "       [229.55      , 246.25      ],\n",
       "       [253.45833333, 245.58333333],\n",
       "       [266.87096774, 247.87096774],\n",
       "       [283.        , 246.9375    ],\n",
       "       [ -1.        ,  -1.        ],\n",
       "       [ -1.        ,  -1.        ],\n",
       "       [ -1.        ,  -1.        ],\n",
       "       [ -1.        ,  -1.        ],\n",
       "       [ -1.        ,  -1.        ],\n",
       "       [ -1.        ,  -1.        ],\n",
       "       [ -1.        ,  -1.        ],\n",
       "       [400.17948718, 246.66666667],\n",
       "       [409.9       , 245.4       ],\n",
       "       [421.89655172, 243.65517241],\n",
       "       [425.86792453, 243.18867925],\n",
       "       [436.95081967, 244.45901639],\n",
       "       [447.8       , 246.43333333],\n",
       "       [460.43333333, 249.26666667],\n",
       "       [464.46153846, 246.61538462],\n",
       "       [474.0625    , 251.375     ],\n",
       "       [ -1.        ,  -1.        ],\n",
       "       [ -1.        ,  -1.        ],\n",
       "       [ -1.        ,  -1.        ]])"
      ]
     },
     "execution_count": 15,
     "metadata": {},
     "output_type": "execute_result"
    }
   ],
   "source": [
    "Measured"
   ]
  },
  {
   "cell_type": "markdown",
   "metadata": {
    "colab_type": "text",
    "id": "cPlhIreOWv3B",
    "slideshow": {
     "slide_type": "slide"
    }
   },
   "source": [
    " Remove the First part of the video from the Measured array when the ball was not there in the video.\n",
    " \n",
    " So we need to remove all the rows of [ -1.0,-1.0 ] untill the first measurement is recorded (the time when the ball enters the video)\n",
    " \n",
    " If you noticed closely the ball enters in the video sometime after the video starts"
   ]
  },
  {
   "cell_type": "code",
   "execution_count": 16,
   "metadata": {
    "colab": {
     "autoexec": {
      "startup": false,
      "wait_interval": 0
     },
     "base_uri": "https://localhost:8080/",
     "height": 236
    },
    "colab_type": "code",
    "executionInfo": {
     "elapsed": 1158,
     "status": "error",
     "timestamp": 1529047890443,
     "user": {
      "displayName": "Ayush Parasbhai Maniar ee17b041",
      "photoUrl": "https://lh3.googleusercontent.com/a/default-user=s128",
      "userId": "111481310394302099600"
     },
     "user_tz": -330
    },
    "id": "kmb9Axt8WrGe",
    "outputId": "10730e9d-a6ac-446a-903c-8f821c4355be",
    "slideshow": {
     "slide_type": "subslide"
    }
   },
   "outputs": [],
   "source": [
    "while True:\n",
    "   if Measured[0,0]==-1.:\n",
    "       Measured=np.delete(Measured,0,0)\n",
    "   else:\n",
    "       break\n",
    "numMeas=Measured.shape[0]"
   ]
  },
  {
   "cell_type": "code",
   "execution_count": 17,
   "metadata": {
    "colab": {
     "autoexec": {
      "startup": false,
      "wait_interval": 0
     },
     "base_uri": "https://localhost:8080/",
     "height": 34
    },
    "colab_type": "code",
    "executionInfo": {
     "elapsed": 1737,
     "status": "ok",
     "timestamp": 1529047902119,
     "user": {
      "displayName": "Ayush Parasbhai Maniar ee17b041",
      "photoUrl": "https://lh3.googleusercontent.com/a/default-user=s128",
      "userId": "111481310394302099600"
     },
     "user_tz": -330
    },
    "id": "h56Z_uOuWzP-",
    "outputId": "845d9b6f-0fde-4eb2-f58f-6448f319f0ac",
    "slideshow": {
     "slide_type": "slide"
    }
   },
   "outputs": [
    {
     "data": {
      "text/plain": [
       "array([[ 13.375     , 273.0625    ],\n",
       "       [ 33.15625   , 267.125     ],\n",
       "       [ 60.04347826, 264.47826087],\n",
       "       [ 84.48571429, 263.22857143],\n",
       "       [108.59375   , 259.3125    ],\n",
       "       [128.03030303, 255.3030303 ],\n",
       "       [157.3125    , 255.9375    ],\n",
       "       [169.75      , 254.91666667],\n",
       "       [192.20588235, 255.11764706],\n",
       "       [210.19354839, 250.96774194],\n",
       "       [229.55      , 246.25      ],\n",
       "       [253.45833333, 245.58333333],\n",
       "       [266.87096774, 247.87096774],\n",
       "       [283.        , 246.9375    ],\n",
       "       [ -1.        ,  -1.        ],\n",
       "       [ -1.        ,  -1.        ],\n",
       "       [ -1.        ,  -1.        ],\n",
       "       [ -1.        ,  -1.        ],\n",
       "       [ -1.        ,  -1.        ],\n",
       "       [ -1.        ,  -1.        ],\n",
       "       [ -1.        ,  -1.        ],\n",
       "       [400.17948718, 246.66666667],\n",
       "       [409.9       , 245.4       ],\n",
       "       [421.89655172, 243.65517241],\n",
       "       [425.86792453, 243.18867925],\n",
       "       [436.95081967, 244.45901639],\n",
       "       [447.8       , 246.43333333],\n",
       "       [460.43333333, 249.26666667],\n",
       "       [464.46153846, 246.61538462],\n",
       "       [474.0625    , 251.375     ],\n",
       "       [ -1.        ,  -1.        ],\n",
       "       [ -1.        ,  -1.        ],\n",
       "       [ -1.        ,  -1.        ]])"
      ]
     },
     "execution_count": 17,
     "metadata": {},
     "output_type": "execute_result"
    }
   ],
   "source": [
    "Measured"
   ]
  },
  {
   "cell_type": "markdown",
   "metadata": {
    "colab_type": "text",
    "id": "N_O12T_SW6Wd",
    "slideshow": {
     "slide_type": "slide"
    }
   },
   "source": [
    "However as you can clearly see there are some parts of this array still have the  [-1.0 , -1.0] rows left\n",
    " \n",
    "These indicate the parts of the video where the ball was inside the box and also the parts of the video after the ball is gone completely out of the vision"
   ]
  },
  {
   "cell_type": "markdown",
   "metadata": {
    "colab_type": "text",
    "id": "EfWnUw73W7LZ",
    "slideshow": {
     "slide_type": "slide"
    }
   },
   "source": [
    " By applying Numpy Masked Arrays these positions without measurement can be particullarly marked and the following Kalman Filter module is able to interprete these positions as missing-measurement position.:\n",
    " \n",
    " \n",
    "Thus at these positions we can use the help of the Kalman FIlter algorithm to predict the position of the ball even when it is behind the box or even out of the video completely !!!!"
   ]
  },
  {
   "cell_type": "code",
   "execution_count": 18,
   "metadata": {
    "colab": {
     "autoexec": {
      "startup": false,
      "wait_interval": 0
     }
    },
    "colab_type": "code",
    "id": "vB6hjpkGW2AK",
    "slideshow": {
     "slide_type": "subslide"
    }
   },
   "outputs": [],
   "source": [
    "MarkedMeasure=np.ma.masked_less(Measured,0)"
   ]
  },
  {
   "cell_type": "code",
   "execution_count": 19,
   "metadata": {
    "colab": {
     "autoexec": {
      "startup": false,
      "wait_interval": 0
     },
     "base_uri": "https://localhost:8080/",
     "height": 104
    },
    "colab_type": "code",
    "executionInfo": {
     "elapsed": 1366,
     "status": "ok",
     "timestamp": 1529047962728,
     "user": {
      "displayName": "Ayush Parasbhai Maniar ee17b041",
      "photoUrl": "https://lh3.googleusercontent.com/a/default-user=s128",
      "userId": "111481310394302099600"
     },
     "user_tz": -330
    },
    "id": "-yJyWSbAXCL_",
    "outputId": "d04fa198-405c-42bc-eaae-8758bee2cf17",
    "slideshow": {
     "slide_type": "slide"
    }
   },
   "outputs": [
    {
     "data": {
      "text/plain": [
       "masked_array(\n",
       "  data=[[13.375, 273.0625],\n",
       "        [33.15625, 267.125],\n",
       "        [60.04347826086956, 264.4782608695652],\n",
       "        [84.48571428571428, 263.22857142857146],\n",
       "        [108.59375, 259.3125],\n",
       "        [128.03030303030303, 255.3030303030303],\n",
       "        [157.3125, 255.9375],\n",
       "        [169.75, 254.91666666666666],\n",
       "        [192.2058823529412, 255.11764705882354],\n",
       "        [210.19354838709677, 250.96774193548387],\n",
       "        [229.55, 246.25],\n",
       "        [253.45833333333334, 245.58333333333334],\n",
       "        [266.8709677419355, 247.8709677419355],\n",
       "        [283.0, 246.9375],\n",
       "        [--, --],\n",
       "        [--, --],\n",
       "        [--, --],\n",
       "        [--, --],\n",
       "        [--, --],\n",
       "        [--, --],\n",
       "        [--, --],\n",
       "        [400.1794871794872, 246.66666666666666],\n",
       "        [409.9, 245.4],\n",
       "        [421.8965517241379, 243.6551724137931],\n",
       "        [425.8679245283019, 243.18867924528303],\n",
       "        [436.95081967213116, 244.45901639344262],\n",
       "        [447.8, 246.43333333333334],\n",
       "        [460.43333333333334, 249.26666666666668],\n",
       "        [464.46153846153845, 246.6153846153846],\n",
       "        [474.0625, 251.375],\n",
       "        [--, --],\n",
       "        [--, --],\n",
       "        [--, --]],\n",
       "  mask=[[False, False],\n",
       "        [False, False],\n",
       "        [False, False],\n",
       "        [False, False],\n",
       "        [False, False],\n",
       "        [False, False],\n",
       "        [False, False],\n",
       "        [False, False],\n",
       "        [False, False],\n",
       "        [False, False],\n",
       "        [False, False],\n",
       "        [False, False],\n",
       "        [False, False],\n",
       "        [False, False],\n",
       "        [ True,  True],\n",
       "        [ True,  True],\n",
       "        [ True,  True],\n",
       "        [ True,  True],\n",
       "        [ True,  True],\n",
       "        [ True,  True],\n",
       "        [ True,  True],\n",
       "        [False, False],\n",
       "        [False, False],\n",
       "        [False, False],\n",
       "        [False, False],\n",
       "        [False, False],\n",
       "        [False, False],\n",
       "        [False, False],\n",
       "        [False, False],\n",
       "        [False, False],\n",
       "        [ True,  True],\n",
       "        [ True,  True],\n",
       "        [ True,  True]],\n",
       "  fill_value=1e+20)"
      ]
     },
     "execution_count": 19,
     "metadata": {},
     "output_type": "execute_result"
    }
   ],
   "source": [
    "MarkedMeasure"
   ]
  },
  {
   "cell_type": "markdown",
   "metadata": {
    "colab_type": "text",
    "id": "kDf7sIiYXPMd",
    "slideshow": {
     "slide_type": "slide"
    }
   },
   "source": [
    "In this demonstration the state is modeled as a vector, containing the variables\n",
    "\n",
    " x-coordinate of current position: x\n",
    " \n",
    "y-coordinate of current position: y\n",
    "\n",
    "current speed in x-direction: vx\n",
    "\n",
    "current speed in y-direction: vy\n",
    "\n",
    "\n",
    "\n",
    "#### The measured parameters are x and y. Thus the transition matrix (process model) and the observation matrix (measurement model) are:"
   ]
  },
  {
   "cell_type": "code",
   "execution_count": 20,
   "metadata": {
    "colab": {
     "autoexec": {
      "startup": false,
      "wait_interval": 0
     }
    },
    "colab_type": "code",
    "id": "soiYPPCOXE3s",
    "slideshow": {
     "slide_type": "subslide"
    }
   },
   "outputs": [],
   "source": [
    "Transition_Matrix=[[1,0,1,0],[0,1,0,1],[0,0,1,0],[0,0,0,1]]  # A matrix\n",
    "Observation_Matrix=[[1,0,0,0],[0,1,0,0]] # H matrix"
   ]
  },
  {
   "cell_type": "markdown",
   "metadata": {
    "colab_type": "text",
    "id": "NZuzNm0WXyMV",
    "slideshow": {
     "slide_type": "slide"
    }
   },
   "source": [
    "#### Besides these two models the Kalman Filter requires:\n",
    "\n",
    " 1)     an initial state, defined by xinit,yinit,vxinit,vyinit\n",
    "\n",
    " 2)     an initial state covariance initstatecovariance, which describes the certainty of the initial state.\n",
    "\n",
    "3)     a transition covariance, which describes the certainty of the process model.\n",
    "\n",
    "4)     a observation covariance, which describes the certainty of the measurement model.:"
   ]
  },
  {
   "cell_type": "code",
   "execution_count": 21,
   "metadata": {
    "colab": {
     "autoexec": {
      "startup": false,
      "wait_interval": 0
     },
     "base_uri": "https://localhost:8080/",
     "height": 357
    },
    "colab_type": "code",
    "executionInfo": {
     "elapsed": 1592,
     "status": "error",
     "timestamp": 1529048203466,
     "user": {
      "displayName": "Ayush Parasbhai Maniar ee17b041",
      "photoUrl": "https://lh3.googleusercontent.com/a/default-user=s128",
      "userId": "111481310394302099600"
     },
     "user_tz": -330
    },
    "id": "ZUY_4LzUXSkZ",
    "outputId": "99355eb8-9bad-495c-9111-1cb7e43a1e54",
    "slideshow": {
     "slide_type": "subslide"
    }
   },
   "outputs": [],
   "source": [
    "xinit=MarkedMeasure[0,0] ## First Measurement of x-coord\n",
    "yinit=MarkedMeasure[0,1] ## First Measurement of y-coord\n",
    "vxinit=MarkedMeasure[1,0]-MarkedMeasure[0,0] ## as v = (d_1 - d_0)/(time)\n",
    "vyinit=MarkedMeasure[1,1]-MarkedMeasure[0,1] \n",
    "initstate=[xinit,yinit,vxinit,vyinit]\n",
    "initcovariance=1.0e-3*np.eye(4) \n",
    "transistionCov=1.0e-4*np.eye(4)\n",
    "observationCov=1.0e-1*np.eye(2)\n",
    "kf=KalmanFilter(transition_matrices=Transition_Matrix,\n",
    "            observation_matrices =Observation_Matrix,\n",
    "            initial_state_mean=initstate,\n",
    "            initial_state_covariance=initcovariance,\n",
    "            transition_covariance=transistionCov,\n",
    "            observation_covariance=observationCov)"
   ]
  },
  {
   "cell_type": "markdown",
   "metadata": {
    "colab_type": "text",
    "id": "SRtPK3UwYER3",
    "slideshow": {
     "slide_type": "slide"
    }
   },
   "source": [
    "By calling the filter()-method of the KalmanFilter object the track (filtered_mean_state) and its certainty in form of filtered_state_covariances are computed.\n",
    "\n",
    "## The resulting track is plotted to a matplotlib-figure, which is shown below.:"
   ]
  },
  {
   "cell_type": "code",
   "execution_count": 22,
   "metadata": {
    "colab": {
     "autoexec": {
      "startup": false,
      "wait_interval": 0
     },
     "base_uri": "https://localhost:8080/",
     "height": 236
    },
    "colab_type": "code",
    "executionInfo": {
     "elapsed": 2106,
     "status": "error",
     "timestamp": 1529048248093,
     "user": {
      "displayName": "Ayush Parasbhai Maniar ee17b041",
      "photoUrl": "https://lh3.googleusercontent.com/a/default-user=s128",
      "userId": "111481310394302099600"
     },
     "user_tz": -330
    },
    "id": "a04leYWeX_cC",
    "outputId": "eba00363-2271-4f22-b141-123b0b32024f",
    "slideshow": {
     "slide_type": "subslide"
    }
   },
   "outputs": [
    {
     "name": "stderr",
     "output_type": "stream",
     "text": [
      "/home/unnikrishnan/anaconda3/lib/python3.6/site-packages/ipykernel_launcher.py:4: MatplotlibDeprecationWarning: pyplot.hold is deprecated.\n",
      "    Future behavior will be consistent with the long-time default:\n",
      "    plot commands add elements without first clearing the\n",
      "    Axes and/or Figure.\n",
      "  after removing the cwd from sys.path.\n",
      "/home/unnikrishnan/anaconda3/lib/python3.6/site-packages/matplotlib/__init__.py:805: MatplotlibDeprecationWarning: axes.hold is deprecated. Please remove it from your matplotlibrc and/or style files.\n",
      "  mplDeprecation)\n",
      "/home/unnikrishnan/anaconda3/lib/python3.6/site-packages/matplotlib/rcsetup.py:155: MatplotlibDeprecationWarning: axes.hold is deprecated, will be removed in 3.0\n",
      "  mplDeprecation)\n",
      "/home/unnikrishnan/anaconda3/lib/python3.6/site-packages/ipykernel_launcher.py:6: MatplotlibDeprecationWarning: pyplot.hold is deprecated.\n",
      "    Future behavior will be consistent with the long-time default:\n",
      "    plot commands add elements without first clearing the\n",
      "    Axes and/or Figure.\n",
      "  \n"
     ]
    },
    {
     "data": {
      "image/png": "[encoded data removed]",
      "text/plain": [
       "<matplotlib.figure.Figure at 0x7f600430ff98>"
      ]
     },
     "metadata": {},
     "output_type": "display_data"
    }
   ],
   "source": [
    "(filtered_state_means, filtered_state_covariances) = kf.filter(MarkedMeasure)\n",
    "plt.plot(MarkedMeasure[:,0],MarkedMeasure[:,1],'xr',label='measured')\n",
    "plt.axis([0,520,360,0])\n",
    "plt.hold(True)\n",
    "plt.plot(filtered_state_means[:,0],filtered_state_means[:,1],'ob',label='kalman output')\n",
    "plt.hold(True)\n",
    "plt.legend(loc=3)\n",
    "plt.title(\"Constant Velocity Kalman Filter\")\n",
    "plt.show()"
   ]
  },
  {
   "cell_type": "markdown",
   "metadata": {
    "colab_type": "text",
    "id": "PJQcMhxYbl0S",
    "slideshow": {
     "slide_type": "slide"
    }
   },
   "source": [
    "### Kalman Filtering based Cam-shift Object tracking\n",
    "\n",
    "---\n",
    "\n"
   ]
  },
  {
   "cell_type": "markdown",
   "metadata": {
    "slideshow": {
     "slide_type": "subslide"
    }
   },
   "source": [
    "Let me run the code on the laptop first and show you how it works.\n",
    "\n",
    "After that we will see how to write such codes. We will analyse the code step by step"
   ]
  },
  {
   "cell_type": "code",
   "execution_count": 35,
   "metadata": {
    "colab": {
     "autoexec": {
      "startup": false,
      "wait_interval": 0
     }
    },
    "colab_type": "code",
    "id": "T0sncpvkIPXt",
    "slideshow": {
     "slide_type": "slide"
    }
   },
   "outputs": [],
   "source": [
    "#####################################################################\n",
    "\n",
    "keep_processing = True;\n",
    "camera_to_use = 0; # 0 if you have one camera, 1 or > 1 otherwise\n",
    "\n",
    "selection_in_progress = False; # support interactive region selection\n",
    "\n",
    "#####################################################################"
   ]
  },
  {
   "cell_type": "markdown",
   "metadata": {
    "colab_type": "text",
    "id": "E-qGetY_IUrz",
    "slideshow": {
     "slide_type": "slide"
    }
   },
   "source": [
    "Let us write a function which will help us in selecting the object we want to track"
   ]
  },
  {
   "cell_type": "code",
   "execution_count": 36,
   "metadata": {
    "colab": {
     "autoexec": {
      "startup": false,
      "wait_interval": 0
     }
    },
    "colab_type": "code",
    "id": "lawSEOs_IWpF",
    "slideshow": {
     "slide_type": "subslide"
    }
   },
   "outputs": [],
   "source": [
    "#############################################################\n",
    "\n",
    "# select a region using the mouse\n",
    "\n",
    "boxes = [];\n",
    "current_mouse_position = np.ones(2, dtype=np.int32);\n",
    "\n",
    "def on_mouse(event, x, y, flags, params):\n",
    "\n",
    "    global boxes;\n",
    "    global selection_in_progress;\n",
    "\n",
    "    current_mouse_position[0] = x;\n",
    "    current_mouse_position[1] = y;\n",
    "\n",
    "    if event == cv2.EVENT_LBUTTONDOWN:\n",
    "        boxes = [];\n",
    "        # print 'Start Mouse Position: '+str(x)+', '+str(y)\n",
    "        sbox = [x, y];\n",
    "        selection_in_progress = True;\n",
    "        boxes.append(sbox);\n",
    "\n",
    "    elif event == cv2.EVENT_LBUTTONUP:\n",
    "        # print 'End Mouse Position: '+str(x)+', '+str(y)\n",
    "        ebox = [x, y];\n",
    "        selection_in_progress = False;\n",
    "        boxes.append(ebox);\n",
    "#####################################################################"
   ]
  },
  {
   "cell_type": "markdown",
   "metadata": {
    "colab_type": "text",
    "id": "Zb61KuA7IZxd",
    "slideshow": {
     "slide_type": "slide"
    }
   },
   "source": [
    "Now a small function to return centre of a set of points representing a rectangle"
   ]
  },
  {
   "cell_type": "code",
   "execution_count": 37,
   "metadata": {
    "colab": {
     "autoexec": {
      "startup": false,
      "wait_interval": 0
     }
    },
    "colab_type": "code",
    "id": "af03aJi5IgfL",
    "slideshow": {
     "slide_type": "subslide"
    }
   },
   "outputs": [],
   "source": [
    "#####################################################################\n",
    "def center(points):\n",
    "    x = (points[0][0] + points[1][0] + points[2][0] + points[3][0]) / 4.0\n",
    "    y = (points[0][1] + points[1][1] + points[2][1] + points[3][1]) / 4.0\n",
    "    return np.array([np.float32(x), np.float32(y)], np.float32)\n",
    "\n",
    "#####################################################################"
   ]
  },
  {
   "cell_type": "code",
   "execution_count": 38,
   "metadata": {
    "colab": {
     "autoexec": {
      "startup": false,
      "wait_interval": 0
     }
    },
    "colab_type": "code",
    "id": "HGd2Hey4IlM4",
    "slideshow": {
     "slide_type": "slide"
    }
   },
   "outputs": [],
   "source": [
    "####################################################################\n",
    "\n",
    "# this function is called as a call-back everytime the trackbar is moved\n",
    "# (here we just do nothing)\n",
    "\n",
    "def nothing(x):\n",
    "    pass\n",
    "\n",
    "#####################################################################\n",
    "# define video capture object\n",
    "\n",
    "cap = cv2.VideoCapture(0)\n",
    "\n",
    "# define display window name\n",
    "\n",
    "windowName = \"Kalman Object Tracking\" # window name\n",
    "windowName2 = \"Hue histogram back projection\" # window name\n",
    "windowNameSelection = \"initial selected region\"\n"
   ]
  },
  {
   "cell_type": "markdown",
   "metadata": {
    "colab_type": "text",
    "id": "NqdSbsSmItx4",
    "slideshow": {
     "slide_type": "slide"
    }
   },
   "source": [
    "Ok now enough of User Interface handling \n",
    "\n",
    "Let's get to the main Kalman filtering and Camshift part of the code.\n",
    "\n",
    "First let us initialize all the Matrices of our Kalman Filter model"
   ]
  },
  {
   "cell_type": "code",
   "execution_count": 39,
   "metadata": {
    "colab": {
     "autoexec": {
      "startup": false,
      "wait_interval": 0
     }
    },
    "colab_type": "code",
    "id": "DvvwqZe7I02C",
    "slideshow": {
     "slide_type": "subslide"
    }
   },
   "outputs": [],
   "source": [
    "kalman = cv2.KalmanFilter(4,2)\n",
    "kalman.measurementMatrix = np.array([[1,0,0,0],\n",
    "                                     [0,1,0,0]],np.float32)  \n",
    "\n",
    "kalman.transitionMatrix = np.array([[1,0,1,0],\n",
    "                                    [0,1,0,1],\n",
    "                                    [0,0,1,0],\n",
    "                                    [0,0,0,1]],np.float32) \n",
    "\n",
    "kalman.processNoiseCov = np.array([[1,0,0,0],\n",
    "                                   [0,1,0,0],\n",
    "                                   [0,0,1,0],\n",
    "                                   [0,0,0,1]],np.float32) * 0.03\n",
    "\n",
    "measurement = np.array((2,1), np.float32)\n",
    "prediction = np.zeros((2,1), np.float32)"
   ]
  },
  {
   "cell_type": "code",
   "execution_count": 40,
   "metadata": {
    "colab": {
     "autoexec": {
      "startup": false,
      "wait_interval": 0
     }
    },
    "colab_type": "code",
    "id": "7VnH-m_NI4M8"
   },
   "outputs": [],
   "source": [
    "# if command line arguments are provided try to read video_name\n",
    "# otherwise default to capture from the webcam of your laptop\n",
    "import sys\n",
    "import math\n",
    "if (((len(sys.argv) == 2) and (cap.open(str(sys.argv[1]))))\n",
    "    or (cap.open(camera_to_use))):\n",
    "\n",
    "    # create window by name (note flags for resizable or not)\n",
    "\n",
    "    cv2.namedWindow(windowName, cv2.WINDOW_NORMAL);\n",
    "    cv2.namedWindow(windowName2, cv2.WINDOW_NORMAL);\n",
    "    cv2.namedWindow(windowNameSelection, cv2.WINDOW_NORMAL);\n",
    "\n",
    "    # set sliders for HSV selection thresholds\n",
    "\n",
    "    s_lower = 60;\n",
    "    cv2.createTrackbar(\"s lower\", windowName2, s_lower, 255, nothing)\n",
    "    s_upper = 255;\n",
    "    cv2.createTrackbar(\"s upper\", windowName2, s_upper, 255, nothing)\n",
    "    v_lower = 32;\n",
    "    cv2.createTrackbar(\"v lower\", windowName2, v_lower, 255, nothing)\n",
    "    v_upper = 255;\n",
    "    cv2.createTrackbar(\"v upper\", windowName2, v_upper, 255, nothing)\n",
    "\n",
    "    # set a mouse callback\n",
    "\n",
    "    cv2.setMouseCallback(windowName, on_mouse, 0)\n",
    "    cropped = False\n",
    "\n",
    "    # Setup the termination criteria for search, either 10 iteration or\n",
    "    # move by at least 1 pixel pos. difference\n",
    "    term_crit = ( cv2.TERM_CRITERIA_EPS | cv2.TERM_CRITERIA_COUNT, 10, 1 )\n",
    "\n",
    "    while (keep_processing):\n",
    "\n",
    "        # if video file successfully opens then read frame from video\n",
    "\n",
    "        if (cap.isOpened):\n",
    "            ret, frame = cap.read();\n",
    "\n",
    "        # start a timer (to see how long processing and display takes)\n",
    "\n",
    "        start_t = cv2.getTickCount();\n",
    "\n",
    "        # get parameters from track bars\n",
    "\n",
    "        s_lower = cv2.getTrackbarPos(\"s lower\", windowName2);\n",
    "        s_upper = cv2.getTrackbarPos(\"s upper\", windowName2);\n",
    "        v_lower = cv2.getTrackbarPos(\"v lower\", windowName2);\n",
    "        v_upper = cv2.getTrackbarPos(\"v upper\", windowName2);\n",
    "\n",
    "        # select region using the mouse and display it\n",
    "\n",
    "        if (len(boxes) > 1) :\n",
    "            crop = frame[boxes[0][1]:boxes[1][1],boxes[0][0]:boxes[1][0]].copy() # This crop variable is our image \n",
    "                                                                                 # of the selected region\n",
    "\n",
    "            h, w, c = crop.shape;   # size of template\n",
    "            if (h > 0) and (w > 0):\n",
    "                cropped = True;\n",
    "\n",
    "                # convert region to HSV\n",
    "\n",
    "                hsv_crop =  cv2.cvtColor(crop, cv2.COLOR_BGR2HSV);\n",
    "\n",
    "                # select all Hue (0-> 180) and Sat. values but eliminate values with very low\n",
    "                # saturation or value (due to lack of useful colour information)\n",
    "\n",
    "                mask = cv2.inRange(hsv_crop, np.array((0., float(s_lower),float(v_lower))), np.array((180.,float(s_upper),float(v_upper))));\n",
    "                # mask = cv2.inRange(hsv_crop, np.array((0., 60.,32.)), np.array((180.,255.,255.)));\n",
    "\n",
    "                # construct a histogram of hue and saturation values and normalize it\n",
    "\n",
    "                crop_hist = cv2.calcHist([hsv_crop],[0, 1],mask,[180, 255],[0,180, 0, 255])\n",
    "                cv2.normalize(crop_hist,crop_hist,0,255,cv2.NORM_MINMAX)\n",
    "\n",
    "                # set intial position of object\n",
    "                \n",
    "                track_window = (boxes[0][0],boxes[0][1],boxes[1][0] - boxes[0][0],boxes[1][1] - boxes[0][1]);\n",
    "                ####  track_window has (ix,iy,w,h)\n",
    "                 \n",
    "                cv2.imshow(windowNameSelection,crop);\n",
    "\n",
    "            # reset list of boxes\n",
    "\n",
    "            boxes = [];\n",
    "\n",
    "        # interactive display of selection box\n",
    "        # Make a green colour boundary around the selected object.\n",
    "        if (selection_in_progress):\n",
    "            top_left = (boxes[0][0], boxes[0][1]);\n",
    "            bottom_right = (current_mouse_position[0], current_mouse_position[1]);\n",
    "            cv2.rectangle(frame,top_left, bottom_right, (0,0,255), 2);\n",
    "\n",
    "        # if we have a selected region\n",
    "\n",
    "        if (cropped):\n",
    "\n",
    "            # convert the entire incoming image to HSV.\n",
    "\n",
    "            img_hsv = cv2.cvtColor(frame, cv2.COLOR_BGR2HSV);\n",
    "\n",
    "            # back projection of histogram based on Hue and Saturation only\n",
    "\n",
    "            img_bproject = cv2.calcBackProject([img_hsv],[0,1],crop_hist,[0,180,0,255],1);\n",
    "            cv2.imshow(windowName2,img_bproject);\n",
    "\n",
    "            # apply camshift to predict new location (observation)\n",
    "            # basic HSV histogram comparision with adaptive window size\n",
    "            # see : http://docs.opencv.org/3.1.0/db/df8/tutorial_py_meanshift.html\n",
    "            ret, track_window = cv2.CamShift(img_bproject, track_window, term_crit);\n",
    "\n",
    "            # draw observation on image\n",
    "            x,y,w,h = track_window;\n",
    "            frame = cv2.rectangle(frame, (x,y), (x+w,y+h), (255,0,0),2);\n",
    "            # The main observation is of blur colour.\n",
    "            \n",
    "            # extract centre of this observation as points\n",
    "            pts = cv2.boxPoints(ret)\n",
    "            pts = np.int0(pts)\n",
    "            # (cx, cy), radius = cv2.minEnclosingCircle(pts)\n",
    "\n",
    "            # use to correct kalman filter\n",
    "\n",
    "            kalman.correct(center(pts));\n",
    "\n",
    "            # get new kalman filter prediction\n",
    "\n",
    "            prediction = kalman.predict();\n",
    "\n",
    "            # draw predicton on image\n",
    "\n",
    "            frame = cv2.rectangle(frame, (prediction[0]-(0.5*w),prediction[1]-(0.5*h)), (prediction[0]+(0.5*w),prediction[1]+(0.5*h)), (0,255,0),2);\n",
    "\n",
    "        else:\n",
    "\n",
    "            # before we have cropped anything show the mask we are using\n",
    "            # for the S and V components of the HSV image\n",
    "\n",
    "            img_hsv =  cv2.cvtColor(frame, cv2.COLOR_BGR2HSV);\n",
    "\n",
    "            # select all Hue values (0-> 180) but eliminate values with very low\n",
    "            # saturation or value (due to lack of useful colour information)\n",
    "\n",
    "            mask = cv2.inRange(img_hsv, np.array((0., float(s_lower),float(v_lower))), np.array((180.,float(s_upper),float(v_upper))));\n",
    "\n",
    "            cv2.imshow(windowName2,mask);\n",
    "\n",
    "        # display image\n",
    "\n",
    "        cv2.imshow(windowName,frame);\n",
    "\n",
    "        # stop the timer and convert to ms. (to see how long processing and display takes)\n",
    "\n",
    "        stop_t = ((cv2.getTickCount() - start_t)/cv2.getTickFrequency()) * 1000;\n",
    "\n",
    "        # start the event loop - essential\n",
    "\n",
    "        # cv2.waitKey() is a keyboard binding function (argument is the time in milliseconds).\n",
    "        # It waits for specified milliseconds for any keyboard event.\n",
    "        # If you press any key in that time, the program continues.\n",
    "        # If 0 is passed, it waits indefinitely for a key stroke.\n",
    "        # (bitwise and with 0xFF to extract least significant byte of multi-byte response)\n",
    "        # here we use a wait time in ms. that takes account of processing time already used in the loop\n",
    "\n",
    "        # wait 40ms or less depending on processing time taken (i.e. 1000ms / 25 fps = 40 ms)\n",
    "\n",
    "        key = cv2.waitKey(max(2, 40 - int(math.ceil(stop_t)))) & 0xFF;\n",
    "\n",
    "        # It can also be set to detect specific key strokes by recording which key is pressed\n",
    "\n",
    "        # e.g. if user presses \"x\" then exit\n",
    "\n",
    "        if (key == 27):\n",
    "            keep_processing = False;\n",
    "\n",
    "    # close all windows\n",
    "\n",
    "    cv2.destroyAllWindows()\n",
    "    cap.release()\n",
    "\n",
    "else:\n",
    "    print(\"No video file specified or camera connected.\");\n",
    "\n",
    "#####################################################################"
   ]
  },
  {
   "cell_type": "markdown",
   "metadata": {},
   "source": [
    "We would also like you to go through this amazing paper which uses Kalman Filtering Based Camshift Object Tracking.\n",
    "\n",
    "http://www.naturalspublishing.com/files/published/u956oro5157k5y.pdf"
   ]
  },
  {
   "cell_type": "code",
   "execution_count": 41,
   "metadata": {
    "scrolled": false,
    "slideshow": {
     "slide_type": "slide"
    }
   },
   "outputs": [
    {
     "data": {
      "image/jpeg": "[encoded data removed]",
      "text/plain": [
       "<IPython.core.display.Image object>"
      ]
     },
     "execution_count": 41,
     "metadata": {},
     "output_type": "execute_result"
    }
   ],
   "source": [
    "from IPython.core.display import Image \n",
    "Image(filename='/home/unnikrishnan/Paper_result.jpeg')"
   ]
  },
  {
   "cell_type": "markdown",
   "metadata": {
    "slideshow": {
     "slide_type": "subslide"
    }
   },
   "source": [
    "The   Kalman   filter   can   provide  the   estimated positions  continuously.\n",
    "\n",
    "Finally  the  estimation  position will  be  the  initial  position  of  CamShift  when  the  target appears  again. \n",
    "\n",
    "In  this  case,  the  target  is  occluded  in  8 frames,   and   the   Kalman   filter   provides   the   possible\n",
    "positions. \n",
    "\n",
    "The  square  marks  in  (4)  -  (6)  are  the estimated  positions  made  by  Kalman  filter.\n",
    "\n",
    "When  the target  appears  again,  the  CamShift  will  catch  the  target immediately based on the estimated positions. "
   ]
  },
  {
   "cell_type": "markdown",
   "metadata": {
    "slideshow": {
     "slide_type": "slide"
    }
   },
   "source": [
    "# That's the end of the session\n",
    "\n",
    "# $Cheers$\n",
    "# $CVI~Team$\n",
    "\n",
    "# $IIT~Madras$"
   ]
  }
 ],
 "metadata": {
  "celltoolbar": "Slideshow",
  "colab": {
   "collapsed_sections": [],
   "default_view": {},
   "name": "Session4.ipynb",
   "provenance": [],
   "version": "0.3.2",
   "views": {}
  },
  "kernelspec": {
   "display_name": "Python 3",
   "language": "python",
   "name": "python3"
  },
  "language_info": {
   "codemirror_mode": {
    "name": "ipython",
    "version": 3
   },
   "file_extension": ".py",
   "mimetype": "text/x-python",
   "name": "python",
   "nbconvert_exporter": "python",
   "pygments_lexer": "ipython3",
   "version": "3.6.4"
  }
 },
 "nbformat": 4,
 "nbformat_minor": 1
}
