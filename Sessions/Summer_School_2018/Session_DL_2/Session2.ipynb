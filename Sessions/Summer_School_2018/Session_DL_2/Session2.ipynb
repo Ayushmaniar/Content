{
  "nbformat": 4,
  "nbformat_minor": 0,
  "metadata": {
    "colab": {
      "name": "Session2.ipynb",
      "version": "0.3.2",
      "views": {},
      "default_view": {},
      "provenance": [],
      "collapsed_sections": [],
      "toc_visible": true
    },
    "kernelspec": {
      "name": "python3",
      "display_name": "Python 3"
    },
    "accelerator": "GPU"
  },
  "cells": [
    {
      "metadata": {
        "id": "7zSVW-HayxII",
        "colab_type": "text"
      },
      "cell_type": "markdown",
      "source": [
        "# Deep Feedforward Networks - a general description"
      ]
    },
    {
      "metadata": {
        "id": "SPkFcch2zKiP",
        "colab_type": "text"
      },
      "cell_type": "markdown",
      "source": [
        "**Deep feedforward networks**, also often called feedforward neural networks, or **multilayer perceptrons (MLPs)**, are the quintessential deep learning models. The goal of a feedforward network is to approximate some function $f^*$. For example, for a classifier, $y = f^∗(x)$ maps an input $x$ to a category $y$. A feedforward network defines a mapping $y = f (x; θ)$ and learns the value of the parameters θ that result in the best function approximation.\n",
        " \n",
        "These models are called feedforward because information flows through the function being evaluated from $x$, through the intermediate computations used to define $f$, and finally to the output $y$. \n",
        "\n",
        "Feedforward neural networks are called networks because they are typically represented by composing together many different functions. The model is asso- ciated with a directed acyclic graph describing how the functions are composed together. For example, we might have three functions $f^{(1)}$,$ f^{(2)}$, and  $f^{(3)}$ connected in a chain, to form $f(x) = f^{(3)}(f^{(2)}(f^{(1)}(x)))$. These chain structures are the most commonly used structures of neural networks. In this case, $f^{(1)}$ is called the first layer of the network, $f^{(2)}$ is called the second layer, and so on. \n",
        "\n",
        "The overall **length of the chain** gives the **depth** of the model. It is from this terminology that the name **“deep learning”** arises. The final layer of a feedforward network is called the **output layer**. During neural network training, we drive $f(x)$ to match $f^∗(x)$. The training data provides us with noisy, approximate examples of $f^∗(x)$ evaluated at different training points. Each example $x$ is accompanied by a label $y ≈ f^∗(x)$. The training examples specify directly what the output layer must do at each point x; it must produce a value that is close to $y$. The behavior of the other layers is not directly specified by the training data. The learning algorithm must decide how to use those layers to produce the desired output, but the training data does not say what each individual layer should do. Instead, the learning algorithm must decide how to use these layers to best implement an approximation of $f^∗$. Because the training data does not show the desired output for each of these layers, these layers are called **hidden layers**.\n",
        "\n",
        "Finally, these networks are called **neural** because they are loosely inspired by **neuroscience**. Each hidden layer of the network is typically **vector-valued**. The dimensionality of these hidden layers determines the width of the model. Each element of the vector may be interpreted as playing a role analogous to a neuron.\n",
        "\n",
        "![alt text](https://i.imgur.com/38lpenv.png\n",
        ")"
      ]
    },
    {
      "metadata": {
        "id": "rUOfJNmw5FFX",
        "colab_type": "text"
      },
      "cell_type": "markdown",
      "source": [
        "# Learning the XOR function  "
      ]
    },
    {
      "metadata": {
        "id": "3uXdVYV08xVS",
        "colab_type": "text"
      },
      "cell_type": "markdown",
      "source": [
        "To make the idea of a feedforward network more concrete, we begin with an example of a fully functioning feedforward network on a very simple task: learning the **XOR function**.\n",
        "\n",
        "The **XOR function (“exclusive or”)** is an operation on **two binary values, x1 and x2**. When **exactly one** of these binary values is **equal to 1**, the XOR function **returns** **1**. Otherwise, it returns 0. The XOR function provides the target function $y = f^∗(x)$ that we want to learn. Our model provides a function $y = f(x;θ)$ and our learning algorithm will adapt the parameters θ to make f as similar as possible to $f^∗$.\n",
        "\n",
        "In this simple example, we will not be concerned with statistical generalization. We want our network to perform correctly on the four points  \n",
        "$\\mathbb{X}= \\{{[0,0]^T, [0,1^T, [1,0]^T,[1,1]^T}\\}$. We will train the network on all four of these points. The only challenge is to fit the training set.\n",
        "\n",
        "Clearly, this is a regression problem where we can use the mean squared error loss function.\n",
        "\n",
        "Evaluated on our whole training set, the MSE loss function is\n",
        "\n",
        "$J(θ)= \\dfrac{1}{4} \\Sigma_{x\\epsilon\\mathbb{X}}(f (x)−f(x;θ))^2$ .\n",
        "\n",
        "Now we must choose the form of our model, f (x; θ). Suppose that we choose a linear model, with θ consisting of w and b. Our model is defined to be \n",
        "\n",
        "$f(x; w, b) = x^Tw + b$.\n",
        "\n",
        "We can minimize $J(θ)$ in closed form with respect to w and b using the normal\n",
        "equations.\n",
        "\n",
        "After solving the normal equations, we obtain a closed form solution, $w = 0$ and $b = 0.5$. This means that the linear model simply outputs 0.5 everywhere.\n",
        "\n",
        "**But why couldn't a linear model  represent this function?**"
      ]
    },
    {
      "metadata": {
        "id": "47LeVbfZDXyJ",
        "colab_type": "text"
      },
      "cell_type": "markdown",
      "source": [
        "Let's now model this with a **DNN**. \n",
        "Specifically, we will introduce a very simple feedforward network with one\n",
        "hidden layer containing two hidden units.  This feedforward network has a vector of hidden units $h$ that are\n",
        "computed by a function $f^{(1)} (x; W , c )$. The values of these hidden units are then\n",
        "used as the input for a second layer. The second layer is the output layer of the\n",
        "network. The output layer is still just a linear regression model, but now it is\n",
        "applied to $h$ rather than to $x$ . The network now contains two functions chained\n",
        "together: $h = f (1) (x; W , c )$ and $y = f^{(2)} (h; w, b)$, with the complete model being\n",
        "$f ( x ; W , c , w , b ) = f^{(2)} (f^{(1)} ( x ))$ .\n",
        "\n",
        "For a better illustration of the network, let's look at this figure.\n",
        "\n",
        "![alt text](https://imgur.com/BQH5IG1.png)\n",
        "\n",
        "Here $[x1,x2]$ is the input vector, and $y$ is the output. Now we need a non-linear transformation from the input feature space to the hidden feature space of $h$. This is achieved through the first layer. The first layer can be represented as $h=f^{(1)}(x,W,c)$ where $f^{(1)}$ is a non-linear transformation in itself. Thus $h = g(W^Tx+c) $ where $W^Tx+c$ is an affine transform and $g$ is a non-linear function. This function $g$ is called as the activation function. In this case, (and most cases we will) let's use a simple function known as **ReLU**. ReLU (Rectified Linear Unit), not as complex as it sounds, is the simple function $max\\{0,x\\}$. The output layer is just a linear function $w^Th+b$. Overall, the neural network represents the function\n",
        "\n",
        "$f(x;W,c,w,b)=w^Tmax\\{0,W^Tx+c\\} +b$\n",
        "\n",
        "\n",
        "**With this setup let's guess a solution**\n",
        "\n",
        "\n",
        "\n"
      ]
    },
    {
      "metadata": {
        "id": "3Un46qtVn3Tp",
        "colab_type": "text"
      },
      "cell_type": "markdown",
      "source": [
        "# Gradient-Based Learning\n",
        "**Can we keep guessing solutions like this ?**\n",
        "\n",
        "State-of-the-art neural networks have millions of parameters to be tuned. For optimizing these million parameters, we need an objective towards which we would like to drive our model. This objective is minimizing a value defined by a **cost function**.  There are many cost functions which we use depending on the purpose"
      ]
    },
    {
      "metadata": {
        "id": "l0Ed4U8xpizs",
        "colab_type": "text"
      },
      "cell_type": "markdown",
      "source": [
        "## Cost functions\n",
        "The cost functions used in neural networks are the same as those used in simpler paramteric models such as the linear model. These cost functions represent a parametrized distribution whose parameters are to be optimized.\n",
        "\n",
        "You would have seen some cost functions yesterday. \n",
        "\n",
        "To name a few,\n",
        "\n",
        "*   Mean Squared Error Loss\n",
        "*   Cross Entropy Loss\n",
        "*   L1 Loss\n",
        "\n",
        "Some times we use a neural network to model our loss function as well. You'll be learning that later.\n",
        "\n"
      ]
    },
    {
      "metadata": {
        "id": "7HhHKnE2rJvt",
        "colab_type": "text"
      },
      "cell_type": "markdown",
      "source": [
        "## Gradient Descent\n",
        "Our task is now to minimize the cost function.\n",
        "\n",
        "**How do we do that?**\n",
        " In the case of the linear model, the loss function was convex w.r.t the parameters as seen in the image. This is a plot of a loss function $J$ w.r.t a parameter $w$.\n",
        " ![alt text](https://i.imgur.com/LAJ8Uag.png)\n",
        " \n",
        " From, the figure it is clear that for convex functions we can achieve the minima by descending using gradients. \n",
        " Esssentially, we can represent this using the update statement. We see that the gradient is positive if we move far too much from the optimal point and negative if we are far behind the optimal point. Thus the negative of the gradient gives the direction in which we have to drive our parameter $w$.\n",
        "    \n",
        " ![alt text](https://i.imgur.com/oBIKHky.png)\n",
        " \n",
        " Here, $\\alpha$ is known as the learning rate because it decides how much to alter the parameter in each step.\n",
        " \n",
        "For convex cost functions there are global convergance guarantees.\n",
        " \n",
        "This step represents one iteration of gradient descent. We do this iteratively until we reach the optimal point. \n",
        " \n",
        " While this is true for convex loss functions, what about neural networks?\n",
        "\n",
        " The cost functions for Neural Networks need not be convex. Thus, there is no guarantees as such.\n",
        " \n",
        "So what do we do?\n",
        "\n",
        "We continue using gradient descent with some precautions. **We initialise the weights to be some random numbers close to 0**.\n"
      ]
    },
    {
      "metadata": {
        "id": "O-dIQqj00umt",
        "colab_type": "text"
      },
      "cell_type": "markdown",
      "source": [
        "### Back Propagation\n",
        "While in linear models gradients are easy to compute, what about neural networks?\n",
        "\n",
        "This can be done using chain rule. \n",
        "\n",
        "In \"**Deep Learning**\", we call it backpropagation."
      ]
    },
    {
      "metadata": {
        "id": "0i2GSwye4Q_L",
        "colab_type": "text"
      },
      "cell_type": "markdown",
      "source": [
        "# Circuit Intuition for Back Prop\n",
        "\n",
        "![alt text](https://i.imgur.com/MjZjeSP.png)"
      ]
    },
    {
      "metadata": {
        "id": "_5Le7tSs1ZBD",
        "colab_type": "text"
      },
      "cell_type": "markdown",
      "source": [
        "## Optimization\n",
        "\n",
        "We will now discuss 3 optimizers.\n",
        "\n",
        "*   **Batch Gradient Descent**\n",
        "*   **Stochastic Gradient Descent**\n",
        "*   **Mini Batch Gradient Descent**\n",
        "\n",
        "**Batch Gradient Descent Optimization ** involves computing the loss for the entire dataset at once and then backpropagating and updating at a time.\n",
        "\n",
        "In **Stochastic Gradient Descent Optimization**, we compute the loss function for a single training example , one at a time, and then backpropagating.\n",
        "\n",
        "In **Mini Batch Gradient Descent**, the entire training data is divided into batches and we compute loss for each batch at a time and backpropagate.\n",
        "\n",
        "Mini Batch Gradient Descent technique is commonly used for some advantages that it provides.\n",
        "\n",
        "There are various complex optimization algorithms such as momentum, RMSprop, Adam etc.  Of course, we won't go into details on them.\n",
        "\n"
      ]
    },
    {
      "metadata": {
        "id": "yPS1lbGE8ueK",
        "colab_type": "text"
      },
      "cell_type": "markdown",
      "source": [
        "## Hyperparameters\n",
        "\n",
        "Hyperparameters are some predefined constants used to train a network. \n",
        "For example, the learning rate,  number of epochs to train for, batch size, number of layers in the network etc. are all hyperparameters\n",
        "\n",
        "There is no simple way to decide these. Basically, try them all and choose the best."
      ]
    },
    {
      "metadata": {
        "id": "0ec4pRkVu46U",
        "colab_type": "text"
      },
      "cell_type": "markdown",
      "source": [
        "# A Fast Pythonic Implementation of a Feed Forward Neural Network (Vectorised)"
      ]
    },
    {
      "metadata": {
        "id": "79vGJ99fE17s",
        "colab_type": "code",
        "colab": {
          "autoexec": {
            "startup": false,
            "wait_interval": 0
          }
        }
      },
      "cell_type": "code",
      "source": [
        "# Setup\n",
        "import numpy as np\n",
        "import matplotlib.pyplot as plt\n",
        "\n",
        "%matplotlib inline\n",
        "plt.rcParams['figure.figsize'] = (10.0, 8.0) # set default size of plots\n",
        "plt.rcParams['image.interpolation'] = 'nearest'\n",
        "plt.rcParams['image.cmap'] = 'gray'\n",
        "\n",
        "# for auto-reloading extenrnal modules\n",
        "# see http://stackoverflow.com/questions/1907993/autoreload-of-modules-in-ipython\n",
        "%load_ext autoreload\n",
        "%autoreload 2"
      ],
      "execution_count": 0,
      "outputs": []
    },
    {
      "metadata": {
        "id": "TStYjt7Fu-B2",
        "colab_type": "code",
        "colab": {
          "autoexec": {
            "startup": false,
            "wait_interval": 0
          },
          "base_uri": "https://localhost:8080/",
          "height": 504
        },
        "outputId": "381faa3c-156e-42a1-b94b-ed16e63d8238",
        "executionInfo": {
          "status": "ok",
          "timestamp": 1531822868765,
          "user_tz": -330,
          "elapsed": 1228,
          "user": {
            "displayName": "Rishhanth Maanav",
            "photoUrl": "https://lh3.googleusercontent.com/a/default-user=s128",
            "userId": "116055284600069515854"
          }
        }
      },
      "cell_type": "code",
      "source": [
        "#generate random data -- not linearly separable \n",
        "np.random.seed(0)\n",
        "N = 100 # number of points per class\n",
        "D = 2 # dimensionality\n",
        "K = 3 # number of classes\n",
        "X = np.zeros((N*K,D))\n",
        "num_train_examples = X.shape[0]\n",
        "y = np.zeros(N*K, dtype='uint8')\n",
        "for j in range(K):\n",
        "  ix = range(N*j,N*(j+1))\n",
        "  r = np.linspace(0.0,1,N) # radius\n",
        "  t = np.linspace(j*4,(j+1)*4,N) + np.random.randn(N)*0.2 # theta\n",
        "  X[ix] = np.c_[r*np.sin(t), r*np.cos(t)]\n",
        "  y[ix] = j\n",
        "fig = plt.figure()\n",
        "plt.scatter(X[:, 0], X[:, 1], c=y, s=40, cmap=plt.cm.Spectral)\n",
        "plt.xlim([-1,1])\n",
        "plt.ylim([-1,1])"
      ],
      "execution_count": 3,
      "outputs": [
        {
          "output_type": "execute_result",
          "data": {
            "text/plain": [
              "(-1, 1)"
            ]
          },
          "metadata": {
            "tags": []
          },
          "execution_count": 3
        },
        {
          "output_type": "display_data",
          "data": {
            "image/png": "[encoded data removed]",
            "text/plain": [
              "<matplotlib.figure.Figure at 0x7fadbbbdccf8>"
            ]
          },
          "metadata": {
            "tags": []
          }
        }
      ]
    },
    {
      "metadata": {
        "id": "73yCicW1vW3v",
        "colab_type": "text"
      },
      "cell_type": "markdown",
      "source": [
        "The sigmoid function \"squashes\" inputs to lie between 0 and 1. Unfortunately, this means that for inputs with sigmoid output close to 0 or 1, the gradient with respect to those inputs are close to zero. This leads to the phenomenon of vanishing gradients, where gradients drop close to zero, and the net does not learn well.\n",
        "\n",
        "On the other hand, the relu function (max(0, x)) does not saturate with input size. Plot these functions to gain intution."
      ]
    },
    {
      "metadata": {
        "id": "ZqIIKzcLvEeX",
        "colab_type": "code",
        "colab": {
          "autoexec": {
            "startup": false,
            "wait_interval": 0
          }
        }
      },
      "cell_type": "code",
      "source": [
        "def sigmoid(x):\n",
        "    x = 1/(1+np.exp(-x))\n",
        "    return x\n",
        "\n",
        "def sigmoid_grad(x):\n",
        "    return (x)*(1-x)\n",
        "\n",
        "def relu(x):\n",
        "    return np.maximum(0,x)\n",
        "\n",
        "def tanh(x):\n",
        "    return (2*sigmoid(2*x) - 1)\n",
        "\n",
        "def tanh_grad(x):\n",
        "    return (1 - (tanh(x))**2)"
      ],
      "execution_count": 0,
      "outputs": []
    },
    {
      "metadata": {
        "id": "pUrzH3KqvHQx",
        "colab_type": "code",
        "colab": {
          "autoexec": {
            "startup": false,
            "wait_interval": 0
          }
        }
      },
      "cell_type": "code",
      "source": [
        "#function to train a three layer neural net with either RELU or sigmoid nonlinearity via vanilla grad descent\n",
        "\n",
        "def three_layer_net(NONLINEARITY,X,y, model, step_size, reg):\n",
        "    #parameter initialization\n",
        "    \n",
        "    h= model['h']\n",
        "    h2= model['h2']\n",
        "    W1= model['W1']\n",
        "    W2= model['W2']\n",
        "    W3= model['W3']\n",
        "    b1= model['b1']\n",
        "    b2= model['b2']\n",
        "    b3= model['b3']\n",
        "    \n",
        "    \n",
        "    # some hyperparameters\n",
        "\n",
        "\n",
        "    # gradient descent loop\n",
        "    num_examples = X.shape[0]\n",
        "    plot_array_1=[]\n",
        "    plot_array_2=[]\n",
        "    for i in range(50000):\n",
        "\n",
        "        #FOWARD PROP\n",
        "\n",
        "        if NONLINEARITY== 'RELU':\n",
        "            hidden_layer = relu(np.dot(X, W1) + b1)\n",
        "            hidden_layer2 = relu(np.dot(hidden_layer, W2) + b2)\n",
        "            scores = np.dot(hidden_layer2, W3) + b3\n",
        "\n",
        "        elif NONLINEARITY == 'SIGM':\n",
        "            hidden_layer = sigmoid(np.dot(X, W1) + b1)\n",
        "            hidden_layer2 = sigmoid(np.dot(hidden_layer, W2) + b2)\n",
        "            scores = np.dot(hidden_layer2, W3) + b3\n",
        "        \n",
        "        elif NONLINEARITY == 'TANH':\n",
        "            hidden_layer = tanh(np.dot(X, W1) + b1)\n",
        "            hidden_layer2 = tanh(np.dot(hidden_layer, W2) + b2)\n",
        "            scores = np.dot(hidden_layer2, W3) + b3\n",
        "\n",
        "        exp_scores = np.exp(scores)\n",
        "        probs = exp_scores / np.sum(exp_scores, axis=1, keepdims=True) # [N x K]\n",
        "\n",
        "        # compute the loss: average cross-entropy loss and regularization\n",
        "        corect_logprobs = -np.log(probs[range(num_examples),y])\n",
        "        data_loss = np.sum(corect_logprobs)/num_examples\n",
        "        reg_loss = 0.5*reg*np.sum(W1*W1) + 0.5*reg*np.sum(W2*W2)+ 0.5*reg*np.sum(W3*W3)\n",
        "        loss = data_loss + reg_loss\n",
        "        if i % 1000 == 0:\n",
        "            print(\"iteration : \"+ str(i) + \" loss : \" + str(loss)  )\n",
        "\n",
        "\n",
        "        # compute the gradient on scores\n",
        "        dscores = probs\n",
        "        dscores[range(num_examples),y] -= 1\n",
        "        dscores /= num_examples\n",
        "\n",
        " \n",
        "        # BACKPROP HERE\n",
        "        dW3 = (hidden_layer2.T).dot(dscores)\n",
        "        db3 = np.sum(dscores, axis=0, keepdims=True)\n",
        "\n",
        "\n",
        "        if NONLINEARITY == 'RELU':\n",
        "\n",
        "            #backprop ReLU nonlinearity here\n",
        "            dhidden2 = np.dot(dscores, W3.T)\n",
        "            dhidden2[hidden_layer2 <= 0] = 0\n",
        "            dW2 =  np.dot( hidden_layer.T, dhidden2)\n",
        "            plot_array_2.append(np.sum(np.abs(dW2))/np.sum(np.abs(dW2.shape)))\n",
        "            db2 = np.sum(dhidden2, axis=0)\n",
        "            dhidden = np.dot(dhidden2, W2.T)\n",
        "            dhidden[hidden_layer <= 0] = 0\n",
        "            \n",
        "        elif NONLINEARITY == 'SIGM':\n",
        "\n",
        "            #backprop sigmoid nonlinearity here\n",
        "            dhidden2 = dscores.dot(W3.T)*sigmoid_grad(hidden_layer2)\n",
        "            dW2 = (hidden_layer.T).dot(dhidden2)\n",
        "            plot_array_2.append(np.sum(np.abs(dW2))/np.sum(np.abs(dW2.shape)))\n",
        "            db2 = np.sum(dhidden2, axis=0)\n",
        "            dhidden = dhidden2.dot(W2.T)*sigmoid_grad(hidden_layer)\n",
        "        \n",
        "        elif NONLINEARITY == 'TANH':\n",
        "            \n",
        "            #backprop tanh nonlinearity here\n",
        "            dhidden2 = dscores.dot(W3.T)*tanh_grad(hidden_layer2)\n",
        "            dW2 = (hidden_layer.T).dot(dhidden2)\n",
        "            plot_array_2.append(np.sum(np.abs(dW2))/np.sum(np.abs(dW2.shape)))\n",
        "            db2 = np.sum(dhidden2, axis=0)\n",
        "            dhidden = dhidden2.dot(W2.T)*tanh_grad(hidden_layer)\n",
        "            \n",
        "\n",
        "        \n",
        "        dW1 =  np.dot(X.T, dhidden)\n",
        "        plot_array_1.append(np.sum(np.abs(dW1))/np.sum(np.abs(dW1.shape)))\n",
        "        db1 = np.sum(dhidden, axis=0)\n",
        "\n",
        "        # add regularization\n",
        "        dW3+= reg * W3\n",
        "        dW2 += reg * W2\n",
        "        dW1 += reg * W1\n",
        "        \n",
        "        #option to return loss, grads -- uncomment next comment\n",
        "        grads={}\n",
        "        grads['W1']=dW1\n",
        "        grads['W2']=dW2\n",
        "        grads['W3']=dW3\n",
        "        grads['b1']=db1\n",
        "        grads['b2']=db2\n",
        "        grads['b3']=db3\n",
        "        #return loss, grads\n",
        "        \n",
        "        \n",
        "        # update\n",
        "        W1 += -step_size * dW1\n",
        "        b1 += -step_size * db1\n",
        "        W2 += -step_size * dW2\n",
        "        b2 += -step_size * db2\n",
        "        W3 += -step_size * dW3\n",
        "        b3 += -step_size * db3\n",
        "    # evaluate training set accuracy\n",
        "    if NONLINEARITY == 'RELU':\n",
        "        hidden_layer = relu(np.dot(X, W1) + b1)\n",
        "        hidden_layer2 = relu(np.dot(hidden_layer, W2) + b2)\n",
        "    elif NONLINEARITY == 'SIGM':\n",
        "        hidden_layer = sigmoid(np.dot(X, W1) + b1)\n",
        "        hidden_layer2 = sigmoid(np.dot(hidden_layer, W2) + b2)\n",
        "    scores = np.dot(hidden_layer2, W3) + b3\n",
        "    predicted_class = np.argmax(scores, axis=1)\n",
        "    print(\"training accuracy:\" + str(np.mean(predicted_class == y)))  \n",
        "    #return cost, grads\n",
        "    return plot_array_1, plot_array_2, W1, W2, W3, b1, b2, b3\n"
      ],
      "execution_count": 0,
      "outputs": []
    },
    {
      "metadata": {
        "id": "xBECHHL3veTs",
        "colab_type": "text"
      },
      "cell_type": "markdown",
      "source": [
        "## Train net with sigmoid nonlinearity first"
      ]
    },
    {
      "metadata": {
        "id": "22BtZy8-vJ1i",
        "colab_type": "code",
        "colab": {
          "autoexec": {
            "startup": false,
            "wait_interval": 0
          },
          "base_uri": "https://localhost:8080/",
          "height": 884
        },
        "outputId": "5748be4e-89e5-40ae-b24c-7552b64b2b48",
        "executionInfo": {
          "status": "ok",
          "timestamp": 1531822994727,
          "user_tz": -330,
          "elapsed": 123616,
          "user": {
            "displayName": "Rishhanth Maanav",
            "photoUrl": "https://lh3.googleusercontent.com/a/default-user=s128",
            "userId": "116055284600069515854"
          }
        }
      },
      "cell_type": "code",
      "source": [
        "#Initialize toy model, train sigmoid net\n",
        "\n",
        "N = 100 # number of points per class\n",
        "D = 2 # dimensionality\n",
        "K = 3 # number of classes\n",
        "h=50\n",
        "h2=50\n",
        "num_train_examples = X.shape[0]\n",
        "\n",
        "model={}\n",
        "model['h'] = h # size of hidden layer 1\n",
        "model['h2']= h2# size of hidden layer 2\n",
        "model['W1']= 0.1 * np.random.randn(D,h)\n",
        "model['b1'] = np.zeros((1,h))\n",
        "model['W2'] = 0.1 * np.random.randn(h,h2)\n",
        "model['b2']= np.zeros((1,h2))\n",
        "model['W3'] = 0.1 * np.random.randn(h2,K)\n",
        "model['b3'] = np.zeros((1,K))\n",
        "\n",
        "(sigm_array_1, sigm_array_2, s_W1, s_W2,s_W3, s_b1, s_b2,s_b3) = three_layer_net('SIGM', X,y,model, step_size=1e-1, reg=1e-3)\n"
      ],
      "execution_count": 6,
      "outputs": [
        {
          "output_type": "stream",
          "text": [
            "iteration : 0 loss : 1.1564048888640268\n",
            "iteration : 1000 loss : 1.1007369422747169\n",
            "iteration : 2000 loss : 0.9996976474584222\n",
            "iteration : 3000 loss : 0.8554946768068612\n",
            "iteration : 4000 loss : 0.819427292698583\n",
            "iteration : 5000 loss : 0.8148248201455693\n",
            "iteration : 6000 loss : 0.8105259085596594\n",
            "iteration : 7000 loss : 0.805942788846737\n",
            "iteration : 8000 loss : 0.8006883214893732\n",
            "iteration : 9000 loss : 0.7939760223457257\n",
            "iteration : 10000 loss : 0.7832005415212004\n",
            "iteration : 11000 loss : 0.7599087859714144\n",
            "iteration : 12000 loss : 0.7197916117626582\n",
            "iteration : 13000 loss : 0.6831938875797997\n",
            "iteration : 14000 loss : 0.6558471217342814\n",
            "iteration : 15000 loss : 0.6349964251436384\n",
            "iteration : 16000 loss : 0.6185271218753058\n",
            "iteration : 17000 loss : 0.6022458750439876\n",
            "iteration : 18000 loss : 0.5797104701761295\n",
            "iteration : 19000 loss : 0.5462637334154146\n",
            "iteration : 20000 loss : 0.512830977998761\n",
            "iteration : 21000 loss : 0.49240291901240074\n",
            "iteration : 22000 loss : 0.481853679426717\n",
            "iteration : 23000 loss : 0.4759230744953975\n",
            "iteration : 24000 loss : 0.4720309172464674\n",
            "iteration : 25000 loss : 0.46908590088064406\n",
            "iteration : 26000 loss : 0.46661087956268\n",
            "iteration : 27000 loss : 0.46438591591476175\n",
            "iteration : 28000 loss : 0.4623058909741165\n",
            "iteration : 29000 loss : 0.460318964920952\n",
            "iteration : 30000 loss : 0.45839806593179555\n",
            "iteration : 31000 loss : 0.4565275149552443\n",
            "iteration : 32000 loss : 0.45469715130085886\n",
            "iteration : 33000 loss : 0.45290030054511704\n",
            "iteration : 34000 loss : 0.4511336807434284\n",
            "iteration : 35000 loss : 0.44939811411154595\n",
            "iteration : 36000 loss : 0.447699222080574\n",
            "iteration : 37000 loss : 0.44604745512027805\n",
            "iteration : 38000 loss : 0.4444570476958292\n",
            "iteration : 39000 loss : 0.4429438722197052\n",
            "iteration : 40000 loss : 0.44152263485289395\n",
            "iteration : 41000 loss : 0.44020421535901644\n",
            "iteration : 42000 loss : 0.43899396979334127\n",
            "iteration : 43000 loss : 0.4378914243500146\n",
            "iteration : 44000 loss : 0.4368912133753138\n",
            "iteration : 45000 loss : 0.4359847027821242\n",
            "iteration : 46000 loss : 0.43516167788146876\n",
            "iteration : 47000 loss : 0.4344116831215931\n",
            "iteration : 48000 loss : 0.4337248769098645\n",
            "iteration : 49000 loss : 0.4330924580113884\n",
            "training accuracy:0.97\n"
          ],
          "name": "stdout"
        }
      ]
    },
    {
      "metadata": {
        "id": "OkOedIPBvNXO",
        "colab_type": "code",
        "colab": {
          "autoexec": {
            "startup": false,
            "wait_interval": 0
          },
          "base_uri": "https://localhost:8080/",
          "height": 884
        },
        "outputId": "62e8b87c-b250-4ffa-e21e-3c1b004618ff",
        "executionInfo": {
          "status": "ok",
          "timestamp": 1531823074622,
          "user_tz": -330,
          "elapsed": 79867,
          "user": {
            "displayName": "Rishhanth Maanav",
            "photoUrl": "https://lh3.googleusercontent.com/a/default-user=s128",
            "userId": "116055284600069515854"
          }
        }
      },
      "cell_type": "code",
      "source": [
        "#Re-initialize model, train relu net\n",
        "\n",
        "model={}\n",
        "model['h'] = h # size of hidden layer 1\n",
        "model['h2']= h2# size of hidden layer 2\n",
        "model['W1']= 0.1 * np.random.randn(D,h)\n",
        "model['b1'] = np.zeros((1,h))\n",
        "model['W2'] = 0.1 * np.random.randn(h,h2)\n",
        "model['b2']= np.zeros((1,h2))\n",
        "model['W3'] = 0.1 * np.random.randn(h2,K)\n",
        "model['b3'] = np.zeros((1,K))\n",
        "\n",
        "(relu_array_1, relu_array_2, r_W1, r_W2,r_W3, r_b1, r_b2,r_b3) = three_layer_net('RELU', X,y,model, step_size=1e-1, reg=1e-3)"
      ],
      "execution_count": 7,
      "outputs": [
        {
          "output_type": "stream",
          "text": [
            "iteration : 0 loss : 1.1161878505332794\n",
            "iteration : 1000 loss : 0.2750473719183875\n",
            "iteration : 2000 loss : 0.152297391085688\n",
            "iteration : 3000 loss : 0.13637004985082735\n",
            "iteration : 4000 loss : 0.13085339604761725\n",
            "iteration : 5000 loss : 0.1278783087185082\n",
            "iteration : 6000 loss : 0.12595052350220226\n",
            "iteration : 7000 loss : 0.12459912899799813\n",
            "iteration : 8000 loss : 0.12350220538037718\n",
            "iteration : 9000 loss : 0.1225942191667746\n",
            "iteration : 10000 loss : 0.12183316159784802\n",
            "iteration : 11000 loss : 0.12120238213822204\n",
            "iteration : 12000 loss : 0.12064999237838803\n",
            "iteration : 13000 loss : 0.12016460077173034\n",
            "iteration : 14000 loss : 0.11973390288156796\n",
            "iteration : 15000 loss : 0.11934477378825432\n",
            "iteration : 16000 loss : 0.1190004088273231\n",
            "iteration : 17000 loss : 0.11869574387761535\n",
            "iteration : 18000 loss : 0.11842259785330743\n",
            "iteration : 19000 loss : 0.11816648588754518\n",
            "iteration : 20000 loss : 0.11793219180877032\n",
            "iteration : 21000 loss : 0.11771802461981928\n",
            "iteration : 22000 loss : 0.11752094533738822\n",
            "iteration : 23000 loss : 0.11733713100171589\n",
            "iteration : 24000 loss : 0.11716774683599085\n",
            "iteration : 25000 loss : 0.11701149261769349\n",
            "iteration : 26000 loss : 0.116863059134613\n",
            "iteration : 27000 loss : 0.1167208802261758\n",
            "iteration : 28000 loss : 0.11657374759428482\n",
            "iteration : 29000 loss : 0.11642691110007014\n",
            "iteration : 30000 loss : 0.11629276946275251\n",
            "iteration : 31000 loss : 0.1161640711615599\n",
            "iteration : 32000 loss : 0.11603227969555498\n",
            "iteration : 33000 loss : 0.1159054915790852\n",
            "iteration : 34000 loss : 0.11578298884723859\n",
            "iteration : 35000 loss : 0.11566921776371357\n",
            "iteration : 36000 loss : 0.11555980390120008\n",
            "iteration : 37000 loss : 0.11545403322867084\n",
            "iteration : 38000 loss : 0.11535612294801567\n",
            "iteration : 39000 loss : 0.1152637560525614\n",
            "iteration : 40000 loss : 0.11517710451443962\n",
            "iteration : 41000 loss : 0.11509379999158581\n",
            "iteration : 42000 loss : 0.11501422326618355\n",
            "iteration : 43000 loss : 0.11493689583958577\n",
            "iteration : 44000 loss : 0.11486124742108808\n",
            "iteration : 45000 loss : 0.11478712171992038\n",
            "iteration : 46000 loss : 0.1147163841299043\n",
            "iteration : 47000 loss : 0.11464813357123932\n",
            "iteration : 48000 loss : 0.11458281113135127\n",
            "iteration : 49000 loss : 0.11452164702668921\n",
            "training accuracy:0.9933333333333333\n"
          ],
          "name": "stdout"
        }
      ]
    },
    {
      "metadata": {
        "id": "bB9GjQWnvRCD",
        "colab_type": "code",
        "colab": {
          "autoexec": {
            "startup": false,
            "wait_interval": 0
          },
          "base_uri": "https://localhost:8080/",
          "height": 816
        },
        "outputId": "7b098450-c924-4978-f966-df5c4b8d7bde"
      },
      "cell_type": "code",
      "source": [
        "#Re-initialize model, train tanh net\n",
        "\n",
        "model={}\n",
        "model['h'] = h # size of hidden layer 1\n",
        "model['h2']= h2# size of hidden layer 2\n",
        "model['W1']= 0.1 * np.random.randn(D,h)\n",
        "model['b1'] = np.zeros((1,h))\n",
        "model['W2'] = 0.1 * np.random.randn(h,h2)\n",
        "model['b2']= np.zeros((1,h2))\n",
        "model['W3'] = 0.1 * np.random.randn(h2,K)\n",
        "model['b3'] = np.zeros((1,K))\n",
        "\n",
        "(tanh_array_1, tanh_array_2, t_W1, t_W2,t_W3, t_b1, t_b2,t_b3) = three_layer_net('TANH', X,y,model, step_size=1e-1, reg=1e-3)"
      ],
      "execution_count": 0,
      "outputs": [
        {
          "output_type": "stream",
          "text": [
            "iteration : 0 loss : 1.1068763405022943\n",
            "iteration : 1000 loss : 0.765900305099139\n",
            "iteration : 2000 loss : 0.4343334057505796\n",
            "iteration : 3000 loss : 0.22102602425514706\n",
            "iteration : 4000 loss : 0.17630149048886173\n",
            "iteration : 5000 loss : 0.16120110789075096\n",
            "iteration : 6000 loss : 0.1540333097894043\n",
            "iteration : 7000 loss : 0.14995389923671046\n",
            "iteration : 8000 loss : 0.1475698759286856\n",
            "iteration : 9000 loss : 0.14600335540677895\n",
            "iteration : 10000 loss : 0.14484074848949718\n",
            "iteration : 11000 loss : 0.14391715055634402\n",
            "iteration : 12000 loss : 0.14315248607034425\n",
            "iteration : 13000 loss : 0.14250242535048072\n",
            "iteration : 14000 loss : 0.14193969836543047\n",
            "iteration : 15000 loss : 0.14144531574346847\n",
            "iteration : 16000 loss : 0.14100513992998645\n",
            "iteration : 17000 loss : 0.14060861470524466\n",
            "iteration : 18000 loss : 0.14024783674661545\n",
            "iteration : 19000 loss : 0.13991673977990238\n",
            "iteration : 20000 loss : 0.1396105838903235\n",
            "iteration : 21000 loss : 0.1393257816714214\n",
            "iteration : 22000 loss : 0.13905997472316955\n",
            "iteration : 23000 loss : 0.13881219388086213\n",
            "iteration : 24000 loss : 0.13858276838754063\n",
            "iteration : 25000 loss : 0.1383725565194345\n",
            "iteration : 26000 loss : 0.1381815508658317\n",
            "iteration : 27000 loss : 0.13800777673779102\n",
            "iteration : 28000 loss : 0.13784743936906896\n",
            "iteration : 29000 loss : 0.13769626192764078\n",
            "iteration : 30000 loss : 0.13755085423353522\n",
            "iteration : 31000 loss : 0.13740910541048212\n",
            "iteration : 32000 loss : 0.13726981066869703\n",
            "iteration : 33000 loss : 0.13713220837167583\n",
            "iteration : 34000 loss : 0.13699572940488333\n",
            "iteration : 35000 loss : 0.13685993178648884\n",
            "iteration : 36000 loss : 0.13672451675256087\n",
            "iteration : 37000 loss : 0.1365893505563261\n",
            "iteration : 38000 loss : 0.13645445725368094\n",
            "iteration : 39000 loss : 0.13631997913899038\n",
            "iteration : 40000 loss : 0.1361861202595961\n",
            "iteration : 41000 loss : 0.136053095438686\n",
            "iteration : 42000 loss : 0.13592110291294718\n",
            "iteration : 43000 loss : 0.13579032434723323\n",
            "iteration : 44000 loss : 0.13566093965311882\n",
            "iteration : 45000 loss : 0.13553313752362017\n",
            "iteration : 46000 loss : 0.1354071093879815\n"
          ],
          "name": "stdout"
        }
      ]
    },
    {
      "metadata": {
        "id": "pWJ8yas8vj7W",
        "colab_type": "text"
      },
      "cell_type": "markdown",
      "source": [
        "## The Vanishing Gradient Issue"
      ]
    },
    {
      "metadata": {
        "id": "DH7Wcv-Hvlqk",
        "colab_type": "text"
      },
      "cell_type": "markdown",
      "source": [
        "We can use the sum of the magnitude of gradients for the weights between hidden layers as a cheap heuristic to measure speed of learning (you can also use the magnitude of gradients for each neuron in the hidden layer here). Intuitevely, when the magnitude of the gradients of the weight vectors or of each neuron are large, the net is learning faster. (NOTE: For our net, each hidden layer has the same number of neurons. If you want to play around with this, make sure to adjust the heuristic to account for the number of neurons in the layer)."
      ]
    },
    {
      "metadata": {
        "id": "jnXq-vKPvkWy",
        "colab_type": "code",
        "colab": {
          "autoexec": {
            "startup": false,
            "wait_interval": 0
          },
          "base_uri": "https://localhost:8080/",
          "height": 214
        },
        "outputId": "62c28bb4-001a-48fe-ebd6-3d387d7810c9",
        "executionInfo": {
          "status": "error",
          "timestamp": 1531822681048,
          "user_tz": -330,
          "elapsed": 2938,
          "user": {
            "displayName": "Rishhanth Maanav",
            "photoUrl": "https://lh3.googleusercontent.com/a/default-user=s128",
            "userId": "116055284600069515854"
          }
        }
      },
      "cell_type": "code",
      "source": [
        "plt.plot(np.array(sigm_array_1))\n",
        "plt.plot(np.array(sigm_array_2))\n",
        "plt.title('Sum of magnitudes of gradients -- SIGM weights')\n",
        "plt.legend((\"sigm first layer\", \"sigm second layer\"))\n"
      ],
      "execution_count": 1,
      "outputs": [
        {
          "output_type": "error",
          "ename": "NameError",
          "evalue": "ignored",
          "traceback": [
            "\u001b[0;31m---------------------------------------------------------------------------\u001b[0m",
            "\u001b[0;31mNameError\u001b[0m                                 Traceback (most recent call last)",
            "\u001b[0;32m<ipython-input-1-d06530e68271>\u001b[0m in \u001b[0;36m<module>\u001b[0;34m()\u001b[0m\n\u001b[0;32m----> 1\u001b[0;31m \u001b[0mplt\u001b[0m\u001b[0;34m.\u001b[0m\u001b[0mplot\u001b[0m\u001b[0;34m(\u001b[0m\u001b[0mnp\u001b[0m\u001b[0;34m.\u001b[0m\u001b[0marray\u001b[0m\u001b[0;34m(\u001b[0m\u001b[0msigm_array_1\u001b[0m\u001b[0;34m)\u001b[0m\u001b[0;34m)\u001b[0m\u001b[0;34m\u001b[0m\u001b[0m\n\u001b[0m\u001b[1;32m      2\u001b[0m \u001b[0mplt\u001b[0m\u001b[0;34m.\u001b[0m\u001b[0mplot\u001b[0m\u001b[0;34m(\u001b[0m\u001b[0mnp\u001b[0m\u001b[0;34m.\u001b[0m\u001b[0marray\u001b[0m\u001b[0;34m(\u001b[0m\u001b[0msigm_array_2\u001b[0m\u001b[0;34m)\u001b[0m\u001b[0;34m)\u001b[0m\u001b[0;34m\u001b[0m\u001b[0m\n\u001b[1;32m      3\u001b[0m \u001b[0mplt\u001b[0m\u001b[0;34m.\u001b[0m\u001b[0mtitle\u001b[0m\u001b[0;34m(\u001b[0m\u001b[0;34m'Sum of magnitudes of gradients -- SIGM weights'\u001b[0m\u001b[0;34m)\u001b[0m\u001b[0;34m\u001b[0m\u001b[0m\n\u001b[1;32m      4\u001b[0m \u001b[0mplt\u001b[0m\u001b[0;34m.\u001b[0m\u001b[0mlegend\u001b[0m\u001b[0;34m(\u001b[0m\u001b[0;34m(\u001b[0m\u001b[0;34m\"sigm first layer\"\u001b[0m\u001b[0;34m,\u001b[0m \u001b[0;34m\"sigm second layer\"\u001b[0m\u001b[0;34m)\u001b[0m\u001b[0;34m)\u001b[0m\u001b[0;34m\u001b[0m\u001b[0m\n",
            "\u001b[0;31mNameError\u001b[0m: name 'plt' is not defined"
          ]
        }
      ]
    },
    {
      "metadata": {
        "id": "ptKnXtCdvr3q",
        "colab_type": "code",
        "colab": {
          "autoexec": {
            "startup": false,
            "wait_interval": 0
          }
        }
      },
      "cell_type": "code",
      "source": [
        "plt.plot(np.array(relu_array_1))\n",
        "plt.plot(np.array(relu_array_2))\n",
        "plt.title('Sum of magnitudes of gradients -- ReLU weights')\n",
        "plt.legend((\"relu first layer\", \"relu second layer\"))"
      ],
      "execution_count": 0,
      "outputs": []
    },
    {
      "metadata": {
        "id": "WLHDF9lOvwif",
        "colab_type": "code",
        "colab": {
          "autoexec": {
            "startup": false,
            "wait_interval": 0
          }
        }
      },
      "cell_type": "code",
      "source": [
        "plt.plot(np.array(tanh_array_1))\n",
        "plt.plot(np.array(tanh_array_2))\n",
        "plt.title('Sum of magnitudes of gradients -- TANH weights')\n",
        "plt.legend((\"tanh first layer\", \"tanh second layer\"))"
      ],
      "execution_count": 0,
      "outputs": []
    },
    {
      "metadata": {
        "id": "QQQmG_DBvwj_",
        "colab_type": "code",
        "colab": {
          "autoexec": {
            "startup": false,
            "wait_interval": 0
          }
        }
      },
      "cell_type": "code",
      "source": [
        "# Overlaying the two plots to compare\n",
        "plt.plot(np.array(relu_array_1))\n",
        "plt.plot(np.array(relu_array_2))\n",
        "plt.plot(np.array(sigm_array_1))\n",
        "plt.plot(np.array(sigm_array_2))\n",
        "plt.plot(np.array(tanh_array_1))\n",
        "plt.plot(np.array(tanh_array_2))\n",
        "plt.title('Sum of magnitudes of gradients -- hidden layer neurons')\n",
        "plt.legend((\"relu first layer\", \"relu second layer\",\"sigm first layer\", \"sigm second layer\",\"tanh first layer\",\"tanh second layer\"))"
      ],
      "execution_count": 0,
      "outputs": []
    },
    {
      "metadata": {
        "id": "S0fw2FG5v55n",
        "colab_type": "text"
      },
      "cell_type": "markdown",
      "source": [
        "We can see how well each classifier does in terms of distinguishing the toy data classes. As expected, since the ReLU net trains faster, for a set number of epochs it performs better compared to the sigmoid net"
      ]
    },
    {
      "metadata": {
        "id": "1HVsYKhNvwlk",
        "colab_type": "code",
        "colab": {
          "autoexec": {
            "startup": false,
            "wait_interval": 0
          }
        }
      },
      "cell_type": "code",
      "source": [
        "\n",
        "\n",
        "# plot the classifiers- SIGMOID\n",
        "h = 0.02\n",
        "x_min, x_max = X[:, 0].min() - 1, X[:, 0].max() + 1\n",
        "y_min, y_max = X[:, 1].min() - 1, X[:, 1].max() + 1\n",
        "xx, yy = np.meshgrid(np.arange(x_min, x_max, h),\n",
        "                     np.arange(y_min, y_max, h))\n",
        "Z = np.dot(sigmoid(np.dot(sigmoid(np.dot(np.c_[xx.ravel(), yy.ravel()], s_W1) + s_b1), s_W2) + s_b2), s_W3) + s_b3\n",
        "Z = np.argmax(Z, axis=1)\n",
        "Z = Z.reshape(xx.shape)\n",
        "fig = plt.figure()\n",
        "plt.contourf(xx, yy, Z, cmap=plt.cm.Spectral, alpha=0.8)\n",
        "plt.scatter(X[:, 0], X[:, 1], c=y, s=40, cmap=plt.cm.Spectral)\n",
        "plt.xlim(xx.min(), xx.max())\n",
        "plt.ylim(yy.min(), yy.max())\n",
        "\n"
      ],
      "execution_count": 0,
      "outputs": []
    },
    {
      "metadata": {
        "id": "5bAFKBFMvwp6",
        "colab_type": "code",
        "colab": {
          "autoexec": {
            "startup": false,
            "wait_interval": 0
          }
        }
      },
      "cell_type": "code",
      "source": [
        "# plot the classifiers-- RELU\n",
        "h = 0.02\n",
        "x_min, x_max = X[:, 0].min() - 1, X[:, 0].max() + 1\n",
        "y_min, y_max = X[:, 1].min() - 1, X[:, 1].max() + 1\n",
        "xx, yy = np.meshgrid(np.arange(x_min, x_max, h),\n",
        "                     np.arange(y_min, y_max, h))\n",
        "Z = np.dot(relu(np.dot(relu(np.dot(np.c_[xx.ravel(), yy.ravel()], r_W1) + r_b1), r_W2) + r_b2), r_W3) + r_b3\n",
        "Z = np.argmax(Z, axis=1)\n",
        "Z = Z.reshape(xx.shape)\n",
        "fig = plt.figure()\n",
        "plt.contourf(xx, yy, Z, cmap=plt.cm.Spectral, alpha=0.8)\n",
        "plt.scatter(X[:, 0], X[:, 1], c=y, s=40, cmap=plt.cm.Spectral)\n",
        "plt.xlim(xx.min(), xx.max())\n",
        "plt.ylim(yy.min(), yy.max())\n"
      ],
      "execution_count": 0,
      "outputs": []
    },
    {
      "metadata": {
        "id": "XmnhXwPjwCQE",
        "colab_type": "code",
        "colab": {
          "autoexec": {
            "startup": false,
            "wait_interval": 0
          }
        }
      },
      "cell_type": "code",
      "source": [
        "h = 0.02\n",
        "x_min, x_max = X[:, 0].min() - 1, X[:, 0].max() + 1\n",
        "y_min, y_max = X[:, 1].min() - 1, X[:, 1].max() + 1\n",
        "xx, yy = np.meshgrid(np.arange(x_min, x_max, h),\n",
        "                     np.arange(y_min, y_max, h))\n",
        "Z = np.dot(tanh(np.dot(tanh(np.dot(np.c_[xx.ravel(), yy.ravel()], t_W1) + t_b1), t_W2) + t_b2), t_W3) + t_b3\n",
        "Z = np.argmax(Z, axis=1)\n",
        "Z = Z.reshape(xx.shape)\n",
        "fig = plt.figure()\n",
        "plt.contourf(xx, yy, Z, cmap=plt.cm.Spectral, alpha=0.8)\n",
        "plt.scatter(X[:, 0], X[:, 1], c=y, s=40, cmap=plt.cm.Spectral)\n",
        "plt.xlim(xx.min(), xx.max())\n",
        "plt.ylim(yy.min(), yy.max())\n"
      ],
      "execution_count": 0,
      "outputs": []
    },
    {
      "metadata": {
        "id": "qvWJhpih1rZr",
        "colab_type": "text"
      },
      "cell_type": "markdown",
      "source": [
        "# Overfitting and Underfitting"
      ]
    },
    {
      "metadata": {
        "id": "HfAwGQ3x11hJ",
        "colab_type": "text"
      },
      "cell_type": "markdown",
      "source": [
        "![overfitting](https://cdn-images-1.medium.com/max/1125/1*_7OPgojau8hkiPUiHoGK_w.png)\n",
        "\n",
        "![overfittign](https://www.apixio.com/wp-content/uploads/2017/10/classification-with-overfitting-2.png)\n",
        "\n",
        "![over](https://raw.githubusercontent.com/alexeygrigorev/wiki-figures/master/ufrt/kddm/overfitting-logreg-ex.png)\n",
        "\n",
        "![fitting_curves](http://bioinfo.iric.ca/wpbioinfo/wp-content/uploads/2017/10/error_curves.png)\n",
        "\n",
        "![overfitting](http://srdas.github.io/DLBook/DL_images/UnderfittingOverfitting.png)"
      ]
    },
    {
      "metadata": {
        "id": "MIUR7PBY3cAo",
        "colab_type": "text"
      },
      "cell_type": "markdown",
      "source": [
        "# Overfitting\n",
        "\n",
        "Overfitting refers to a model that models the training data too well.\n",
        "\n",
        "- Overfitting happens when a model learns the **detail and noise** in the training data to the extent that it **negatively** impacts the performance of the model on new data.\n",
        "- **Noise or random fluctuations** in the training data is picked up and **learned** as concepts by the model\n",
        "\n",
        "- Occurs when the **Representation Power** of the model is way too much when compared to the **actual complexity** needed to solve the problem."
      ]
    },
    {
      "metadata": {
        "id": "OLpeC9a74l3O",
        "colab_type": "text"
      },
      "cell_type": "markdown",
      "source": [
        "# Underfitting\n",
        "\n",
        "Underfitting refers to a model that can neither model the training data nor generalize to new data.\n",
        "\n",
        "- An underfit machine learning model is not a suitable model and will be obvious as it will have poor performance on the training data.\n",
        "\n",
        "- Underfitting can easily be detected as the training performance will be low given a proper metric. So its obviously not suitable for deployment.\n",
        "\n",
        "- Increase the model's representation power by increasing the number of parameters to optimize incase of parametric models\n",
        "  - In neural Nets, increase the number of hidden layers and no of neurons per hidden layer. This increases the models representation capability.\n",
        "  "
      ]
    },
    {
      "metadata": {
        "id": "CUpvJ-6i9PBk",
        "colab_type": "text"
      },
      "cell_type": "markdown",
      "source": [
        "# How to avoid overfitting? \n",
        "\n",
        "> Regularization"
      ]
    },
    {
      "metadata": {
        "id": "sdxXCCiQ9dt0",
        "colab_type": "text"
      },
      "cell_type": "markdown",
      "source": [
        "## Parameter Penalties\n",
        "\n",
        "- Adding Parameter norm penalty $\\Omega(\\theta)$ to the loss function\n",
        "- $\\Omega(\\theta)$ can be any function of $\\theta$, we will see about it in detail.\n",
        "\n",
        "\\begin{equation}\n",
        "\\vec J(\\theta: X,y) = J(\\theta : X, y) + \\alpha\\ \\Omega(\\theta) \\\\\n",
        "\\alpha\\ \\epsilon\\ [0, \\infty]\n",
        "\\end{equation}\n",
        "\n",
        "The term $\\alpha$ decides the amount of regularization term to add.\n",
        "\n",
        "| $\\alpha$ | Regularization |\n",
        "|---|---|\n",
        "|0| No Regularization whatsoever| \n",
        "| $\\downarrow$ | $\\downarrow$ |\n",
        "| $\\uparrow$ | $\\uparrow$ |\n",
        "| $\\infty$ | Infinite Penalty, $\\theta$ collapses to 0\n",
        "\n",
        "- In Neural nets, only $W$ parameters are subject to regularization, bias vectors ($b$) are not. This is because, \n",
        "  - Each weight $W_{ij}$ specifies how 2 variables interact. Fitting / finding the correct Weight value requires observing different values of the 2 variables at different conditions.\n",
        "  - Bias Vectors control only single variable.\n",
        "  - We might induce underfitting by including redularization in bias values."
      ]
    },
    {
      "metadata": {
        "id": "Hgn4SAppDyy1",
        "colab_type": "text"
      },
      "cell_type": "markdown",
      "source": [
        "### $L^2$ Parameter Regularization\n",
        "\n",
        "> Commonly known as **weight decay**.\n",
        "\n",
        "- This regularization strategy drives weights close to **origin**.\n",
        "\n",
        "- $\\Omega(\\theta) = \\frac{1}{2}||w||_2^2$\n",
        "\n",
        "- Also known as **ridge regression** or **Tikhonov Regression**\n",
        "\n",
        "Lets assume A, B are highly correlated features.\n",
        "\n",
        "> Corellation means A and B are couppled in a sense. +ve correlation and -ve correlation.\n",
        "\n",
        "They are so correlated so that we can assume A $\\approx$ B. \n",
        "\n",
        "These 2 being the features of the model, the weights will multiply them and we get\n",
        "\n",
        "$\n",
        " Y = W_aA + W_bB\n",
        "$\n",
        "\n",
        "Lets assume $W_a = 4, W_b = -2$, but since A and B are almost equal so\n",
        "\n",
        "\\begin{equation}\n",
        "Y = 4A - 2B \\approx 2A\n",
        "\\end{equation}\n",
        "\n",
        "But,\n",
        "\n",
        "\\begin{equation}\n",
        "Y = 10A - 8B \\approx 2A\n",
        "\\end{equation}\n",
        "\n",
        "and again,\n",
        "\n",
        "\\begin{equation}\n",
        "Y = 1000002A - 1000000B \\approx 2A\n",
        "\\end{equation}\n",
        "\n",
        "So you can see the difficulty in $optimization$. So this regularization basically says, if such a condition arises, choose the smallest (closest to origin) $W_a, W_b$ which satisfies the condition.\n"
      ]
    },
    {
      "metadata": {
        "id": "CXvP8w7-H9f6",
        "colab_type": "text"
      },
      "cell_type": "markdown",
      "source": [
        "### $L^1$ Regularization\n",
        "\n",
        "Here similar to $L^2$ Regularization, but the regularization function is different.\n",
        "\n",
        "\\begin{equation}\n",
        "\\Omega(\\theta) = ||w||_1 = \\sum_i|w_i|\n",
        "\\end{equation}\n",
        "\n",
        "Here the optimal solution for some paramters will be 0. This means, $L^1$ regularization will favour **sparse** solutions. \n",
        "\n",
        "Can be used in **feature selection** mechanism. If weights of some features reduces to 0, this means we can safely disregard those features from our model.\n",
        "  - Remember $W$ values for features implies the importance of the features in the prediction output. If the weight for a particular feature is 0, this means its nor important.\n"
      ]
    },
    {
      "metadata": {
        "id": "TBIzPubsLCoe",
        "colab_type": "text"
      },
      "cell_type": "markdown",
      "source": [
        "### Norm Regularizations as Constraint Optimizations\n",
        "\n",
        "Recall,\n",
        "\n",
        "\\begin{equation}\n",
        "\\vec J(\\theta; X, y) = J(\\theta; X, y) + \\alpha\\ \\Omega(\\theta)\n",
        "\\end{equation}\n",
        "\n",
        "Also recalling Lagrange Multipliers, \n",
        "\n",
        "![lagrange_multipliers](https://i.stack.imgur.com/9NIoJ.png)\n",
        "\n",
        "![lagrange_multipliers](http://math.etsu.edu/multicalc/prealpha/chap2/chap2-9/10-8-20.gif)\n",
        "\n",
        "\n"
      ]
    },
    {
      "metadata": {
        "id": "B5-kcQSU-waE",
        "colab_type": "text"
      },
      "cell_type": "markdown",
      "source": [
        "# We'll now see an example of overfitting and another where we try to combat that using regularization"
      ]
    },
    {
      "metadata": {
        "id": "Gcv-ZlCp--DZ",
        "colab_type": "code",
        "colab": {
          "autoexec": {
            "startup": false,
            "wait_interval": 0
          }
        }
      },
      "cell_type": "code",
      "source": [
        "from keras.datasets import mnist\n",
        "(train_images, train_labels), (test_images, test_labels) = mnist.load_data()"
      ],
      "execution_count": 0,
      "outputs": []
    },
    {
      "metadata": {
        "id": "dthGvXbN_IG3",
        "colab_type": "code",
        "colab": {
          "autoexec": {
            "startup": false,
            "wait_interval": 0
          }
        }
      },
      "cell_type": "code",
      "source": [
        "from keras.utils import to_categorical\n",
        " \n",
        "print('Training data shape : ', train_images.shape, train_labels.shape)\n",
        " \n",
        "print('Testing data shape : ', test_images.shape, test_labels.shape)\n",
        " \n",
        "# Find the unique numbers from the train labels\n",
        "classes = np.unique(train_labels)\n",
        "nClasses = len(classes)\n",
        "print('Total number of outputs : ', nClasses)\n",
        "print('Output classes : ', classes)\n",
        " \n",
        "plt.figure(figsize=[10,5])\n",
        " \n",
        "# Display the first image in training data\n",
        "plt.subplot(121)\n",
        "plt.imshow(train_images[0,:,:], cmap='gray')\n",
        "plt.title(\"Ground Truth : {}\".format(train_labels[0]))\n",
        " \n",
        "# Display the first image in testing data\n",
        "plt.subplot(122)\n",
        "plt.imshow(test_images[0,:,:], cmap='gray')\n",
        "plt.title(\"Ground Truth : {}\".format(test_labels[0]))"
      ],
      "execution_count": 0,
      "outputs": []
    },
    {
      "metadata": {
        "id": "KRENCQ3-_Kt0",
        "colab_type": "code",
        "colab": {
          "autoexec": {
            "startup": false,
            "wait_interval": 0
          }
        }
      },
      "cell_type": "code",
      "source": [
        "# Change from matrix to array of dimension 28x28 to array of dimention 784\n",
        "dimData = np.prod(train_images.shape[1:])\n",
        "train_data = train_images.reshape(train_images.shape[0], dimData)\n",
        "test_data = test_images.reshape(test_images.shape[0], dimData)"
      ],
      "execution_count": 0,
      "outputs": []
    },
    {
      "metadata": {
        "id": "0cXV8R_q_M-K",
        "colab_type": "code",
        "colab": {
          "autoexec": {
            "startup": false,
            "wait_interval": 0
          }
        }
      },
      "cell_type": "code",
      "source": [
        "# Change to float datatype\n",
        "train_data = train_data.astype('float32')\n",
        "test_data = test_data.astype('float32')\n",
        " \n",
        "# Scale the data to lie between 0 to 1\n",
        "train_data /= 255\n",
        "test_data /= 255"
      ],
      "execution_count": 0,
      "outputs": []
    },
    {
      "metadata": {
        "id": "46HIlRDn_PSo",
        "colab_type": "code",
        "colab": {
          "autoexec": {
            "startup": false,
            "wait_interval": 0
          }
        }
      },
      "cell_type": "code",
      "source": [
        "# Change to float datatype\n",
        "train_data = train_data.astype('float32')\n",
        "test_data = test_data.astype('float32')\n",
        " \n",
        "# Scale the data to lie between 0 to 1\n",
        "train_data /= 255\n",
        "test_data /= 255"
      ],
      "execution_count": 0,
      "outputs": []
    },
    {
      "metadata": {
        "id": "9qsxxDFN_RIf",
        "colab_type": "code",
        "colab": {
          "autoexec": {
            "startup": false,
            "wait_interval": 0
          }
        }
      },
      "cell_type": "code",
      "source": [
        "from keras.models import Sequential\n",
        "from keras.layers import Dense\n",
        " \n",
        "model = Sequential()\n",
        "model.add(Dense(512, activation='relu', input_shape=(dimData,)))\n",
        "model.add(Dense(512, activation='relu'))\n",
        "model.add(Dense(nClasses, activation='softmax'))"
      ],
      "execution_count": 0,
      "outputs": []
    },
    {
      "metadata": {
        "id": "mRKtJUtO_TPC",
        "colab_type": "code",
        "colab": {
          "autoexec": {
            "startup": false,
            "wait_interval": 0
          }
        }
      },
      "cell_type": "code",
      "source": [
        "model.compile(optimizer='rmsprop', loss='categorical_crossentropy', metrics=['accuracy'])"
      ],
      "execution_count": 0,
      "outputs": []
    },
    {
      "metadata": {
        "id": "PJYgU0MS_Uke",
        "colab_type": "code",
        "colab": {
          "autoexec": {
            "startup": false,
            "wait_interval": 0
          }
        }
      },
      "cell_type": "code",
      "source": [
        "history = model.fit(train_data, train_labels_one_hot, batch_size=256, epochs=20, verbose=1, \n",
        "                   validation_data=(test_data, test_labels_one_hot))"
      ],
      "execution_count": 0,
      "outputs": []
    },
    {
      "metadata": {
        "id": "lgs9evVP_Vno",
        "colab_type": "code",
        "colab": {
          "autoexec": {
            "startup": false,
            "wait_interval": 0
          }
        }
      },
      "cell_type": "code",
      "source": [
        "[test_loss, test_acc] = model.evaluate(test_data, test_labels_one_hot)\n",
        "print(\"Evaluation result on Test Data : Loss = {}, accuracy = {}\".format(test_loss, test_acc))"
      ],
      "execution_count": 0,
      "outputs": []
    },
    {
      "metadata": {
        "id": "ZLMKzPOd_Z5C",
        "colab_type": "code",
        "colab": {
          "autoexec": {
            "startup": false,
            "wait_interval": 0
          }
        }
      },
      "cell_type": "code",
      "source": [
        "#Plot the Loss Curves\n",
        "plt.figure(figsize=[8,6])\n",
        "plt.plot(history.history['loss'],'r',linewidth=3.0)\n",
        "plt.plot(history.history['val_loss'],'b',linewidth=3.0)\n",
        "plt.legend(['Training loss', 'Validation Loss'],fontsize=18)\n",
        "plt.xlabel('Epochs ',fontsize=16)\n",
        "plt.ylabel('Loss',fontsize=16)\n",
        "plt.title('Loss Curves',fontsize=16)\n",
        " \n",
        "#Plot the Accuracy Curves\n",
        "plt.figure(figsize=[8,6])\n",
        "plt.plot(history.history['acc'],'r',linewidth=3.0)\n",
        "plt.plot(history.history['val_acc'],'b',linewidth=3.0)\n",
        "plt.legend(['Training Accuracy', 'Validation Accuracy'],fontsize=18)\n",
        "plt.xlabel('Epochs ',fontsize=16)\n",
        "plt.ylabel('Accuracy',fontsize=16)\n",
        "plt.title('Accuracy Curves',fontsize=16)"
      ],
      "execution_count": 0,
      "outputs": []
    },
    {
      "metadata": {
        "id": "rsYJYkcX_eHA",
        "colab_type": "text"
      },
      "cell_type": "markdown",
      "source": [
        "## There is a clear sign of OverFitting. Why do you think so?\n",
        "\n",
        "Carefully see the Validation loss and Training loss curve. Validation loss decreases and then it gradually increases. This means that model is memorising the dataset, though in this case accuracy is much higher. \n",
        "\n",
        "** How to combat that?? **\n",
        "# Use Regularization !"
      ]
    },
    {
      "metadata": {
        "id": "evRF4jI6_fww",
        "colab_type": "code",
        "colab": {
          "autoexec": {
            "startup": false,
            "wait_interval": 0
          }
        }
      },
      "cell_type": "code",
      "source": [
        "from keras.layers import Dropout\n",
        " \n",
        "model_reg = Sequential()\n",
        "model_reg.add(Dense(512, activation='relu', input_shape=(dimData,)))\n",
        "model_reg.add(Dropout(0.5))\n",
        "model_reg.add(Dense(512, activation='relu'))\n",
        "model_reg.add(Dropout(0.5))\n",
        "model_reg.add(Dense(nClasses, activation='softmax'))"
      ],
      "execution_count": 0,
      "outputs": []
    },
    {
      "metadata": {
        "id": "YbMVvqfb_jaX",
        "colab_type": "code",
        "colab": {
          "autoexec": {
            "startup": false,
            "wait_interval": 0
          }
        }
      },
      "cell_type": "code",
      "source": [
        "model_reg.compile(optimizer='rmsprop', loss='categorical_crossentropy', metrics=['accuracy'])\n",
        "history_reg = model_reg.fit(train_data, train_labels_one_hot, batch_size=256, epochs=20, verbose=1, \n",
        "                            validation_data=(test_data, test_labels_one_hot))\n",
        " \n",
        "#Plot the Loss Curves\n",
        "plt.figure(figsize=[8,6])\n",
        "plt.plot(history_reg.history['loss'],'r',linewidth=3.0)\n",
        "plt.plot(history_reg.history['val_loss'],'b',linewidth=3.0)\n",
        "plt.legend(['Training loss', 'Validation Loss'],fontsize=18)\n",
        "plt.xlabel('Epochs ',fontsize=16)\n",
        "plt.ylabel('Loss',fontsize=16)\n",
        "plt.title('Loss Curves',fontsize=16)\n",
        " \n",
        "#Plot the Accuracy Curves\n",
        "plt.figure(figsize=[8,6])\n",
        "plt.plot(history_reg.history['acc'],'r',linewidth=3.0)\n",
        "plt.plot(history_reg.history['val_acc'],'b',linewidth=3.0)\n",
        "plt.legend(['Training Accuracy', 'Validation Accuracy'],fontsize=18)\n",
        "plt.xlabel('Epochs ',fontsize=16)\n",
        "plt.ylabel('Accuracy',fontsize=16)\n",
        "plt.title('Accuracy Curves',fontsize=16)"
      ],
      "execution_count": 0,
      "outputs": []
    },
    {
      "metadata": {
        "id": "OCP-IqMD_n9D",
        "colab_type": "text"
      },
      "cell_type": "markdown",
      "source": [
        "## What we note??\n",
        "\n",
        "* Validation loss is not increasing as it did before.\n",
        "* Difference between the validation and training accuracy is not that much\n",
        "\n",
        "This implies better generalisation and can work will on unseen data samples.\n"
      ]
    },
    {
      "metadata": {
        "id": "3tkYXx4et74o",
        "colab_type": "text"
      },
      "cell_type": "markdown",
      "source": [
        "# Comparision of Various Optimizers: Stochastic Gradient Descent, RMSprop, Adam, Adagrad"
      ]
    },
    {
      "metadata": {
        "id": "J1ISUIQZm6TB",
        "colab_type": "code",
        "colab": {
          "autoexec": {
            "startup": false,
            "wait_interval": 0
          },
          "base_uri": "https://localhost:8080/",
          "height": 34
        },
        "outputId": "2a2c3e8b-ce85-49b4-ac10-234bc0208c17",
        "executionInfo": {
          "status": "ok",
          "timestamp": 1531761101645,
          "user_tz": -330,
          "elapsed": 8530,
          "user": {
            "displayName": "Rishhanth Maanav",
            "photoUrl": "https://lh3.googleusercontent.com/a/default-user=s128",
            "userId": "116055284600069515854"
          }
        }
      },
      "cell_type": "code",
      "source": [
        "import time\n",
        "import numpy as np\n",
        "from matplotlib import pyplot as plt\n",
        "from keras.utils import np_utils\n",
        "import keras.callbacks as cb\n",
        "from keras.models import Sequential\n",
        "from keras.layers.core import Dense, Dropout, Activation\n",
        "from keras.optimizers import *\n",
        "from keras.datasets import mnist"
      ],
      "execution_count": 1,
      "outputs": [
        {
          "output_type": "stream",
          "text": [
            "Using TensorFlow backend.\n"
          ],
          "name": "stderr"
        }
      ]
    },
    {
      "metadata": {
        "id": "RmdLi4CGm_eK",
        "colab_type": "code",
        "colab": {
          "autoexec": {
            "startup": false,
            "wait_interval": 0
          }
        }
      },
      "cell_type": "code",
      "source": [
        "class LossHistory(cb.Callback):\n",
        "    def on_train_begin(self, logs={}):\n",
        "        self.losses = []\n",
        "\n",
        "    def on_batch_end(self, batch, logs={}):\n",
        "        batch_loss = logs.get('loss')\n",
        "        self.losses.append(batch_loss)"
      ],
      "execution_count": 0,
      "outputs": []
    },
    {
      "metadata": {
        "id": "KTDro5wJnClX",
        "colab_type": "code",
        "colab": {
          "autoexec": {
            "startup": false,
            "wait_interval": 0
          }
        }
      },
      "cell_type": "code",
      "source": [
        "def load_data():\n",
        "    print ('Loading data...')\n",
        "    (X_train, y_train), (X_test, y_test) = mnist.load_data()\n",
        "\n",
        "    X_train = X_train.astype('float32')\n",
        "    X_test = X_test.astype('float32')\n",
        "\n",
        "    X_train /= 255\n",
        "    X_test /= 255\n",
        "\n",
        "    y_train = np_utils.to_categorical(y_train, 10)\n",
        "    y_test = np_utils.to_categorical(y_test, 10)\n",
        "\n",
        "    X_train = np.reshape(X_train, (60000, 784))\n",
        "    X_test = np.reshape(X_test, (10000, 784))\n",
        "\n",
        "    print ('Data loaded.')\n",
        "    return [X_train, X_test, y_train, y_test]\n"
      ],
      "execution_count": 0,
      "outputs": []
    },
    {
      "metadata": {
        "id": "XGSzKUf6nbLX",
        "colab_type": "code",
        "colab": {
          "autoexec": {
            "startup": false,
            "wait_interval": 0
          }
        }
      },
      "cell_type": "code",
      "source": [
        "def init_model(Optimizer,lrnr):\n",
        "    start_time = time.time()\n",
        "    print ('Compiling Model ... ')\n",
        "    model = Sequential()\n",
        "    model.add(Dense(500, input_dim=784))\n",
        "    model.add(Activation('relu'))\n",
        "    model.add(Dropout(0.4))\n",
        "    model.add(Dense(300))\n",
        "    model.add(Activation('relu'))\n",
        "    model.add(Dropout(0.4))\n",
        "    model.add(Dense(10))\n",
        "    model.add(Activation('softmax'))\n",
        "    \n",
        "    optim_dict = {}\n",
        "    optim_dict['RMSprop'] = RMSprop(lr = lrnr)\n",
        "    optim_dict['SGD'] = SGD(lr = lrnr)\n",
        "    optim_dict['Adam'] = Adam(lr = lrnr)\n",
        "    optim_dict['Adagrad'] = Adagrad(lr = lrnr)\n",
        "    optim = optim_dict[Optimizer]\n",
        "    model.compile(loss='categorical_crossentropy', optimizer=optim, metrics=['accuracy'])\n",
        "    print ('Model compield in {0} seconds'.format(time.time() - start_time))\n",
        "    return model"
      ],
      "execution_count": 0,
      "outputs": []
    },
    {
      "metadata": {
        "id": "dZpfXbzYn-8z",
        "colab_type": "code",
        "colab": {
          "autoexec": {
            "startup": false,
            "wait_interval": 0
          }
        }
      },
      "cell_type": "code",
      "source": [
        "def run_network(data=None, model=None, epochs=20, batch=256, Optimizer = 'RMSprop',lrnr = 1e-2):\n",
        "    try:\n",
        "        start_time = time.time()\n",
        "        if data is None:\n",
        "            X_train, X_test, y_train, y_test = load_data()\n",
        "        else:\n",
        "            X_train, X_test, y_train, y_test = data\n",
        "\n",
        "        if model is None:\n",
        "            model = init_model(Optimizer,lrnr)\n",
        "\n",
        "        history = LossHistory()\n",
        "        print(\"####### Optimizer being Used: \" + Optimizer)\n",
        "        print ('Training model...')\n",
        "        model.fit(X_train, y_train, epochs=epochs, batch_size=batch,\n",
        "                  callbacks=[history],\n",
        "                  validation_data=(X_test, y_test), verbose=2)\n",
        "\n",
        "        print (\"Training duration : {0}\".format(time.time() - start_time))\n",
        "        score = model.evaluate(X_test, y_test, batch_size=16)\n",
        "\n",
        "        print (\"Network's test score [loss, accuracy]: {0}\".format(score))\n",
        "        return model, history.losses\n",
        "    except KeyboardInterrupt:\n",
        "        print (' KeyboardInterrupt')\n",
        "        return model, history.losses"
      ],
      "execution_count": 0,
      "outputs": []
    },
    {
      "metadata": {
        "id": "77npFi_boEQG",
        "colab_type": "code",
        "colab": {
          "autoexec": {
            "startup": false,
            "wait_interval": 0
          }
        }
      },
      "cell_type": "code",
      "source": [
        "def plot_losses(losses):\n",
        "    fig = plt.figure()\n",
        "    ax = fig.add_subplot(111)\n",
        "    ax.plot(losses)\n",
        "    ax.set_title('Loss per batch')\n",
        "    fig.show()"
      ],
      "execution_count": 0,
      "outputs": []
    },
    {
      "metadata": {
        "id": "KVfSCHDNoQS6",
        "colab_type": "code",
        "colab": {
          "autoexec": {
            "startup": false,
            "wait_interval": 0
          },
          "base_uri": "https://localhost:8080/",
          "height": 3471
        },
        "outputId": "153a975f-ddf7-41b0-fdaa-5bf847494971",
        "executionInfo": {
          "status": "ok",
          "timestamp": 1531761247397,
          "user_tz": -330,
          "elapsed": 140286,
          "user": {
            "displayName": "Rishhanth Maanav",
            "photoUrl": "https://lh3.googleusercontent.com/a/default-user=s128",
            "userId": "116055284600069515854"
          }
        }
      },
      "cell_type": "code",
      "source": [
        "model1,losses1 = run_network(Optimizer='SGD')\n",
        "model2,losses2 = run_network(Optimizer='RMSprop')\n",
        "model3,losses3 = run_network(Optimizer='Adam')\n",
        "model4,losses4 = run_network(Optimizer='Adagrad')"
      ],
      "execution_count": 7,
      "outputs": [
        {
          "output_type": "stream",
          "text": [
            "Loading data...\n",
            "Downloading data from https://s3.amazonaws.com/img-datasets/mnist.npz\n",
            "11493376/11490434 [==============================] - 0s 0us/step\n",
            "Data loaded.\n",
            "Compiling Model ... \n",
            "Model compield in 0.1579577922821045 seconds\n",
            "####### Optimizer being Used: SGD\n",
            "Training model...\n",
            "Train on 60000 samples, validate on 10000 samples\n",
            "Epoch 1/20\n",
            " - 2s - loss: 1.7671 - acc: 0.4466 - val_loss: 1.0192 - val_acc: 0.8004\n",
            "Epoch 2/20\n",
            " - 1s - loss: 0.9803 - acc: 0.7141 - val_loss: 0.5928 - val_acc: 0.8565\n",
            "Epoch 3/20\n",
            " - 1s - loss: 0.7243 - acc: 0.7842 - val_loss: 0.4638 - val_acc: 0.8801\n",
            "Epoch 4/20\n",
            " - 1s - loss: 0.6136 - acc: 0.8156 - val_loss: 0.4024 - val_acc: 0.8920\n",
            "Epoch 5/20\n",
            " - 1s - loss: 0.5440 - acc: 0.8377 - val_loss: 0.3664 - val_acc: 0.8982\n",
            "Epoch 6/20\n",
            " - 1s - loss: 0.5036 - acc: 0.8503 - val_loss: 0.3427 - val_acc: 0.9035\n",
            "Epoch 7/20\n",
            " - 1s - loss: 0.4707 - acc: 0.8590 - val_loss: 0.3233 - val_acc: 0.9079\n",
            "Epoch 8/20\n",
            " - 1s - loss: 0.4443 - acc: 0.8685 - val_loss: 0.3076 - val_acc: 0.9121\n",
            "Epoch 9/20\n",
            " - 1s - loss: 0.4222 - acc: 0.8750 - val_loss: 0.2944 - val_acc: 0.9154\n",
            "Epoch 10/20\n",
            " - 1s - loss: 0.4041 - acc: 0.8796 - val_loss: 0.2837 - val_acc: 0.9188\n",
            "Epoch 11/20\n",
            " - 1s - loss: 0.3869 - acc: 0.8848 - val_loss: 0.2740 - val_acc: 0.9211\n",
            "Epoch 12/20\n",
            " - 1s - loss: 0.3749 - acc: 0.8908 - val_loss: 0.2655 - val_acc: 0.9234\n",
            "Epoch 13/20\n",
            " - 1s - loss: 0.3625 - acc: 0.8941 - val_loss: 0.2566 - val_acc: 0.9250\n",
            "Epoch 14/20\n",
            " - 1s - loss: 0.3498 - acc: 0.8980 - val_loss: 0.2493 - val_acc: 0.9279\n",
            "Epoch 15/20\n",
            " - 1s - loss: 0.3394 - acc: 0.9010 - val_loss: 0.2432 - val_acc: 0.9299\n",
            "Epoch 16/20\n",
            " - 1s - loss: 0.3329 - acc: 0.9027 - val_loss: 0.2370 - val_acc: 0.9308\n",
            "Epoch 17/20\n",
            " - 1s - loss: 0.3202 - acc: 0.9056 - val_loss: 0.2305 - val_acc: 0.9324\n",
            "Epoch 18/20\n",
            " - 1s - loss: 0.3144 - acc: 0.9080 - val_loss: 0.2248 - val_acc: 0.9346\n",
            "Epoch 19/20\n",
            " - 1s - loss: 0.3068 - acc: 0.9104 - val_loss: 0.2204 - val_acc: 0.9362\n",
            "Epoch 20/20\n",
            " - 1s - loss: 0.2972 - acc: 0.9124 - val_loss: 0.2151 - val_acc: 0.9370\n",
            "Training duration : 30.938060998916626\n",
            " 8816/10000 [=========================>....] - ETA: 0s"
          ],
          "name": "stdout"
        },
        {
          "output_type": "stream",
          "text": [
            "10000/10000 [==============================] - 1s 133us/step\n",
            "Network's test score [loss, accuracy]: [0.21510502181351185, 0.937]\n",
            "Loading data...\n",
            "Data loaded.\n",
            "Compiling Model ... \n",
            "Model compield in 0.22509074211120605 seconds\n",
            "####### Optimizer being Used: RMSprop\n",
            "Training model...\n",
            "Train on 60000 samples, validate on 10000 samples\n",
            "Epoch 1/20\n",
            " - 2s - loss: 2.3645 - acc: 0.7604 - val_loss: 0.2360 - val_acc: 0.9344\n",
            "Epoch 2/20\n",
            " - 2s - loss: 0.3112 - acc: 0.9241 - val_loss: 0.2191 - val_acc: 0.9448\n",
            "Epoch 3/20\n",
            " - 2s - loss: 0.2915 - acc: 0.9346 - val_loss: 0.2198 - val_acc: 0.9503\n",
            "Epoch 4/20\n",
            " - 2s - loss: 0.2892 - acc: 0.9377 - val_loss: 0.1691 - val_acc: 0.9615\n",
            "Epoch 5/20\n",
            " - 2s - loss: 0.2993 - acc: 0.9401 - val_loss: 0.1728 - val_acc: 0.9633\n",
            "Epoch 6/20\n",
            " - 2s - loss: 0.3019 - acc: 0.9435 - val_loss: 0.1949 - val_acc: 0.9580\n",
            "Epoch 7/20\n",
            " - 2s - loss: 0.3089 - acc: 0.9446 - val_loss: 0.2113 - val_acc: 0.9592\n",
            "Epoch 8/20\n",
            " - 2s - loss: 0.3112 - acc: 0.9446 - val_loss: 0.1913 - val_acc: 0.9640\n",
            "Epoch 9/20\n",
            " - 2s - loss: 0.3238 - acc: 0.9472 - val_loss: 0.2244 - val_acc: 0.9597\n",
            "Epoch 10/20\n",
            " - 2s - loss: 0.3093 - acc: 0.9486 - val_loss: 0.2045 - val_acc: 0.9632\n",
            "Epoch 11/20\n",
            " - 2s - loss: 0.3238 - acc: 0.9478 - val_loss: 0.2120 - val_acc: 0.9670\n",
            "Epoch 12/20\n",
            " - 2s - loss: 0.3249 - acc: 0.9494 - val_loss: 0.2061 - val_acc: 0.9673\n",
            "Epoch 13/20\n",
            " - 2s - loss: 0.3414 - acc: 0.9493 - val_loss: 0.2301 - val_acc: 0.9666\n",
            "Epoch 14/20\n",
            " - 2s - loss: 0.3863 - acc: 0.9499 - val_loss: 0.2377 - val_acc: 0.9658\n",
            "Epoch 15/20\n",
            " - 2s - loss: 0.3689 - acc: 0.9496 - val_loss: 0.2419 - val_acc: 0.9694\n",
            "Epoch 16/20\n",
            " - 2s - loss: 0.3765 - acc: 0.9497 - val_loss: 0.2354 - val_acc: 0.9711\n",
            "Epoch 17/20\n",
            " - 2s - loss: 0.3701 - acc: 0.9521 - val_loss: 0.2294 - val_acc: 0.9703\n",
            "Epoch 18/20\n",
            " - 2s - loss: 0.3832 - acc: 0.9506 - val_loss: 0.2253 - val_acc: 0.9668\n",
            "Epoch 19/20\n",
            " - 2s - loss: 0.3934 - acc: 0.9523 - val_loss: 0.2585 - val_acc: 0.9700\n",
            "Epoch 20/20\n",
            " - 2s - loss: 0.3848 - acc: 0.9526 - val_loss: 0.2594 - val_acc: 0.9703\n",
            "Training duration : 34.21602439880371\n",
            " 9536/10000 [===========================>..] - ETA: 0s"
          ],
          "name": "stdout"
        },
        {
          "output_type": "stream",
          "text": [
            "10000/10000 [==============================] - 1s 130us/step\n",
            "Network's test score [loss, accuracy]: [0.259412504883776, 0.9703]\n",
            "Loading data...\n",
            "Data loaded.\n",
            "Compiling Model ... \n",
            "Model compield in 0.14969754219055176 seconds\n",
            "####### Optimizer being Used: Adam\n",
            "Training model...\n",
            "Train on 60000 samples, validate on 10000 samples\n",
            "Epoch 1/20\n",
            " - 2s - loss: 0.3653 - acc: 0.8904 - val_loss: 0.1559 - val_acc: 0.9538\n",
            "Epoch 2/20\n",
            " - 2s - loss: 0.2541 - acc: 0.9281 - val_loss: 0.1254 - val_acc: 0.9649\n",
            "Epoch 3/20\n",
            " - 2s - loss: 0.2396 - acc: 0.9347 - val_loss: 0.1349 - val_acc: 0.9620\n",
            "Epoch 4/20\n",
            " - 2s - loss: 0.2359 - acc: 0.9379 - val_loss: 0.1396 - val_acc: 0.9607\n",
            "Epoch 5/20\n",
            " - 2s - loss: 0.2196 - acc: 0.9424 - val_loss: 0.1400 - val_acc: 0.9644\n",
            "Epoch 6/20\n",
            " - 2s - loss: 0.2348 - acc: 0.9407 - val_loss: 0.1371 - val_acc: 0.9634\n",
            "Epoch 7/20\n",
            " - 2s - loss: 0.2251 - acc: 0.9443 - val_loss: 0.1524 - val_acc: 0.9619\n",
            "Epoch 8/20\n",
            " - 2s - loss: 0.2204 - acc: 0.9452 - val_loss: 0.1371 - val_acc: 0.9667\n",
            "Epoch 9/20\n",
            " - 2s - loss: 0.2064 - acc: 0.9490 - val_loss: 0.1353 - val_acc: 0.9684\n",
            "Epoch 10/20\n",
            " - 2s - loss: 0.2132 - acc: 0.9487 - val_loss: 0.1271 - val_acc: 0.9703\n",
            "Epoch 11/20\n",
            " - 2s - loss: 0.2039 - acc: 0.9502 - val_loss: 0.1359 - val_acc: 0.9683\n",
            "Epoch 12/20\n",
            " - 2s - loss: 0.2073 - acc: 0.9510 - val_loss: 0.1252 - val_acc: 0.9705\n",
            "Epoch 13/20\n",
            " - 2s - loss: 0.2103 - acc: 0.9494 - val_loss: 0.1421 - val_acc: 0.9680\n",
            "Epoch 14/20\n",
            " - 2s - loss: 0.1871 - acc: 0.9541 - val_loss: 0.1409 - val_acc: 0.9666\n",
            "Epoch 15/20\n",
            " - 2s - loss: 0.1960 - acc: 0.9548 - val_loss: 0.1379 - val_acc: 0.9690\n",
            "Epoch 16/20\n",
            " - 2s - loss: 0.1895 - acc: 0.9543 - val_loss: 0.1411 - val_acc: 0.9692\n",
            "Epoch 17/20\n",
            " - 2s - loss: 0.1866 - acc: 0.9550 - val_loss: 0.1400 - val_acc: 0.9671\n",
            "Epoch 18/20\n",
            " - 2s - loss: 0.1977 - acc: 0.9560 - val_loss: 0.1426 - val_acc: 0.9678\n",
            "Epoch 19/20\n",
            " - 2s - loss: 0.1921 - acc: 0.9550 - val_loss: 0.1437 - val_acc: 0.9700\n",
            "Epoch 20/20\n",
            " - 2s - loss: 0.1894 - acc: 0.9565 - val_loss: 0.1380 - val_acc: 0.9724\n",
            "Training duration : 36.44550323486328\n",
            " 9216/10000 [==========================>...] - ETA: 0s"
          ],
          "name": "stdout"
        },
        {
          "output_type": "stream",
          "text": [
            "10000/10000 [==============================] - 1s 133us/step\n",
            "Network's test score [loss, accuracy]: [0.1379884784717869, 0.9724]\n",
            "Loading data...\n",
            "Data loaded.\n",
            "Compiling Model ... \n",
            "Model compield in 0.24301552772521973 seconds\n",
            "####### Optimizer being Used: Adagrad\n",
            "Training model...\n",
            "Train on 60000 samples, validate on 10000 samples\n",
            "Epoch 1/20\n",
            " - 2s - loss: 0.3534 - acc: 0.8954 - val_loss: 0.1362 - val_acc: 0.9580\n",
            "Epoch 2/20\n",
            " - 2s - loss: 0.1589 - acc: 0.9531 - val_loss: 0.1043 - val_acc: 0.9669\n",
            "Epoch 3/20\n",
            " - 2s - loss: 0.1250 - acc: 0.9624 - val_loss: 0.0880 - val_acc: 0.9716\n",
            "Epoch 4/20\n",
            " - 2s - loss: 0.1071 - acc: 0.9680 - val_loss: 0.0830 - val_acc: 0.9741\n",
            "Epoch 5/20\n",
            " - 2s - loss: 0.0933 - acc: 0.9718 - val_loss: 0.0772 - val_acc: 0.9766\n",
            "Epoch 6/20\n",
            " - 2s - loss: 0.0834 - acc: 0.9752 - val_loss: 0.0716 - val_acc: 0.9774\n",
            "Epoch 7/20\n",
            " - 2s - loss: 0.0767 - acc: 0.9763 - val_loss: 0.0678 - val_acc: 0.9791\n",
            "Epoch 8/20\n",
            " - 2s - loss: 0.0696 - acc: 0.9789 - val_loss: 0.0658 - val_acc: 0.9791\n",
            "Epoch 9/20\n",
            " - 2s - loss: 0.0645 - acc: 0.9806 - val_loss: 0.0642 - val_acc: 0.9798\n",
            "Epoch 10/20\n",
            " - 2s - loss: 0.0587 - acc: 0.9817 - val_loss: 0.0628 - val_acc: 0.9800\n",
            "Epoch 11/20\n",
            " - 2s - loss: 0.0549 - acc: 0.9832 - val_loss: 0.0636 - val_acc: 0.9798\n",
            "Epoch 12/20\n",
            " - 2s - loss: 0.0524 - acc: 0.9839 - val_loss: 0.0608 - val_acc: 0.9811\n",
            "Epoch 13/20\n",
            " - 2s - loss: 0.0492 - acc: 0.9843 - val_loss: 0.0607 - val_acc: 0.9808\n",
            "Epoch 14/20\n",
            " - 2s - loss: 0.0480 - acc: 0.9849 - val_loss: 0.0588 - val_acc: 0.9817\n",
            "Epoch 15/20\n",
            " - 2s - loss: 0.0447 - acc: 0.9862 - val_loss: 0.0577 - val_acc: 0.9825\n",
            "Epoch 16/20\n",
            " - 2s - loss: 0.0413 - acc: 0.9870 - val_loss: 0.0584 - val_acc: 0.9828\n",
            "Epoch 17/20\n",
            " - 2s - loss: 0.0403 - acc: 0.9872 - val_loss: 0.0596 - val_acc: 0.9824\n",
            "Epoch 18/20\n",
            " - 2s - loss: 0.0385 - acc: 0.9875 - val_loss: 0.0584 - val_acc: 0.9824\n",
            "Epoch 19/20\n",
            " - 2s - loss: 0.0365 - acc: 0.9885 - val_loss: 0.0575 - val_acc: 0.9831\n",
            "Epoch 20/20\n",
            " - 2s - loss: 0.0346 - acc: 0.9889 - val_loss: 0.0550 - val_acc: 0.9848\n",
            "Training duration : 32.48259496688843\n",
            " 9344/10000 [===========================>..] - ETA: 0s"
          ],
          "name": "stdout"
        },
        {
          "output_type": "stream",
          "text": [
            "10000/10000 [==============================] - 1s 131us/step\n",
            "Network's test score [loss, accuracy]: [0.05498526737435022, 0.9848]\n"
          ],
          "name": "stdout"
        }
      ]
    },
    {
      "metadata": {
        "id": "9uv-RZBHooTA",
        "colab_type": "code",
        "colab": {
          "autoexec": {
            "startup": false,
            "wait_interval": 0
          },
          "base_uri": "https://localhost:8080/",
          "height": 362
        },
        "outputId": "2509eb4a-17aa-4d91-95ba-b64c49066642",
        "executionInfo": {
          "status": "ok",
          "timestamp": 1531761248543,
          "user_tz": -330,
          "elapsed": 1112,
          "user": {
            "displayName": "Rishhanth Maanav",
            "photoUrl": "https://lh3.googleusercontent.com/a/default-user=s128",
            "userId": "116055284600069515854"
          }
        }
      },
      "cell_type": "code",
      "source": [
        "plt.title(\"Comparison of Various Optimizers' Performance\")\n",
        "plt.plot(losses1)\n",
        "plt.plot(losses2)\n",
        "plt.plot(losses3)\n",
        "plt.plot(losses4)\n",
        "plt.legend(['SGD','RMSProp','Adam','Adagrad'])\n",
        "plt.show()"
      ],
      "execution_count": 8,
      "outputs": [
        {
          "output_type": "display_data",
          "data": {
            "image/png": "[encoded data removed]",
            "text/plain": [
              "<matplotlib.figure.Figure at 0x7fc6c4ff6ef0>"
            ]
          },
          "metadata": {
            "tags": []
          }
        }
      ]
    },
    {
      "metadata": {
        "id": "B3vv0ICWEe5N",
        "colab_type": "text"
      },
      "cell_type": "markdown",
      "source": [
        "# Time to train your own neural network !!!"
      ]
    },
    {
      "metadata": {
        "id": "clk5SDoU_sw4",
        "colab_type": "code",
        "colab": {
          "autoexec": {
            "startup": false,
            "wait_interval": 0
          }
        }
      },
      "cell_type": "code",
      "source": [
        "!pip install matplotlib\n",
        "\n",
        "from keras.datasets import cifar10\n",
        "import numpy as np\n",
        "(train_images, train_labels), (test_images, test_labels)  = cifar10.load_data()"
      ],
      "execution_count": 0,
      "outputs": []
    },
    {
      "metadata": {
        "id": "Gmer73id_vpo",
        "colab_type": "code",
        "colab": {
          "autoexec": {
            "startup": false,
            "wait_interval": 0
          }
        }
      },
      "cell_type": "code",
      "source": [
        "from keras.utils import to_categorical\n",
        " \n",
        "print('Training data shape : ', train_images.shape, train_labels.shape)\n",
        " \n",
        "print('Testing data shape : ', test_images.shape, test_labels.shape)\n",
        " \n",
        "# Find the unique numbers from the train labels\n",
        "classes = np.unique(train_labels)\n",
        "nClasses = len(classes)\n",
        "print('Total number of outputs : ', nClasses)\n",
        "print('Output classes : ', classes)\n",
        " \n",
        "plt.figure(figsize=[5,2])\n",
        " \n",
        "# Display the first image in training data\n",
        "plt.subplot(121)\n",
        "plt.imshow(train_images[0,:,:], cmap='gray')\n",
        "plt.title(\"Ground Truth : {}\".format(train_labels[0]))\n",
        " \n",
        "# Display the first image in testing data\n",
        "plt.subplot(122)\n",
        "plt.imshow(test_images[0,:,:], cmap='gray')\n",
        "plt.title(\"Ground Truth : {}\".format(test_labels[0]))\n"
      ],
      "execution_count": 0,
      "outputs": []
    },
    {
      "metadata": {
        "id": "1w-ldsNx_4b4",
        "colab_type": "code",
        "colab": {
          "autoexec": {
            "startup": false,
            "wait_interval": 0
          }
        }
      },
      "cell_type": "code",
      "source": [
        "\n",
        "# Change from matrix to array of dimension 28x28 to array of dimention 784\n",
        "dimData = np.prod(train_images.shape[1:])\n",
        "train_data = train_images.reshape(train_images.shape[0], dimData)\n",
        "test_data = test_images.reshape(test_images.shape[0], dimData)"
      ],
      "execution_count": 0,
      "outputs": []
    },
    {
      "metadata": {
        "id": "iYqqvCQ8_5Qt",
        "colab_type": "code",
        "colab": {
          "autoexec": {
            "startup": false,
            "wait_interval": 0
          }
        }
      },
      "cell_type": "code",
      "source": [
        "# Change to float datatype\n",
        "train_data = train_data.astype('float32')\n",
        "test_data = test_data.astype('float32')\n",
        " \n",
        "# Scale the data to lie between 0 to 1\n",
        "train_data /= 255\n",
        "test_data /= 255"
      ],
      "execution_count": 0,
      "outputs": []
    },
    {
      "metadata": {
        "id": "nNPTvC8S_7Gx",
        "colab_type": "code",
        "colab": {
          "autoexec": {
            "startup": false,
            "wait_interval": 0
          }
        }
      },
      "cell_type": "code",
      "source": [
        "# Change the labels from integer to categorical data\n",
        "train_labels_one_hot = to_categorical(train_labels)\n",
        "test_labels_one_hot = to_categorical(test_labels)\n",
        " \n",
        "# Display the change for category label using one-hot encoding\n",
        "print('Original label 0 : ', train_labels[0])\n",
        "print('After conversion to categorical ( one-hot ) : ', train_labels_one_hot[0])"
      ],
      "execution_count": 0,
      "outputs": []
    },
    {
      "metadata": {
        "id": "fpVcf7kSADBU",
        "colab_type": "code",
        "colab": {
          "autoexec": {
            "startup": false,
            "wait_interval": 0
          }
        }
      },
      "cell_type": "code",
      "source": [
        "from keras.models import Sequential\n",
        "from keras.layers import Dense\n",
        " \n",
        "model = Sequential()\n",
        "\n",
        "model.add(Dense(720, activation='sigmoid', input_shape=(dimData,)))\n",
        "model.add(Dense(720, activation='relu', input_shape=(dimData,)))\n",
        "model.add(Dense(720, activation='sigmoid', input_shape=(dimData,)))\n",
        "model.add(Dense(720, activation='relu', input_shape=(dimData,)))\n",
        "model.add(Dense(720, activation='sigmoid', input_shape=(dimData,)))\n",
        "model.add(Dense(720, activation='relu', input_shape=(dimData,)))\n",
        "model.add(Dense(720, activation='sigmoid', input_shape=(dimData,)))\n",
        "model.add(Dense(720, activation='relu', input_shape=(dimData,)))\n",
        "model.add(Dense(720, activation='sigmoid', input_shape=(dimData,)))\n",
        "model.add(Dense(720, activation='relu', input_shape=(dimData,)))\n",
        "model.add(Dense(720, activation='relu'))\n",
        "model.add(Dense(nClasses, activation='softmax'))"
      ],
      "execution_count": 0,
      "outputs": []
    },
    {
      "metadata": {
        "id": "1SglB_EnAFSQ",
        "colab_type": "code",
        "colab": {
          "autoexec": {
            "startup": false,
            "wait_interval": 0
          }
        }
      },
      "cell_type": "code",
      "source": [
        "model.compile(optimizer='rmsprop', loss='categorical_crossentropy', metrics=['accuracy'])"
      ],
      "execution_count": 0,
      "outputs": []
    },
    {
      "metadata": {
        "id": "jEqD8W6KAGHa",
        "colab_type": "code",
        "colab": {
          "autoexec": {
            "startup": false,
            "wait_interval": 0
          }
        }
      },
      "cell_type": "code",
      "source": [
        "history = model.fit(train_data, train_labels_one_hot, batch_size=256, epochs=20, verbose=1, \n",
        "                   validation_data=(test_data, test_labels_one_hot))"
      ],
      "execution_count": 0,
      "outputs": []
    },
    {
      "metadata": {
        "id": "GqRpjKusAKUA",
        "colab_type": "code",
        "colab": {
          "autoexec": {
            "startup": false,
            "wait_interval": 0
          }
        }
      },
      "cell_type": "code",
      "source": [
        "[test_loss, test_acc] = model.evaluate(test_data, test_labels_one_hot)\n",
        "print(\"Evaluation result on Test Data : Loss = {}, accuracy = {}\".format(test_loss, test_acc))"
      ],
      "execution_count": 0,
      "outputs": []
    },
    {
      "metadata": {
        "id": "mKJ78Hi4AOjq",
        "colab_type": "text"
      },
      "cell_type": "markdown",
      "source": [
        "## Try to maximize the test accuracy !!! Take it as a challenge. (Tuning the parameters is basically an ART :p)"
      ]
    },
    {
      "metadata": {
        "id": "OMtvA5tzwCxo",
        "colab_type": "code",
        "colab": {
          "autoexec": {
            "startup": false,
            "wait_interval": 0
          }
        }
      },
      "cell_type": "code",
      "source": [
        ""
      ],
      "execution_count": 0,
      "outputs": []
    }
  ]
}