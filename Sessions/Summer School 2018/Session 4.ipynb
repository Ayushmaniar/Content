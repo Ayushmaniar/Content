{
 "cells": [
  {
   "cell_type": "markdown",
   "metadata": {
    "colab_type": "text",
    "id": "mKsJwWGxg3cn"
   },
   "source": [
    " ![alt text](http://i63.tinypic.com/352kyeb.jpg)\n",
    "\n"
   ]
  },
  {
   "cell_type": "markdown",
   "metadata": {
    "colab_type": "text",
    "id": "VzBtnQ__8sIi"
   },
   "source": [
    " #  $   Tracking~Methods  $\n",
    " \n",
    "  # $ \\displaystyle Meanshift,~Camshift~and~Kalman~filters$\n",
    "  \n",
    "  $Computer~Vision~and~Intelligence~ Group,IIT ~Madras$"
   ]
  },
  {
   "cell_type": "markdown",
   "metadata": {
    "colab_type": "text",
    "id": "g8vS-rWFbu0I"
   },
   "source": [
    "### $ Histogram~ backprojection : $\n",
    "\n",
    "Histogram backprojection, in simple words ,  creates an image of the same size (but of a  single channel) as that of our input image, where each pixel corresponds to the probability of that pixel belonging to our object $ie.$ the output image will have our object of interest in more white compared to remaining part. It is used to find objects of interest in an image or other image segmentation applications.\n",
    "\n",
    "### $ How~ do ~we ~get~ it? $\n",
    "\n",
    "First , we create a histogram of an image containing our object of interest. A colour histogram is preferred over a grayscale one as it contains more information about the object .  We then \"back-project\" this histogram over our test image where we need to find the object, $ie$ ,we calculate the probability of every pixel belonging to the target object and show it. The resulting output on proper thresholding gives us the object of interest. To understand what we mean by  \"back-project\" consider a case when our image is \n"
   ]
  },
  {
   "cell_type": "markdown",
   "metadata": {
    "colab_type": "text",
    "id": "80m07SHFVY-F"
   },
   "source": [
    "### Implementation : "
   ]
  },
  {
   "cell_type": "code",
   "execution_count": 32,
   "metadata": {
    "colab": {
     "autoexec": {
      "startup": false,
      "wait_interval": 0
     },
     "base_uri": "https://localhost:8080/",
     "height": 38
    },
    "colab_type": "code",
    "executionInfo": {
     "elapsed": 42786,
     "status": "ok",
     "timestamp": 1530771034624,
     "user": {
      "displayName": "Atul Balaji",
      "photoUrl": "https://lh3.googleusercontent.com/a/default-user=s128",
      "userId": "114090638288848832178"
     },
     "user_tz": -330
    },
    "id": "UfORAxYrvP7U",
    "outputId": "4a702229-264e-4670-91f5-2ca38fd35624"
   },
   "outputs": [
    {
     "ename": "ModuleNotFoundError",
     "evalue": "No module named 'google.colab'",
     "output_type": "error",
     "traceback": [
      "\u001b[0;31m---------------------------------------------------------------------------\u001b[0m",
      "\u001b[0;31mModuleNotFoundError\u001b[0m                       Traceback (most recent call last)",
      "\u001b[0;32m<ipython-input-32-63ded7ceb330>\u001b[0m in \u001b[0;36m<module>\u001b[0;34m()\u001b[0m\n\u001b[1;32m      1\u001b[0m \u001b[0;31m#Upload the relevant files\u001b[0m\u001b[0;34m\u001b[0m\u001b[0;34m\u001b[0m\u001b[0m\n\u001b[0;32m----> 2\u001b[0;31m \u001b[0;32mfrom\u001b[0m \u001b[0mgoogle\u001b[0m\u001b[0;34m.\u001b[0m\u001b[0mcolab\u001b[0m \u001b[0;32mimport\u001b[0m \u001b[0mfiles\u001b[0m\u001b[0;34m\u001b[0m\u001b[0m\n\u001b[0m\u001b[1;32m      3\u001b[0m \u001b[0muploaded\u001b[0m \u001b[0;34m=\u001b[0m \u001b[0mfiles\u001b[0m\u001b[0;34m.\u001b[0m\u001b[0mupload\u001b[0m\u001b[0;34m(\u001b[0m\u001b[0;34m)\u001b[0m\u001b[0;34m\u001b[0m\u001b[0m\n\u001b[1;32m      4\u001b[0m \u001b[0;32mfor\u001b[0m \u001b[0mfn\u001b[0m \u001b[0;32min\u001b[0m \u001b[0muploaded\u001b[0m\u001b[0;34m.\u001b[0m\u001b[0mkeys\u001b[0m\u001b[0;34m(\u001b[0m\u001b[0;34m)\u001b[0m\u001b[0;34m:\u001b[0m\u001b[0;34m\u001b[0m\u001b[0m\n\u001b[1;32m      5\u001b[0m        \u001b[0mprint\u001b[0m\u001b[0;34m(\u001b[0m\u001b[0;34m'User uploaded file \"{name}\" with length {length} bytes'\u001b[0m\u001b[0;34m.\u001b[0m\u001b[0mformat\u001b[0m\u001b[0;34m(\u001b[0m\u001b[0mname\u001b[0m\u001b[0;34m=\u001b[0m\u001b[0mfn\u001b[0m\u001b[0;34m,\u001b[0m \u001b[0mlength\u001b[0m\u001b[0;34m=\u001b[0m\u001b[0mlen\u001b[0m\u001b[0;34m(\u001b[0m\u001b[0muploaded\u001b[0m\u001b[0;34m[\u001b[0m\u001b[0mfn\u001b[0m\u001b[0;34m]\u001b[0m\u001b[0;34m)\u001b[0m\u001b[0;34m)\u001b[0m\u001b[0;34m)\u001b[0m\u001b[0;34m\u001b[0m\u001b[0m\n",
      "\u001b[0;31mModuleNotFoundError\u001b[0m: No module named 'google.colab'"
     ]
    }
   ],
   "source": [
    "#Upload the relevant files \n",
    "from google.colab import files\n",
    "uploaded = files.upload()\n",
    "for fn in uploaded.keys():\n",
    "       print('User uploaded file \"{name}\" with length {length} bytes'.format(name=fn, length=len(uploaded[fn])))"
   ]
  },
  {
   "cell_type": "markdown",
   "metadata": {
    "colab_type": "text",
    "id": "oM6gRBROn6t-"
   },
   "source": [
    "First we need to calculate the **color histogram** of both the object we need to find (let it be $O$ ) and the image where\n",
    "we are going to search for the object(let it be $I$)"
   ]
  },
  {
   "cell_type": "code",
   "execution_count": 33,
   "metadata": {
    "colab": {
     "autoexec": {
      "startup": false,
      "wait_interval": 0
     },
     "base_uri": "https://localhost:8080/",
     "height": 231
    },
    "colab_type": "code",
    "executionInfo": {
     "elapsed": 1714,
     "status": "error",
     "timestamp": 1530771312239,
     "user": {
      "displayName": "Atul Balaji",
      "photoUrl": "https://lh3.googleusercontent.com/a/default-user=s128",
      "userId": "114090638288848832178"
     },
     "user_tz": -330
    },
    "id": "zDNh2tizVXcZ",
    "outputId": "80d66c92-d377-4553-ba2b-32ada19d214f"
   },
   "outputs": [
    {
     "ename": "error",
     "evalue": "OpenCV(3.4.1) /feedstock_root/build_artefacts/opencv_1520722599420/work/opencv-3.4.1/modules/imgproc/src/color.cpp:11214: error: (-215) (scn == 3 || scn == 4) && (depth == 0 || depth == 5) in function cvtColor\n",
     "output_type": "error",
     "traceback": [
      "\u001b[0;31m---------------------------------------------------------------------------\u001b[0m",
      "\u001b[0;31merror\u001b[0m                                     Traceback (most recent call last)",
      "\u001b[0;32m<ipython-input-33-e250b429d6bb>\u001b[0m in \u001b[0;36m<module>\u001b[0;34m()\u001b[0m\n\u001b[1;32m      6\u001b[0m \u001b[0;31m#roi is the region of object we need to find\u001b[0m\u001b[0;34m\u001b[0m\u001b[0;34m\u001b[0m\u001b[0m\n\u001b[1;32m      7\u001b[0m \u001b[0mroi\u001b[0m \u001b[0;34m=\u001b[0m \u001b[0mcv2\u001b[0m\u001b[0;34m.\u001b[0m\u001b[0mimread\u001b[0m\u001b[0;34m(\u001b[0m\u001b[0;34m'patch.jpg'\u001b[0m\u001b[0;34m)\u001b[0m\u001b[0;34m\u001b[0m\u001b[0m\n\u001b[0;32m----> 8\u001b[0;31m \u001b[0mhsv\u001b[0m \u001b[0;34m=\u001b[0m \u001b[0mcv2\u001b[0m\u001b[0;34m.\u001b[0m\u001b[0mcvtColor\u001b[0m\u001b[0;34m(\u001b[0m\u001b[0mroi\u001b[0m\u001b[0;34m,\u001b[0m\u001b[0mcv2\u001b[0m\u001b[0;34m.\u001b[0m\u001b[0mCOLOR_BGR2HSV\u001b[0m\u001b[0;34m)\u001b[0m\u001b[0;34m\u001b[0m\u001b[0m\n\u001b[0m\u001b[1;32m      9\u001b[0m \u001b[0;31m#target is the image we search in\u001b[0m\u001b[0;34m\u001b[0m\u001b[0;34m\u001b[0m\u001b[0m\n\u001b[1;32m     10\u001b[0m \u001b[0mtarget\u001b[0m \u001b[0;34m=\u001b[0m \u001b[0mcv2\u001b[0m\u001b[0;34m.\u001b[0m\u001b[0mimread\u001b[0m\u001b[0;34m(\u001b[0m\u001b[0;34m'messi5.jpg'\u001b[0m\u001b[0;34m)\u001b[0m\u001b[0;34m\u001b[0m\u001b[0m\n",
      "\u001b[0;31merror\u001b[0m: OpenCV(3.4.1) /feedstock_root/build_artefacts/opencv_1520722599420/work/opencv-3.4.1/modules/imgproc/src/color.cpp:11214: error: (-215) (scn == 3 || scn == 4) && (depth == 0 || depth == 5) in function cvtColor\n"
     ]
    }
   ],
   "source": [
    "\n",
    "import cv2\n",
    "import numpy as np\n",
    "from matplotlib import pyplot as plt\n",
    "\n",
    "#roi is the region of object we need to find\n",
    "roi = cv2.imread('patch.jpg') \n",
    "hsv = cv2.cvtColor(roi,cv2.COLOR_BGR2HSV)\n",
    "#target is the image we search in\n",
    "target = cv2.imread('messi5.jpg')\n",
    "hsvt = cv2.cvtColor(target,cv2.COLOR_BGR2HSV)\n",
    "# Find the histograms using calcHist. Can be done with np.histogram2d also\n",
    "roihist = cv2.calcHist([hsv],[0, 1], None, [180, 256], [0, 180, 0, 256] )\n",
    "cv2.normalize(roihist,roihist,0,255,cv2.NORM_MINMAX)\n"
   ]
  },
  {
   "cell_type": "markdown",
   "metadata": {
    "colab_type": "text",
    "id": "h7vOd5bRckJX"
   },
   "source": [
    "We then find the **ratio histogram** $R$  defined for each bin $j$ as \n",
    " \n",
    "$ R_{j} = min( \\frac{O_{j}}{I_{j}}, ~1 )$\n",
    "\n",
    "This is done by the built in function $ cv2.calcBackProject() $ "
   ]
  },
  {
   "cell_type": "code",
   "execution_count": 34,
   "metadata": {
    "colab": {
     "autoexec": {
      "startup": false,
      "wait_interval": 0
     }
    },
    "colab_type": "code",
    "id": "Djq4X_UXvrAs"
   },
   "outputs": [
    {
     "ename": "NameError",
     "evalue": "name 'hsvt' is not defined",
     "output_type": "error",
     "traceback": [
      "\u001b[0;31m---------------------------------------------------------------------------\u001b[0m",
      "\u001b[0;31mNameError\u001b[0m                                 Traceback (most recent call last)",
      "\u001b[0;32m<ipython-input-34-786f0967b8e5>\u001b[0m in \u001b[0;36m<module>\u001b[0;34m()\u001b[0m\n\u001b[1;32m      4\u001b[0m \u001b[0mR\u001b[0m \u001b[0;34m=\u001b[0m \u001b[0mnp\u001b[0m\u001b[0;34m.\u001b[0m\u001b[0mminimum\u001b[0m\u001b[0;34m(\u001b[0m\u001b[0mR\u001b[0m\u001b[0;34m,\u001b[0m\u001b[0;36m1\u001b[0m\u001b[0;34m)\u001b[0m\u001b[0;34m\u001b[0m\u001b[0m\n\u001b[1;32m      5\u001b[0m R = R.reshape(hsvt.shape[:2])'''\n\u001b[0;32m----> 6\u001b[0;31m \u001b[0mR\u001b[0m\u001b[0;34m=\u001b[0m\u001b[0mcv2\u001b[0m\u001b[0;34m.\u001b[0m\u001b[0mcalcBackProject\u001b[0m\u001b[0;34m(\u001b[0m\u001b[0;34m[\u001b[0m\u001b[0mhsvt\u001b[0m\u001b[0;34m]\u001b[0m\u001b[0;34m,\u001b[0m\u001b[0;34m[\u001b[0m\u001b[0;36m0\u001b[0m\u001b[0;34m,\u001b[0m\u001b[0;36m1\u001b[0m\u001b[0;34m]\u001b[0m\u001b[0;34m,\u001b[0m\u001b[0mroihist\u001b[0m\u001b[0;34m,\u001b[0m\u001b[0;34m[\u001b[0m\u001b[0;36m0\u001b[0m\u001b[0;34m,\u001b[0m\u001b[0;36m180\u001b[0m\u001b[0;34m,\u001b[0m\u001b[0;36m0\u001b[0m\u001b[0;34m,\u001b[0m\u001b[0;36m256\u001b[0m\u001b[0;34m]\u001b[0m\u001b[0;34m,\u001b[0m\u001b[0;36m1\u001b[0m\u001b[0;34m)\u001b[0m\u001b[0;34m\u001b[0m\u001b[0m\n\u001b[0m",
      "\u001b[0;31mNameError\u001b[0m: name 'hsvt' is not defined"
     ]
    }
   ],
   "source": [
    "'''h,s,v = cv2.split(hsvt)\n",
    "(M= )\n",
    "R = M[h.ravel(),s.ravel()]\n",
    "R = np.minimum(R,1)\n",
    "R = R.reshape(hsvt.shape[:2])'''\n",
    "R=cv2.calcBackProject([hsvt],[0,1],roihist,[0,180,0,256],1)"
   ]
  },
  {
   "cell_type": "markdown",
   "metadata": {
    "colab_type": "text",
    "id": "HK3eLuwFdTDe"
   },
   "source": [
    "This backprojected image is then convolved with a mask, which for an object of compact shape and unknown orientation can be a circle of same area as that of the object."
   ]
  },
  {
   "cell_type": "code",
   "execution_count": 35,
   "metadata": {
    "colab": {
     "autoexec": {
      "startup": false,
      "wait_interval": 0
     },
     "base_uri": "https://localhost:8080/",
     "height": 136
    },
    "colab_type": "code",
    "executionInfo": {
     "elapsed": 1233,
     "status": "ok",
     "timestamp": 1530640608721,
     "user": {
      "displayName": "Sumanth R Hegde",
      "photoUrl": "https://lh3.googleusercontent.com/a/default-user=s128",
      "userId": "117060964369598678026"
     },
     "user_tz": -330
    },
    "id": "vY_sp04xwwE8",
    "outputId": "4d864b46-64b3-434c-beee-8c53f0c0aafb"
   },
   "outputs": [
    {
     "ename": "NameError",
     "evalue": "name 'R' is not defined",
     "output_type": "error",
     "traceback": [
      "\u001b[0;31m---------------------------------------------------------------------------\u001b[0m",
      "\u001b[0;31mNameError\u001b[0m                                 Traceback (most recent call last)",
      "\u001b[0;32m<ipython-input-35-87ff9b0178c2>\u001b[0m in \u001b[0;36m<module>\u001b[0;34m()\u001b[0m\n\u001b[1;32m      1\u001b[0m \u001b[0;31m# convolution with a circular disc, B = D * B, where D is the disc kernel.(Why:  )'''\u001b[0m\u001b[0;34m\u001b[0m\u001b[0;34m\u001b[0m\u001b[0m\n\u001b[1;32m      2\u001b[0m \u001b[0mdisc\u001b[0m \u001b[0;34m=\u001b[0m \u001b[0mcv2\u001b[0m\u001b[0;34m.\u001b[0m\u001b[0mgetStructuringElement\u001b[0m\u001b[0;34m(\u001b[0m\u001b[0mcv2\u001b[0m\u001b[0;34m.\u001b[0m\u001b[0mMORPH_ELLIPSE\u001b[0m\u001b[0;34m,\u001b[0m\u001b[0;34m(\u001b[0m\u001b[0;36m5\u001b[0m\u001b[0;34m,\u001b[0m\u001b[0;36m5\u001b[0m\u001b[0;34m)\u001b[0m\u001b[0;34m)\u001b[0m\u001b[0;34m\u001b[0m\u001b[0m\n\u001b[0;32m----> 3\u001b[0;31m \u001b[0mcv2\u001b[0m\u001b[0;34m.\u001b[0m\u001b[0mfilter2D\u001b[0m\u001b[0;34m(\u001b[0m\u001b[0mR\u001b[0m\u001b[0;34m,\u001b[0m\u001b[0;34m-\u001b[0m\u001b[0;36m1\u001b[0m\u001b[0;34m,\u001b[0m\u001b[0mdisc\u001b[0m\u001b[0;34m,\u001b[0m\u001b[0mR\u001b[0m\u001b[0;34m)\u001b[0m\u001b[0;34m\u001b[0m\u001b[0m\n\u001b[0m\u001b[1;32m      4\u001b[0m \u001b[0mR\u001b[0m \u001b[0;34m=\u001b[0m \u001b[0mnp\u001b[0m\u001b[0;34m.\u001b[0m\u001b[0muint8\u001b[0m\u001b[0;34m(\u001b[0m\u001b[0mR\u001b[0m\u001b[0;34m)\u001b[0m\u001b[0;34m\u001b[0m\u001b[0m\n\u001b[1;32m      5\u001b[0m \u001b[0mcv2\u001b[0m\u001b[0;34m.\u001b[0m\u001b[0mnormalize\u001b[0m\u001b[0;34m(\u001b[0m\u001b[0mR\u001b[0m\u001b[0;34m,\u001b[0m\u001b[0mR\u001b[0m\u001b[0;34m,\u001b[0m\u001b[0;36m0\u001b[0m\u001b[0;34m,\u001b[0m\u001b[0;36m255\u001b[0m\u001b[0;34m,\u001b[0m\u001b[0mcv2\u001b[0m\u001b[0;34m.\u001b[0m\u001b[0mNORM_MINMAX\u001b[0m\u001b[0;34m)\u001b[0m\u001b[0;34m\u001b[0m\u001b[0m\n",
      "\u001b[0;31mNameError\u001b[0m: name 'R' is not defined"
     ]
    }
   ],
   "source": [
    "# convolution with a circular disc, B = D * B, where D is the disc kernel.(Why:  )'''\n",
    "disc = cv2.getStructuringElement(cv2.MORPH_ELLIPSE,(5,5))\n",
    "cv2.filter2D(R,-1,disc,R)\n",
    "R = np.uint8(R)\n",
    "cv2.normalize(R,R,0,255,cv2.NORM_MINMAX)"
   ]
  },
  {
   "cell_type": "markdown",
   "metadata": {
    "colab_type": "text",
    "id": "wpYtYy2kdnAE"
   },
   "source": [
    "Now the location of maximum intensity gives us the location of object. If we are expecting a region in the image, thresholding for a suitable value gives a nice result."
   ]
  },
  {
   "cell_type": "code",
   "execution_count": 36,
   "metadata": {
    "colab": {
     "autoexec": {
      "startup": false,
      "wait_interval": 0
     }
    },
    "colab_type": "code",
    "id": "HFU8ufu4w3R_"
   },
   "outputs": [
    {
     "ename": "NameError",
     "evalue": "name 'R' is not defined",
     "output_type": "error",
     "traceback": [
      "\u001b[0;31m---------------------------------------------------------------------------\u001b[0m",
      "\u001b[0;31mNameError\u001b[0m                                 Traceback (most recent call last)",
      "\u001b[0;32m<ipython-input-36-571500f6e690>\u001b[0m in \u001b[0;36m<module>\u001b[0;34m()\u001b[0m\n\u001b[1;32m      1\u001b[0m \u001b[0;34m\u001b[0m\u001b[0m\n\u001b[0;32m----> 2\u001b[0;31m \u001b[0mret\u001b[0m\u001b[0;34m,\u001b[0m\u001b[0mR\u001b[0m \u001b[0;34m=\u001b[0m \u001b[0mcv2\u001b[0m\u001b[0;34m.\u001b[0m\u001b[0mthreshold\u001b[0m\u001b[0;34m(\u001b[0m\u001b[0mR\u001b[0m\u001b[0;34m,\u001b[0m\u001b[0;36m50\u001b[0m\u001b[0;34m,\u001b[0m\u001b[0;36m255\u001b[0m\u001b[0;34m,\u001b[0m\u001b[0;36m0\u001b[0m\u001b[0;34m)\u001b[0m\u001b[0;34m\u001b[0m\u001b[0m\n\u001b[0m\u001b[1;32m      3\u001b[0m \u001b[0mres\u001b[0m\u001b[0;34m=\u001b[0m\u001b[0mcv2\u001b[0m\u001b[0;34m.\u001b[0m\u001b[0mmerge\u001b[0m\u001b[0;34m(\u001b[0m\u001b[0;34m(\u001b[0m\u001b[0mR\u001b[0m\u001b[0;34m,\u001b[0m\u001b[0mR\u001b[0m\u001b[0;34m,\u001b[0m\u001b[0mR\u001b[0m\u001b[0;34m)\u001b[0m\u001b[0;34m)\u001b[0m\u001b[0;34m\u001b[0m\u001b[0m\n\u001b[1;32m      4\u001b[0m \u001b[0mres\u001b[0m\u001b[0;34m=\u001b[0m\u001b[0mcv2\u001b[0m\u001b[0;34m.\u001b[0m\u001b[0mbitwise_and\u001b[0m\u001b[0;34m(\u001b[0m\u001b[0mres\u001b[0m\u001b[0;34m,\u001b[0m\u001b[0mtarget\u001b[0m\u001b[0;34m)\u001b[0m\u001b[0;34m\u001b[0m\u001b[0m\n\u001b[1;32m      5\u001b[0m \u001b[0mcv2\u001b[0m\u001b[0;34m.\u001b[0m\u001b[0mimshow\u001b[0m\u001b[0;34m(\u001b[0m\u001b[0;34m'result'\u001b[0m\u001b[0;34m,\u001b[0m\u001b[0mres\u001b[0m\u001b[0;34m)\u001b[0m\u001b[0;34m\u001b[0m\u001b[0m\n",
      "\u001b[0;31mNameError\u001b[0m: name 'R' is not defined"
     ]
    }
   ],
   "source": [
    "\n",
    "ret,R = cv2.threshold(R,50,255,0)\n",
    "res=cv2.merge((R,R,R))\n",
    "res=cv2.bitwise_and(res,target)\n",
    "cv2.imshow('result',res)\n",
    "cv2.waitKey(0) & 0xFF\n",
    "cv2.destroyAllWindows()"
   ]
  },
  {
   "cell_type": "markdown",
   "metadata": {
    "colab_type": "text",
    "id": "ytOyjT2P88Td"
   },
   "source": [
    "### $ \\displaystyle What~is~ Meanshift ??$\n",
    "\n",
    "Simply put, meanshift is an analysis technique  for locating the maxima of a density function, a so-called mode-seeking algorithm. \n",
    "In the context of visual tracking , the meanshift algorithm , based on the color histogram of the object in the previous image, is used  to find the peak of a probability density function  near the object's old position. We will give a brief overview of the underlying mathematics behind the procedure , and then develop a basic intuition of how it is useful for us , in visual tracking.\n",
    "\n"
   ]
  },
  {
   "cell_type": "markdown",
   "metadata": {
    "colab_type": "text",
    "id": "PKMI2IBIBC_m"
   },
   "source": [
    "### $ Underlying~ mathematics $\n",
    "\n",
    "Meanshift is a procedure to locate the maxima of a density function . First , we start with an initial estimate $\\displaystyle x$ . Let a kernel function $\\displaystyle K(x_{i}-x)$   be given. This function determines the weight of nearby points $ x_i$ for re-estimation of the mean. (In the case of visual tracking , \"nearby\" points constitutes all points falling within the target window ).   Typically a Gaussian kernel on the distance to the current estimate is used, $\\displaystyle ie.~ K(x_{i}-x)=e^{-c||x_{i}-x||^{2}}$ . The weighted mean of the density in the window determined by $\\displaystyle K$  is\n",
    "\n",
    "$ \\displaystyle m(x)= \\frac {\\sum _{x_{i}\\in N(x)} K(x_i-x)x_i} {\\sum _{x_{i}\\in N(x)}K(x_i-x)} $ \n",
    "where ${\\displaystyle N(x)}$   is the neighbourhood of $ {\\displaystyle x} $ ,and in our \n",
    "\n",
    "case the set of  points within the target window . \n",
    "\n",
    "The difference $ \\displaystyle m(x) -x $ is called the * mean shift * . The algorithm now sets $ x \\leftarrow m(x) $ and continues till $ m(x) $ converges .\n"
   ]
  },
  {
   "cell_type": "markdown",
   "metadata": {
    "colab_type": "text",
    "id": "gsadKG-YECAK"
   },
   "source": [
    "###$ Intuition $ \n",
    "\n",
    "Consider you have a set of points. (It can be a pixel distribution like\n",
    "histogram backprojection). You are given a small window ( may be a circle) and you have to move that window to the area of maximum pixel density (or maximum number of points). It is illustrated in the simple image given below:  \n",
    "                  ![alt text](https://docs.opencv.org/3.4.0/meanshift_basics.jpg) \n",
    "\n",
    "The initial window is shown in blue circle with the name $ “C1”$. Its original center is marked in blue rectangle, named\n",
    "“C1_o”. But if you find the centroid of the points inside that window, you will get the point “C1_r” (marked in small\n",
    "blue circle) which is the real centroid of window. Surely they don’t match. So move your window such that circle\n",
    "of the new window matches with previous centroid. Again find the new centroid. Most probably, it won’t match. So\n",
    "move it again, and continue the iterations such that center of window and its centroid falls on the same location (or\n",
    "with a small desired error). So finally what you obtain is a window with maximum pixel distribution. It is marked\n",
    "with green circle, named $“C2”$. As you can see in image, it has maximum number of points.\n",
    "\n",
    "Essentially, the working of the function can be summarized as follows : \n",
    "\n",
    "1.We pass the initial location of our target object and the histogram backprojected image to the \n",
    "meanshift function\n",
    "\n",
    "2.As the object moves ,the histogram backprojected image also changes.\n",
    "\n",
    "3.The meanshift function moves the window to the new location with  maximum probability density .\n"
   ]
  },
  {
   "cell_type": "markdown",
   "metadata": {
    "colab_type": "text",
    "id": "dGn9l-ZMGVaY"
   },
   "source": [
    "### $ OpenCV~ Implementation $\n",
    "\n",
    "To use meanshift in OpenCV, first we need to setup the target and find its histogram so that we can backproject the target\n",
    "on each frame for calculation of meanshift. We also need to provide initial location of window. For histogram, only\n",
    "hue is considered here. Also, to avoid false values due to low light, low light values are discarded using $ cv2.inRange() $\n",
    "function. "
   ]
  },
  {
   "cell_type": "code",
   "execution_count": 37,
   "metadata": {
    "colab": {
     "autoexec": {
      "startup": false,
      "wait_interval": 0
     },
     "base_uri": "https://localhost:8080/",
     "height": 98
    },
    "colab_type": "code",
    "executionInfo": {
     "elapsed": 51503,
     "status": "ok",
     "timestamp": 1530033969922,
     "user": {
      "displayName": "Sumanth R Hegde",
      "photoUrl": "https://lh3.googleusercontent.com/a/default-user=s128",
      "userId": "117060964369598678026"
     },
     "user_tz": -330
    },
    "id": "57wxNLLHArBd",
    "outputId": "145cbbeb-3d14-4064-fdea-822b053bfeeb"
   },
   "outputs": [
    {
     "ename": "ModuleNotFoundError",
     "evalue": "No module named 'google.colab'",
     "output_type": "error",
     "traceback": [
      "\u001b[0;31m---------------------------------------------------------------------------\u001b[0m",
      "\u001b[0;31mModuleNotFoundError\u001b[0m                       Traceback (most recent call last)",
      "\u001b[0;32m<ipython-input-37-8425d00cf273>\u001b[0m in \u001b[0;36m<module>\u001b[0;34m()\u001b[0m\n\u001b[0;32m----> 1\u001b[0;31m \u001b[0;32mfrom\u001b[0m \u001b[0mgoogle\u001b[0m\u001b[0;34m.\u001b[0m\u001b[0mcolab\u001b[0m \u001b[0;32mimport\u001b[0m \u001b[0mfiles\u001b[0m\u001b[0;34m\u001b[0m\u001b[0m\n\u001b[0m\u001b[1;32m      2\u001b[0m \u001b[0muploaded\u001b[0m \u001b[0;34m=\u001b[0m \u001b[0mfiles\u001b[0m\u001b[0;34m.\u001b[0m\u001b[0mupload\u001b[0m\u001b[0;34m(\u001b[0m\u001b[0;34m)\u001b[0m\u001b[0;34m\u001b[0m\u001b[0m\n\u001b[1;32m      3\u001b[0m \u001b[0;32mfor\u001b[0m \u001b[0mfn\u001b[0m \u001b[0;32min\u001b[0m \u001b[0muploaded\u001b[0m\u001b[0;34m.\u001b[0m\u001b[0mkeys\u001b[0m\u001b[0;34m(\u001b[0m\u001b[0;34m)\u001b[0m\u001b[0;34m:\u001b[0m\u001b[0;34m\u001b[0m\u001b[0m\n\u001b[1;32m      4\u001b[0m        \u001b[0mprint\u001b[0m\u001b[0;34m(\u001b[0m\u001b[0;34m'User uploaded file \"{name}\" with length {length} bytes'\u001b[0m\u001b[0;34m.\u001b[0m\u001b[0mformat\u001b[0m\u001b[0;34m(\u001b[0m\u001b[0mname\u001b[0m\u001b[0;34m=\u001b[0m\u001b[0mfn\u001b[0m\u001b[0;34m,\u001b[0m \u001b[0mlength\u001b[0m\u001b[0;34m=\u001b[0m\u001b[0mlen\u001b[0m\u001b[0;34m(\u001b[0m\u001b[0muploaded\u001b[0m\u001b[0;34m[\u001b[0m\u001b[0mfn\u001b[0m\u001b[0;34m]\u001b[0m\u001b[0;34m)\u001b[0m\u001b[0;34m)\u001b[0m\u001b[0;34m)\u001b[0m\u001b[0;34m\u001b[0m\u001b[0m\n",
      "\u001b[0;31mModuleNotFoundError\u001b[0m: No module named 'google.colab'"
     ]
    }
   ],
   "source": [
    "from google.colab import files\n",
    "uploaded = files.upload()\n",
    "for fn in uploaded.keys():\n",
    "       print('User uploaded file \"{name}\" with length {length} bytes'.format(name=fn, length=len(uploaded[fn])))\n"
   ]
  },
  {
   "cell_type": "code",
   "execution_count": 38,
   "metadata": {
    "colab": {
     "autoexec": {
      "startup": false,
      "wait_interval": 0
     }
    },
    "colab_type": "code",
    "id": "rb6MTRYBH9q-"
   },
   "outputs": [
    {
     "ename": "error",
     "evalue": "OpenCV(3.4.1) /feedstock_root/build_artefacts/opencv_1520722599420/work/opencv-3.4.1/modules/highgui/src/window.cpp:356: error: (-215) size.width>0 && size.height>0 in function imshow\n",
     "output_type": "error",
     "traceback": [
      "\u001b[0;31m---------------------------------------------------------------------------\u001b[0m",
      "\u001b[0;31merror\u001b[0m                                     Traceback (most recent call last)",
      "\u001b[0;32m<ipython-input-38-9dc76415c64e>\u001b[0m in \u001b[0;36m<module>\u001b[0;34m()\u001b[0m\n\u001b[1;32m      4\u001b[0m \u001b[0;31m# take first frame of the video\u001b[0m\u001b[0;34m\u001b[0m\u001b[0;34m\u001b[0m\u001b[0m\n\u001b[1;32m      5\u001b[0m \u001b[0mret\u001b[0m\u001b[0;34m,\u001b[0m\u001b[0mframe\u001b[0m \u001b[0;34m=\u001b[0m \u001b[0mcap\u001b[0m\u001b[0;34m.\u001b[0m\u001b[0mread\u001b[0m\u001b[0;34m(\u001b[0m\u001b[0;34m)\u001b[0m\u001b[0;34m\u001b[0m\u001b[0m\n\u001b[0;32m----> 6\u001b[0;31m \u001b[0mcv2\u001b[0m\u001b[0;34m.\u001b[0m\u001b[0mimshow\u001b[0m\u001b[0;34m(\u001b[0m\u001b[0;34m'frame'\u001b[0m\u001b[0;34m,\u001b[0m\u001b[0mframe\u001b[0m\u001b[0;34m)\u001b[0m\u001b[0;34m\u001b[0m\u001b[0m\n\u001b[0m\u001b[1;32m      7\u001b[0m \u001b[0mcv2\u001b[0m\u001b[0;34m.\u001b[0m\u001b[0mwaitKey\u001b[0m\u001b[0;34m(\u001b[0m\u001b[0;36m0\u001b[0m\u001b[0;34m)\u001b[0m \u001b[0;34m&\u001b[0m \u001b[0;36m0xFF\u001b[0m\u001b[0;34m\u001b[0m\u001b[0m\n\u001b[1;32m      8\u001b[0m \u001b[0;31m# setup initial location of window\u001b[0m\u001b[0;34m\u001b[0m\u001b[0;34m\u001b[0m\u001b[0m\n",
      "\u001b[0;31merror\u001b[0m: OpenCV(3.4.1) /feedstock_root/build_artefacts/opencv_1520722599420/work/opencv-3.4.1/modules/highgui/src/window.cpp:356: error: (-215) size.width>0 && size.height>0 in function imshow\n"
     ]
    }
   ],
   "source": [
    "import numpy as np\n",
    "import cv2\n",
    "cap = cv2.VideoCapture('slow.flv')\n",
    "# take first frame of the video\n",
    "ret,frame = cap.read()\n",
    "cv2.imshow('frame',frame)\n",
    "cv2.waitKey(0) & 0xFF\n",
    "# setup initial location of window\n",
    "r,h,c,w = 250,90,400,125 # simply hardcoded the values\n",
    "track_window = (c,r,w,h)\n",
    "# set up the ROI for tracking\n",
    "roi = frame[r:r+h, c:c+w]\n",
    "hsv_roi = cv2.cvtColor(frame, cv2.COLOR_BGR2HSV)\n",
    "mask = cv2.inRange(hsv_roi, np.array((0., 60.,32.)), np.array((180.,255.,255.)))\n",
    "roi_hist = cv2.calcHist([hsv_roi],[0],mask,[180],[0,180])\n",
    "cv2.normalize(roi_hist,roi_hist,0,255,cv2.NORM_MINMAX)\n",
    "# Setup the termination criteria, either 10 iteration or move by atleast 1 pt\n",
    "term_crit = ( cv2.TERM_CRITERIA_EPS | cv2.TERM_CRITERIA_COUNT, 10, 1 )\n",
    "while(1):\n",
    "  ret ,frame = cap.read()\n",
    "  if ret == True:\n",
    "    hsv = cv2.cvtColor(frame, cv2.COLOR_BGR2HSV)\n",
    "    dst = cv2.calcBackProject([hsv],[0],roi_hist,[0,180],1)\n",
    "    # apply meanshift to get the new location\n",
    "    ret, track_window = cv2.meanShift(dst, track_window, term_crit)\n",
    "    # Draw it on image\n",
    "    x,y,w,h = track_window\n",
    "    img2 = cv2.rectangle(frame, (x,y), (x+w,y+h), 255,2)\n",
    "    cv2.imshow('img2',img2)\n",
    "    k = cv2.waitKey(60) & 0xff\n",
    "    if k == 27:\n",
    "      break\n",
    "    else:\n",
    "      cv2.imwrite(chr(k)+\".jpg\",img2)\n",
    "  else:\n",
    "    break\n",
    "cv2.destroyAllWindows()\n",
    "cap.release()"
   ]
  },
  {
   "cell_type": "markdown",
   "metadata": {
    "colab_type": "text",
    "id": "vcSmUHBdIoA8"
   },
   "source": [
    "### $ Limitation $ \n",
    "\n",
    "The size of the target window does not change. Thus , when the target object is approaching closer to the camera, the algorithm is unable to track the object  effectively . The target window needs to adapt to the change in size and rotation of the object .  \n"
   ]
  },
  {
   "cell_type": "markdown",
   "metadata": {
    "colab_type": "text",
    "id": "KvextY8wLSU8"
   },
   "source": [
    "\n",
    "## $ CAMshift $\n",
    "\n",
    "Continuously Adaptive Meansift , or CAMshift is an improvement over the mean shift algorithm for better visual tracking. In essence , it performs almost exactly what meanshift does,but returns a resized and rotated target window .\n",
    "\n",
    "\n",
    "\n",
    "### $ What~ does~ it~ do?? $ \n",
    "It applies meanshift first. Once meanshift converges, it updates the size of the window as, $ s=2\\sqrt\\frac{M_{00}}{256}$ ( Here , $M_{oo}$ refers to the probability of finding the object in the window) It also calculates the orientation of best fitting ellipse to it.(This is to obtain the angle at which the target window must be inclined) Again it applies the meanshift with new scaled search window and previous window location. The process is continued until required accuracy is met\n",
    "\n",
    " ![alt text](https://docs.opencv.org/3.4.1/camshift_face.gif)\n",
    "\n"
   ]
  },
  {
   "cell_type": "markdown",
   "metadata": {
    "colab_type": "text",
    "id": "X3uoe-988eTF"
   },
   "source": [
    "### $ Implementation : $\n"
   ]
  },
  {
   "cell_type": "code",
   "execution_count": 0,
   "metadata": {
    "colab": {
     "autoexec": {
      "startup": false,
      "wait_interval": 0
     },
     "base_uri": "https://localhost:8080/",
     "height": 243
    },
    "colab_type": "code",
    "executionInfo": {
     "elapsed": 3050,
     "status": "error",
     "timestamp": 1529932748752,
     "user": {
      "displayName": "Aditya Sundar",
      "photoUrl": "https://lh3.googleusercontent.com/a/default-user=s128",
      "userId": "105414967761026620050"
     },
     "user_tz": -330
    },
    "id": "YbmXraWy74ee",
    "outputId": "ad55f0b0-f57f-43ac-a7d0-00411455aaf2"
   },
   "outputs": [
    {
     "ename": "TypeError",
     "evalue": "ignored",
     "output_type": "error",
     "traceback": [
      "\u001b[0;31m\u001b[0m",
      "\u001b[0;31mTypeError\u001b[0mTraceback (most recent call last)",
      "\u001b[0;32m<ipython-input-1-5be5a3664d94>\u001b[0m in \u001b[0;36m<module>\u001b[0;34m()\u001b[0m\n\u001b[1;32m      8\u001b[0m \u001b[0mtrack_window\u001b[0m \u001b[0;34m=\u001b[0m \u001b[0;34m(\u001b[0m\u001b[0mc\u001b[0m\u001b[0;34m,\u001b[0m\u001b[0mr\u001b[0m\u001b[0;34m,\u001b[0m\u001b[0mw\u001b[0m\u001b[0;34m,\u001b[0m\u001b[0mh\u001b[0m\u001b[0;34m)\u001b[0m\u001b[0;34m\u001b[0m\u001b[0m\n\u001b[1;32m      9\u001b[0m \u001b[0;31m# set up the ROI for tracking\u001b[0m\u001b[0;34m\u001b[0m\u001b[0;34m\u001b[0m\u001b[0m\n\u001b[0;32m---> 10\u001b[0;31m \u001b[0mroi\u001b[0m \u001b[0;34m=\u001b[0m \u001b[0mframe\u001b[0m\u001b[0;34m[\u001b[0m\u001b[0mr\u001b[0m\u001b[0;34m:\u001b[0m\u001b[0mr\u001b[0m\u001b[0;34m+\u001b[0m\u001b[0mh\u001b[0m\u001b[0;34m,\u001b[0m \u001b[0mc\u001b[0m\u001b[0;34m:\u001b[0m\u001b[0mc\u001b[0m\u001b[0;34m+\u001b[0m\u001b[0mw\u001b[0m\u001b[0;34m]\u001b[0m\u001b[0;34m\u001b[0m\u001b[0m\n\u001b[0m\u001b[1;32m     11\u001b[0m \u001b[0mhsv_roi\u001b[0m \u001b[0;34m=\u001b[0m  \u001b[0mcv\u001b[0m\u001b[0;34m.\u001b[0m\u001b[0mcvtColor\u001b[0m\u001b[0;34m(\u001b[0m\u001b[0mroi\u001b[0m\u001b[0;34m,\u001b[0m \u001b[0mcv\u001b[0m\u001b[0;34m.\u001b[0m\u001b[0mCOLOR_BGR2HSV\u001b[0m\u001b[0;34m)\u001b[0m\u001b[0;34m\u001b[0m\u001b[0m\n\u001b[1;32m     12\u001b[0m \u001b[0mmask\u001b[0m \u001b[0;34m=\u001b[0m \u001b[0mcv\u001b[0m\u001b[0;34m.\u001b[0m\u001b[0minRange\u001b[0m\u001b[0;34m(\u001b[0m\u001b[0mhsv_roi\u001b[0m\u001b[0;34m,\u001b[0m \u001b[0mnp\u001b[0m\u001b[0;34m.\u001b[0m\u001b[0marray\u001b[0m\u001b[0;34m(\u001b[0m\u001b[0;34m(\u001b[0m\u001b[0;36m0.\u001b[0m\u001b[0;34m,\u001b[0m \u001b[0;36m60.\u001b[0m\u001b[0;34m,\u001b[0m\u001b[0;36m32.\u001b[0m\u001b[0;34m)\u001b[0m\u001b[0;34m)\u001b[0m\u001b[0;34m,\u001b[0m \u001b[0mnp\u001b[0m\u001b[0;34m.\u001b[0m\u001b[0marray\u001b[0m\u001b[0;34m(\u001b[0m\u001b[0;34m(\u001b[0m\u001b[0;36m180.\u001b[0m\u001b[0;34m,\u001b[0m\u001b[0;36m255.\u001b[0m\u001b[0;34m,\u001b[0m\u001b[0;36m255.\u001b[0m\u001b[0;34m)\u001b[0m\u001b[0;34m)\u001b[0m\u001b[0;34m)\u001b[0m\u001b[0;34m\u001b[0m\u001b[0m\n",
      "\u001b[0;31mTypeError\u001b[0m: 'NoneType' object has no attribute '__getitem__'"
     ]
    }
   ],
   "source": [
    "import numpy as np\n",
    "import cv2 as cv\n",
    "cap = cv.VideoCapture('')\n",
    "# take first frame of the video\n",
    "ret,frame = cap.read()\n",
    "# setup initial location of window\n",
    "r,h,c,w = 250,90,400,125  # simply hardcoded the values\n",
    "track_window = (c,r,w,h)\n",
    "# set up the ROI for tracking\n",
    "roi = frame[r:r+h, c:c+w]\n",
    "hsv_roi =  cv.cvtColor(roi, cv.COLOR_BGR2HSV)\n",
    "mask = cv.inRange(hsv_roi, np.array((0., 60.,32.)), np.array((180.,255.,255.)))\n",
    "roi_hist = cv.calcHist([hsv_roi],[0],mask,[180],[0,180])\n",
    "cv.normalize(roi_hist,roi_hist,0,255,cv.NORM_MINMAX)\n",
    "# Setup the termination criteria, either 10 iteration or move by atleast 1 pt\n",
    "term_crit = ( cv.TERM_CRITERIA_EPS | cv.TERM_CRITERIA_COUNT, 10, 1 )\n",
    "while(1):\n",
    "    ret ,frame = cap.read()\n",
    "    if ret == True:\n",
    "        hsv = cv.cvtColor(frame, cv.COLOR_BGR2HSV)\n",
    "        dst = cv.calcBackProject([hsv],[0],roi_hist,[0,180],1)\n",
    "        # apply meanshift to get the new location\n",
    "        ret, track_window = cv.CamShift(dst, track_window, term_crit)\n",
    "        # Draw it on image\n",
    "        pts = cv.boxPoints(ret)\n",
    "        pts = np.int0(pts)\n",
    "        img2 = cv.polylines(frame,[pts],True, 255,2)\n",
    "        cv.imshow('img2',img2)\n",
    "        k = cv.waitKey(60) & 0xff\n",
    "        if k == 27:\n",
    "            break\n",
    "        else:\n",
    "            cv.imwrite(chr(k)+\".jpg\",img2)\n",
    "    else:\n",
    "        break\n",
    "cv.destroyAllWindows()\n",
    "cap.release()"
   ]
  },
  {
   "cell_type": "markdown",
   "metadata": {
    "colab_type": "text",
    "id": "0_pExgDA75JG"
   },
   "source": []
  },
  {
   "cell_type": "markdown",
   "metadata": {
    "colab_type": "text",
    "id": "7ftOP0VVOQbb"
   },
   "source": [
    "\n",
    "#     Kalman Filters  \n"
   ]
  },
  {
   "cell_type": "markdown",
   "metadata": {
    "colab_type": "text",
    "id": "n-3L5A3ISS8B"
   },
   "source": [
    "Kalman filtering, is an algorithm that uses a series of measurements observed over time, containing **statistical noise** and other inaccuracies, and **produces estimates** of unknown variables that tend to be more accurate than those based on a single measurement alone."
   ]
  },
  {
   "cell_type": "markdown",
   "metadata": {
    "colab_type": "text",
    "id": "iOO7uvVnOKsS"
   },
   "source": [
    "The following code demonstrates tracking of a ball,rolling across the scene with the help of Kalman Filter algorithm used for object tracking"
   ]
  },
  {
   "cell_type": "markdown",
   "metadata": {
    "colab_type": "text",
    "id": "zIm5sLNHSnfA"
   },
   "source": [
    "### One Dimensional Kalman FIlter"
   ]
  },
  {
   "cell_type": "code",
   "execution_count": 39,
   "metadata": {
    "colab": {
     "autoexec": {
      "startup": false,
      "wait_interval": 0
     }
    },
    "colab_type": "code",
    "id": "9aSV8mn0S_qf"
   },
   "outputs": [],
   "source": [
    "from matplotlib import pyplot as plt\n",
    "% matplotlib inline\n",
    "import numpy as np"
   ]
  },
  {
   "cell_type": "markdown",
   "metadata": {
    "colab_type": "text",
    "id": "WnHkgXjbSnjE"
   },
   "source": [
    "Let us write a code for the one-dimensional Kalman filters first.\n",
    "Consider the case in which we measure the temperature from a errory thermometer.\n",
    "\n",
    "The following are the measurements taken from the errory thermometer at different times , also we assume that we know that the actual temperature is 45 degrees. "
   ]
  },
  {
   "cell_type": "code",
   "execution_count": 40,
   "metadata": {
    "colab": {
     "autoexec": {
      "startup": false,
      "wait_interval": 0
     }
    },
    "colab_type": "code",
    "id": "9DfMo41NS8dF"
   },
   "outputs": [],
   "source": [
    "measurement = [45,48,49,41,42,60,46,47,42,46,47,41,40,43,45,46,43,45,46,41,39,45,48,42,43,44,45,46,47,42,40,41,41,61,45,45,43,42,42,40]\n",
    "actual = 45"
   ]
  },
  {
   "cell_type": "markdown",
   "metadata": {
    "colab_type": "text",
    "id": "I494-4kmUpCY"
   },
   "source": [
    "Let us plot these measurements using matplotlib"
   ]
  },
  {
   "cell_type": "code",
   "execution_count": 41,
   "metadata": {
    "colab": {
     "autoexec": {
      "startup": false,
      "wait_interval": 0
     },
     "base_uri": "https://localhost:8080/",
     "height": 470
    },
    "colab_type": "code",
    "executionInfo": {
     "elapsed": 1383,
     "status": "ok",
     "timestamp": 1530859292403,
     "user": {
      "displayName": "Ayush Parasbhai Maniar ee17b041",
      "photoUrl": "https://lh3.googleusercontent.com/a/default-user=s128",
      "userId": "111481310394302099600"
     },
     "user_tz": -330
    },
    "id": "dtx7sX3HUtxE",
    "outputId": "cc0ca7c2-3b72-49c7-a520-afdba271f985"
   },
   "outputs": [
    {
     "name": "stderr",
     "output_type": "stream",
     "text": [
      "/opt/anaconda3/lib/python3.6/site-packages/ipykernel_launcher.py:8: MatplotlibDeprecationWarning: pyplot.hold is deprecated.\n",
      "    Future behavior will be consistent with the long-time default:\n",
      "    plot commands add elements without first clearing the\n",
      "    Axes and/or Figure.\n",
      "  \n",
      "/opt/anaconda3/lib/python3.6/site-packages/matplotlib/__init__.py:805: MatplotlibDeprecationWarning: axes.hold is deprecated. Please remove it from your matplotlibrc and/or style files.\n",
      "  mplDeprecation)\n",
      "/opt/anaconda3/lib/python3.6/site-packages/matplotlib/rcsetup.py:155: MatplotlibDeprecationWarning: axes.hold is deprecated, will be removed in 3.0\n",
      "  mplDeprecation)\n"
     ]
    },
    {
     "data": {
      "image/png": "[encoded data removed]",
      "text/plain": [
       "<matplotlib.figure.Figure at 0x7f9b70381518>"
      ]
     },
     "metadata": {},
     "output_type": "display_data"
    }
   ],
   "source": [
    "plt.title('Noisy Measurements and actual measurements')\n",
    "plt.ylabel('Temperature in degree celsius')\n",
    "plt.xlabel('Time')\n",
    "plt.rcParams['figure.figsize'] = (10.0, 6.0) # set default size of plots\n",
    "plt.rcParams['image.interpolation'] = 'nearest'\n",
    "plt.rcParams['image.cmap'] = 'gray'\n",
    "plt.plot(measurement,label = 'Measurements from the thermometer')\n",
    "plt.hold(True)\n",
    "plt.axhline(y=actual, color='r', linestyle='-',label = 'Actual Temperature')\n",
    "plt.axis([0,len(measurement)-1,0,90])\n",
    "plt.legend()\n",
    "plt.show()"
   ]
  },
  {
   "cell_type": "markdown",
   "metadata": {
    "colab_type": "text",
    "id": "UXvVhXNvUzKe"
   },
   "source": [
    "Now let's run the code for the Kalman Filtering process."
   ]
  },
  {
   "cell_type": "code",
   "execution_count": 42,
   "metadata": {
    "colab": {
     "autoexec": {
      "startup": false,
      "wait_interval": 0
     }
    },
    "colab_type": "code",
    "id": "NpGEgBM7VHFb"
   },
   "outputs": [],
   "source": [
    "initial_estimate = 60 # actually this can be anything \n",
    "initial_error_estimate = 2\n",
    "error_in_measurement = 4\n",
    "current_estimate = initial_estimate\n",
    "current_error_estimate = initial_error_estimate\n",
    "kalman_output_list = []\n",
    "kalman_output_list.append(initial_estimate)\n",
    "for i in range(len(measurement)):\n",
    "    \n",
    "    \n",
    "    ####################################\n",
    "    # Step 1 , calculate the Kalman Gain.\n",
    "    kalman_gain = (current_error_estimate)/(current_error_estimate + error_in_measurement)\n",
    "    \n",
    "    \n",
    "    ####################################\n",
    "    # Step 2 , calculate the estimate at time 't' from the measurement and estimate at time 't-1'\n",
    "    kalman_output = (  current_estimate + (kalman_gain)*(measurement[i] - current_estimate)  )\n",
    "    kalman_output_list.append(kalman_output)\n",
    "    \n",
    "    \n",
    "    ####################################\n",
    "    # Step 3 , calculate the error estimate at time 't'\n",
    "    new_error_estimate = (1-kalman_gain)*(current_error_estimate)\n",
    "    \n",
    "    \n",
    "    ##############################################\n",
    "    # make the previous variables the current variables for the next iteration\n",
    "    current_estimate = kalman_output\n",
    "    current_error_estimate = new_error_estimate\n",
    "    ##############################################"
   ]
  },
  {
   "cell_type": "markdown",
   "metadata": {
    "colab_type": "text",
    "id": "8BYajuxNVLUW"
   },
   "source": [
    "Now we have the Kalman Filters output with us.\n",
    "\n",
    "Lets finally plot them and check our results."
   ]
  },
  {
   "cell_type": "code",
   "execution_count": 43,
   "metadata": {
    "colab": {
     "autoexec": {
      "startup": false,
      "wait_interval": 0
     },
     "base_uri": "https://localhost:8080/",
     "height": 490
    },
    "colab_type": "code",
    "executionInfo": {
     "elapsed": 1480,
     "status": "ok",
     "timestamp": 1530859521529,
     "user": {
      "displayName": "Ayush Parasbhai Maniar ee17b041",
      "photoUrl": "https://lh3.googleusercontent.com/a/default-user=s128",
      "userId": "111481310394302099600"
     },
     "user_tz": -330
    },
    "id": "vUOTcLjWVXWV",
    "outputId": "ed363fc7-b193-4f75-d1d2-0d940bc75b50"
   },
   "outputs": [
    {
     "name": "stderr",
     "output_type": "stream",
     "text": [
      "/opt/anaconda3/lib/python3.6/site-packages/ipykernel_launcher.py:6: MatplotlibDeprecationWarning: pyplot.hold is deprecated.\n",
      "    Future behavior will be consistent with the long-time default:\n",
      "    plot commands add elements without first clearing the\n",
      "    Axes and/or Figure.\n",
      "  \n",
      "/opt/anaconda3/lib/python3.6/site-packages/matplotlib/__init__.py:805: MatplotlibDeprecationWarning: axes.hold is deprecated. Please remove it from your matplotlibrc and/or style files.\n",
      "  mplDeprecation)\n",
      "/opt/anaconda3/lib/python3.6/site-packages/matplotlib/rcsetup.py:155: MatplotlibDeprecationWarning: axes.hold is deprecated, will be removed in 3.0\n",
      "  mplDeprecation)\n"
     ]
    },
    {
     "data": {
      "image/png": "[encoded data removed]",
      "text/plain": [
       "<matplotlib.figure.Figure at 0x7f9b70381400>"
      ]
     },
     "metadata": {},
     "output_type": "display_data"
    }
   ],
   "source": [
    "plt.title('One Dimensional Kalman Filter Output')\n",
    "plt.xlabel('Time')\n",
    "plt.ylabel('Temperature in degrees')\n",
    "plt.plot(measurement,label = 'Measuerements from the thermometer')\n",
    "plt.axhline(y=actual, color='r', linestyle='-',label = 'Actual Temparature')\n",
    "plt.hold(True)\n",
    "plt.plot(kalman_output_list,'-g',label = 'kalman output')\n",
    "plt.axis([0,len(measurement)-1,0,110])\n",
    "plt.legend()\n",
    "plt.show()"
   ]
  },
  {
   "cell_type": "markdown",
   "metadata": {},
   "source": [
    "Now Lets go to the multi-dimensional Kalman Filtering case ,which we will use to track the objects."
   ]
  },
  {
   "cell_type": "markdown",
   "metadata": {
    "colab_type": "text",
    "id": "Qzw5T2IIPuNA"
   },
   "source": [
    "![alt text](https://www.hdm-stuttgart.de/~maucher/Python/ComputerVision/html/_images/balltracking.png)"
   ]
  },
  {
   "cell_type": "markdown",
   "metadata": {
    "colab_type": "text",
    "id": "puagwHQrPuy3"
   },
   "source": [
    "### Here are the required imports"
   ]
  },
  {
   "cell_type": "code",
   "execution_count": 67,
   "metadata": {
    "colab": {
     "autoexec": {
      "startup": false,
      "wait_interval": 0
     }
    },
    "colab_type": "code",
    "id": "CRtxYweKP5H8"
   },
   "outputs": [],
   "source": [
    "import matplotlib.pyplot as plt\n",
    "import sys\n",
    "import math\n",
    "import cv2\n",
    "import numpy as np"
   ]
  },
  {
   "cell_type": "markdown",
   "metadata": {
    "colab_type": "text",
    "id": "gn-pylIPCQp6"
   },
   "source": [
    "### Note : Please download the video from this link since we will be using it for our code , also ensure that it is in the same directory as this notebook\n",
    "The video, which contains the tracking scenario is singleball.mov. This file is imported using opencv’s VideoCapture class.\n",
    "You can use this link for downloading the video !!!!!\n",
    "\n",
    "https://www.hdm-stuttgart.de/~maucher/Python/ComputerVision/html/files/singleball.mov"
   ]
  },
  {
   "cell_type": "markdown",
   "metadata": {
    "colab_type": "text",
    "id": "FXbRoErXQRwU"
   },
   "source": [
    " Let us see the video first \n"
   ]
  },
  {
   "cell_type": "code",
   "execution_count": 68,
   "metadata": {
    "colab": {
     "autoexec": {
      "startup": false,
      "wait_interval": 0
     },
     "base_uri": "https://localhost:8080/",
     "height": 204
    },
    "colab_type": "code",
    "executionInfo": {
     "elapsed": 2589,
     "status": "ok",
     "timestamp": 1530638300416,
     "user": {
      "displayName": "Sumanth R Hegde",
      "photoUrl": "https://lh3.googleusercontent.com/a/default-user=s128",
      "userId": "117060964369598678026"
     },
     "user_tz": -330
    },
    "id": "yBZbVKVQpn-S",
    "outputId": "59b89ccd-f431-44ee-f55e-3336e8c798da",
    "scrolled": true
   },
   "outputs": [
    {
     "name": "stdout",
     "output_type": "stream",
     "text": [
      "--2018-07-06 12:28:19--  https://www.hdm-stuttgart.de/~maucher/Python/ComputerVision/html/files/singleball.mov\n",
      "Resolving www.hdm-stuttgart.de (www.hdm-stuttgart.de)... 141.62.1.53, 141.62.1.59, 64:ff9b::8d3e:135, ...\n",
      "Connecting to www.hdm-stuttgart.de (www.hdm-stuttgart.de)|141.62.1.53|:443... connected.\n",
      "HTTP request sent, awaiting response... 200 OK\n",
      "Length: 5191 (5.1K) [video/quicktime]\n",
      "Saving to: ‘singleball.mov.5’\n",
      "\n",
      "singleball.mov.5    100%[===================>]   5.07K  --.-KB/s    in 0.008s  \n",
      "\n",
      "2018-07-06 12:28:20 (603 KB/s) - ‘singleball.mov.5’ saved [5191/5191]\n",
      "\n"
     ]
    }
   ],
   "source": [
    "! wget https://www.hdm-stuttgart.de/~maucher/Python/ComputerVision/html/files/singleball.mov"
   ]
  },
  {
   "cell_type": "code",
   "execution_count": 69,
   "metadata": {
    "colab": {
     "autoexec": {
      "startup": false,
      "wait_interval": 0
     }
    },
    "colab_type": "code",
    "id": "1i5pJvsnQa4A"
   },
   "outputs": [
    {
     "name": "stdout",
     "output_type": "stream",
     "text": [
      " Number of Frames in the video:  45.0\n"
     ]
    }
   ],
   "source": [
    "import cv2\n",
    "import matplotlib.pyplot as plt \n",
    "file = \"singleball.mov\"\n",
    "cap = cv2.VideoCapture(file)\n",
    "ret = True\n",
    "while(ret):\n",
    "    ret,frame = cap.read()\n",
    "    if(ret == True):\n",
    "        cv2.imshow(\"Original Video\",frame)\n",
    "        cv2.waitKey(100)    ## The next frame will be ahown after 100 milliseconds\n",
    "    else:\n",
    "        break\n",
    "cv2.destroyAllWindows()\n",
    "numframes=cap.get(7)\n",
    "print (\" Number of Frames in the video: \",numframes) ## It should print 45"
   ]
  },
  {
   "cell_type": "markdown",
   "metadata": {
    "colab_type": "text",
    "id": "INv7b04FUok0"
   },
   "source": [
    "### A matplotlib figure is initialized. Within the following loop for each frame the location of the detected object will be plotted into this figure:"
   ]
  },
  {
   "cell_type": "code",
   "execution_count": 70,
   "metadata": {
    "colab": {
     "autoexec": {
      "startup": false,
      "wait_interval": 0
     },
     "base_uri": "https://localhost:8080/",
     "height": 201
    },
    "colab_type": "code",
    "executionInfo": {
     "elapsed": 1838,
     "status": "error",
     "timestamp": 1530379311127,
     "user": {
      "displayName": "Ayush Parasbhai Maniar ee17b041",
      "photoUrl": "https://lh3.googleusercontent.com/a/default-user=s128",
      "userId": "111481310394302099600"
     },
     "user_tz": -330
    },
    "id": "rJmN2sVtUtFT",
    "outputId": "2e763d54-dcb2-4165-88ce-4b06708e9572"
   },
   "outputs": [
    {
     "name": "stderr",
     "output_type": "stream",
     "text": [
      "/opt/anaconda3/lib/python3.6/site-packages/ipykernel_launcher.py:2: MatplotlibDeprecationWarning: pyplot.hold is deprecated.\n",
      "    Future behavior will be consistent with the long-time default:\n",
      "    plot commands add elements without first clearing the\n",
      "    Axes and/or Figure.\n",
      "  \n",
      "/opt/anaconda3/lib/python3.6/site-packages/matplotlib/__init__.py:805: MatplotlibDeprecationWarning: axes.hold is deprecated. Please remove it from your matplotlibrc and/or style files.\n",
      "  mplDeprecation)\n",
      "/opt/anaconda3/lib/python3.6/site-packages/matplotlib/rcsetup.py:155: MatplotlibDeprecationWarning: axes.hold is deprecated, will be removed in 3.0\n",
      "  mplDeprecation)\n"
     ]
    },
    {
     "data": {
      "text/plain": [
       "[0, 480.0, 360.0, 0]"
      ]
     },
     "execution_count": 70,
     "metadata": {},
     "output_type": "execute_result"
    },
    {
     "data": {
      "image/png": "[encoded data removed]",
      "text/plain": [
       "<matplotlib.figure.Figure at 0x7f9b8005bd68>"
      ]
     },
     "metadata": {},
     "output_type": "display_data"
    }
   ],
   "source": [
    "plt.figure()\n",
    "plt.hold(True)\n",
    "plt.axis([0,cap.get(3),cap.get(4),0])"
   ]
  },
  {
   "cell_type": "markdown",
   "metadata": {
    "colab_type": "text",
    "id": "oACRBj5SU3O-"
   },
   "source": [
    " The following loop iterates over all frames of the video sequence.\n",
    " \n",
    " Each frame is plotted to the opencv figure video. Then the apply()-method of the background subtractor instance is called, this method returns a foreground mask for the current frame.\n",
    " \n",
    " By applying a threshold to the foreground mask it is converted into a binary image, containing 1 at all pixels which belong to the foreground and 0 at all pixels belonging to background. An area of connected foreground pixels is a foreground object.\n",
    "\n",
    " The contours of foreground objects can be determined by applying opencv’s findContours() function. In general there can exist more than one foreground objects and corresponding contours in a frame. "
   ]
  },
  {
   "cell_type": "code",
   "execution_count": 71,
   "metadata": {
    "colab": {
     "autoexec": {
      "startup": false,
      "wait_interval": 0
     },
     "base_uri": "https://localhost:8080/",
     "height": 236
    },
    "colab_type": "code",
    "executionInfo": {
     "elapsed": 1163,
     "status": "error",
     "timestamp": 1530379313860,
     "user": {
      "displayName": "Ayush Parasbhai Maniar ee17b041",
      "photoUrl": "https://lh3.googleusercontent.com/a/default-user=s128",
      "userId": "111481310394302099600"
     },
     "user_tz": -330
    },
    "id": "Cju8RYuIUwTc",
    "outputId": "eedd2bde-03a4-45db-896f-7adbbd4313c8"
   },
   "outputs": [
    {
     "name": "stdout",
     "output_type": "stream",
     "text": [
      "[[ -1.          -1.        ]\n",
      " [ -1.          -1.        ]\n",
      " [ -1.          -1.        ]\n",
      " [ -1.          -1.        ]\n",
      " [ -1.          -1.        ]\n",
      " [ -1.          -1.        ]\n",
      " [ -1.          -1.        ]\n",
      " [ -1.          -1.        ]\n",
      " [ -1.          -1.        ]\n",
      " [ -1.          -1.        ]\n",
      " [ -1.          -1.        ]\n",
      " [ -1.          -1.        ]\n",
      " [ 13.375      273.0625    ]\n",
      " [ 33.15625    267.125     ]\n",
      " [ 60.04347826 264.47826087]\n",
      " [ 84.48571429 263.22857143]\n",
      " [108.59375    259.3125    ]\n",
      " [128.03030303 255.3030303 ]\n",
      " [157.3125     255.9375    ]\n",
      " [169.75       254.91666667]\n",
      " [192.20588235 255.11764706]\n",
      " [210.19354839 250.96774194]\n",
      " [229.55       246.25      ]\n",
      " [253.45833333 245.58333333]\n",
      " [266.87096774 247.87096774]\n",
      " [283.         246.9375    ]\n",
      " [ -1.          -1.        ]\n",
      " [ -1.          -1.        ]\n",
      " [ -1.          -1.        ]\n",
      " [ -1.          -1.        ]\n",
      " [ -1.          -1.        ]\n",
      " [ -1.          -1.        ]\n",
      " [ -1.          -1.        ]\n",
      " [400.17948718 246.66666667]\n",
      " [409.9        245.4       ]\n",
      " [421.89655172 243.65517241]\n",
      " [425.86792453 243.18867925]\n",
      " [436.95081967 244.45901639]\n",
      " [447.8        246.43333333]\n",
      " [460.43333333 249.26666667]\n",
      " [464.46153846 246.61538462]\n",
      " [474.0625     251.375     ]\n",
      " [ -1.          -1.        ]\n",
      " [ -1.          -1.        ]\n",
      " [ -1.          -1.        ]]\n"
     ]
    },
    {
     "data": {
      "image/png": "[encoded data removed]",
      "text/plain": [
       "<matplotlib.figure.Figure at 0x7f9b70c04a90>"
      ]
     },
     "metadata": {},
     "output_type": "display_data"
    }
   ],
   "source": [
    "count = 0\n",
    "cap = cv2.VideoCapture(file)\n",
    "bgs = cv2.createBackgroundSubtractorMOG2()\n",
    "# Let us make an array for storing the values of (x,y) co-ordinates of the ball\n",
    "# If the ball is not visible in the frame then keep that row as [-1.0,-1.0]\n",
    "# Thus lets initialize the array with rows of [-1.0 , -1.0]\n",
    "measuredTrack=np.zeros((int(numframes),2))-1\n",
    "while count<(numframes):\n",
    "    count+=1\n",
    "    ret,img2 = cap.read()\n",
    "    cv2.imshow(\"Video\",img2)\n",
    "    cv2.namedWindow(\"Video\",cv2.WINDOW_NORMAL)\n",
    "    foremat=bgs.apply(img2,learningRate = 0.01)\n",
    "    cv2.waitKey(20)\n",
    "    ret,thresh = cv2.threshold(foremat,220,255,0)\n",
    "    im2 , contours, hierarchy = cv2.findContours(thresh,cv2.RETR_TREE,cv2.CHAIN_APPROX_SIMPLE)\n",
    "    #print(len(contours))  ## This prints the number of contours (foreground objects detected)\n",
    "    if len(contours) > 0:\n",
    "        for i in range(len(contours)):\n",
    "            area = cv2.contourArea(contours[i])  ## Calculates the Area of contours\n",
    "            if area > 100: ## We check this because the area of the ball is bigger than 100 and we want to plot that only\n",
    "                m= np.mean(contours[i],axis=0) ### mean is taken for finding the centre of the contour (ball in this case)\n",
    "                measuredTrack[count-1,:]=m[0] \n",
    "                plt.plot(m[0,0],m[0,1],'xr')\n",
    "    cv2.imshow('Foreground',foremat)\n",
    "    cv2.namedWindow(\"Foreground\",cv2.WINDOW_NORMAL)\n",
    "    cv2.waitKey(80)\n",
    "cap.release()\n",
    "cv2.destroyAllWindows()\n",
    "print(measuredTrack)\n",
    "### save the trajectory of the ball in a numpy file , so that it can be used\n",
    "### later to be passed as an input to the Kalman Filter process.\n",
    "np.save(\"ballTrajectory\", measuredTrack)\n",
    "plt.axis((0,480,360,0))\n",
    "plt.show()"
   ]
  },
  {
   "cell_type": "markdown",
   "metadata": {
    "colab_type": "text",
    "id": "UmN4-_h0WDcO"
   },
   "source": [
    "## Explaination of the above code :\n",
    "1)      The centroid of the contour is assumed to be the location of the foreground object.\n",
    "\n",
    " 2)      This location is tracked for each frame. The location is plotted into the matplotlib figure.\n",
    " \n",
    "3)      Moreover, for each frame the location of the tracked object is stored in the numpy array measuredTrack. \n",
    "\n",
    " 4)      Finally the numpy array measuredTrack is stored to a file. The contents of this file (i.e. the measured track) constitute the input for the Kalman Filter. The Kalman Filter is implemented in another python module (see Kalman Filter ) and provides a more accurate track of the moving object.:"
   ]
  },
  {
   "cell_type": "markdown",
   "metadata": {
    "colab_type": "text",
    "id": "tKvaMjPUWLiK"
   },
   "source": [
    "#### The track measured above shall be refined by Kalman filtering. \n",
    " Even though a Kalman Filter is implemented in opencv, we apply the Kalman Filter module pykalman due to its better documentation.\n",
    "\n",
    "So lets install pykalman first."
   ]
  },
  {
   "cell_type": "code",
   "execution_count": 72,
   "metadata": {
    "colab": {
     "autoexec": {
      "startup": false,
      "wait_interval": 0
     },
     "base_uri": "https://localhost:8080/",
     "height": 193
    },
    "colab_type": "code",
    "executionInfo": {
     "elapsed": 3973,
     "status": "ok",
     "timestamp": 1529047746810,
     "user": {
      "displayName": "Ayush Parasbhai Maniar ee17b041",
      "photoUrl": "https://lh3.googleusercontent.com/a/default-user=s128",
      "userId": "111481310394302099600"
     },
     "user_tz": -330
    },
    "id": "MPHkChruWEUU",
    "outputId": "b688d7b1-a61d-45e7-d3f6-061413b25b49"
   },
   "outputs": [
    {
     "name": "stdout",
     "output_type": "stream",
     "text": [
      "Requirement already satisfied: pykalman in /opt/anaconda3/lib/python3.6/site-packages\n",
      "\u001b[33mYou are using pip version 9.0.1, however version 10.0.1 is available.\n",
      "You should consider upgrading via the 'pip install --upgrade pip' command.\u001b[0m\n"
     ]
    }
   ],
   "source": [
    "! pip install pykalman"
   ]
  },
  {
   "cell_type": "markdown",
   "metadata": {
    "colab_type": "text",
    "id": "j1YEr_R1WU89"
   },
   "source": [
    "###  Import the\"KalmanFilter\" library from this amazing module "
   ]
  },
  {
   "cell_type": "code",
   "execution_count": 73,
   "metadata": {
    "colab": {
     "autoexec": {
      "startup": false,
      "wait_interval": 0
     }
    },
    "colab_type": "code",
    "id": "sdnz_1Y8WPfl"
   },
   "outputs": [],
   "source": [
    "from pykalman import KalmanFilter"
   ]
  },
  {
   "cell_type": "markdown",
   "metadata": {
    "colab_type": "text",
    "id": "nJAF4AKkWcwN"
   },
   "source": [
    "### Load the saved \"ballTrajectory.npy\" file "
   ]
  },
  {
   "cell_type": "code",
   "execution_count": 74,
   "metadata": {
    "colab": {
     "autoexec": {
      "startup": false,
      "wait_interval": 0
     }
    },
    "colab_type": "code",
    "id": "wpAOS5G7WYU9"
   },
   "outputs": [],
   "source": [
    "Measured = np.load(\"ballTrajectory.npy\")"
   ]
  },
  {
   "cell_type": "code",
   "execution_count": 75,
   "metadata": {
    "colab": {
     "autoexec": {
      "startup": false,
      "wait_interval": 0
     },
     "base_uri": "https://localhost:8080/",
     "height": 34
    },
    "colab_type": "code",
    "executionInfo": {
     "elapsed": 1561,
     "status": "ok",
     "timestamp": 1529047821010,
     "user": {
      "displayName": "Ayush Parasbhai Maniar ee17b041",
      "photoUrl": "https://lh3.googleusercontent.com/a/default-user=s128",
      "userId": "111481310394302099600"
     },
     "user_tz": -330
    },
    "id": "KsomGYFcWfgo",
    "outputId": "bcb6e62d-9424-4e54-d07f-9447a5e081e9"
   },
   "outputs": [
    {
     "data": {
      "text/plain": [
       "(45, 2)"
      ]
     },
     "execution_count": 75,
     "metadata": {},
     "output_type": "execute_result"
    }
   ],
   "source": [
    "Measured.shape  ## It should print (number of frames , 2)"
   ]
  },
  {
   "cell_type": "code",
   "execution_count": 76,
   "metadata": {
    "colab": {
     "autoexec": {
      "startup": false,
      "wait_interval": 0
     },
     "base_uri": "https://localhost:8080/",
     "height": 34
    },
    "colab_type": "code",
    "executionInfo": {
     "elapsed": 1136,
     "status": "ok",
     "timestamp": 1529047857043,
     "user": {
      "displayName": "Ayush Parasbhai Maniar ee17b041",
      "photoUrl": "https://lh3.googleusercontent.com/a/default-user=s128",
      "userId": "111481310394302099600"
     },
     "user_tz": -330
    },
    "id": "D-0OyCXjWiMy",
    "outputId": "6ea7edf1-2718-44d4-b01b-4cbf1a227f5c"
   },
   "outputs": [
    {
     "data": {
      "text/plain": [
       "array([[ -1.        ,  -1.        ],\n",
       "       [ -1.        ,  -1.        ],\n",
       "       [ -1.        ,  -1.        ],\n",
       "       [ -1.        ,  -1.        ],\n",
       "       [ -1.        ,  -1.        ],\n",
       "       [ -1.        ,  -1.        ],\n",
       "       [ -1.        ,  -1.        ],\n",
       "       [ -1.        ,  -1.        ],\n",
       "       [ -1.        ,  -1.        ],\n",
       "       [ -1.        ,  -1.        ],\n",
       "       [ -1.        ,  -1.        ],\n",
       "       [ -1.        ,  -1.        ],\n",
       "       [ 13.375     , 273.0625    ],\n",
       "       [ 33.15625   , 267.125     ],\n",
       "       [ 60.04347826, 264.47826087],\n",
       "       [ 84.48571429, 263.22857143],\n",
       "       [108.59375   , 259.3125    ],\n",
       "       [128.03030303, 255.3030303 ],\n",
       "       [157.3125    , 255.9375    ],\n",
       "       [169.75      , 254.91666667],\n",
       "       [192.20588235, 255.11764706],\n",
       "       [210.19354839, 250.96774194],\n",
       "       [229.55      , 246.25      ],\n",
       "       [253.45833333, 245.58333333],\n",
       "       [266.87096774, 247.87096774],\n",
       "       [283.        , 246.9375    ],\n",
       "       [ -1.        ,  -1.        ],\n",
       "       [ -1.        ,  -1.        ],\n",
       "       [ -1.        ,  -1.        ],\n",
       "       [ -1.        ,  -1.        ],\n",
       "       [ -1.        ,  -1.        ],\n",
       "       [ -1.        ,  -1.        ],\n",
       "       [ -1.        ,  -1.        ],\n",
       "       [400.17948718, 246.66666667],\n",
       "       [409.9       , 245.4       ],\n",
       "       [421.89655172, 243.65517241],\n",
       "       [425.86792453, 243.18867925],\n",
       "       [436.95081967, 244.45901639],\n",
       "       [447.8       , 246.43333333],\n",
       "       [460.43333333, 249.26666667],\n",
       "       [464.46153846, 246.61538462],\n",
       "       [474.0625    , 251.375     ],\n",
       "       [ -1.        ,  -1.        ],\n",
       "       [ -1.        ,  -1.        ],\n",
       "       [ -1.        ,  -1.        ]])"
      ]
     },
     "execution_count": 76,
     "metadata": {},
     "output_type": "execute_result"
    }
   ],
   "source": [
    "Measured"
   ]
  },
  {
   "cell_type": "markdown",
   "metadata": {
    "colab_type": "text",
    "id": "cPlhIreOWv3B"
   },
   "source": [
    "### Remove the First part of the video from the Measured array when the ball was not there in the video.\n",
    "### So we need to remove all the rows of [ -1.0,-1.0 ] untill the first measurement is recorded (the time when the ball enters the video)\n",
    "### If you noticed closely the ball enters in the video sometime after the video starts"
   ]
  },
  {
   "cell_type": "code",
   "execution_count": 77,
   "metadata": {
    "colab": {
     "autoexec": {
      "startup": false,
      "wait_interval": 0
     },
     "base_uri": "https://localhost:8080/",
     "height": 236
    },
    "colab_type": "code",
    "executionInfo": {
     "elapsed": 1158,
     "status": "error",
     "timestamp": 1529047890443,
     "user": {
      "displayName": "Ayush Parasbhai Maniar ee17b041",
      "photoUrl": "https://lh3.googleusercontent.com/a/default-user=s128",
      "userId": "111481310394302099600"
     },
     "user_tz": -330
    },
    "id": "kmb9Axt8WrGe",
    "outputId": "10730e9d-a6ac-446a-903c-8f821c4355be"
   },
   "outputs": [],
   "source": [
    "while True:\n",
    "   if Measured[0,0]==-1.:\n",
    "       Measured=np.delete(Measured,0,0)\n",
    "   else:\n",
    "       break\n",
    "numMeas=Measured.shape[0]"
   ]
  },
  {
   "cell_type": "code",
   "execution_count": 78,
   "metadata": {
    "colab": {
     "autoexec": {
      "startup": false,
      "wait_interval": 0
     },
     "base_uri": "https://localhost:8080/",
     "height": 34
    },
    "colab_type": "code",
    "executionInfo": {
     "elapsed": 1737,
     "status": "ok",
     "timestamp": 1529047902119,
     "user": {
      "displayName": "Ayush Parasbhai Maniar ee17b041",
      "photoUrl": "https://lh3.googleusercontent.com/a/default-user=s128",
      "userId": "111481310394302099600"
     },
     "user_tz": -330
    },
    "id": "h56Z_uOuWzP-",
    "outputId": "845d9b6f-0fde-4eb2-f58f-6448f319f0ac"
   },
   "outputs": [
    {
     "data": {
      "text/plain": [
       "array([[ 13.375     , 273.0625    ],\n",
       "       [ 33.15625   , 267.125     ],\n",
       "       [ 60.04347826, 264.47826087],\n",
       "       [ 84.48571429, 263.22857143],\n",
       "       [108.59375   , 259.3125    ],\n",
       "       [128.03030303, 255.3030303 ],\n",
       "       [157.3125    , 255.9375    ],\n",
       "       [169.75      , 254.91666667],\n",
       "       [192.20588235, 255.11764706],\n",
       "       [210.19354839, 250.96774194],\n",
       "       [229.55      , 246.25      ],\n",
       "       [253.45833333, 245.58333333],\n",
       "       [266.87096774, 247.87096774],\n",
       "       [283.        , 246.9375    ],\n",
       "       [ -1.        ,  -1.        ],\n",
       "       [ -1.        ,  -1.        ],\n",
       "       [ -1.        ,  -1.        ],\n",
       "       [ -1.        ,  -1.        ],\n",
       "       [ -1.        ,  -1.        ],\n",
       "       [ -1.        ,  -1.        ],\n",
       "       [ -1.        ,  -1.        ],\n",
       "       [400.17948718, 246.66666667],\n",
       "       [409.9       , 245.4       ],\n",
       "       [421.89655172, 243.65517241],\n",
       "       [425.86792453, 243.18867925],\n",
       "       [436.95081967, 244.45901639],\n",
       "       [447.8       , 246.43333333],\n",
       "       [460.43333333, 249.26666667],\n",
       "       [464.46153846, 246.61538462],\n",
       "       [474.0625    , 251.375     ],\n",
       "       [ -1.        ,  -1.        ],\n",
       "       [ -1.        ,  -1.        ],\n",
       "       [ -1.        ,  -1.        ]])"
      ]
     },
     "execution_count": 78,
     "metadata": {},
     "output_type": "execute_result"
    }
   ],
   "source": [
    "Measured"
   ]
  },
  {
   "cell_type": "markdown",
   "metadata": {
    "colab_type": "text",
    "id": "N_O12T_SW6Wd"
   },
   "source": [
    "### However as you can clearly see there are some parts of this array still have the  [-1.0 , -1.0] rows left\n",
    "### These indicate the parts of the video where the ball was inside the box and also the parts of the video after the ball is gone completely out of the vision"
   ]
  },
  {
   "cell_type": "markdown",
   "metadata": {
    "colab_type": "text",
    "id": "EfWnUw73W7LZ"
   },
   "source": [
    "### By applying Numpy Masked Arrays these positions without measurement can be particullarly marked and the following Kalman Filter module is able to interprete these positions as missing-measurement position.:\n",
    "### Thus at these positions we can use the help of the Kalman FIlter algorithm to predict the position of the ball even when it is behind the box or even out of the video completely !!!!"
   ]
  },
  {
   "cell_type": "code",
   "execution_count": 79,
   "metadata": {
    "colab": {
     "autoexec": {
      "startup": false,
      "wait_interval": 0
     }
    },
    "colab_type": "code",
    "id": "vB6hjpkGW2AK"
   },
   "outputs": [],
   "source": [
    "MarkedMeasure=np.ma.masked_less(Measured,0)"
   ]
  },
  {
   "cell_type": "code",
   "execution_count": 80,
   "metadata": {
    "colab": {
     "autoexec": {
      "startup": false,
      "wait_interval": 0
     },
     "base_uri": "https://localhost:8080/",
     "height": 104
    },
    "colab_type": "code",
    "executionInfo": {
     "elapsed": 1366,
     "status": "ok",
     "timestamp": 1529047962728,
     "user": {
      "displayName": "Ayush Parasbhai Maniar ee17b041",
      "photoUrl": "https://lh3.googleusercontent.com/a/default-user=s128",
      "userId": "111481310394302099600"
     },
     "user_tz": -330
    },
    "id": "-yJyWSbAXCL_",
    "outputId": "d04fa198-405c-42bc-eaae-8758bee2cf17"
   },
   "outputs": [
    {
     "data": {
      "text/plain": [
       "masked_array(\n",
       "  data=[[13.375, 273.0625],\n",
       "        [33.15625, 267.125],\n",
       "        [60.04347826086956, 264.4782608695652],\n",
       "        [84.48571428571428, 263.22857142857146],\n",
       "        [108.59375, 259.3125],\n",
       "        [128.03030303030303, 255.3030303030303],\n",
       "        [157.3125, 255.9375],\n",
       "        [169.75, 254.91666666666666],\n",
       "        [192.2058823529412, 255.11764705882354],\n",
       "        [210.19354838709677, 250.96774193548387],\n",
       "        [229.55, 246.25],\n",
       "        [253.45833333333334, 245.58333333333334],\n",
       "        [266.8709677419355, 247.8709677419355],\n",
       "        [283.0, 246.9375],\n",
       "        [--, --],\n",
       "        [--, --],\n",
       "        [--, --],\n",
       "        [--, --],\n",
       "        [--, --],\n",
       "        [--, --],\n",
       "        [--, --],\n",
       "        [400.1794871794872, 246.66666666666666],\n",
       "        [409.9, 245.4],\n",
       "        [421.8965517241379, 243.6551724137931],\n",
       "        [425.8679245283019, 243.18867924528303],\n",
       "        [436.95081967213116, 244.45901639344262],\n",
       "        [447.8, 246.43333333333334],\n",
       "        [460.43333333333334, 249.26666666666668],\n",
       "        [464.46153846153845, 246.6153846153846],\n",
       "        [474.0625, 251.375],\n",
       "        [--, --],\n",
       "        [--, --],\n",
       "        [--, --]],\n",
       "  mask=[[False, False],\n",
       "        [False, False],\n",
       "        [False, False],\n",
       "        [False, False],\n",
       "        [False, False],\n",
       "        [False, False],\n",
       "        [False, False],\n",
       "        [False, False],\n",
       "        [False, False],\n",
       "        [False, False],\n",
       "        [False, False],\n",
       "        [False, False],\n",
       "        [False, False],\n",
       "        [False, False],\n",
       "        [ True,  True],\n",
       "        [ True,  True],\n",
       "        [ True,  True],\n",
       "        [ True,  True],\n",
       "        [ True,  True],\n",
       "        [ True,  True],\n",
       "        [ True,  True],\n",
       "        [False, False],\n",
       "        [False, False],\n",
       "        [False, False],\n",
       "        [False, False],\n",
       "        [False, False],\n",
       "        [False, False],\n",
       "        [False, False],\n",
       "        [False, False],\n",
       "        [False, False],\n",
       "        [ True,  True],\n",
       "        [ True,  True],\n",
       "        [ True,  True]],\n",
       "  fill_value=1e+20)"
      ]
     },
     "execution_count": 80,
     "metadata": {},
     "output_type": "execute_result"
    }
   ],
   "source": [
    "MarkedMeasure"
   ]
  },
  {
   "cell_type": "markdown",
   "metadata": {
    "colab_type": "text",
    "id": "kDf7sIiYXPMd"
   },
   "source": [
    "In this demonstration the state is modeled as a vector, containing the variables\n",
    "\n",
    " x-coordinate of current position: x\n",
    " \n",
    "y-coordinate of current position: y\n",
    "\n",
    "current speed in x-direction: vx\n",
    "\n",
    "current speed in y-direction: vy\n",
    "\n",
    "\n",
    "\n",
    "#### The measured parameters are x and y. Thus the transition matrix (process model) and the observation matrix (measurement model) are:"
   ]
  },
  {
   "cell_type": "code",
   "execution_count": 81,
   "metadata": {
    "colab": {
     "autoexec": {
      "startup": false,
      "wait_interval": 0
     }
    },
    "colab_type": "code",
    "id": "soiYPPCOXE3s"
   },
   "outputs": [],
   "source": [
    "Transition_Matrix=[[1,0,1,0],[0,1,0,1],[0,0,1,0],[0,0,0,1]]  # A matrix\n",
    "Observation_Matrix=[[1,0,0,0],[0,1,0,0]] # H matrix"
   ]
  },
  {
   "cell_type": "markdown",
   "metadata": {
    "colab_type": "text",
    "id": "NZuzNm0WXyMV"
   },
   "source": [
    "#### Besides these two models the Kalman Filter requires:\n",
    "\n",
    " 1)     an initial state, defined by xinit,yinit,vxinit,vyinit\n",
    "\n",
    " 2)     an initial state covariance initstatecovariance, which describes the certainty of the initial state.\n",
    "\n",
    "3)     a transition covariance, which describes the certainty of the process model.\n",
    "\n",
    "4)     a observation covariance, which describes the certainty of the measurement model.:"
   ]
  },
  {
   "cell_type": "code",
   "execution_count": 82,
   "metadata": {
    "colab": {
     "autoexec": {
      "startup": false,
      "wait_interval": 0
     },
     "base_uri": "https://localhost:8080/",
     "height": 357
    },
    "colab_type": "code",
    "executionInfo": {
     "elapsed": 1592,
     "status": "error",
     "timestamp": 1529048203466,
     "user": {
      "displayName": "Ayush Parasbhai Maniar ee17b041",
      "photoUrl": "https://lh3.googleusercontent.com/a/default-user=s128",
      "userId": "111481310394302099600"
     },
     "user_tz": -330
    },
    "id": "ZUY_4LzUXSkZ",
    "outputId": "99355eb8-9bad-495c-9111-1cb7e43a1e54"
   },
   "outputs": [],
   "source": [
    "xinit=MarkedMeasure[0,0] ## First Measurement of x-coord\n",
    "yinit=MarkedMeasure[0,1] ## First Measurement of y-coord\n",
    "vxinit=MarkedMeasure[1,0]-MarkedMeasure[0,0] ## as v = (d_1 - d_0)/(time)\n",
    "vyinit=MarkedMeasure[1,1]-MarkedMeasure[0,1] \n",
    "initstate=[xinit,yinit,vxinit,vyinit]\n",
    "initcovariance=1.0e-3*np.eye(4) \n",
    "transistionCov=1.0e-4*np.eye(4)\n",
    "observationCov=1.0e-1*np.eye(2)\n",
    "kf=KalmanFilter(transition_matrices=Transition_Matrix,\n",
    "            observation_matrices =Observation_Matrix,\n",
    "            initial_state_mean=initstate,\n",
    "            initial_state_covariance=initcovariance,\n",
    "            transition_covariance=transistionCov,\n",
    "            observation_covariance=observationCov)"
   ]
  },
  {
   "cell_type": "markdown",
   "metadata": {
    "colab_type": "text",
    "id": "SRtPK3UwYER3"
   },
   "source": [
    "#### By calling the filter()-method of the KalmanFilter object the track (filtered_mean_state) and its certainty in form of filtered_state_covariances are computed.\n",
    "## The resulting track is plotted to a matplotlib-figure, which is shown below.:"
   ]
  },
  {
   "cell_type": "code",
   "execution_count": 83,
   "metadata": {
    "colab": {
     "autoexec": {
      "startup": false,
      "wait_interval": 0
     },
     "base_uri": "https://localhost:8080/",
     "height": 236
    },
    "colab_type": "code",
    "executionInfo": {
     "elapsed": 2106,
     "status": "error",
     "timestamp": 1529048248093,
     "user": {
      "displayName": "Ayush Parasbhai Maniar ee17b041",
      "photoUrl": "https://lh3.googleusercontent.com/a/default-user=s128",
      "userId": "111481310394302099600"
     },
     "user_tz": -330
    },
    "id": "a04leYWeX_cC",
    "outputId": "eba00363-2271-4f22-b141-123b0b32024f"
   },
   "outputs": [
    {
     "name": "stderr",
     "output_type": "stream",
     "text": [
      "/opt/anaconda3/lib/python3.6/site-packages/ipykernel_launcher.py:4: MatplotlibDeprecationWarning: pyplot.hold is deprecated.\n",
      "    Future behavior will be consistent with the long-time default:\n",
      "    plot commands add elements without first clearing the\n",
      "    Axes and/or Figure.\n",
      "  after removing the cwd from sys.path.\n",
      "/opt/anaconda3/lib/python3.6/site-packages/matplotlib/__init__.py:805: MatplotlibDeprecationWarning: axes.hold is deprecated. Please remove it from your matplotlibrc and/or style files.\n",
      "  mplDeprecation)\n",
      "/opt/anaconda3/lib/python3.6/site-packages/matplotlib/rcsetup.py:155: MatplotlibDeprecationWarning: axes.hold is deprecated, will be removed in 3.0\n",
      "  mplDeprecation)\n",
      "/opt/anaconda3/lib/python3.6/site-packages/ipykernel_launcher.py:6: MatplotlibDeprecationWarning: pyplot.hold is deprecated.\n",
      "    Future behavior will be consistent with the long-time default:\n",
      "    plot commands add elements without first clearing the\n",
      "    Axes and/or Figure.\n",
      "  \n"
     ]
    },
    {
     "data": {
      "image/png": "[encoded data removed]",
      "text/plain": [
       "<matplotlib.figure.Figure at 0x7f9b8005b9e8>"
      ]
     },
     "metadata": {},
     "output_type": "display_data"
    }
   ],
   "source": [
    "(filtered_state_means, filtered_state_covariances) = kf.filter(MarkedMeasure)\n",
    "plt.plot(MarkedMeasure[:,0],MarkedMeasure[:,1],'xr',label='measured')\n",
    "plt.axis([0,520,360,0])\n",
    "plt.hold(True)\n",
    "plt.plot(filtered_state_means[:,0],filtered_state_means[:,1],'ob',label='kalman output')\n",
    "plt.hold(True)\n",
    "plt.legend(loc=3)\n",
    "plt.title(\"Constant Velocity Kalman Filter\")\n",
    "plt.show()"
   ]
  },
  {
   "cell_type": "markdown",
   "metadata": {
    "colab_type": "text",
    "id": "PJQcMhxYbl0S"
   },
   "source": [
    "### Kalman Filtering based Cam-shift Object tracking\n",
    "\n",
    "---\n",
    "\n"
   ]
  },
  {
   "cell_type": "code",
   "execution_count": 84,
   "metadata": {
    "colab": {
     "autoexec": {
      "startup": false,
      "wait_interval": 0
     }
    },
    "colab_type": "code",
    "id": "T0sncpvkIPXt"
   },
   "outputs": [],
   "source": [
    "#####################################################################\n",
    "\n",
    "keep_processing = True;\n",
    "camera_to_use = 0; # 0 if you have one camera, 1 or > 1 otherwise\n",
    "\n",
    "selection_in_progress = False; # support interactive region selection\n",
    "\n",
    "#####################################################################"
   ]
  },
  {
   "cell_type": "markdown",
   "metadata": {
    "colab_type": "text",
    "id": "E-qGetY_IUrz"
   },
   "source": [
    "Let us write a function which will help us in selecting the object we want to track"
   ]
  },
  {
   "cell_type": "code",
   "execution_count": 85,
   "metadata": {
    "colab": {
     "autoexec": {
      "startup": false,
      "wait_interval": 0
     }
    },
    "colab_type": "code",
    "id": "lawSEOs_IWpF"
   },
   "outputs": [],
   "source": [
    "#############################################################\n",
    "\n",
    "# select a region using the mouse\n",
    "\n",
    "boxes = [];\n",
    "current_mouse_position = np.ones(2, dtype=np.int32);\n",
    "\n",
    "def on_mouse(event, x, y, flags, params):\n",
    "\n",
    "    global boxes;\n",
    "    global selection_in_progress;\n",
    "\n",
    "    current_mouse_position[0] = x;\n",
    "    current_mouse_position[1] = y;\n",
    "\n",
    "    if event == cv2.EVENT_LBUTTONDOWN:\n",
    "        boxes = [];\n",
    "        # print 'Start Mouse Position: '+str(x)+', '+str(y)\n",
    "        sbox = [x, y];\n",
    "        selection_in_progress = True;\n",
    "        boxes.append(sbox);\n",
    "\n",
    "    elif event == cv2.EVENT_LBUTTONUP:\n",
    "        # print 'End Mouse Position: '+str(x)+', '+str(y)\n",
    "        ebox = [x, y];\n",
    "        selection_in_progress = False;\n",
    "        boxes.append(ebox);\n",
    "#####################################################################"
   ]
  },
  {
   "cell_type": "markdown",
   "metadata": {
    "colab_type": "text",
    "id": "Zb61KuA7IZxd"
   },
   "source": [
    "Now a small function to return centre of a set of points representing a rectangle"
   ]
  },
  {
   "cell_type": "code",
   "execution_count": 86,
   "metadata": {
    "colab": {
     "autoexec": {
      "startup": false,
      "wait_interval": 0
     }
    },
    "colab_type": "code",
    "id": "af03aJi5IgfL"
   },
   "outputs": [],
   "source": [
    "#####################################################################\n",
    "def center(points):\n",
    "    x = (points[0][0] + points[1][0] + points[2][0] + points[3][0]) / 4.0\n",
    "    y = (points[0][1] + points[1][1] + points[2][1] + points[3][1]) / 4.0\n",
    "    return np.array([np.float32(x), np.float32(y)], np.float32)\n",
    "\n",
    "#####################################################################"
   ]
  },
  {
   "cell_type": "code",
   "execution_count": 87,
   "metadata": {
    "colab": {
     "autoexec": {
      "startup": false,
      "wait_interval": 0
     }
    },
    "colab_type": "code",
    "id": "HGd2Hey4IlM4"
   },
   "outputs": [],
   "source": [
    "####################################################################\n",
    "\n",
    "# this function is called as a call-back everytime the trackbar is moved\n",
    "# (here we just do nothing)\n",
    "\n",
    "def nothing(x):\n",
    "    pass\n",
    "\n",
    "#####################################################################\n",
    "# define video capture object\n",
    "\n",
    "cap = cv2.VideoCapture()\n",
    "\n",
    "# define display window name\n",
    "\n",
    "windowName = \"Kalman Object Tracking\" # window name\n",
    "windowName2 = \"Hue histogram back projection\" # window name\n",
    "windowNameSelection = \"initial selected region\"\n"
   ]
  },
  {
   "cell_type": "markdown",
   "metadata": {
    "colab_type": "text",
    "id": "NqdSbsSmItx4"
   },
   "source": [
    "Ok now enough of User Interface handling \n",
    "\n",
    "Let's get to the main Kalman filtering and Camshift part of the code.\n",
    "\n",
    "First let us initialize all the Matrices of our Kalman Filter model"
   ]
  },
  {
   "cell_type": "code",
   "execution_count": 88,
   "metadata": {
    "colab": {
     "autoexec": {
      "startup": false,
      "wait_interval": 0
     }
    },
    "colab_type": "code",
    "id": "DvvwqZe7I02C"
   },
   "outputs": [],
   "source": [
    "kalman = cv2.KalmanFilter(4,2)\n",
    "kalman.measurementMatrix = np.array([[1,0,0,0],\n",
    "                                     [0,1,0,0]],np.float32)  \n",
    "\n",
    "kalman.transitionMatrix = np.array([[1,0,1,0],\n",
    "                                    [0,1,0,1],\n",
    "                                    [0,0,1,0],\n",
    "                                    [0,0,0,1]],np.float32) \n",
    "\n",
    "kalman.processNoiseCov = np.array([[1,0,0,0],\n",
    "                                   [0,1,0,0],\n",
    "                                   [0,0,1,0],\n",
    "                                   [0,0,0,1]],np.float32) * 0.03\n",
    "\n",
    "measurement = np.array((2,1), np.float32)\n",
    "prediction = np.zeros((2,1), np.float32)"
   ]
  },
  {
   "cell_type": "code",
   "execution_count": 89,
   "metadata": {
    "colab": {
     "autoexec": {
      "startup": false,
      "wait_interval": 0
     }
    },
    "colab_type": "code",
    "id": "7VnH-m_NI4M8"
   },
   "outputs": [],
   "source": [
    "# if command line arguments are provided try to read video_name\n",
    "# otherwise default to capture from the webcam of your laptop\n",
    "\n",
    "if (((len(sys.argv) == 2) and (cap.open(str(sys.argv[1]))))\n",
    "    or (cap.open(camera_to_use))):\n",
    "\n",
    "    # create window by name (note flags for resizable or not)\n",
    "\n",
    "    cv2.namedWindow(windowName, cv2.WINDOW_NORMAL);\n",
    "    cv2.namedWindow(windowName2, cv2.WINDOW_NORMAL);\n",
    "    cv2.namedWindow(windowNameSelection, cv2.WINDOW_NORMAL);\n",
    "\n",
    "    # set sliders for HSV selection thresholds\n",
    "\n",
    "    s_lower = 60;\n",
    "    cv2.createTrackbar(\"s lower\", windowName2, s_lower, 255, nothing)\n",
    "    s_upper = 255;\n",
    "    cv2.createTrackbar(\"s upper\", windowName2, s_upper, 255, nothing)\n",
    "    v_lower = 32;\n",
    "    cv2.createTrackbar(\"v lower\", windowName2, v_lower, 255, nothing)\n",
    "    v_upper = 255;\n",
    "    cv2.createTrackbar(\"v upper\", windowName2, v_upper, 255, nothing)\n",
    "\n",
    "    # set a mouse callback\n",
    "\n",
    "    cv2.setMouseCallback(windowName, on_mouse, 0)\n",
    "    cropped = False\n",
    "\n",
    "    # Setup the termination criteria for search, either 10 iteration or\n",
    "    # move by at least 1 pixel pos. difference\n",
    "    term_crit = ( cv2.TERM_CRITERIA_EPS | cv2.TERM_CRITERIA_COUNT, 10, 1 )\n",
    "\n",
    "    while (keep_processing):\n",
    "\n",
    "        # if video file successfully opens then read frame from video\n",
    "\n",
    "        if (cap.isOpened):\n",
    "            ret, frame = cap.read();\n",
    "\n",
    "        # start a timer (to see how long processing and display takes)\n",
    "\n",
    "        start_t = cv2.getTickCount();\n",
    "\n",
    "        # get parameters from track bars\n",
    "\n",
    "        s_lower = cv2.getTrackbarPos(\"s lower\", windowName2);\n",
    "        s_upper = cv2.getTrackbarPos(\"s upper\", windowName2);\n",
    "        v_lower = cv2.getTrackbarPos(\"v lower\", windowName2);\n",
    "        v_upper = cv2.getTrackbarPos(\"v upper\", windowName2);\n",
    "\n",
    "        # select region using the mouse and display it\n",
    "\n",
    "        if (len(boxes) > 1) :\n",
    "            crop = frame[boxes[0][1]:boxes[1][1],boxes[0][0]:boxes[1][0]].copy() # This crop variable is our image \n",
    "                                                                                 # of the selected region\n",
    "\n",
    "            h, w, c = crop.shape;   # size of template\n",
    "            if (h > 0) and (w > 0):\n",
    "                cropped = True;\n",
    "\n",
    "                # convert region to HSV\n",
    "\n",
    "                hsv_crop =  cv2.cvtColor(crop, cv2.COLOR_BGR2HSV);\n",
    "\n",
    "                # select all Hue (0-> 180) and Sat. values but eliminate values with very low\n",
    "                # saturation or value (due to lack of useful colour information)\n",
    "\n",
    "                mask = cv2.inRange(hsv_crop, np.array((0., float(s_lower),float(v_lower))), np.array((180.,float(s_upper),float(v_upper))));\n",
    "                # mask = cv2.inRange(hsv_crop, np.array((0., 60.,32.)), np.array((180.,255.,255.)));\n",
    "\n",
    "                # construct a histogram of hue and saturation values and normalize it\n",
    "\n",
    "                crop_hist = cv2.calcHist([hsv_crop],[0, 1],mask,[180, 255],[0,180, 0, 255])\n",
    "                cv2.normalize(crop_hist,crop_hist,0,255,cv2.NORM_MINMAX)\n",
    "\n",
    "                # set intial position of object\n",
    "                \n",
    "                track_window = (boxes[0][0],boxes[0][1],boxes[1][0] - boxes[0][0],boxes[1][1] - boxes[0][1]);\n",
    "                ####  track_window has (ix,iy,w,h)\n",
    "                 \n",
    "                cv2.imshow(windowNameSelection,crop);\n",
    "\n",
    "            # reset list of boxes\n",
    "\n",
    "            boxes = [];\n",
    "\n",
    "        # interactive display of selection box\n",
    "        # Make a green colour boundary around the selected object.\n",
    "        if (selection_in_progress):\n",
    "            top_left = (boxes[0][0], boxes[0][1]);\n",
    "            bottom_right = (current_mouse_position[0], current_mouse_position[1]);\n",
    "            cv2.rectangle(frame,top_left, bottom_right, (0,255,0), 2);\n",
    "\n",
    "        # if we have a selected region\n",
    "\n",
    "        if (cropped):\n",
    "\n",
    "            # convert the entire incoming image to HSV.\n",
    "\n",
    "            img_hsv = cv2.cvtColor(frame, cv2.COLOR_BGR2HSV);\n",
    "\n",
    "            # back projection of histogram based on Hue and Saturation only\n",
    "\n",
    "            img_bproject = cv2.calcBackProject([img_hsv],[0,1],crop_hist,[0,180,0,255],1);\n",
    "            cv2.imshow(windowName2,img_bproject);\n",
    "\n",
    "            # apply camshift to predict new location (observation)\n",
    "            # basic HSV histogram comparision with adaptive window size\n",
    "            # see : http://docs.opencv.org/3.1.0/db/df8/tutorial_py_meanshift.html\n",
    "            ret, track_window = cv2.CamShift(img_bproject, track_window, term_crit);\n",
    "\n",
    "            # draw observation on image\n",
    "            x,y,w,h = track_window;\n",
    "            frame = cv2.rectangle(frame, (x,y), (x+w,y+h), (255,0,0),2);\n",
    "            # The main observation is of blur colour.\n",
    "            \n",
    "            # extract centre of this observation as points\n",
    "            pts = cv2.boxPoints(ret)\n",
    "            pts = np.int0(pts)\n",
    "            # (cx, cy), radius = cv2.minEnclosingCircle(pts)\n",
    "\n",
    "            # use to correct kalman filter\n",
    "\n",
    "            kalman.correct(center(pts));\n",
    "\n",
    "            # get new kalman filter prediction\n",
    "\n",
    "            prediction = kalman.predict();\n",
    "\n",
    "            # draw predicton on image\n",
    "\n",
    "            frame = cv2.rectangle(frame, (prediction[0]-(0.5*w),prediction[1]-(0.5*h)), (prediction[0]+(0.5*w),prediction[1]+(0.5*h)), (0,255,0),2);\n",
    "\n",
    "        else:\n",
    "\n",
    "            # before we have cropped anything show the mask we are using\n",
    "            # for the S and V components of the HSV image\n",
    "\n",
    "            img_hsv =  cv2.cvtColor(frame, cv2.COLOR_BGR2HSV);\n",
    "\n",
    "            # select all Hue values (0-> 180) but eliminate values with very low\n",
    "            # saturation or value (due to lack of useful colour information)\n",
    "\n",
    "            mask = cv2.inRange(img_hsv, np.array((0., float(s_lower),float(v_lower))), np.array((180.,float(s_upper),float(v_upper))));\n",
    "\n",
    "            cv2.imshow(windowName2,mask);\n",
    "\n",
    "        # display image\n",
    "\n",
    "        cv2.imshow(windowName,frame);\n",
    "\n",
    "        # stop the timer and convert to ms. (to see how long processing and display takes)\n",
    "\n",
    "        stop_t = ((cv2.getTickCount() - start_t)/cv2.getTickFrequency()) * 1000;\n",
    "\n",
    "        # start the event loop - essential\n",
    "\n",
    "        # cv2.waitKey() is a keyboard binding function (argument is the time in milliseconds).\n",
    "        # It waits for specified milliseconds for any keyboard event.\n",
    "        # If you press any key in that time, the program continues.\n",
    "        # If 0 is passed, it waits indefinitely for a key stroke.\n",
    "        # (bitwise and with 0xFF to extract least significant byte of multi-byte response)\n",
    "        # here we use a wait time in ms. that takes account of processing time already used in the loop\n",
    "\n",
    "        # wait 40ms or less depending on processing time taken (i.e. 1000ms / 25 fps = 40 ms)\n",
    "\n",
    "        key = cv2.waitKey(max(2, 40 - int(math.ceil(stop_t)))) & 0xFF;\n",
    "\n",
    "        # It can also be set to detect specific key strokes by recording which key is pressed\n",
    "\n",
    "        # e.g. if user presses \"x\" then exit\n",
    "\n",
    "        if (key == ord('x')):\n",
    "            keep_processing = False;\n",
    "\n",
    "    # close all windows\n",
    "\n",
    "    cv2.destroyAllWindows()\n",
    "    cap.release()\n",
    "\n",
    "else:\n",
    "    print(\"No video file specified or camera connected.\");\n",
    "\n",
    "#####################################################################"
   ]
  },
  {
   "cell_type": "markdown",
   "metadata": {
    "colab_type": "text",
    "id": "GSTHNuUIJEJz"
   },
   "source": [
    "### That's the end of the session!\n",
    "### Hope you guys enjoyed it :D"
   ]
  },
  {
   "cell_type": "markdown",
   "metadata": {
    "colab_type": "text",
    "id": "i5P_YFa-6Oaf"
   },
   "source": [
    "# $Cheers$\n",
    "# $ CVI~ Team $\n",
    "# $ IIT~MADRAS $"
   ]
  }
 ],
 "metadata": {
  "colab": {
   "collapsed_sections": [],
   "default_view": {},
   "name": "Session4.ipynb",
   "provenance": [],
   "version": "0.3.2",
   "views": {}
  },
  "kernelspec": {
   "display_name": "Python 3",
   "language": "python",
   "name": "python3"
  },
  "language_info": {
   "codemirror_mode": {
    "name": "ipython",
    "version": 3
   },
   "file_extension": ".py",
   "mimetype": "text/x-python",
   "name": "python",
   "nbconvert_exporter": "python",
   "pygments_lexer": "ipython3",
   "version": "3.6.4"
  }
 },
 "nbformat": 4,
 "nbformat_minor": 1
}
