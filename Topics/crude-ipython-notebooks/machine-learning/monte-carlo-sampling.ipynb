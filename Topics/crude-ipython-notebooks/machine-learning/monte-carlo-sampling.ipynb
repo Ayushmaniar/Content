{
 "cells": [
  {
   "cell_type": "code",
   "execution_count": 14,
   "metadata": {
    "collapsed": false
   },
   "outputs": [],
   "source": [
    "import numpy as np\n",
    "import matplotlib.pyplot as plt\n",
    "from scipy.stats import uniform\n",
    "from scipy.stats import norm\n",
    "%matplotlib inline"
   ]
  },
  {
   "cell_type": "markdown",
   "metadata": {},
   "source": [
    "# Monte Carlo Sampling from a Gaussian Distribution"
   ]
  },
  {
   "cell_type": "code",
   "execution_count": 7,
   "metadata": {
    "collapsed": false
   },
   "outputs": [
    {
     "name": "stdout",
     "output_type": "stream",
     "text": [
      "Expected Value of x  = 4.99984824615 with variance = 0.999953050944\n"
     ]
    },
    {
     "data": {
      "image/png": "[encoded data removed]",
      "text/plain": [
       "<matplotlib.figure.Figure at 0x7c1f2e8>"
      ]
     },
     "metadata": {},
     "output_type": "display_data"
    }
   ],
   "source": [
    "# Gaussian Distribution\n",
    "x = np.random.normal(5, 1, 10000)\n",
    "# Law of law numbers -- This mean will be equal to the expected value when the number of samples is large\n",
    "# Central Limit Theorem -- this mean is Gaussian Distributed.\n",
    "print('Expected Value of x  = {} with variance = {}'.format(np.mean(x), np.var(x)))\n",
    "plt.hist(x)\n",
    "plt.title('Samples drawn from a Gaussian Distribution')\n",
    "plt.show()"
   ]
  },
  {
   "cell_type": "markdown",
   "metadata": {},
   "source": [
    "# Monte Carlo Sampling from a Uniform Distribution"
   ]
  },
  {
   "cell_type": "code",
   "execution_count": 8,
   "metadata": {
    "collapsed": false
   },
   "outputs": [
    {
     "name": "stdout",
     "output_type": "stream",
     "text": [
      "Expected Value of x  = 0.503530395661 with variance = 0.0839557828656\n"
     ]
    },
    {
     "data": {
      "image/png": "[encoded data removed]",
      "text/plain": [
       "<matplotlib.figure.Figure at 0x7c114e0>"
      ]
     },
     "metadata": {},
     "output_type": "display_data"
    }
   ],
   "source": [
    "# Uniform Distribution\n",
    "x = np.random.rand(10000)\n",
    "# Law of law numbers -- This mean will be equal to the expected value when the number of samples is large\n",
    "# Central Limit Theorem -- This mean is Gaussian Distributed.\n",
    "print('Expected Value of x  = {} with variance = {}'.format(np.mean(x), np.var(x)))\n",
    "plt.hist(x)\n",
    "plt.title('Samples drawn from a Uniform Distribution')\n",
    "plt.show()"
   ]
  },
  {
   "cell_type": "markdown",
   "metadata": {},
   "source": [
    "# Sampling from a Inverse CDF Function\n",
    "\n",
    "This method can be described in 2 steps as --\n",
    "\n",
    "1. Sample $u$ from a Uniform Distribution $\\mathcal{U}(0, 1)$.\n",
    "2. Get a sample $x$ from the by using the inverse CDF function $f^{-1}(u)$.\n",
    "\n",
    "CAVEAT - We can only use this method when the inverse CDF is defined. \n",
    "\n",
    "![img inverse-cdf](https://upload.wikimedia.org/wikipedia/commons/2/24/InverseFunc.png)\n",
    "*Graph of the inversion technique from ${\\displaystyle x}$ to ${\\displaystyle F(x)}$. On the bottom right we see the regular function and in the top left its inversion. [Image and Caption from Wikipedia]*"
   ]
  },
  {
   "cell_type": "code",
   "execution_count": 29,
   "metadata": {
    "collapsed": false
   },
   "outputs": [
    {
     "data": {
      "image/png": "[encoded data removed]",
      "text/plain": [
       "<matplotlib.figure.Figure at 0x95a26d8>"
      ]
     },
     "metadata": {},
     "output_type": "display_data"
    }
   ],
   "source": [
    "# SIDE NOTE FOR ME -- `scipy.stats.rv_continuous` is the base class.\n",
    "\n",
    "# Sample u from a uniform distribution\n",
    "u = np.random.rand(10000)\n",
    "# Sample x from the inverse CDF function\n",
    "# In Scipy it's called ppf\n",
    "samples = norm.ppf(u, 0, 1)\n",
    "plt.hist(samples)\n",
    "plt.title('Samples drawn from a Gaussian Distribution')\n",
    "plt.show()"
   ]
  },
  {
   "cell_type": "markdown",
   "metadata": {},
   "source": [
    "# Accept Reject Method\n",
    "\n",
    "When the inverse CDF function is not defined, but the PDF is still available then we can use the accept reject method. "
   ]
  },
  {
   "cell_type": "code",
   "execution_count": 18,
   "metadata": {
    "collapsed": true
   },
   "outputs": [],
   "source": [
    "# CODE -- TODO"
   ]
  }
 ],
 "metadata": {
  "kernelspec": {
   "display_name": "Python 2",
   "language": "python",
   "name": "python2"
  },
  "language_info": {
   "codemirror_mode": {
    "name": "ipython",
    "version": 2
   },
   "file_extension": ".py",
   "mimetype": "text/x-python",
   "name": "python",
   "nbconvert_exporter": "python",
   "pygments_lexer": "ipython2",
   "version": "2.7.11"
  }
 },
 "nbformat": 4,
 "nbformat_minor": 0
}
