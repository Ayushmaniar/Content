{
 "cells": [
  {
   "cell_type": "markdown",
   "metadata": {},
   "source": [
    "# Metropolis Hastings Algorithm\n",
    "\n",
    "*Reference -- [Youtube Video](https://www.youtube.com/watch?v=h1NOS_wxgGg)\n",
    "\n",
    "The algorithm is described below --\n",
    "\n",
    "1. Intialize $x^{(0)}$.\n",
    "2. For $i = 0$ to $N - 1$\n",
    "    1. Sample $u \\sim \\mathcal{U}(0, 1)$\n",
    "    2. Sample $x^* \\sim q(x^*|x^{(i)})$\n",
    "    3. If $u \\leq \\mathcal{A(x^{(i)}, x^*)} = \\min \\frac{p(x^*)q(x^{(i)}| x^*)}{p(x^{(i)})q(x^*|x^{(i)})}$\n",
    "       $ x^{(i+1)} = x^*$\n",
    "       else\n",
    "       $x^{(i+1)} = x^{(i)}$\n",
    "       \n",
    "# Code for Metropolis Hastings Algorithm"
   ]
  },
  {
   "cell_type": "code",
   "execution_count": 19,
   "metadata": {
    "collapsed": false
   },
   "outputs": [],
   "source": [
    "# Import the required modules\n",
    "import numpy as np\n",
    "import matplotlib.pyplot as plt\n",
    "from scipy.stats import norm, truncnorm\n",
    "%matplotlib inline"
   ]
  },
  {
   "cell_type": "code",
   "execution_count": 16,
   "metadata": {
    "collapsed": false
   },
   "outputs": [
    {
     "data": {
      "image/png": "[encoded data removed]",
      "text/plain": [
       "<matplotlib.figure.Figure at 0x9f61da0>"
      ]
     },
     "metadata": {},
     "output_type": "display_data"
    }
   ],
   "source": [
    "# Example 1 -- Normal Distribution\n",
    "\n",
    "# Initialize x_0\n",
    "x_0 = -10\n",
    "x_i = x_0\n",
    "no_samples = 50000\n",
    "samples = []\n",
    "# Target distribution p is choosen to be a Gaussian of mean 4 and scale 1\n",
    "# Proposal distribution q is choosen to be a Gaussian of mean x_1 and scale 2\n",
    "for i in range(no_samples):\n",
    "    u = np.random.rand()\n",
    "    x_star = np.random.normal(loc=x_i, scale=2)\n",
    "    if u < min(1,(norm.pdf(x_star, 4, 1)/norm.pdf(x_i, 4, 1))*(norm.pdf(x_i, x_star, 2)/norm.pdf(x_star, x_i, 2))):\n",
    "        x_i = x_star\n",
    "    samples.append(x_i)\n",
    "plt.hist(samples)\n",
    "plt.title('Distribution of samples')\n",
    "plt.show()"
   ]
  },
  {
   "cell_type": "code",
   "execution_count": 39,
   "metadata": {
    "collapsed": false
   },
   "outputs": [
    {
     "data": {
      "image/png": "[encoded data removed]",
      "text/plain": [
       "<matplotlib.figure.Figure at 0xa24ab38>"
      ]
     },
     "metadata": {},
     "output_type": "display_data"
    }
   ],
   "source": [
    "# Example 2 -- Truncated Normal Distribution\n",
    "\n",
    "# Initialize x_0\n",
    "x_0 = 1\n",
    "x_i = x_0\n",
    "no_samples = 50000\n",
    "samples = []\n",
    "# Target distribution p is choosen to be a Truncated Gaussian of a = 4 b = 6 mean 4 and scale 5\n",
    "# Proposal distribution q is choosen to be a Gaussian of mean x_1 and scale 2\n",
    "for i in range(no_samples):\n",
    "    u = np.random.rand()\n",
    "    x_star = np.random.normal(loc=x_i, scale=3)\n",
    "    if u < min(1,(truncnorm.pdf(x_star, 4, 6, 5, 5)/(truncnorm.pdf(x_i, 4, 6, 5, 5)+.001))*(norm.pdf(x_i, x_star, 3)/norm.pdf(x_star, x_i, 3))):\n",
    "        x_i = x_star\n",
    "    samples.append(x_i)\n",
    "plt.hist(samples)\n",
    "plt.title('Distribution of samples')\n",
    "plt.show()"
   ]
  }
 ],
 "metadata": {
  "kernelspec": {
   "display_name": "Python 2",
   "language": "python",
   "name": "python2"
  },
  "language_info": {
   "codemirror_mode": {
    "name": "ipython",
    "version": 2
   },
   "file_extension": ".py",
   "mimetype": "text/x-python",
   "name": "python",
   "nbconvert_exporter": "python",
   "pygments_lexer": "ipython2",
   "version": "2.7.11"
  }
 },
 "nbformat": 4,
 "nbformat_minor": 0
}
