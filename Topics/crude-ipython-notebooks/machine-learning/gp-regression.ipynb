{
 "cells": [
  {
   "cell_type": "code",
   "execution_count": 1,
   "metadata": {
    "collapsed": false
   },
   "outputs": [],
   "source": [
    "# Import the required modules\n",
    "import numpy as np\n",
    "import matplotlib.pylab as plt\n",
    "%matplotlib inline"
   ]
  },
  {
   "cell_type": "code",
   "execution_count": 2,
   "metadata": {
    "collapsed": true
   },
   "outputs": [],
   "source": [
    "# Kernel Function\n",
    "# Currently only RBF kernel is implemented.\n",
    "def kernel_fn(x1, x2, kernel_type=\"RBF\", sigma_f=1.27, sigma_n=.3, l=1):\n",
    "    if kernel_type == \"RBF\":\n",
    "        '''\n",
    "        Sanity Check - kernel_fn(2, 2) = 1.27*1.27 + .3*.3 ~ 1.7\n",
    "        '''\n",
    "        return sigma_f**2 * np.exp(-(x1 - x2)**2/(2*l**2)) + (x1==x2)*sigma_n**2"
   ]
  },
  {
   "cell_type": "code",
   "execution_count": 3,
   "metadata": {
    "collapsed": false
   },
   "outputs": [
    {
     "data": {
      "text/plain": [
       "[<matplotlib.lines.Line2D at 0x7f54866c1c50>]"
      ]
     },
     "execution_count": 3,
     "metadata": {},
     "output_type": "execute_result"
    },
    {
     "data": {
      "image/png": "[encoded data removed]",
      "text/plain": [
       "<matplotlib.figure.Figure at 0x7f54866d16d0>"
      ]
     },
     "metadata": {},
     "output_type": "display_data"
    }
   ],
   "source": [
    "# Training set \n",
    "x = np.array([-1.50, -1.00, -0.75, -0.40, -0.25, 0.00], dtype=np.double)\n",
    "y = np.array([[-1.75, -1.25, -.30, .20, .50, 1]], dtype=np.double)\n",
    "plt.plot(x.ravel(), y.ravel(), \"r*\")"
   ]
  },
  {
   "cell_type": "code",
   "execution_count": 4,
   "metadata": {
    "collapsed": false
   },
   "outputs": [],
   "source": [
    "# Prepare the K Matrix\n",
    "K = np.zeros(shape=(x.shape[0],x.shape[0]), dtype=np.double)\n",
    "\n",
    "# Fill in the K Matrix\n",
    "for i in range(K.shape[0]):\n",
    "    for j in range(K.shape[1]):\n",
    "        K[i][j] = kernel_fn(x[i], x[j])"
   ]
  },
  {
   "cell_type": "code",
   "execution_count": 5,
   "metadata": {
    "collapsed": false
   },
   "outputs": [],
   "source": [
    "# Test Data\n",
    "# x_star = np.array([0.20, -1.2, -.6], dtype=np.double)\n",
    "x_star = np.linspace(-2.5, 1, 100)\n",
    "\n",
    "# Prepare the K Matrix\n",
    "K_star = np.zeros(shape=(x_star.shape[0],x.shape[0]), dtype=np.double)\n",
    "K_star_star = np.zeros(shape=(x_star.shape[0],x_star.shape[0]), dtype=np.double)\n",
    "\n",
    "# Fill in the K_star matrix\n",
    "for i in range(K_star.shape[0]):\n",
    "    for j in range(K_star.shape[1]):\n",
    "        K_star[i][j] = kernel_fn(x_star[i], x[j])\n",
    "\n",
    "# Fill in the K_star_star matrix\n",
    "for i in range(K_star_star.shape[0]):\n",
    "    for j in range(K_star_star.shape[1]):\n",
    "        K_star_star[i][j] = kernel_fn(x_star[i], x_star[j])"
   ]
  },
  {
   "cell_type": "code",
   "execution_count": 6,
   "metadata": {
    "collapsed": false
   },
   "outputs": [],
   "source": [
    "# Compute the predictions with their variances.\n",
    "exp_y_pred = np.dot(np.dot(K_star, np.linalg.inv(K)), y.T)\n",
    "var_y_pred = K_star_star - np.dot(np.dot(K_star, np.linalg.inv(K)), K_star.T)\n",
    "#print(\"Expected Value of y-star = {} with co-variance = {}\".format(exp_y_pred, var_y_pred))"
   ]
  },
  {
   "cell_type": "code",
   "execution_count": 7,
   "metadata": {
    "collapsed": false
   },
   "outputs": [
    {
     "data": {
      "text/plain": [
       "[<matplotlib.lines.Line2D at 0x7f5483bd0350>]"
      ]
     },
     "execution_count": 7,
     "metadata": {},
     "output_type": "execute_result"
    },
    {
     "data": {
      "image/png": "[encoded data removed]",
      "text/plain": [
       "<matplotlib.figure.Figure at 0x7f54841b4890>"
      ]
     },
     "metadata": {},
     "output_type": "display_data"
    }
   ],
   "source": [
    "# Show the predictions, along with the variances.\n",
    "plt.plot(x.ravel(), y.ravel(), \"r*\")\n",
    "plt.plot(x_star.ravel(), exp_y_pred.ravel(), \"b\")\n",
    "plt.plot(x_star.ravel(), exp_y_pred.ravel() - 2*np.sqrt(np.diag(var_y_pred)), \"y\")\n",
    "plt.plot(x_star.ravel(), exp_y_pred.ravel() + 2*np.sqrt(np.diag(var_y_pred)), \"y\")"
   ]
  }
 ],
 "metadata": {
  "kernelspec": {
   "display_name": "Python [Root]",
   "language": "python",
   "name": "Python [Root]"
  },
  "language_info": {
   "codemirror_mode": {
    "name": "ipython",
    "version": 2
   },
   "file_extension": ".py",
   "mimetype": "text/x-python",
   "name": "python",
   "nbconvert_exporter": "python",
   "pygments_lexer": "ipython2",
   "version": "2.7.12"
  }
 },
 "nbformat": 4,
 "nbformat_minor": 0
}
