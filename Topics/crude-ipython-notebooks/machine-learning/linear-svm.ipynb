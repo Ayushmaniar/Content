{
 "cells": [
  {
   "cell_type": "markdown",
   "metadata": {},
   "source": [
    "# Linear SVM using Gradient Descent"
   ]
  },
  {
   "cell_type": "code",
   "execution_count": 1,
   "metadata": {
    "collapsed": false
   },
   "outputs": [],
   "source": [
    "# Import the required modules\n",
    "import numpy as np\n",
    "import matplotlib as mpl\n",
    "import matplotlib.pyplot as plt \n",
    "%matplotlib inline"
   ]
  },
  {
   "cell_type": "markdown",
   "metadata": {},
   "source": [
    "The loss function is given by --\n",
    "\n",
    "$\\large J(w) = {\\LARGE[} \\frac{1}{n}\\sum_{i=1}^{n}max(0, 1 - y_i(w \\cdot x_i + b)){\\LARGE]} + \\lambda ||w||^2$\n",
    "\n",
    "The gradient is given by --\n",
    "\n",
    "$\\large \\nabla J(w) = {\\LARGE[} \\frac{1}{n}\\sum_{i=1}^{n}d_i){\\LARGE]} + 2\\lambda w$\n",
    "\n",
    "where $d_i$ is given by --\n",
    "\n",
    "$d_i = 0$ if $y_i(w \\cdot x_i + b) > 0$ \n",
    "else $d_i = - y_i x_i$\n",
    "\n",
    "This can also be written as --\n",
    "\n",
    "$\\large \\nabla J(w) = {\\LARGE[} -\\frac{1}{n}\\sum_{i=1}^{n}max(0, 1 - y_i(w \\cdot x_i + b))y_i x_i{\\LARGE]} + 2\\lambda w$\n",
    "\n",
    "This gradient update is done using --\n",
    "\n",
    "$w = w + \\alpha \\nabla J(w)$"
   ]
  },
  {
   "cell_type": "code",
   "execution_count": 2,
   "metadata": {
    "collapsed": false
   },
   "outputs": [],
   "source": [
    "# SVM Class\n",
    "class SVM(object):\n",
    "    def __init__(self, niters=10, alpha=.1, lamb=.001, verbose=False):\n",
    "        # Number of iterations\n",
    "        self.niters = niters\n",
    "        # Weight Vectors\n",
    "        self.w = None\n",
    "        # Loss after niters -- else 0\n",
    "        self.loss = None\n",
    "        # Learning Rate\n",
    "        self.alpha = alpha\n",
    "        # Lambda -- Look Formula\n",
    "        self.lamb = lamb\n",
    "        # If verbose is True -- then loss is printed during evaluation\n",
    "        self.verbose = verbose\n",
    "        self.loss_cum = []\n",
    "    def fit(self, x, y):\n",
    "        self.loss_cum = []\n",
    "        # 1 added at one -- Bias\n",
    "        x = np.hstack((x, np.ones((x.shape[0], 1))))\n",
    "        self.w = np.zeros((x.shape[1], ))\n",
    "        for iter in range(self.niters):\n",
    "            # Current Loss\n",
    "            self.loss = np.mean([np.max([0, 1 - y_i*np.dot(self.w.T, x_i)]) + self.lamb*np.dot(self.w.T, self.w) for y_i, x_i in zip(y, x)])\n",
    "            # Cumulative Loss\n",
    "            self.loss_cum.append(self.loss)\n",
    "            # Print the loss if verbose flag is set\n",
    "            if iter % 25 == 0 and self.verbose:\n",
    "                print('Loss at iteration {} = {}'.format(iter, self.loss))\n",
    "            # Calculate the gradients\n",
    "            dJdw = np.mean([2*self.lamb*self.w if y_i*np.dot(self.w.T, x_i) > 0 else - y_i*x_i.T + 2*self.lamb*self.w for y_i, x_i in zip(y, x)], axis=0)\n",
    "            # Perform Gradient Descent Update\n",
    "            self.w = self.w - self.alpha*dJdw\n",
    "            \n",
    "    def predict(self, x):\n",
    "        # Add 1 at the end of each test sample\n",
    "        x = np.hstack((x, np.ones((x.shape[0], 1))))\n",
    "        # Return the prediction\n",
    "        return np.array([np.sign(np.dot(self.w.T, x_i)) for x_i in x])\n",
    "    \n",
    "    def accuracy(self, x, y):\n",
    "        return 1.0*np.sum(self.predict(x) == y)/y.shape[0]"
   ]
  },
  {
   "cell_type": "code",
   "execution_count": 3,
   "metadata": {
    "collapsed": false
   },
   "outputs": [
    {
     "name": "stdout",
     "output_type": "stream",
     "text": [
      "Weights are = [ -5.49943736e-08   4.66403171e-08   7.25080775e-08]\n",
      "Loss = 0.999999837427\n",
      "Training Set Accuracy = 0.875\n"
     ]
    },
    {
     "data": {
      "text/plain": [
       "<matplotlib.legend.Legend at 0x80ab518>"
      ]
     },
     "execution_count": 3,
     "metadata": {},
     "output_type": "execute_result"
    },
    {
     "data": {
      "image/png": "[encoded data removed]",
      "text/plain": [
       "<matplotlib.figure.Figure at 0x3e8afd0>"
      ]
     },
     "metadata": {},
     "output_type": "display_data"
    }
   ],
   "source": [
    "# Some not so random data -- I hand-crafted it to work :)\n",
    "x = np.array([[1, 6], [2, 4], [4, 5], [3, 8], [4, 6], [5, 10] ,[7, 10], [6, 10], [6, 3],[8, 1],[9, 5],[10, 9],[11, 6],[12, 11], [5, 8], [6, 8]])\n",
    "y = np.array([1]*8 + [-1]*8)\n",
    "\n",
    "# Create the classifier\n",
    "svm = SVM(niters=10000, lamb=10000, alpha=.00000001)\n",
    "\n",
    "# Train the classifier\n",
    "svm.fit(x, y)\n",
    "\n",
    "# Display the weights and the final loss\n",
    "print('Weights are = {}'.format(svm.w))\n",
    "print('Loss = {}'.format(svm.loss))\n",
    "print('Training Set Accuracy = {}'.format(svm.accuracy(x, y)))\n",
    "\n",
    "# Plot the results -- just some cosmetics\n",
    "x_min, x_max, y_min, y_max = 0 , 13, 0, 13\n",
    "plt.axis([x_min, x_max, y_min, y_max])\n",
    "y_min_val = (svm.w[0] * x_min + svm.w[2])/-svm.w[1]\n",
    "y_max_val = (svm.w[0] * x_max + svm.w[2])/-svm.w[1]\n",
    "plt.plot(x[:, 0][y==1], x[:, 1][y==1], 'b+', label='Pos. Ex.')\n",
    "plt.plot(x[:, 0][y==-1], x[:, 1][y==-1], 'r*', label='Neg. Ex.')\n",
    "plt.plot([x_min, x_max], [y_min_val, y_max_val], label='D.B.') # D.B. -- Decision Boundary\n",
    "plt.legend(loc='lower right')"
   ]
  },
  {
   "cell_type": "code",
   "execution_count": 4,
   "metadata": {
    "collapsed": false
   },
   "outputs": [
    {
     "data": {
      "text/plain": [
       "<matplotlib.text.Text at 0x80ab278>"
      ]
     },
     "execution_count": 4,
     "metadata": {},
     "output_type": "execute_result"
    },
    {
     "data": {
      "image/png": "[encoded data removed]",
      "text/plain": [
       "<matplotlib.figure.Figure at 0x7905668>"
      ]
     },
     "metadata": {},
     "output_type": "display_data"
    }
   ],
   "source": [
    "# Plot of Loss Vs Number of iterations\n",
    "# This plot helps in visualizing the convergence of the classifier\n",
    "plt.plot(range(0, len(svm.loss_cum)), svm.loss_cum)\n",
    "plt.title('Loss Vs Number of iterations')\n",
    "plt.xlabel('Number of iterations')\n",
    "plt.ylabel('Loss')"
   ]
  },
  {
   "cell_type": "code",
   "execution_count": 5,
   "metadata": {
    "collapsed": false
   },
   "outputs": [
    {
     "name": "stdout",
     "output_type": "stream",
     "text": [
      "Weights are = [ -6.25000000e-08   3.75000000e-08   6.81250000e-08]\n",
      "Loss = 0.99999985457\n",
      "Training Set Accuracy = 0.9375\n"
     ]
    },
    {
     "data": {
      "text/plain": [
       "<matplotlib.legend.Legend at 0x858d710>"
      ]
     },
     "execution_count": 5,
     "metadata": {},
     "output_type": "execute_result"
    },
    {
     "data": {
      "image/png": "[encoded data removed]",
      "text/plain": [
       "<matplotlib.figure.Figure at 0x841c780>"
      ]
     },
     "metadata": {},
     "output_type": "display_data"
    }
   ],
   "source": [
    "# Setting Lambda = 0 means we only want to minimize the misclassification error\n",
    "svm.lamb = 0\n",
    "\n",
    "# Train the classifier\n",
    "svm.fit(x, y)\n",
    "\n",
    "# Display the weights and the final loss\n",
    "print('Weights are = {}'.format(svm.w))\n",
    "print('Loss = {}'.format(svm.loss))\n",
    "print('Training Set Accuracy = {}'.format(svm.accuracy(x, y)))\n",
    "\n",
    "# Plot the results -- just some cosmetics\n",
    "x_min, x_max, y_min, y_max = 0 , 13, 0, 13\n",
    "plt.axis([x_min, x_max, y_min, y_max])\n",
    "y_min_val = (svm.w[0] * x_min + svm.w[2])/-svm.w[1]\n",
    "y_max_val = (svm.w[0] * x_max + svm.w[2])/-svm.w[1]\n",
    "plt.plot(x[:, 0][y==1], x[:, 1][y==1], 'b+', label='Pos. Ex.')\n",
    "plt.plot(x[:, 0][y==-1], x[:, 1][y==-1], 'r*', label='Neg. Ex.')\n",
    "plt.plot([x_min, x_max], [y_min_val, y_max_val], label='D.B.') # D.B. -- Decision Boundary\n",
    "plt.legend(loc='lower right')"
   ]
  },
  {
   "cell_type": "code",
   "execution_count": 6,
   "metadata": {
    "collapsed": false
   },
   "outputs": [
    {
     "data": {
      "text/plain": [
       "<matplotlib.text.Text at 0x8b1c048>"
      ]
     },
     "execution_count": 6,
     "metadata": {},
     "output_type": "execute_result"
    },
    {
     "data": {
      "image/png": "[encoded data removed]",
      "text/plain": [
       "<matplotlib.figure.Figure at 0x80bb9b0>"
      ]
     },
     "metadata": {},
     "output_type": "display_data"
    }
   ],
   "source": [
    "# Plot of Loss Vs Number of iterations\n",
    "# This plot helps in visualizing the convergence of the classifier\n",
    "plt.plot(range(0, len(svm.loss_cum)), svm.loss_cum)\n",
    "plt.title('Loss Vs Number of iterations')\n",
    "plt.xlabel('Number of iterations')\n",
    "plt.ylabel('Loss')"
   ]
  }
 ],
 "metadata": {
  "kernelspec": {
   "display_name": "Python 2",
   "language": "python",
   "name": "python2"
  },
  "language_info": {
   "codemirror_mode": {
    "name": "ipython",
    "version": 2
   },
   "file_extension": ".py",
   "mimetype": "text/x-python",
   "name": "python",
   "nbconvert_exporter": "python",
   "pygments_lexer": "ipython2",
   "version": "2.7.11"
  }
 },
 "nbformat": 4,
 "nbformat_minor": 0
}
