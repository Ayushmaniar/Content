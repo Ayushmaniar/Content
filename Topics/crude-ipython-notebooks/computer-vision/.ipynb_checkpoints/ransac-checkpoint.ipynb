{
 "cells": [
  {
   "cell_type": "markdown",
   "metadata": {},
   "source": [
    "# Derivation \n",
    "\n",
    "Let Probability of inliers  = \n",
    "$w$ = $\\frac{\\text{Number of inliers}}{\\text{Total number of points}}$\n",
    "\n",
    "Probability that the $k$ points in the minimal set are all inliers = $w^k$\n",
    "\n",
    "Probability that atleast one of the $k$ point is outlier = $1 - w^k$\n",
    "\n",
    "Probability atleast one of the $k$ point is outlier in n iterations = $(1 - w^k)*n$\n",
    "\n",
    "If p is the probability that after $n$ iteration we finds an inlier. \n",
    "Then there is $1 - p$ probability that after $n$ iterations,\n",
    "we don't have atleast one of the $k$ points as outlier in $n$ iterations.\n",
    "\n",
    "So, we get -- \n",
    "\n",
    "\\begin{align}\n",
    "1 - p &= (1 - w^k)*n \\\\ \n",
    "log(1 - p) &= n log(1 - w^k) \\\\\n",
    "n &= \\frac{log(1 - p)}{log(1 - w^k)} \\\\\n",
    "\\end{align}"
   ]
  },
  {
   "cell_type": "code",
   "execution_count": 29,
   "metadata": {},
   "outputs": [],
   "source": [
    "%matplotlib inline\n",
    "import matplotlib.pyplot as plt\n",
    "import numpy as np"
   ]
  },
  {
   "cell_type": "code",
   "execution_count": 30,
   "metadata": {
    "collapsed": true
   },
   "outputs": [],
   "source": [
    "def iters_needed(k, p=.99, w = .5):\n",
    "    \"\"\"\n",
    "    Returns the number of ransac iterations needed.\n",
    "    :param k : Minimal set of points.\n",
    "    :param w : Percentage of inliers.\n",
    "    :param p : Desired Accuracy\n",
    "    \"\"\"\n",
    "    return np.log(1-p)/np.log(1 - np.power(w, k))"
   ]
  },
  {
   "cell_type": "code",
   "execution_count": 36,
   "metadata": {},
   "outputs": [
    {
     "data": {
      "image/png": "[encoded data removed]",
      "text/plain": [
       "<matplotlib.figure.Figure at 0x7fb2c39ce210>"
      ]
     },
     "metadata": {},
     "output_type": "display_data"
    }
   ],
   "source": [
    "x = range(1, 10)\n",
    "y = [iters_needed(x_i) for x_i in x]\n",
    "plt.plot(x, y)\n",
    "plt.title('Number of iterations VS Minimal set of inliers')\n",
    "plt.xlabel('Number of iterations')\n",
    "plt.ylabel('Minimal set of inliers')\n",
    "plt.show()"
   ]
  },
  {
   "cell_type": "code",
   "execution_count": null,
   "metadata": {
    "collapsed": true
   },
   "outputs": [],
   "source": []
  }
 ],
 "metadata": {
  "kernelspec": {
   "display_name": "Python 3",
   "language": "python",
   "name": "python3"
  },
  "language_info": {
   "codemirror_mode": {
    "name": "ipython",
    "version": 3
   },
   "file_extension": ".py",
   "mimetype": "text/x-python",
   "name": "python",
   "nbconvert_exporter": "python",
   "pygments_lexer": "ipython3",
   "version": "3.6.3"
  }
 },
 "nbformat": 4,
 "nbformat_minor": 1
}
