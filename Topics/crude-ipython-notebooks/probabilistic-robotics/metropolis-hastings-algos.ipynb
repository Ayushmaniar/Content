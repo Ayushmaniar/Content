{
 "cells": [
  {
   "cell_type": "markdown",
   "metadata": {},
   "source": [
    "There is a nice discussion that is intuitive and easy to follow on Metropolis-Hastings Algorithm on [Wikipedia](https://en.wikipedia.org/wiki/Metropolis%E2%80%93Hastings_algorithm). [Here](http://galton.uchicago.edu/~eichler/stat24600/Handouts/l12.pdf) are some more nice notes on MH. Simulated Annealing, a method inspired my Metropolis-Hastings Algorithm is also discussed here.\n",
    "\n",
    "The pseudo code for Metropolis-Hastings Algorithm is discussed below --\n",
    "\n",
    "* Initialize $x_0$.\n",
    "    * For $i = 1 \\text{ to } N-1$\n",
    "        * Sample $u \\sim \\mathcal{U}_{[0, 1]}$\n",
    "        * Sample $x^{*} \\sim q(x|x^{(i)})$\n",
    "        * If $u < \\mathcal{A}(x^(i), x^*) = \\min\\{\\frac{p(x^*)q(x^{(i)}|x^*)}{p(x^{(i)})q(x^*|x^{(i)})}\\}$\n",
    "            * $x^{i+1} = x^{*}$\n",
    "        * else\n",
    "            * $x^{i+1} = x^{(i)}$"
   ]
  },
  {
   "cell_type": "code",
   "execution_count": 1,
   "metadata": {
    "collapsed": true
   },
   "outputs": [],
   "source": [
    "# Import the required modules\n",
    "from scipy.stats import norm\n",
    "import numpy as np\n",
    "import matplotlib.pyplot as plt\n",
    "%matplotlib inline"
   ]
  },
  {
   "cell_type": "code",
   "execution_count": 2,
   "metadata": {
    "collapsed": false
   },
   "outputs": [
    {
     "name": "stdout",
     "output_type": "stream",
     "text": [
      "Expected Value of x  = 4.01284026674 with variance = 11.4278689915\n"
     ]
    },
    {
     "data": {
      "image/png": "[encoded data removed]",
      "text/plain": [
       "<matplotlib.figure.Figure at 0x7f8d00ddd550>"
      ]
     },
     "metadata": {},
     "output_type": "display_data"
    }
   ],
   "source": [
    "# Let's sample a random distribution and plot the histogram of the samples\n",
    "x = np.hstack((np.random.normal(7, 1, 10000), np.random.normal(1, 2, 10000)))\n",
    "print('Expected Value of x  = {} with variance = {}'.format(np.mean(x), np.var(x)))\n",
    "plt.hist(x, bins=100)\n",
    "plt.title('Samples drawn from a Gaussian Distribution')\n",
    "plt.show()"
   ]
  },
  {
   "cell_type": "code",
   "execution_count": 3,
   "metadata": {
    "collapsed": false
   },
   "outputs": [],
   "source": [
    "# This function returns the unnormalized probabilites \n",
    "def p(x):\n",
    "    return (norm(7, 1).pdf(x) + norm(1, 2).pdf(x))/2\n",
    "\n",
    "# Initialize x_0\n",
    "x = 5\n",
    "# Number of samples\n",
    "N = 10000\n",
    "# I think when we are not sure\n",
    "# we should keep the `sigma` as large\n",
    "# as possible, so that we sample the entire space\n",
    "sigma = 100\n",
    "# List of sampled points\n",
    "x_sampled = []\n",
    "for i in range(N-1):\n",
    "    # `u` lies in [0, 1]\n",
    "    u = np.random.uniform()\n",
    "    # Sample `x_star` from a gaussian distribution centered around `x`\n",
    "    x_star = norm(x, sigma).rvs()\n",
    "    if u < min(1, (p(x_star)*norm(x_star, sigma).pdf(x))/(p(x)*norm(x, sigma).pdf(x_star))):\n",
    "        x = x_star\n",
    "    x_sampled.append(x)"
   ]
  },
  {
   "cell_type": "code",
   "execution_count": 4,
   "metadata": {
    "collapsed": false
   },
   "outputs": [
    {
     "name": "stdout",
     "output_type": "stream",
     "text": [
      "Expected Value of x  = 4.08718070983 with variance = 11.2499887046\n"
     ]
    },
    {
     "data": {
      "image/png": "[encoded data removed]",
      "text/plain": [
       "<matplotlib.figure.Figure at 0x7f8d00ddd4d0>"
      ]
     },
     "metadata": {},
     "output_type": "display_data"
    }
   ],
   "source": [
    "# Plot the sampled distribution\n",
    "print('Expected Value of x  = {} with variance = {}'.format(np.mean(x_sampled), np.var(x_sampled)))\n",
    "plt.hist(x_sampled, bins=100)\n",
    "plt.title('Samples drawn from a Gaussian Distribution')\n",
    "plt.show()"
   ]
  }
 ],
 "metadata": {
  "kernelspec": {
   "display_name": "Python [Root]",
   "language": "python",
   "name": "Python [Root]"
  },
  "language_info": {
   "codemirror_mode": {
    "name": "ipython",
    "version": 2
   },
   "file_extension": ".py",
   "mimetype": "text/x-python",
   "name": "python",
   "nbconvert_exporter": "python",
   "pygments_lexer": "ipython2",
   "version": "2.7.12"
  }
 },
 "nbformat": 4,
 "nbformat_minor": 0
}
